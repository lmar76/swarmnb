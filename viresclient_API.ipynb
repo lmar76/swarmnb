{
 "cells": [
  {
   "cell_type": "markdown",
   "metadata": {},
   "source": [
    "# `viresclient` API\n",
    "\n",
    "<a id=\"top\"/>\n",
    "\n",
    "## Content\n",
    "- [`SwarmRequest`](#SwarmRequest)\n",
    "    - [`SwarmRequest.available_collections()`](#SwarmRequest.available_collections)\n",
    "    - [`SwarmRequest.available_measurements()`](#SwarmRequest.available_measurements)\n",
    "    - [`SwarmRequest.available_auxiliaries()`](#SwarmRequest.available_auxiliaries)\n",
    "    - [`SwarmRequest.available_models()`](#SwarmRequest.available_models)\n",
    "    - [`SwarmRequest.get_model_info()`](#SwarmRequest.get_model_info)\n",
    "    - [`SwarmRequest.get_orbit_number()`](#SwarmRequest.get_orbit_number)\n",
    "    - [`SwarmRequest.get_times_for_orbits()`](#SwarmRequest.get_times_for_orbits)\n",
    "    - [`SwarmRequest.set_collection()`](#SwarmRequest.set_collection)\n",
    "    - [`SwarmRequest.set_products()`](#SwarmRequest.set_products)\n",
    "    - [`SwarmRequest.set_range_filter()`](#SwarmRequest.set_range_filter)\n",
    "    - [`SwarmRequest.clear_range_filter()`](#SwarmRequest.clear_range_filter)\n",
    "    - [`SwarmRequest.get_between()`](#SwarmRequest.get_between)"
   ]
  },
  {
   "cell_type": "markdown",
   "metadata": {},
   "source": [
    "<a id=\"SwarmRequest\"/>\n",
    "\n",
    "## `SwarmRequest`\n",
    "\n",
    "`SwarmRequest` is the class needed to send requests to the server and obtain the requested data. To create a `SwarmRequest` object we first need to import the class from the `viresclient` module:"
   ]
  },
  {
   "cell_type": "code",
   "execution_count": 1,
   "metadata": {},
   "outputs": [],
   "source": [
    "from viresclient import SwarmRequest"
   ]
  },
  {
   "cell_type": "markdown",
   "metadata": {},
   "source": [
    "Use the `?` operator to have information on an object, e.g.:"
   ]
  },
  {
   "cell_type": "code",
   "execution_count": 2,
   "metadata": {},
   "outputs": [
    {
     "data": {
      "text/plain": [
       "\u001b[0;31mInit signature:\u001b[0m\n",
       "\u001b[0mSwarmRequest\u001b[0m\u001b[0;34m(\u001b[0m\u001b[0;34m\u001b[0m\n",
       "\u001b[0;34m\u001b[0m    \u001b[0murl\u001b[0m\u001b[0;34m=\u001b[0m\u001b[0;32mNone\u001b[0m\u001b[0;34m,\u001b[0m\u001b[0;34m\u001b[0m\n",
       "\u001b[0;34m\u001b[0m    \u001b[0musername\u001b[0m\u001b[0;34m=\u001b[0m\u001b[0;32mNone\u001b[0m\u001b[0;34m,\u001b[0m\u001b[0;34m\u001b[0m\n",
       "\u001b[0;34m\u001b[0m    \u001b[0mpassword\u001b[0m\u001b[0;34m=\u001b[0m\u001b[0;32mNone\u001b[0m\u001b[0;34m,\u001b[0m\u001b[0;34m\u001b[0m\n",
       "\u001b[0;34m\u001b[0m    \u001b[0mtoken\u001b[0m\u001b[0;34m=\u001b[0m\u001b[0;32mNone\u001b[0m\u001b[0;34m,\u001b[0m\u001b[0;34m\u001b[0m\n",
       "\u001b[0;34m\u001b[0m    \u001b[0mconfig\u001b[0m\u001b[0;34m=\u001b[0m\u001b[0;32mNone\u001b[0m\u001b[0;34m,\u001b[0m\u001b[0;34m\u001b[0m\n",
       "\u001b[0;34m\u001b[0m    \u001b[0mlogging_level\u001b[0m\u001b[0;34m=\u001b[0m\u001b[0;34m'NO_LOGGING'\u001b[0m\u001b[0;34m,\u001b[0m\u001b[0;34m\u001b[0m\n",
       "\u001b[0;34m\u001b[0m\u001b[0;34m)\u001b[0m\u001b[0;34m\u001b[0m\u001b[0;34m\u001b[0m\u001b[0m\n",
       "\u001b[0;31mDocstring:\u001b[0m     \n",
       "Handles the requests to and downloads from the server.\n",
       "\n",
       "Example usage::\n",
       "\n",
       "    from viresclient import SwarmRequest\n",
       "    # Set up connection with server\n",
       "    request = SwarmRequest()\n",
       "    # Set collection to use\n",
       "    request.set_collection(\"SW_OPER_MAGA_LR_1B\")\n",
       "    # Set mix of products to fetch:\n",
       "    #  measurements (variables from the given collection)\n",
       "    #  models (magnetic model predictions at spacecraft sampling points)\n",
       "    #  auxiliaries (variables available with any collection)\n",
       "    request.set_products(\n",
       "        measurements=[\"F\", \"B_NEC\"],\n",
       "        models=[\"CHAOS-Core\"],\n",
       "        auxiliaries=[\"QDLat\", \"QDLon\"],\n",
       "        sampling_step=\"PT10S\"\n",
       "    )\n",
       "    # Fetch data from a given time interval\n",
       "    data = request.get_between(\n",
       "        start_time=\"2014-01-01T00:00\",\n",
       "        end_time=\"2014-01-01T01:00\"\n",
       "    )\n",
       "    # Load the data as an xarray.Dataset\n",
       "    ds = data.as_xarray()\n",
       "\n",
       "Check what data are available with::\n",
       "\n",
       "    request.available_collections(details=False)\n",
       "    request.available_measurements(\"MAG\")\n",
       "    request.available_auxiliaries()\n",
       "    request.available_models(details=False)\n",
       "\n",
       "Args:\n",
       "    url (str):\n",
       "    username (str):\n",
       "    password (str):\n",
       "    token (str):\n",
       "    config (str or ClientConfig):\n",
       "    logging_level (str):\n",
       "\u001b[0;31mFile:\u001b[0m           /opt/conda/lib/python3.7/site-packages/viresclient/_client_swarm.py\n",
       "\u001b[0;31mType:\u001b[0m           type\n",
       "\u001b[0;31mSubclasses:\u001b[0m     \n"
      ]
     },
     "metadata": {},
     "output_type": "display_data"
    }
   ],
   "source": [
    "SwarmRequest?"
   ]
  },
  {
   "cell_type": "markdown",
   "metadata": {},
   "source": [
    "After the client configuration (see [First Usage]('0_first_usage.ipynb')) the `SwarmRequest` object can be instantiated as follows:"
   ]
  },
  {
   "cell_type": "code",
   "execution_count": 3,
   "metadata": {},
   "outputs": [],
   "source": [
    "request = SwarmRequest()"
   ]
  },
  {
   "cell_type": "markdown",
   "metadata": {},
   "source": [
    "The software automatically retrieve all the parameters to create the `SwarmRequest` object from the configuration file `~/.viresclient.ini`."
   ]
  },
  {
   "cell_type": "markdown",
   "metadata": {},
   "source": [
    "[TOP](#top)\n",
    "\n",
    "<a id=\"SwarmRequest.available_collections\"/>\n",
    "\n",
    "### `SwarmRequest.available_collections()`\n",
    "\n",
    "Show the available collections (i.e. Swarm product types)."
   ]
  },
  {
   "cell_type": "code",
   "execution_count": 4,
   "metadata": {},
   "outputs": [
    {
     "data": {
      "text/plain": [
       "\u001b[0;31mSignature:\u001b[0m \u001b[0mSwarmRequest\u001b[0m\u001b[0;34m.\u001b[0m\u001b[0mavailable_collections\u001b[0m\u001b[0;34m(\u001b[0m\u001b[0mself\u001b[0m\u001b[0;34m,\u001b[0m \u001b[0mdetails\u001b[0m\u001b[0;34m=\u001b[0m\u001b[0;32mTrue\u001b[0m\u001b[0;34m)\u001b[0m\u001b[0;34m\u001b[0m\u001b[0;34m\u001b[0m\u001b[0m\n",
       "\u001b[0;31mDocstring:\u001b[0m\n",
       "Show details of available collections.\n",
       "\n",
       "Args:\n",
       "    details (bool): If True then print a nice output.\n",
       "        If False then return a list of available collections.\n",
       "\u001b[0;31mFile:\u001b[0m      /opt/conda/lib/python3.7/site-packages/viresclient/_client_swarm.py\n",
       "\u001b[0;31mType:\u001b[0m      function\n"
      ]
     },
     "metadata": {},
     "output_type": "display_data"
    }
   ],
   "source": [
    "SwarmRequest.available_collections?"
   ]
  },
  {
   "cell_type": "markdown",
   "metadata": {},
   "source": [
    "The `details` parameter (default: `True`) is optional. If not indicated or if it is set to `True` the method prints the list of all the available collections:"
   ]
  },
  {
   "cell_type": "code",
   "execution_count": 5,
   "metadata": {},
   "outputs": [
    {
     "name": "stdout",
     "output_type": "stream",
     "text": [
      "General References:\n",
      " Swarm Data Handbook, https://earth.esa.int/web/guest/missions/esa-eo-missions/swarm/data-handbook \n",
      " The Swarm Satellite Constellation Application and Research Facility (SCARF) and Swarm data products, https://doi.org/10.5047/eps.2013.07.001 \n",
      " Swarm Science Data Processing and Products (2013), https://link.springer.com/journal/40623/65/11/page/1 \n",
      " Special issue “Swarm science results after 2 years in space (2016), https://www.springeropen.com/collections/swsr \n",
      " Earth's Magnetic Field: Understanding Geomagnetic Sources from the Earth's Interior and its Environment (2017), https://link.springer.com/journal/11214/206/1/page/1 \n",
      "\n",
      "MAG\n",
      "   SW_OPER_MAGA_LR_1B\n",
      "   SW_OPER_MAGB_LR_1B\n",
      "   SW_OPER_MAGC_LR_1B\n",
      " https://earth.esa.int/web/guest/missions/esa-eo-missions/swarm/data-handbook/level-1b-product-definitions#MAGX_LR_1B_Product \n",
      "\n",
      "EFI\n",
      "   SW_OPER_EFIA_LP_1B\n",
      "   SW_OPER_EFIB_LP_1B\n",
      "   SW_OPER_EFIC_LP_1B\n",
      " https://earth.esa.int/web/guest/missions/esa-eo-missions/swarm/data-handbook/level-1b-product-definitions#EFIX_LP_1B_Product \n",
      "\n",
      "IBI\n",
      "   SW_OPER_IBIATMS_2F\n",
      "   SW_OPER_IBIBTMS_2F\n",
      "   SW_OPER_IBICTMS_2F\n",
      " https://earth.esa.int/web/guest/missions/esa-eo-missions/swarm/data-handbook/level-2-product-definitions#IBIxTMS_2F \n",
      " https://earth.esa.int/documents/10174/1514862/Swarm_L2_IBI_product_description \n",
      "\n",
      "TEC\n",
      "   SW_OPER_TECATMS_2F\n",
      "   SW_OPER_TECBTMS_2F\n",
      "   SW_OPER_TECCTMS_2F\n",
      " https://earth.esa.int/web/guest/missions/esa-eo-missions/swarm/data-handbook/level-2-product-definitions#TECxTMS_2F \n",
      " https://earth.esa.int/documents/10174/1514862/Swarm_Level-2_TEC_Product_Description \n",
      "\n",
      "FAC\n",
      "   SW_OPER_FACATMS_2F\n",
      "   SW_OPER_FACBTMS_2F\n",
      "   SW_OPER_FACCTMS_2F\n",
      "   SW_OPER_FAC_TMS_2F\n",
      " https://earth.esa.int/web/guest/missions/esa-eo-missions/swarm/data-handbook/level-2-product-definitions#FAC_TMS_2F \n",
      " https://earth.esa.int/web/guest/missions/esa-eo-missions/swarm/data-handbook/level-2-product-definitions#FACxTMS_2F \n",
      " https://earth.esa.int/documents/10174/1514862/Swarm_L2_FAC_single_product_description \n",
      " https://earth.esa.int/documents/10174/1514862/Swarm-L2-FAC-Dual-Product-Description \n",
      "\n",
      "EEF\n",
      "   SW_OPER_EEFATMS_2F\n",
      "   SW_OPER_EEFBTMS_2F\n",
      " https://earth.esa.int/web/guest/missions/esa-eo-missions/swarm/data-handbook/level-2-product-definitions#EEFxTMS_2F \n",
      " https://earth.esa.int/documents/10174/1514862/Swarm-Level-2-EEF-Product-Description \n",
      "\n",
      "IPD\n",
      "   SW_OPER_IPDAIRR_2F\n",
      "   SW_OPER_IPDBIRR_2F\n",
      "   SW_OPER_IPDCIRR_2F\n",
      " https://earth.esa.int/web/guest/missions/esa-eo-missions/swarm/data-handbook/level-2-product-definitions#IPDxIPR_2F \n",
      "\n"
     ]
    }
   ],
   "source": [
    "request.available_collections()"
   ]
  },
  {
   "cell_type": "markdown",
   "metadata": {},
   "source": [
    "Setting the `details` parameter to `False`, it returns the available collections as a `list`:"
   ]
  },
  {
   "cell_type": "code",
   "execution_count": 6,
   "metadata": {},
   "outputs": [
    {
     "data": {
      "text/plain": [
       "['SW_OPER_MAGA_LR_1B',\n",
       " 'SW_OPER_MAGB_LR_1B',\n",
       " 'SW_OPER_MAGC_LR_1B',\n",
       " 'SW_OPER_EFIA_LP_1B',\n",
       " 'SW_OPER_EFIB_LP_1B',\n",
       " 'SW_OPER_EFIC_LP_1B',\n",
       " 'SW_OPER_IBIATMS_2F',\n",
       " 'SW_OPER_IBIBTMS_2F',\n",
       " 'SW_OPER_IBICTMS_2F',\n",
       " 'SW_OPER_TECATMS_2F',\n",
       " 'SW_OPER_TECBTMS_2F',\n",
       " 'SW_OPER_TECCTMS_2F',\n",
       " 'SW_OPER_FACATMS_2F',\n",
       " 'SW_OPER_FACBTMS_2F',\n",
       " 'SW_OPER_FACCTMS_2F',\n",
       " 'SW_OPER_FAC_TMS_2F',\n",
       " 'SW_OPER_EEFATMS_2F',\n",
       " 'SW_OPER_EEFBTMS_2F',\n",
       " 'SW_OPER_IPDAIRR_2F',\n",
       " 'SW_OPER_IPDBIRR_2F',\n",
       " 'SW_OPER_IPDCIRR_2F']"
      ]
     },
     "execution_count": 6,
     "metadata": {},
     "output_type": "execute_result"
    }
   ],
   "source": [
    "request.available_collections(details=False)"
   ]
  },
  {
   "cell_type": "markdown",
   "metadata": {},
   "source": [
    "[TOP](#top)\n",
    "\n",
    "<a id=\"SwarmRequest.available_measurements\"/>\n",
    "\n",
    "## `SwarmRequest.available_measurements()`\n",
    "\n",
    "Show the available measurements."
   ]
  },
  {
   "cell_type": "code",
   "execution_count": 7,
   "metadata": {},
   "outputs": [
    {
     "data": {
      "text/plain": [
       "\u001b[0;31mSignature:\u001b[0m \u001b[0mSwarmRequest\u001b[0m\u001b[0;34m.\u001b[0m\u001b[0mavailable_measurements\u001b[0m\u001b[0;34m(\u001b[0m\u001b[0mself\u001b[0m\u001b[0;34m,\u001b[0m \u001b[0mcollection\u001b[0m\u001b[0;34m=\u001b[0m\u001b[0;32mNone\u001b[0m\u001b[0;34m)\u001b[0m\u001b[0;34m\u001b[0m\u001b[0;34m\u001b[0m\u001b[0m\n",
       "\u001b[0;31mDocstring:\u001b[0m\n",
       "Returns a list of the available measurements for the chosen collection.\n",
       "\n",
       "Args:\n",
       "    collection (str): one of: (\"MAG\", \"EFI\", \"IBI\", \"TEC\", \"FAC\", \"EEF\")\n",
       "\u001b[0;31mFile:\u001b[0m      /opt/conda/lib/python3.7/site-packages/viresclient/_client_swarm.py\n",
       "\u001b[0;31mType:\u001b[0m      function\n"
      ]
     },
     "metadata": {},
     "output_type": "display_data"
    }
   ],
   "source": [
    "SwarmRequest.available_measurements?"
   ]
  },
  {
   "cell_type": "markdown",
   "metadata": {},
   "source": [
    "The `collection` parameter is optional (default: `None`). If not indicated, the method returns a dictionary of all the available measurements:"
   ]
  },
  {
   "cell_type": "code",
   "execution_count": 8,
   "metadata": {},
   "outputs": [
    {
     "data": {
      "text/plain": [
       "{'MAG': ['F',\n",
       "  'dF_AOCS',\n",
       "  'dF_other',\n",
       "  'F_error',\n",
       "  'B_VFM',\n",
       "  'B_NEC',\n",
       "  'dB_Sun',\n",
       "  'dB_AOCS',\n",
       "  'dB_other',\n",
       "  'B_error',\n",
       "  'q_NEC_CRF',\n",
       "  'Att_error',\n",
       "  'Flags_F',\n",
       "  'Flags_B',\n",
       "  'Flags_q',\n",
       "  'Flags_Platform',\n",
       "  'ASM_Freq_Dev'],\n",
       " 'EFI': ['U_orbit',\n",
       "  'Ne',\n",
       "  'Ne_error',\n",
       "  'Te',\n",
       "  'Te_error',\n",
       "  'Vs',\n",
       "  'Vs_error',\n",
       "  'Flags_LP',\n",
       "  'Flags_Ne',\n",
       "  'Flags_Te',\n",
       "  'Flags_Vs'],\n",
       " 'IBI': ['Bubble_Index',\n",
       "  'Bubble_Probability',\n",
       "  'Flags_Bubble',\n",
       "  'Flags_F',\n",
       "  'Flags_B',\n",
       "  'Flags_q'],\n",
       " 'TEC': ['GPS_Position',\n",
       "  'LEO_Position',\n",
       "  'PRN',\n",
       "  'L1',\n",
       "  'L2',\n",
       "  'P1',\n",
       "  'P2',\n",
       "  'S1',\n",
       "  'S2',\n",
       "  'Elevation_Angle',\n",
       "  'Absolute_VTEC',\n",
       "  'Absolute_STEC',\n",
       "  'Relative_STEC',\n",
       "  'Relative_STEC_RMS',\n",
       "  'DCB',\n",
       "  'DCB_Error'],\n",
       " 'FAC': ['IRC',\n",
       "  'IRC_Error',\n",
       "  'FAC',\n",
       "  'FAC_Error',\n",
       "  'Flags',\n",
       "  'Flags_F',\n",
       "  'Flags_B',\n",
       "  'Flags_q'],\n",
       " 'EEF': ['EEF', 'RelErr', 'flags'],\n",
       " 'IPD': ['Ne',\n",
       "  'Te',\n",
       "  'Background_Ne',\n",
       "  'Foreground_Ne',\n",
       "  'PCP_flag',\n",
       "  'Grad_Ne_at_100km',\n",
       "  'Grad_Ne_at_50km',\n",
       "  'Grad_Ne_at_20km',\n",
       "  'Grad_Ne_at_PCP_edge',\n",
       "  'ROD',\n",
       "  'RODI10s',\n",
       "  'RODI20s',\n",
       "  'delta_Ne10s',\n",
       "  'delta_Ne20s',\n",
       "  'delta_Ne40s',\n",
       "  'Num_GPS_satellites',\n",
       "  'mVTEC',\n",
       "  'mROT',\n",
       "  'mROTI10s',\n",
       "  'mROTI20s',\n",
       "  'IBI_flag',\n",
       "  'Ionosphere_region_flag',\n",
       "  'IPIR_index',\n",
       "  'Ne_quality_flag',\n",
       "  'TEC_STD']}"
      ]
     },
     "execution_count": 8,
     "metadata": {},
     "output_type": "execute_result"
    }
   ],
   "source": [
    "request.available_measurements()"
   ]
  },
  {
   "cell_type": "markdown",
   "metadata": {},
   "source": [
    "Setting the `collection` parameter to one of `MAG`, `EFI`, `IBI`, `TEC`, `FAC`, `EEF`, `IPD`, the method returns the available measurements for a given collection as a `list`. E.g.:"
   ]
  },
  {
   "cell_type": "code",
   "execution_count": 9,
   "metadata": {},
   "outputs": [
    {
     "data": {
      "text/plain": [
       "['F',\n",
       " 'dF_AOCS',\n",
       " 'dF_other',\n",
       " 'F_error',\n",
       " 'B_VFM',\n",
       " 'B_NEC',\n",
       " 'dB_Sun',\n",
       " 'dB_AOCS',\n",
       " 'dB_other',\n",
       " 'B_error',\n",
       " 'q_NEC_CRF',\n",
       " 'Att_error',\n",
       " 'Flags_F',\n",
       " 'Flags_B',\n",
       " 'Flags_q',\n",
       " 'Flags_Platform',\n",
       " 'ASM_Freq_Dev']"
      ]
     },
     "execution_count": 9,
     "metadata": {},
     "output_type": "execute_result"
    }
   ],
   "source": [
    "request.available_measurements('MAG')"
   ]
  },
  {
   "cell_type": "markdown",
   "metadata": {},
   "source": [
    "[TOP](#top)\n",
    "\n",
    "<a id=\"SwarmRequest.available_auxiliaries\"/>\n",
    "\n",
    "## `SwarmRequest.available_auxiliaries()`\n",
    "\n",
    "Show the available auxiliaries."
   ]
  },
  {
   "cell_type": "code",
   "execution_count": 10,
   "metadata": {},
   "outputs": [
    {
     "data": {
      "text/plain": [
       "\u001b[0;31mSignature:\u001b[0m \u001b[0mSwarmRequest\u001b[0m\u001b[0;34m.\u001b[0m\u001b[0mavailable_auxiliaries\u001b[0m\u001b[0;34m(\u001b[0m\u001b[0mself\u001b[0m\u001b[0;34m)\u001b[0m\u001b[0;34m\u001b[0m\u001b[0;34m\u001b[0m\u001b[0m\n",
       "\u001b[0;31mDocstring:\u001b[0m\n",
       "Returns a list of the available auxiliary parameters.\n",
       "        \n",
       "\u001b[0;31mFile:\u001b[0m      /opt/conda/lib/python3.7/site-packages/viresclient/_client_swarm.py\n",
       "\u001b[0;31mType:\u001b[0m      function\n"
      ]
     },
     "metadata": {},
     "output_type": "display_data"
    }
   ],
   "source": [
    "SwarmRequest.available_auxiliaries?"
   ]
  },
  {
   "cell_type": "markdown",
   "metadata": {},
   "source": [
    "Get the available auxiliaries as a `list`:"
   ]
  },
  {
   "cell_type": "code",
   "execution_count": 11,
   "metadata": {},
   "outputs": [
    {
     "data": {
      "text/plain": [
       "['Timestamp',\n",
       " 'Latitude',\n",
       " 'Longitude',\n",
       " 'Radius',\n",
       " 'Spacecraft',\n",
       " 'OrbitDirection',\n",
       " 'QDOrbitDirection',\n",
       " 'SyncStatus',\n",
       " 'Kp10',\n",
       " 'Kp',\n",
       " 'Dst',\n",
       " 'F107',\n",
       " 'IMF_BY_GSM',\n",
       " 'IMF_BZ_GSM',\n",
       " 'IMF_V',\n",
       " 'F10_INDEX',\n",
       " 'OrbitSource',\n",
       " 'OrbitNumber',\n",
       " 'AscendingNodeTime',\n",
       " 'AscendingNodeLongitude',\n",
       " 'QDLat',\n",
       " 'QDLon',\n",
       " 'QDBasis',\n",
       " 'MLT',\n",
       " 'SunDeclination',\n",
       " 'SunHourAngle',\n",
       " 'SunRightAscension',\n",
       " 'SunAzimuthAngle',\n",
       " 'SunZenithAngle',\n",
       " 'SunLongitude',\n",
       " 'SunVector',\n",
       " 'DipoleAxisVector',\n",
       " 'NGPLatitude',\n",
       " 'NGPLongitude',\n",
       " 'DipoleTiltAngle',\n",
       " 'UpwardCurrent',\n",
       " 'TotalCurrent',\n",
       " 'DivergenceFreeCurrentFunction']"
      ]
     },
     "execution_count": 11,
     "metadata": {},
     "output_type": "execute_result"
    }
   ],
   "source": [
    "request.available_auxiliaries()"
   ]
  },
  {
   "cell_type": "markdown",
   "metadata": {},
   "source": [
    "[TOP](#top)\n",
    "\n",
    "<a id=\"SwarmRequest.available_models\"/>\n",
    "\n",
    "## `SwarmRequest.available_models()`\n",
    "\n",
    "Show the available magnetic models."
   ]
  },
  {
   "cell_type": "code",
   "execution_count": 12,
   "metadata": {},
   "outputs": [
    {
     "data": {
      "text/plain": [
       "\u001b[0;31mSignature:\u001b[0m\n",
       "\u001b[0mSwarmRequest\u001b[0m\u001b[0;34m.\u001b[0m\u001b[0mavailable_models\u001b[0m\u001b[0;34m(\u001b[0m\u001b[0;34m\u001b[0m\n",
       "\u001b[0;34m\u001b[0m    \u001b[0mself\u001b[0m\u001b[0;34m,\u001b[0m\u001b[0;34m\u001b[0m\n",
       "\u001b[0;34m\u001b[0m    \u001b[0mparam\u001b[0m\u001b[0;34m=\u001b[0m\u001b[0;32mNone\u001b[0m\u001b[0;34m,\u001b[0m\u001b[0;34m\u001b[0m\n",
       "\u001b[0;34m\u001b[0m    \u001b[0mdetails\u001b[0m\u001b[0;34m=\u001b[0m\u001b[0;32mTrue\u001b[0m\u001b[0;34m,\u001b[0m\u001b[0;34m\u001b[0m\n",
       "\u001b[0;34m\u001b[0m    \u001b[0mnice_output\u001b[0m\u001b[0;34m=\u001b[0m\u001b[0;32mTrue\u001b[0m\u001b[0;34m,\u001b[0m\u001b[0;34m\u001b[0m\n",
       "\u001b[0;34m\u001b[0m\u001b[0;34m)\u001b[0m\u001b[0;34m\u001b[0m\u001b[0;34m\u001b[0m\u001b[0m\n",
       "\u001b[0;31mDocstring:\u001b[0m\n",
       "Show details of avalable models.\n",
       "\n",
       "If details is True, return a dictionary of model names and details.\n",
       "If nice_output is True, the dictionary is printed nicely.\n",
       "If details is False, return a list of model names.\n",
       "If param is set, filter to only return entries including this\n",
       "\n",
       "Note:\n",
       "    |  F = Fast-Track Products\n",
       "    |  C = Comprehensive Inversion\n",
       "    |  D = Dedicated Chain\n",
       "    |  MCO = Core / main\n",
       "    |  MLI = Lithosphere\n",
       "    |  MMA = Magnetosphere\n",
       "    |  MIO = Ionosphere\n",
       "\n",
       "Args:\n",
       "    param (str): one of \"F C D MCO MLI MMA MIO\"\n",
       "    details (bool): True for a dict of details, False for a brief list\n",
       "    nice_output (bool): If True, just print the dict nicely\n",
       "\u001b[0;31mFile:\u001b[0m      /opt/conda/lib/python3.7/site-packages/viresclient/_client_swarm.py\n",
       "\u001b[0;31mType:\u001b[0m      function\n"
      ]
     },
     "metadata": {},
     "output_type": "display_data"
    }
   ],
   "source": [
    "SwarmRequest.available_models?"
   ]
  },
  {
   "cell_type": "markdown",
   "metadata": {},
   "source": [
    "The three parameters: `param` (default: `None`), `details` (default: `True`) and `nice_output` (default: `True`) are optional. If not provided or setting `param=None`, `details=True` and `nice_output=True`, the method prints the list of the available magnetic models and all the details:"
   ]
  },
  {
   "cell_type": "code",
   "execution_count": 13,
   "metadata": {},
   "outputs": [
    {
     "name": "stdout",
     "output_type": "stream",
     "text": [
      "CHAOS-6-Core = 'CHAOS-6-Core'(max_degree=20,min_degree=1)\n",
      "  START: 1997-02-07T05:31:12.000003Z\n",
      "  END:   2020-04-21T02:49:20.639999Z\n",
      "DESCRIPTION:\n",
      "CHAOS Core field\n",
      " deprecated model identifier, use CHAOS-Core instead\n",
      "SOURCES:\n",
      "  SW_OPER_MCO_SHA_2X_19970101T000000_20200419T235959_0701\n",
      "\n",
      "CHAOS-6-MMA-Primary = 'CHAOS-6-MMA-Primary'(max_degree=2,min_degree=1)\n",
      "  START: 2012-01-01T00:00:00Z\n",
      "  END:   2020-01-25T23:30:00Z\n",
      "DESCRIPTION:\n",
      "CHAOS Primary (external) magnetospheric field\n",
      " deprecated model identifier, use CHAOS-MMA-Primary instead\n",
      "SOURCES:\n",
      "  SW_OPER_MMA_CHAOS__20120101T000000_20121231T233000_0608\n",
      "  SW_OPER_MMA_CHAOS__20130101T000000_20131231T233000_0608\n",
      "  SW_OPER_MMA_CHAOS__20140101T000000_20141231T233000_0608\n",
      "  SW_OPER_MMA_CHAOS__20150101T000000_20151231T233000_0608\n",
      "  SW_OPER_MMA_CHAOS__20160101T000000_20161231T233000_0608\n",
      "  SW_OPER_MMA_CHAOS__20170101T000000_20171231T233000_0608\n",
      "  SW_OPER_MMA_CHAOS__20180101T000000_20181231T233000_0701\n",
      "  SW_OPER_MMA_CHAOS__20190101T000000_20200125T233000_0701\n",
      "\n",
      "CHAOS-6-MMA-Secondary = 'CHAOS-6-MMA-Secondary'(max_degree=2,min_degree=1)\n",
      "  START: 2012-01-01T00:00:00Z\n",
      "  END:   2020-01-25T23:30:00Z\n",
      "DESCRIPTION:\n",
      "CHAOS-Secondary (internal) magnetospheric field\n",
      " deprecated model identifier, use CHAOS-MMA-Secondary instead\n",
      "SOURCES:\n",
      "  SW_OPER_MMA_CHAOS__20120101T000000_20121231T233000_0608\n",
      "  SW_OPER_MMA_CHAOS__20130101T000000_20131231T233000_0608\n",
      "  SW_OPER_MMA_CHAOS__20140101T000000_20141231T233000_0608\n",
      "  SW_OPER_MMA_CHAOS__20150101T000000_20151231T233000_0608\n",
      "  SW_OPER_MMA_CHAOS__20160101T000000_20161231T233000_0608\n",
      "  SW_OPER_MMA_CHAOS__20170101T000000_20171231T233000_0608\n",
      "  SW_OPER_MMA_CHAOS__20180101T000000_20181231T233000_0701\n",
      "  SW_OPER_MMA_CHAOS__20190101T000000_20200125T233000_0701\n",
      "\n",
      "CHAOS-6-Static = 'CHAOS-6-Static'(max_degree=185,min_degree=21)\n",
      "  START: 0001-01-01T00:00:00Z\n",
      "  END:   4000-01-01T00:00:00Z\n",
      "DESCRIPTION:\n",
      "CHAOS crust field\n",
      " deprecated model identifier, use CHAOS-Static instead\n",
      "SOURCES:\n",
      "  CHAOS-7_static.shc\n",
      "\n",
      "CHAOS-Core = 'CHAOS-Core'(max_degree=20,min_degree=1)\n",
      "  START: 1997-02-07T05:31:12.000003Z\n",
      "  END:   2020-04-21T02:49:20.639999Z\n",
      "DESCRIPTION:\n",
      "CHAOS-7 Core field (SH degrees 1-20)\n",
      " http://www.spacecenter.dk/files/magnetic-models/CHAOS-7/ \n",
      "SOURCES:\n",
      "  SW_OPER_MCO_SHA_2X_19970101T000000_20200419T235959_0701\n",
      "\n",
      "CHAOS-MMA-Primary = 'CHAOS-MMA-Primary'(max_degree=2,min_degree=1)\n",
      "  START: 2012-01-01T00:00:00Z\n",
      "  END:   2020-01-25T23:30:00Z\n",
      "DESCRIPTION:\n",
      "CHAOS-7 Primary (external) magnetospheric field\n",
      " hhttp://www.spacecenter.dk/files/magnetic-models/CHAOS-7/ \n",
      "SOURCES:\n",
      "  SW_OPER_MMA_CHAOS__20120101T000000_20121231T233000_0608\n",
      "  SW_OPER_MMA_CHAOS__20130101T000000_20131231T233000_0608\n",
      "  SW_OPER_MMA_CHAOS__20140101T000000_20141231T233000_0608\n",
      "  SW_OPER_MMA_CHAOS__20150101T000000_20151231T233000_0608\n",
      "  SW_OPER_MMA_CHAOS__20160101T000000_20161231T233000_0608\n",
      "  SW_OPER_MMA_CHAOS__20170101T000000_20171231T233000_0608\n",
      "  SW_OPER_MMA_CHAOS__20180101T000000_20181231T233000_0701\n",
      "  SW_OPER_MMA_CHAOS__20190101T000000_20200125T233000_0701\n",
      "\n",
      "CHAOS-MMA-Secondary = 'CHAOS-MMA-Secondary'(max_degree=2,min_degree=1)\n",
      "  START: 2012-01-01T00:00:00Z\n",
      "  END:   2020-01-25T23:30:00Z\n",
      "DESCRIPTION:\n",
      "CHAOS-7 Secondary (internal) magnetospheric field\n",
      " http://www.spacecenter.dk/files/magnetic-models/CHAOS-7/ \n",
      "SOURCES:\n",
      "  SW_OPER_MMA_CHAOS__20120101T000000_20121231T233000_0608\n",
      "  SW_OPER_MMA_CHAOS__20130101T000000_20131231T233000_0608\n",
      "  SW_OPER_MMA_CHAOS__20140101T000000_20141231T233000_0608\n",
      "  SW_OPER_MMA_CHAOS__20150101T000000_20151231T233000_0608\n",
      "  SW_OPER_MMA_CHAOS__20160101T000000_20161231T233000_0608\n",
      "  SW_OPER_MMA_CHAOS__20170101T000000_20171231T233000_0608\n",
      "  SW_OPER_MMA_CHAOS__20180101T000000_20181231T233000_0701\n",
      "  SW_OPER_MMA_CHAOS__20190101T000000_20200125T233000_0701\n",
      "\n",
      "CHAOS-Static = 'CHAOS-Static'(max_degree=185,min_degree=21)\n",
      "  START: 0001-01-01T00:00:00Z\n",
      "  END:   4000-01-01T00:00:00Z\n",
      "DESCRIPTION:\n",
      "CHAOS-7 crust field (SH degrees 21-185)\n",
      " http://www.spacecenter.dk/files/magnetic-models/CHAOS-7/ \n",
      "SOURCES:\n",
      "  CHAOS-7_static.shc\n",
      "\n",
      "IGRF12 = IGRF12(max_degree=13,min_degree=1)\n",
      "  START: 1900-01-01T00:00:00Z\n",
      "  END:   2020-01-01T00:00:00Z\n",
      "DESCRIPTION:\n",
      " International Geomagnetic Reference Field: the 12th generation, https://doi.org/10.1186/s40623-015-0228-9 \n",
      " https://www.ngdc.noaa.gov/IAGA/vmod/igrf.html \n",
      "SOURCES:\n",
      "  SW_OPER_AUX_IGR_2__19000101T000000_20191231T235959_0102\n",
      "\n",
      "LCS-1 = 'LCS-1'(max_degree=185,min_degree=1)\n",
      "  START: 0001-01-01T00:00:00Z\n",
      "  END:   4000-01-01T00:00:00Z\n",
      "DESCRIPTION:\n",
      "The LCS-1 high-resolution lithospheric field model, derived from CHAMP and Swarm satellite observations\n",
      " http://www.spacecenter.dk/files/magnetic-models/LCS-1/\n",
      "SOURCES:\n",
      "  LCS-1.shc\n",
      "\n",
      "MCO_SHA_2C = MCO_SHA_2C(max_degree=18,min_degree=1)\n",
      "  START: 2013-11-24T18:28:47.999997Z\n",
      "  END:   2019-01-01T00:00:00Z\n",
      "DESCRIPTION:\n",
      "[Comprehensive Inversion]: Core field of CIY4\n",
      " A comprehensive model of Earth’s magnetic field determined from 4 years of Swarm satellite observations, https://doi.org/10.1186/s40623-018-0896-3 \n",
      "Validation: ftp://swarm-diss.eo.esa.int/Level2longterm/MCO/SW_OPER_MCO_VAL_2C_20131201T000000_20180101T000000_0401.ZIP \n",
      "SOURCES:\n",
      "  SW_OPER_MCO_SHA_2C_20131125T000000_20190101T000000_0501\n",
      "\n",
      "MCO_SHA_2D = MCO_SHA_2D(max_degree=20,min_degree=1)\n",
      "  START: 2013-11-25T12:00:00.000003Z\n",
      "  END:   2018-01-01T00:00:00Z\n",
      "DESCRIPTION:\n",
      "[Dedicated Chain]: Core field\n",
      "An algorithm for deriving core magnetic field models from the Swarm data set, https://doi.org/10.5047/eps.2013.07.005 \n",
      "Validation: ftp://swarm-diss.eo.esa.int/Level2longterm/MCO/SW_OPER_MCO_VAL_2D_20131126T000000_20180101T000000_0401.ZIP \n",
      "SOURCES:\n",
      "  SW_OPER_MCO_SHA_2D_20131126T000000_20180101T000000_0401\n",
      "\n",
      "MF7 = MF7(max_degree=133,min_degree=16)\n",
      "  START: 0001-01-01T00:00:00Z\n",
      "  END:   4000-01-01T00:00:00Z\n",
      "DESCRIPTION:\n",
      "MF7 crustal field model, derived from CHAMP satellite observations\n",
      " http://geomag.org/models/MF7.html\n",
      "SOURCES:\n",
      "  MF7.shc\n",
      "\n",
      "MIO_SHA_2C-Primary = 'MIO_SHA_2C-Primary'(max_degree=60,min_degree=1)\n",
      "  START: 0001-01-01T00:00:00Z\n",
      "  END:   4000-01-01T00:00:00Z\n",
      "DESCRIPTION:\n",
      "[Comprehensive Inversion]: Primary (external) ionospheric field of CIY4\n",
      "Validation: ftp://swarm-diss.eo.esa.int/Level2longterm/MIO/SW_OPER_MIO_VAL_2C_00000000T000000_99999999T999999_0401.ZIP \n",
      "SOURCES:\n",
      "  SW_OPER_MIO_SHA_2C_00000000T000000_99999999T999999_0501\n",
      "\n",
      "MIO_SHA_2C-Secondary = 'MIO_SHA_2C-Secondary'(max_degree=60,min_degree=1)\n",
      "  START: 0001-01-01T00:00:00Z\n",
      "  END:   4000-01-01T00:00:00Z\n",
      "DESCRIPTION:\n",
      "[Comprehensive Inversion]: Secondary (external/induced) ionospheric field of CIY4\n",
      "SOURCES:\n",
      "  SW_OPER_MIO_SHA_2C_00000000T000000_99999999T999999_0501\n",
      "\n",
      "MIO_SHA_2D-Primary = 'MIO_SHA_2D-Primary'(max_degree=60,min_degree=1)\n",
      "  START: 0001-01-01T00:00:00Z\n",
      "  END:   4000-01-01T00:00:00Z\n",
      "DESCRIPTION:\n",
      "[Dedicated Chain]: Primary (external) ionospheric field, DIFI\n",
      " Swarm SCARF dedicated ionospheric field inversion chain, https://doi.org/10.5047/eps.2013.08.006 \n",
      " First results from the Swarm Dedicated Ionospheric Field Inversion chain, https://doi.org/10.1186/s40623-016-0481-6 \n",
      " http://geomag.colorado.edu/difi-3 \n",
      "Validation: ftp://swarm-diss.eo.esa.int/Level2longterm/MIO/SW_OPER_MIO_VAL_2D_20131201T000000_20171231T235959_0402.ZIP \n",
      "SOURCES:\n",
      "  SW_OPER_MIO_SHA_2D_20131201T000000_20171231T235959_0402\n",
      "\n",
      "MIO_SHA_2D-Secondary = 'MIO_SHA_2D-Secondary'(max_degree=60,min_degree=1)\n",
      "  START: 0001-01-01T00:00:00Z\n",
      "  END:   4000-01-01T00:00:00Z\n",
      "DESCRIPTION:\n",
      "[Dedicated Chain]: Secondary (external/induced) ionospheric field, DIFI\n",
      "SOURCES:\n",
      "  SW_OPER_MIO_SHA_2D_20131201T000000_20171231T235959_0402\n",
      "\n",
      "MLI_SHA_2C = MLI_SHA_2C(max_degree=120,min_degree=16)\n",
      "  START: 0001-01-01T00:00:00Z\n",
      "  END:   4000-01-01T00:00:00Z\n",
      "DESCRIPTION:\n",
      "[Comprehensive Inversion]: Lithospheric field of CIY4\n",
      "Validation: ftp://swarm-diss.eo.esa.int/Level2longterm/MLI/SW_OPER_MLI_VAL_2C_00000000T000000_99999999T999999_0401.ZIP\n",
      "SOURCES:\n",
      "  SW_OPER_MLI_SHA_2C_00000000T000000_99999999T999999_0501\n",
      "\n",
      "MLI_SHA_2D = MLI_SHA_2D(max_degree=133,min_degree=16)\n",
      "  START: 0001-01-01T00:00:00Z\n",
      "  END:   4000-01-01T00:00:00Z\n",
      "DESCRIPTION:\n",
      "[Dedicated Chain]: Lithospheric field\n",
      " Swarm SCARF Dedicated Lithospheric Field Inversion chain, https://doi.org/10.5047/eps.2013.07.008 \n",
      " Validation: ftp://swarm-diss.eo.esa.int/Level2longterm/MLI/SW_OPER_MLI_VAL_2D_00000000T000000_99999999T999999_0401.ZIP \n",
      "SOURCES:\n",
      "  SW_OPER_MLI_SHA_2D_00000000T000000_99999999T999999_0501\n",
      "\n",
      "MMA_SHA_2C-Primary = 'MMA_SHA_2C-Primary'(max_degree=2,min_degree=1)\n",
      "  START: 2013-11-25T03:00:00Z\n",
      "  END:   2018-12-31T21:00:00Z\n",
      "DESCRIPTION:\n",
      "[Comprehensive Inversion]: Primary (external) magnetospheric field of CIY4\n",
      "Validation: ftp://swarm-diss.eo.esa.int/Level2longterm/MMA/SW_OPER_MMA_VAL_2C_20131201T000000_20180101T000000_0401.ZIP\n",
      "SOURCES:\n",
      "  SW_OPER_MMA_SHA_2C_20131125T000000_20181231T235959_0501\n",
      "\n",
      "MMA_SHA_2C-Secondary = 'MMA_SHA_2C-Secondary'(max_degree=3,min_degree=1)\n",
      "  START: 2013-11-25T03:00:00Z\n",
      "  END:   2018-12-31T21:00:00Z\n",
      "DESCRIPTION:\n",
      "[Comprehensive Inversion]: Secondary (internal/induced) magnetospheric field of CIY4\n",
      "SOURCES:\n",
      "  SW_OPER_MMA_SHA_2C_20131125T000000_20181231T235959_0501\n",
      "\n",
      "MMA_SHA_2F-Primary = 'MMA_SHA_2F-Primary'(max_degree=1,min_degree=1)\n",
      "  START: 2013-11-25T11:15:00Z\n",
      "  END:   2020-01-10T21:45:00Z\n",
      "DESCRIPTION:\n",
      "[Fast-Track Product]: Primary (external) magnetospheric field\n",
      " Rapid modelling of the large-scale magnetospheric field from Swarm satellite data, https://doi.org/10.5047/eps.2013.09.003 \n",
      "SOURCES:\n",
      "  SW_OPER_MMA_SHA_2F_20131125T103000_20140101T000000_0108\n",
      "  SW_OPER_MMA_SHA_2F_20140101T000000_20150101T000000_0108\n",
      "  SW_OPER_MMA_SHA_2F_20150101T000000_20160101T000000_0108\n",
      "  SW_OPER_MMA_SHA_2F_20160101T000000_20170101T000000_0108\n",
      "  SW_OPER_MMA_SHA_2F_20170101T000000_20180101T000000_0108\n",
      "  SW_OPER_MMA_SHA_2F_20180101T000000_20190101T000000_0108\n",
      "  SW_OPER_MMA_SHA_2F_20190101T000000_20200101T000000_0108\n",
      "  SW_OPER_MMA_SHA_2F_20200101T000000_20200110T223000_0108\n",
      "\n",
      "MMA_SHA_2F-Secondary = 'MMA_SHA_2F-Secondary'(max_degree=1,min_degree=1)\n",
      "  START: 2013-11-25T11:15:00Z\n",
      "  END:   2020-01-10T21:45:00Z\n",
      "DESCRIPTION:\n",
      "[Fast-Track Product]: Secondary (internal/induced) magnetospheric field\n",
      "SOURCES:\n",
      "  SW_OPER_MMA_SHA_2F_20131125T103000_20140101T000000_0108\n",
      "  SW_OPER_MMA_SHA_2F_20140101T000000_20150101T000000_0108\n",
      "  SW_OPER_MMA_SHA_2F_20150101T000000_20160101T000000_0108\n",
      "  SW_OPER_MMA_SHA_2F_20160101T000000_20170101T000000_0108\n",
      "  SW_OPER_MMA_SHA_2F_20170101T000000_20180101T000000_0108\n",
      "  SW_OPER_MMA_SHA_2F_20180101T000000_20190101T000000_0108\n",
      "  SW_OPER_MMA_SHA_2F_20190101T000000_20200101T000000_0108\n",
      "  SW_OPER_MMA_SHA_2F_20200101T000000_20200110T223000_0108\n",
      "\n"
     ]
    }
   ],
   "source": [
    "request.available_models()"
   ]
  },
  {
   "cell_type": "markdown",
   "metadata": {},
   "source": [
    "It is possible to restrict the result providing one of the following `param` values: `F`, `C`, `D`, `MCO`, `MLI`, `MMA`, `MIO`. E.g.:"
   ]
  },
  {
   "cell_type": "code",
   "execution_count": 14,
   "metadata": {},
   "outputs": [
    {
     "name": "stdout",
     "output_type": "stream",
     "text": [
      "MMA_SHA_2F-Primary = 'MMA_SHA_2F-Primary'(max_degree=1,min_degree=1)\n",
      "  START: 2013-11-25T11:15:00Z\n",
      "  END:   2020-01-10T21:45:00Z\n",
      "DESCRIPTION:\n",
      "[Fast-Track Product]: Primary (external) magnetospheric field\n",
      " Rapid modelling of the large-scale magnetospheric field from Swarm satellite data, https://doi.org/10.5047/eps.2013.09.003 \n",
      "SOURCES:\n",
      "  SW_OPER_MMA_SHA_2F_20131125T103000_20140101T000000_0108\n",
      "  SW_OPER_MMA_SHA_2F_20140101T000000_20150101T000000_0108\n",
      "  SW_OPER_MMA_SHA_2F_20150101T000000_20160101T000000_0108\n",
      "  SW_OPER_MMA_SHA_2F_20160101T000000_20170101T000000_0108\n",
      "  SW_OPER_MMA_SHA_2F_20170101T000000_20180101T000000_0108\n",
      "  SW_OPER_MMA_SHA_2F_20180101T000000_20190101T000000_0108\n",
      "  SW_OPER_MMA_SHA_2F_20190101T000000_20200101T000000_0108\n",
      "  SW_OPER_MMA_SHA_2F_20200101T000000_20200110T223000_0108\n",
      "\n",
      "MMA_SHA_2F-Secondary = 'MMA_SHA_2F-Secondary'(max_degree=1,min_degree=1)\n",
      "  START: 2013-11-25T11:15:00Z\n",
      "  END:   2020-01-10T21:45:00Z\n",
      "DESCRIPTION:\n",
      "[Fast-Track Product]: Secondary (internal/induced) magnetospheric field\n",
      "SOURCES:\n",
      "  SW_OPER_MMA_SHA_2F_20131125T103000_20140101T000000_0108\n",
      "  SW_OPER_MMA_SHA_2F_20140101T000000_20150101T000000_0108\n",
      "  SW_OPER_MMA_SHA_2F_20150101T000000_20160101T000000_0108\n",
      "  SW_OPER_MMA_SHA_2F_20160101T000000_20170101T000000_0108\n",
      "  SW_OPER_MMA_SHA_2F_20170101T000000_20180101T000000_0108\n",
      "  SW_OPER_MMA_SHA_2F_20180101T000000_20190101T000000_0108\n",
      "  SW_OPER_MMA_SHA_2F_20190101T000000_20200101T000000_0108\n",
      "  SW_OPER_MMA_SHA_2F_20200101T000000_20200110T223000_0108\n",
      "\n"
     ]
    }
   ],
   "source": [
    "request.available_models('F')"
   ]
  },
  {
   "cell_type": "markdown",
   "metadata": {},
   "source": [
    "If the `nice_output` parameter is set to `False`, the method returns the same result as a dictionary instead of printing it:"
   ]
  },
  {
   "cell_type": "code",
   "execution_count": 15,
   "metadata": {},
   "outputs": [
    {
     "data": {
      "text/plain": [
       "{'MMA_SHA_2F-Primary': {'description': ('[Fast-Track Product]: Primary (external) magnetospheric field',\n",
       "   ' Rapid modelling of the large-scale magnetospheric field from Swarm satellite data, https://doi.org/10.5047/eps.2013.09.003 '),\n",
       "  'details': {'sources': ['SW_OPER_MMA_SHA_2F_20131125T103000_20140101T000000_0108',\n",
       "    'SW_OPER_MMA_SHA_2F_20140101T000000_20150101T000000_0108',\n",
       "    'SW_OPER_MMA_SHA_2F_20150101T000000_20160101T000000_0108',\n",
       "    'SW_OPER_MMA_SHA_2F_20160101T000000_20170101T000000_0108',\n",
       "    'SW_OPER_MMA_SHA_2F_20170101T000000_20180101T000000_0108',\n",
       "    'SW_OPER_MMA_SHA_2F_20180101T000000_20190101T000000_0108',\n",
       "    'SW_OPER_MMA_SHA_2F_20190101T000000_20200101T000000_0108',\n",
       "    'SW_OPER_MMA_SHA_2F_20200101T000000_20200110T223000_0108'],\n",
       "   'expression': \"'MMA_SHA_2F-Primary'(max_degree=1,min_degree=1)\",\n",
       "   'validity': {'start': '2013-11-25T11:15:00Z',\n",
       "    'end': '2020-01-10T21:45:00Z'}}},\n",
       " 'MMA_SHA_2F-Secondary': {'description': ('[Fast-Track Product]: Secondary (internal/induced) magnetospheric field',),\n",
       "  'details': {'sources': ['SW_OPER_MMA_SHA_2F_20131125T103000_20140101T000000_0108',\n",
       "    'SW_OPER_MMA_SHA_2F_20140101T000000_20150101T000000_0108',\n",
       "    'SW_OPER_MMA_SHA_2F_20150101T000000_20160101T000000_0108',\n",
       "    'SW_OPER_MMA_SHA_2F_20160101T000000_20170101T000000_0108',\n",
       "    'SW_OPER_MMA_SHA_2F_20170101T000000_20180101T000000_0108',\n",
       "    'SW_OPER_MMA_SHA_2F_20180101T000000_20190101T000000_0108',\n",
       "    'SW_OPER_MMA_SHA_2F_20190101T000000_20200101T000000_0108',\n",
       "    'SW_OPER_MMA_SHA_2F_20200101T000000_20200110T223000_0108'],\n",
       "   'expression': \"'MMA_SHA_2F-Secondary'(max_degree=1,min_degree=1)\",\n",
       "   'validity': {'start': '2013-11-25T11:15:00Z',\n",
       "    'end': '2020-01-10T21:45:00Z'}}}}"
      ]
     },
     "execution_count": 15,
     "metadata": {},
     "output_type": "execute_result"
    }
   ],
   "source": [
    "request.available_models(param='F', nice_output=False)"
   ]
  },
  {
   "cell_type": "markdown",
   "metadata": {},
   "source": [
    "If the `details` parameter is set to `False`, the method returns the available models as a `list`:"
   ]
  },
  {
   "cell_type": "code",
   "execution_count": 16,
   "metadata": {},
   "outputs": [
    {
     "data": {
      "text/plain": [
       "['IGRF12',\n",
       " 'LCS-1',\n",
       " 'MF7',\n",
       " 'CHAOS-Core',\n",
       " 'CHAOS-Static',\n",
       " 'CHAOS-MMA-Primary',\n",
       " 'CHAOS-MMA-Secondary',\n",
       " 'CHAOS-6-Core',\n",
       " 'CHAOS-6-Static',\n",
       " 'CHAOS-6-MMA-Primary',\n",
       " 'CHAOS-6-MMA-Secondary',\n",
       " 'MCO_SHA_2C',\n",
       " 'MCO_SHA_2D',\n",
       " 'MLI_SHA_2C',\n",
       " 'MLI_SHA_2D',\n",
       " 'MMA_SHA_2C-Primary',\n",
       " 'MMA_SHA_2C-Secondary',\n",
       " 'MMA_SHA_2F-Primary',\n",
       " 'MMA_SHA_2F-Secondary',\n",
       " 'MIO_SHA_2C-Primary',\n",
       " 'MIO_SHA_2C-Secondary',\n",
       " 'MIO_SHA_2D-Primary',\n",
       " 'MIO_SHA_2D-Secondary']"
      ]
     },
     "execution_count": 16,
     "metadata": {},
     "output_type": "execute_result"
    }
   ],
   "source": [
    "request.available_models(details=False)"
   ]
  },
  {
   "cell_type": "markdown",
   "metadata": {},
   "source": [
    "[TOP](#top)\n",
    "\n",
    "<a id=\"SwarmRequest.get_model_info\"/>\n",
    "\n",
    "## `SwarmRequest.get_model_info()`\n",
    "\n",
    "Get info on a specific model(s)."
   ]
  },
  {
   "cell_type": "code",
   "execution_count": 17,
   "metadata": {},
   "outputs": [
    {
     "data": {
      "text/plain": [
       "\u001b[0;31mSignature:\u001b[0m\n",
       "\u001b[0mSwarmRequest\u001b[0m\u001b[0;34m.\u001b[0m\u001b[0mget_model_info\u001b[0m\u001b[0;34m(\u001b[0m\u001b[0;34m\u001b[0m\n",
       "\u001b[0;34m\u001b[0m    \u001b[0mself\u001b[0m\u001b[0;34m,\u001b[0m\u001b[0;34m\u001b[0m\n",
       "\u001b[0;34m\u001b[0m    \u001b[0mmodels\u001b[0m\u001b[0;34m=\u001b[0m\u001b[0;32mNone\u001b[0m\u001b[0;34m,\u001b[0m\u001b[0;34m\u001b[0m\n",
       "\u001b[0;34m\u001b[0m    \u001b[0mcustom_model\u001b[0m\u001b[0;34m=\u001b[0m\u001b[0;32mNone\u001b[0m\u001b[0;34m,\u001b[0m\u001b[0;34m\u001b[0m\n",
       "\u001b[0;34m\u001b[0m    \u001b[0moriginal_response\u001b[0m\u001b[0;34m=\u001b[0m\u001b[0;32mFalse\u001b[0m\u001b[0;34m,\u001b[0m\u001b[0;34m\u001b[0m\n",
       "\u001b[0;34m\u001b[0m\u001b[0;34m)\u001b[0m\u001b[0;34m\u001b[0m\u001b[0;34m\u001b[0m\u001b[0m\n",
       "\u001b[0;31mDocstring:\u001b[0m\n",
       "Get model info from server.\n",
       "\n",
       "Handles the same models input as .set_products(), and returns a dict\n",
       "like:\n",
       "\n",
       "{'IGRF12': {\n",
       "'expression': 'IGRF12(max_degree=13,min_degree=0)',\n",
       "'validity': {'start': '1900-01-01T00:00:00Z', 'end': '2020-01-01T00:00:00Z'\n",
       "}, ...}\n",
       "\n",
       "If original_response=True, return the list of dicts like:\n",
       "\n",
       "{'expression': 'MCO_SHA_2C(max_degree=16,min_degree=0)',\n",
       "'name': 'MCO_SHA_2C',\n",
       "'validity': {'start': '2013-11-30T14:38:24Z',\n",
       "'end': '2018-01-01T00:00:00Z'}}, ...\n",
       "\n",
       "Args:\n",
       "    models (list/dict): as with set_products\n",
       "    custom_model (str): as with set_products\n",
       "    original_response (bool)\n",
       "\n",
       "Returns:\n",
       "    dict or list\n",
       "\u001b[0;31mFile:\u001b[0m      /opt/conda/lib/python3.7/site-packages/viresclient/_client_swarm.py\n",
       "\u001b[0;31mType:\u001b[0m      function\n"
      ]
     },
     "metadata": {},
     "output_type": "display_data"
    }
   ],
   "source": [
    "SwarmRequest.get_model_info?"
   ]
  },
  {
   "cell_type": "markdown",
   "metadata": {},
   "source": [
    "The parameters: `models` (default: `None`), `custom_models` (default: `None`), `original_response` (default: `False`) are optional.\n",
    "`models` parameter allows to specify the models. E.g.:"
   ]
  },
  {
   "cell_type": "code",
   "execution_count": 20,
   "metadata": {},
   "outputs": [
    {
     "data": {
      "text/plain": [
       "{'CHAOS-Core': {'sources': ['SW_OPER_MCO_SHA_2X_19970101T000000_20200419T235959_0701'],\n",
       "  'expression': \"'CHAOS-Core'(max_degree=20,min_degree=1)\",\n",
       "  'validity': {'start': '1997-02-07T05:31:12.000003Z',\n",
       "   'end': '2020-04-21T02:49:20.639999Z'}},\n",
       " 'CHAOS-Static': {'sources': ['CHAOS-7_static.shc'],\n",
       "  'expression': \"'CHAOS-Static'(max_degree=185,min_degree=21)\",\n",
       "  'validity': {'start': '0001-01-01T00:00:00Z',\n",
       "   'end': '4000-01-01T00:00:00Z'}}}"
      ]
     },
     "execution_count": 20,
     "metadata": {},
     "output_type": "execute_result"
    }
   ],
   "source": [
    "request.get_model_info(models=['CHAOS-Core', 'CHAOS-Static'])"
   ]
  },
  {
   "cell_type": "markdown",
   "metadata": {},
   "source": [
    "If the same parameter is set to `None` or not specified, the method returns info for all the available models:"
   ]
  },
  {
   "cell_type": "code",
   "execution_count": 22,
   "metadata": {},
   "outputs": [
    {
     "data": {
      "text/plain": [
       "{'MLI_SHA_2D': {'sources': ['SW_OPER_MLI_SHA_2D_00000000T000000_99999999T999999_0501'],\n",
       "  'expression': 'MLI_SHA_2D(max_degree=133,min_degree=16)',\n",
       "  'validity': {'start': '0001-01-01T00:00:00Z',\n",
       "   'end': '4000-01-01T00:00:00Z'}},\n",
       " 'MLI_SHA_2C': {'sources': ['SW_OPER_MLI_SHA_2C_00000000T000000_99999999T999999_0501'],\n",
       "  'expression': 'MLI_SHA_2C(max_degree=120,min_degree=16)',\n",
       "  'validity': {'start': '0001-01-01T00:00:00Z',\n",
       "   'end': '4000-01-01T00:00:00Z'}},\n",
       " 'CHAOS-Core': {'sources': ['SW_OPER_MCO_SHA_2X_19970101T000000_20200419T235959_0701'],\n",
       "  'expression': \"'CHAOS-Core'(max_degree=20,min_degree=1)\",\n",
       "  'validity': {'start': '1997-02-07T05:31:12.000003Z',\n",
       "   'end': '2020-04-21T02:49:20.639999Z'}},\n",
       " 'MIO_SHA_2C-Primary': {'sources': ['SW_OPER_MIO_SHA_2C_00000000T000000_99999999T999999_0501'],\n",
       "  'expression': \"'MIO_SHA_2C-Primary'(max_degree=60,min_degree=1)\",\n",
       "  'validity': {'start': '0001-01-01T00:00:00Z',\n",
       "   'end': '4000-01-01T00:00:00Z'}},\n",
       " 'LCS-1': {'sources': ['LCS-1.shc'],\n",
       "  'expression': \"'LCS-1'(max_degree=185,min_degree=1)\",\n",
       "  'validity': {'start': '0001-01-01T00:00:00Z',\n",
       "   'end': '4000-01-01T00:00:00Z'}},\n",
       " 'CHAOS-MMA-Primary': {'sources': ['SW_OPER_MMA_CHAOS__20120101T000000_20121231T233000_0608',\n",
       "   'SW_OPER_MMA_CHAOS__20130101T000000_20131231T233000_0608',\n",
       "   'SW_OPER_MMA_CHAOS__20140101T000000_20141231T233000_0608',\n",
       "   'SW_OPER_MMA_CHAOS__20150101T000000_20151231T233000_0608',\n",
       "   'SW_OPER_MMA_CHAOS__20160101T000000_20161231T233000_0608',\n",
       "   'SW_OPER_MMA_CHAOS__20170101T000000_20171231T233000_0608',\n",
       "   'SW_OPER_MMA_CHAOS__20180101T000000_20181231T233000_0701',\n",
       "   'SW_OPER_MMA_CHAOS__20190101T000000_20200125T233000_0701'],\n",
       "  'expression': \"'CHAOS-MMA-Primary'(max_degree=2,min_degree=1)\",\n",
       "  'validity': {'start': '2012-01-01T00:00:00Z',\n",
       "   'end': '2020-01-25T23:30:00Z'}},\n",
       " 'MIO_SHA_2C-Secondary': {'sources': ['SW_OPER_MIO_SHA_2C_00000000T000000_99999999T999999_0501'],\n",
       "  'expression': \"'MIO_SHA_2C-Secondary'(max_degree=60,min_degree=1)\",\n",
       "  'validity': {'start': '0001-01-01T00:00:00Z',\n",
       "   'end': '4000-01-01T00:00:00Z'}},\n",
       " 'CHAOS-MMA-Secondary': {'sources': ['SW_OPER_MMA_CHAOS__20120101T000000_20121231T233000_0608',\n",
       "   'SW_OPER_MMA_CHAOS__20130101T000000_20131231T233000_0608',\n",
       "   'SW_OPER_MMA_CHAOS__20140101T000000_20141231T233000_0608',\n",
       "   'SW_OPER_MMA_CHAOS__20150101T000000_20151231T233000_0608',\n",
       "   'SW_OPER_MMA_CHAOS__20160101T000000_20161231T233000_0608',\n",
       "   'SW_OPER_MMA_CHAOS__20170101T000000_20171231T233000_0608',\n",
       "   'SW_OPER_MMA_CHAOS__20180101T000000_20181231T233000_0701',\n",
       "   'SW_OPER_MMA_CHAOS__20190101T000000_20200125T233000_0701'],\n",
       "  'expression': \"'CHAOS-MMA-Secondary'(max_degree=2,min_degree=1)\",\n",
       "  'validity': {'start': '2012-01-01T00:00:00Z',\n",
       "   'end': '2020-01-25T23:30:00Z'}},\n",
       " 'MIO_SHA_2D-Secondary': {'sources': ['SW_OPER_MIO_SHA_2D_20131201T000000_20171231T235959_0402'],\n",
       "  'expression': \"'MIO_SHA_2D-Secondary'(max_degree=60,min_degree=1)\",\n",
       "  'validity': {'start': '0001-01-01T00:00:00Z',\n",
       "   'end': '4000-01-01T00:00:00Z'}},\n",
       " 'MMA_SHA_2F-Primary': {'sources': ['SW_OPER_MMA_SHA_2F_20131125T103000_20140101T000000_0108',\n",
       "   'SW_OPER_MMA_SHA_2F_20140101T000000_20150101T000000_0108',\n",
       "   'SW_OPER_MMA_SHA_2F_20150101T000000_20160101T000000_0108',\n",
       "   'SW_OPER_MMA_SHA_2F_20160101T000000_20170101T000000_0108',\n",
       "   'SW_OPER_MMA_SHA_2F_20170101T000000_20180101T000000_0108',\n",
       "   'SW_OPER_MMA_SHA_2F_20180101T000000_20190101T000000_0108',\n",
       "   'SW_OPER_MMA_SHA_2F_20190101T000000_20200101T000000_0108',\n",
       "   'SW_OPER_MMA_SHA_2F_20200101T000000_20200110T223000_0108'],\n",
       "  'expression': \"'MMA_SHA_2F-Primary'(max_degree=1,min_degree=1)\",\n",
       "  'validity': {'start': '2013-11-25T11:15:00Z',\n",
       "   'end': '2020-01-10T21:45:00Z'}},\n",
       " 'IGRF13': {'sources': ['SW_OPER_AUX_IGR_2__19000101T000000_20241231T235959_0103'],\n",
       "  'expression': 'IGRF13(max_degree=13,min_degree=1)',\n",
       "  'validity': {'start': '1900-01-01T00:00:00Z',\n",
       "   'end': '2025-01-01T00:00:00Z'}},\n",
       " 'IGRF12': {'sources': ['SW_OPER_AUX_IGR_2__19000101T000000_20191231T235959_0102'],\n",
       "  'expression': 'IGRF12(max_degree=13,min_degree=1)',\n",
       "  'validity': {'start': '1900-01-01T00:00:00Z',\n",
       "   'end': '2020-01-01T00:00:00Z'}},\n",
       " 'MCO_SHA_2C': {'sources': ['SW_OPER_MCO_SHA_2C_20131125T000000_20190101T000000_0501'],\n",
       "  'expression': 'MCO_SHA_2C(max_degree=18,min_degree=1)',\n",
       "  'validity': {'start': '2013-11-24T18:28:47.999997Z',\n",
       "   'end': '2019-01-01T00:00:00Z'}},\n",
       " 'MF7': {'sources': ['MF7.shc'],\n",
       "  'expression': 'MF7(max_degree=133,min_degree=16)',\n",
       "  'validity': {'start': '0001-01-01T00:00:00Z',\n",
       "   'end': '4000-01-01T00:00:00Z'}},\n",
       " 'MIO_SHA_2D-Primary': {'sources': ['SW_OPER_MIO_SHA_2D_20131201T000000_20171231T235959_0402'],\n",
       "  'expression': \"'MIO_SHA_2D-Primary'(max_degree=60,min_degree=1)\",\n",
       "  'validity': {'start': '0001-01-01T00:00:00Z',\n",
       "   'end': '4000-01-01T00:00:00Z'}},\n",
       " 'MCO_SHA_2D': {'sources': ['SW_OPER_MCO_SHA_2D_20131126T000000_20180101T000000_0401'],\n",
       "  'expression': 'MCO_SHA_2D(max_degree=20,min_degree=1)',\n",
       "  'validity': {'start': '2013-11-25T12:00:00.000003Z',\n",
       "   'end': '2018-01-01T00:00:00Z'}},\n",
       " 'MMA_SHA_2F-Secondary': {'sources': ['SW_OPER_MMA_SHA_2F_20131125T103000_20140101T000000_0108',\n",
       "   'SW_OPER_MMA_SHA_2F_20140101T000000_20150101T000000_0108',\n",
       "   'SW_OPER_MMA_SHA_2F_20150101T000000_20160101T000000_0108',\n",
       "   'SW_OPER_MMA_SHA_2F_20160101T000000_20170101T000000_0108',\n",
       "   'SW_OPER_MMA_SHA_2F_20170101T000000_20180101T000000_0108',\n",
       "   'SW_OPER_MMA_SHA_2F_20180101T000000_20190101T000000_0108',\n",
       "   'SW_OPER_MMA_SHA_2F_20190101T000000_20200101T000000_0108',\n",
       "   'SW_OPER_MMA_SHA_2F_20200101T000000_20200110T223000_0108'],\n",
       "  'expression': \"'MMA_SHA_2F-Secondary'(max_degree=1,min_degree=1)\",\n",
       "  'validity': {'start': '2013-11-25T11:15:00Z',\n",
       "   'end': '2020-01-10T21:45:00Z'}},\n",
       " 'CHAOS-Static': {'sources': ['CHAOS-7_static.shc'],\n",
       "  'expression': \"'CHAOS-Static'(max_degree=185,min_degree=21)\",\n",
       "  'validity': {'start': '0001-01-01T00:00:00Z',\n",
       "   'end': '4000-01-01T00:00:00Z'}},\n",
       " 'MMA_SHA_2C-Secondary': {'sources': ['SW_OPER_MMA_SHA_2C_20131125T000000_20181231T235959_0501'],\n",
       "  'expression': \"'MMA_SHA_2C-Secondary'(max_degree=3,min_degree=1)\",\n",
       "  'validity': {'start': '2013-11-25T03:00:00Z',\n",
       "   'end': '2018-12-31T21:00:00Z'}},\n",
       " 'MMA_SHA_2C-Primary': {'sources': ['SW_OPER_MMA_SHA_2C_20131125T000000_20181231T235959_0501'],\n",
       "  'expression': \"'MMA_SHA_2C-Primary'(max_degree=2,min_degree=1)\",\n",
       "  'validity': {'start': '2013-11-25T03:00:00Z',\n",
       "   'end': '2018-12-31T21:00:00Z'}},\n",
       " 'CHAOS-6-MMA-Secondary': {'sources': ['SW_OPER_MMA_CHAOS__20120101T000000_20121231T233000_0608',\n",
       "   'SW_OPER_MMA_CHAOS__20130101T000000_20131231T233000_0608',\n",
       "   'SW_OPER_MMA_CHAOS__20140101T000000_20141231T233000_0608',\n",
       "   'SW_OPER_MMA_CHAOS__20150101T000000_20151231T233000_0608',\n",
       "   'SW_OPER_MMA_CHAOS__20160101T000000_20161231T233000_0608',\n",
       "   'SW_OPER_MMA_CHAOS__20170101T000000_20171231T233000_0608',\n",
       "   'SW_OPER_MMA_CHAOS__20180101T000000_20181231T233000_0701',\n",
       "   'SW_OPER_MMA_CHAOS__20190101T000000_20200125T233000_0701'],\n",
       "  'expression': \"'CHAOS-6-MMA-Secondary'(max_degree=2,min_degree=1)\",\n",
       "  'validity': {'start': '2012-01-01T00:00:00Z',\n",
       "   'end': '2020-01-25T23:30:00Z'}},\n",
       " 'CHAOS-6-Core': {'sources': ['SW_OPER_MCO_SHA_2X_19970101T000000_20200419T235959_0701'],\n",
       "  'expression': \"'CHAOS-6-Core'(max_degree=20,min_degree=1)\",\n",
       "  'validity': {'start': '1997-02-07T05:31:12.000003Z',\n",
       "   'end': '2020-04-21T02:49:20.639999Z'}},\n",
       " 'MCO_SHA_2X': {'sources': ['SW_OPER_MCO_SHA_2X_19970101T000000_20200419T235959_0701'],\n",
       "  'expression': 'MCO_SHA_2X(max_degree=20,min_degree=1)',\n",
       "  'validity': {'start': '1997-02-07T05:31:12.000003Z',\n",
       "   'end': '2020-04-21T02:49:20.639999Z'}},\n",
       " 'IGRF': {'sources': ['SW_OPER_AUX_IGR_2__19000101T000000_20241231T235959_0103'],\n",
       "  'expression': 'IGRF(max_degree=13,min_degree=1)',\n",
       "  'validity': {'start': '1900-01-01T00:00:00Z',\n",
       "   'end': '2025-01-01T00:00:00Z'}},\n",
       " 'CHAOS-6-MMA-Primary': {'sources': ['SW_OPER_MMA_CHAOS__20120101T000000_20121231T233000_0608',\n",
       "   'SW_OPER_MMA_CHAOS__20130101T000000_20131231T233000_0608',\n",
       "   'SW_OPER_MMA_CHAOS__20140101T000000_20141231T233000_0608',\n",
       "   'SW_OPER_MMA_CHAOS__20150101T000000_20151231T233000_0608',\n",
       "   'SW_OPER_MMA_CHAOS__20160101T000000_20161231T233000_0608',\n",
       "   'SW_OPER_MMA_CHAOS__20170101T000000_20171231T233000_0608',\n",
       "   'SW_OPER_MMA_CHAOS__20180101T000000_20181231T233000_0701',\n",
       "   'SW_OPER_MMA_CHAOS__20190101T000000_20200125T233000_0701'],\n",
       "  'expression': \"'CHAOS-6-MMA-Primary'(max_degree=2,min_degree=1)\",\n",
       "  'validity': {'start': '2012-01-01T00:00:00Z',\n",
       "   'end': '2020-01-25T23:30:00Z'}},\n",
       " 'CHAOS-6-Static': {'sources': ['CHAOS-7_static.shc'],\n",
       "  'expression': \"'CHAOS-6-Static'(max_degree=185,min_degree=21)\",\n",
       "  'validity': {'start': '0001-01-01T00:00:00Z',\n",
       "   'end': '4000-01-01T00:00:00Z'}}}"
      ]
     },
     "execution_count": 22,
     "metadata": {},
     "output_type": "execute_result"
    }
   ],
   "source": [
    "request.get_model_info()"
   ]
  },
  {
   "cell_type": "markdown",
   "metadata": {},
   "source": [
    "Setting `original_response=True`, the result will be presented as a list of dictionaries:"
   ]
  },
  {
   "cell_type": "code",
   "execution_count": 23,
   "metadata": {},
   "outputs": [
    {
     "data": {
      "text/plain": [
       "[{'sources': ['SW_OPER_MCO_SHA_2X_19970101T000000_20200419T235959_0701'],\n",
       "  'expression': \"'CHAOS-Core'(max_degree=20,min_degree=1)\",\n",
       "  'name': 'CHAOS-Core',\n",
       "  'validity': {'start': '1997-02-07T05:31:12.000003Z',\n",
       "   'end': '2020-04-21T02:49:20.639999Z'}},\n",
       " {'sources': ['CHAOS-7_static.shc'],\n",
       "  'expression': \"'CHAOS-Static'(max_degree=185,min_degree=21)\",\n",
       "  'name': 'CHAOS-Static',\n",
       "  'validity': {'start': '0001-01-01T00:00:00Z',\n",
       "   'end': '4000-01-01T00:00:00Z'}}]"
      ]
     },
     "execution_count": 23,
     "metadata": {},
     "output_type": "execute_result"
    }
   ],
   "source": [
    "request.get_model_info(models=['CHAOS-Core', 'CHAOS-Static'], original_response=True)"
   ]
  },
  {
   "cell_type": "markdown",
   "metadata": {},
   "source": [
    "It is also possible to get info on a custom model by providing the name of the file containing its coefficients:"
   ]
  },
  {
   "cell_type": "code",
   "execution_count": null,
   "metadata": {},
   "outputs": [],
   "source": [
    "# Upload a .shc file and update the file name\n",
    "request.get_model_info(custom_model='filename.shc')"
   ]
  },
  {
   "cell_type": "markdown",
   "metadata": {},
   "source": [
    "[TOP](#top)\n",
    "\n",
    "<a id=\"SwarmRequest.get_orbit_number\"/>\n",
    "\n",
    "## `SwarmRequest.get_orbit_number()`\n",
    "\n",
    "Get the orbit number of a given spacecraft providing date and time."
   ]
  },
  {
   "cell_type": "code",
   "execution_count": 25,
   "metadata": {},
   "outputs": [
    {
     "data": {
      "text/plain": [
       "\u001b[0;31mSignature:\u001b[0m \u001b[0mSwarmRequest\u001b[0m\u001b[0;34m.\u001b[0m\u001b[0mget_orbit_number\u001b[0m\u001b[0;34m(\u001b[0m\u001b[0mself\u001b[0m\u001b[0;34m,\u001b[0m \u001b[0mspacecraft\u001b[0m\u001b[0;34m,\u001b[0m \u001b[0minput_time\u001b[0m\u001b[0;34m)\u001b[0m\u001b[0;34m\u001b[0m\u001b[0;34m\u001b[0m\u001b[0m\n",
       "\u001b[0;31mDocstring:\u001b[0m\n",
       "Translate a time to an orbit number.\n",
       "\n",
       "Args:\n",
       "    spacecraft (str): one of ('A','B','C') or\n",
       "                        (\"Alpha\", \"Bravo\", \"Charlie\")\n",
       "    input_time (datetime): a point in time\n",
       "\n",
       "Returns:\n",
       "    int: The current orbit number at the input_time\n",
       "\u001b[0;31mFile:\u001b[0m      /opt/conda/lib/python3.7/site-packages/viresclient/_client_swarm.py\n",
       "\u001b[0;31mType:\u001b[0m      function\n"
      ]
     },
     "metadata": {},
     "output_type": "display_data"
    }
   ],
   "source": [
    "SwarmRequest.get_orbit_number?"
   ]
  },
  {
   "cell_type": "markdown",
   "metadata": {},
   "source": [
    "Arguments are: `spacecraft` (i.e. `A`, `B`, `C`) and `input_time` as `datetime` object, thus we need to import the `datetime` class from the `datetime` module:"
   ]
  },
  {
   "cell_type": "code",
   "execution_count": 26,
   "metadata": {},
   "outputs": [],
   "source": [
    "from datetime import datetime"
   ]
  },
  {
   "cell_type": "markdown",
   "metadata": {},
   "source": [
    "E.g. Get orbit numbers corresponding to date 2020-01-01 00:00:00 for the three spacecrafts:"
   ]
  },
  {
   "cell_type": "code",
   "execution_count": 35,
   "metadata": {},
   "outputs": [
    {
     "name": "stdout",
     "output_type": "stream",
     "text": [
      "s/c A: 34324\n",
      "s/c B: 33892\n",
      "s/c C: 34320\n"
     ]
    }
   ],
   "source": [
    "dt = datetime(2020, 1, 1)\n",
    "\n",
    "for sc in ('A', 'B', 'C'):\n",
    "    orbit = request.get_orbit_number(sc, dt)\n",
    "    print(f's/c {sc}: {orbit}')"
   ]
  },
  {
   "cell_type": "markdown",
   "metadata": {},
   "source": [
    "[TOP](#top)\n",
    "\n",
    "<a id=\"SwarmRequest.get_times_for_orbits\"/>\n",
    "\n",
    "## `SwarmRequest.get_times_for_orbits()`\n",
    "\n",
    "Get the time interval corresponding to a pair of orbit numbers."
   ]
  },
  {
   "cell_type": "code",
   "execution_count": 31,
   "metadata": {},
   "outputs": [
    {
     "data": {
      "text/plain": [
       "\u001b[0;31mSignature:\u001b[0m \u001b[0mSwarmRequest\u001b[0m\u001b[0;34m.\u001b[0m\u001b[0mget_times_for_orbits\u001b[0m\u001b[0;34m(\u001b[0m\u001b[0mself\u001b[0m\u001b[0;34m,\u001b[0m \u001b[0mspacecraft\u001b[0m\u001b[0;34m,\u001b[0m \u001b[0mstart_orbit\u001b[0m\u001b[0;34m,\u001b[0m \u001b[0mend_orbit\u001b[0m\u001b[0;34m)\u001b[0m\u001b[0;34m\u001b[0m\u001b[0;34m\u001b[0m\u001b[0m\n",
       "\u001b[0;31mDocstring:\u001b[0m\n",
       "Translate a pair of orbit numbers to a time interval.\n",
       "\n",
       "Args:\n",
       "    spacecraft (str): one of ('A','B','C') or\n",
       "                        (\"Alpha\", \"Bravo\", \"Charlie\")\n",
       "    start_orbit (int): a starting orbit number\n",
       "    end_orbit (int): a later orbit number\n",
       "\n",
       "Returns:\n",
       "    tuple (datetime): (start_time, end_time) The start time of the\n",
       "    start_orbit and the ending time of the end_orbit.\n",
       "    (Based on ascending nodes of the orbits)\n",
       "\u001b[0;31mFile:\u001b[0m      /opt/conda/lib/python3.7/site-packages/viresclient/_client_swarm.py\n",
       "\u001b[0;31mType:\u001b[0m      function\n"
      ]
     },
     "metadata": {},
     "output_type": "display_data"
    }
   ],
   "source": [
    "SwarmRequest.get_times_for_orbits?"
   ]
  },
  {
   "cell_type": "markdown",
   "metadata": {},
   "source": [
    "Arguments are: `spacecraft` (i.e. `A`, `B`, `C`), `start_orbit` and `end_orbit`. "
   ]
  },
  {
   "cell_type": "code",
   "execution_count": 33,
   "metadata": {},
   "outputs": [
    {
     "name": "stdout",
     "output_type": "stream",
     "text": [
      "s/c A: 2014-01-27 04:05:04.228591 - 2014-04-02 13:51:01.876037\n",
      "s/c B: 2014-01-27 04:04:17.158156 - 2014-04-03 00:46:19.552254\n",
      "s/c C: 2014-01-27 04:08:31.126684 - 2014-04-02 19:45:08.511104\n"
     ]
    }
   ],
   "source": [
    "start_orbit = 1000\n",
    "end_orbit = 2000\n",
    "\n",
    "for sc in ('A', 'B', 'C'):\n",
    "    start_date, end_date = request.get_times_for_orbits(sc, start_orbit, end_orbit)\n",
    "    print(f's/c {sc}: {start_date} - {end_date}')"
   ]
  },
  {
   "cell_type": "markdown",
   "metadata": {},
   "source": [
    "[TOP](#top)\n",
    "\n",
    "<a id=\"SwarmRequest.set_collection\"/>\n",
    "\n",
    "## `SwarmRequest.set_collection()`\n",
    "\n",
    "Set the collection(s) to use."
   ]
  },
  {
   "cell_type": "code",
   "execution_count": 36,
   "metadata": {},
   "outputs": [
    {
     "data": {
      "text/plain": [
       "\u001b[0;31mSignature:\u001b[0m \u001b[0mSwarmRequest\u001b[0m\u001b[0;34m.\u001b[0m\u001b[0mset_collection\u001b[0m\u001b[0;34m(\u001b[0m\u001b[0mself\u001b[0m\u001b[0;34m,\u001b[0m \u001b[0;34m*\u001b[0m\u001b[0margs\u001b[0m\u001b[0;34m)\u001b[0m\u001b[0;34m\u001b[0m\u001b[0;34m\u001b[0m\u001b[0m\n",
       "\u001b[0;31mDocstring:\u001b[0m\n",
       "Set the collection(s) to use.\n",
       "\n",
       "Args:\n",
       "    (str): one or several from .available_collections()\n",
       "\u001b[0;31mFile:\u001b[0m      /opt/conda/lib/python3.7/site-packages/viresclient/_client_swarm.py\n",
       "\u001b[0;31mType:\u001b[0m      function\n"
      ]
     },
     "metadata": {},
     "output_type": "display_data"
    }
   ],
   "source": [
    "SwarmRequest.set_collection?"
   ]
  },
  {
   "cell_type": "markdown",
   "metadata": {},
   "source": [
    "The method accepts one or more collections (i.e. Swarm file types). E.g.:"
   ]
  },
  {
   "cell_type": "code",
   "execution_count": 42,
   "metadata": {},
   "outputs": [
    {
     "data": {
      "text/plain": [
       "<viresclient._client_swarm.SwarmRequest at 0x7f7f3064def0>"
      ]
     },
     "execution_count": 42,
     "metadata": {},
     "output_type": "execute_result"
    }
   ],
   "source": [
    "request.set_collection('SW_OPER_MAGA_LR_1B', 'SW_OPER_EFIA_LP_1B')"
   ]
  },
  {
   "cell_type": "markdown",
   "metadata": {},
   "source": [
    "[TOP](#top)\n",
    "\n",
    "<a id=\"SwarmRequest.set_products\"/>\n",
    "\n",
    "## `SwarmRequest.set_products()`\n",
    "\n",
    "Set the combination of measurements and/or auxiliaries and/or magnetic model(s) data to retrieve."
   ]
  },
  {
   "cell_type": "code",
   "execution_count": 43,
   "metadata": {},
   "outputs": [
    {
     "data": {
      "text/plain": [
       "\u001b[0;31mSignature:\u001b[0m\n",
       "\u001b[0mSwarmRequest\u001b[0m\u001b[0;34m.\u001b[0m\u001b[0mset_products\u001b[0m\u001b[0;34m(\u001b[0m\u001b[0;34m\u001b[0m\n",
       "\u001b[0;34m\u001b[0m    \u001b[0mself\u001b[0m\u001b[0;34m,\u001b[0m\u001b[0;34m\u001b[0m\n",
       "\u001b[0;34m\u001b[0m    \u001b[0mmeasurements\u001b[0m\u001b[0;34m=\u001b[0m\u001b[0;32mNone\u001b[0m\u001b[0;34m,\u001b[0m\u001b[0;34m\u001b[0m\n",
       "\u001b[0;34m\u001b[0m    \u001b[0mmodels\u001b[0m\u001b[0;34m=\u001b[0m\u001b[0;32mNone\u001b[0m\u001b[0;34m,\u001b[0m\u001b[0;34m\u001b[0m\n",
       "\u001b[0;34m\u001b[0m    \u001b[0mcustom_model\u001b[0m\u001b[0;34m=\u001b[0m\u001b[0;32mNone\u001b[0m\u001b[0;34m,\u001b[0m\u001b[0;34m\u001b[0m\n",
       "\u001b[0;34m\u001b[0m    \u001b[0mauxiliaries\u001b[0m\u001b[0;34m=\u001b[0m\u001b[0;32mNone\u001b[0m\u001b[0;34m,\u001b[0m\u001b[0;34m\u001b[0m\n",
       "\u001b[0;34m\u001b[0m    \u001b[0mresiduals\u001b[0m\u001b[0;34m=\u001b[0m\u001b[0;32mFalse\u001b[0m\u001b[0;34m,\u001b[0m\u001b[0;34m\u001b[0m\n",
       "\u001b[0;34m\u001b[0m    \u001b[0msampling_step\u001b[0m\u001b[0;34m=\u001b[0m\u001b[0;32mNone\u001b[0m\u001b[0;34m,\u001b[0m\u001b[0;34m\u001b[0m\n",
       "\u001b[0;34m\u001b[0m\u001b[0;34m)\u001b[0m\u001b[0;34m\u001b[0m\u001b[0;34m\u001b[0m\u001b[0m\n",
       "\u001b[0;31mDocstring:\u001b[0m\n",
       "Set the combination of products to retrieve.\n",
       "\n",
       "If residuals=True then just get the measurement-model residuals,\n",
       "otherwise get both measurement and model values.\n",
       "\n",
       "Args:\n",
       "    measurements (list(str)): from .available_measurements(collection_key)\n",
       "    models (list(str)/dict): from .available_models() or defineable with custom expressions\n",
       "    custom_model (str): path to a custom model in .shc format\n",
       "    auxiliaries (list(str)): from .available_auxiliaries()\n",
       "    residuals (bool): True if only returning measurement-model residual\n",
       "    sampling_step (str): ISO_8601 duration, e.g. 10 seconds: PT10S, 1 minute: PT1M\n",
       "\u001b[0;31mFile:\u001b[0m      /opt/conda/lib/python3.7/site-packages/viresclient/_client_swarm.py\n",
       "\u001b[0;31mType:\u001b[0m      function\n"
      ]
     },
     "metadata": {},
     "output_type": "display_data"
    }
   ],
   "source": [
    "SwarmRequest.set_products?"
   ]
  },
  {
   "cell_type": "markdown",
   "metadata": {},
   "source": [
    "The desired measurements can be indicated as a `list` using the (optional) `measurement` parameter, e.g.: `['F', 'B_NEC', 'Ne']`.\n",
    "\n",
    "The desired models can be indicated as a `list` using the (optional) `models` parameter. It is possible to indicate one or more models or a custom model expression,e.g.:\n",
    "`'CHAOS = \"CHAOS-Core\" + \"CHAOS-Static\"'`.\n",
    "\n",
    "The desired auxiliaries can be indicated as a `list` using the (optional) `auxiliaries` parameter. Please note that the following parameters are always retrieved (i.e. they don't need to be specified): `Timestamp`, `Latitude`, `Longitude`, `Radius`.\n",
    "\n",
    "The `residuals` (optional) parameter can be set to:\n",
    "- `True`: the server returns only the residuals between measurements (specified with `measurements`) and models (specified with `models`)\n",
    "- `False` (default): measurements and models (i.e. residuals are not retrieved).\n",
    "\n",
    "The `sampling_step` (optional) parameter can be used to set data sempling step as an [ISO 8601 time interval](https://en.wikipedia.org/wiki/ISO_8601#Time_intervals). E.g. for a 1 second sampling step (default) we can use the `PT1S` string:"
   ]
  },
  {
   "cell_type": "code",
   "execution_count": 44,
   "metadata": {},
   "outputs": [
    {
     "data": {
      "text/plain": [
       "<viresclient._client_swarm.SwarmRequest at 0x7f7f3064def0>"
      ]
     },
     "execution_count": 44,
     "metadata": {},
     "output_type": "execute_result"
    }
   ],
   "source": [
    "request.set_products(\n",
    "    measurements=['F', 'B_NEC', 'Ne'],\n",
    "    models=['CHAOS = \"CHAOS-Core\" + \"CHAOS-Static\"'],\n",
    "    auxiliaries=['OrbitNumber'],\n",
    "    residuals=False,\n",
    "    sampling_step='PT1S'\n",
    ")"
   ]
  },
  {
   "cell_type": "markdown",
   "metadata": {},
   "source": [
    "[TOP](#top)\n",
    "\n",
    "<a id=\"SwarmRequest.set_range_filter\"/>\n",
    "\n",
    "## `SwarmRequest.set_range_filter()`\n",
    "\n",
    "Set filter to apply to the given parameter."
   ]
  },
  {
   "cell_type": "code",
   "execution_count": 45,
   "metadata": {},
   "outputs": [
    {
     "data": {
      "text/plain": [
       "\u001b[0;31mSignature:\u001b[0m\n",
       "\u001b[0mSwarmRequest\u001b[0m\u001b[0;34m.\u001b[0m\u001b[0mset_range_filter\u001b[0m\u001b[0;34m(\u001b[0m\u001b[0;34m\u001b[0m\n",
       "\u001b[0;34m\u001b[0m    \u001b[0mself\u001b[0m\u001b[0;34m,\u001b[0m\u001b[0;34m\u001b[0m\n",
       "\u001b[0;34m\u001b[0m    \u001b[0mparameter\u001b[0m\u001b[0;34m=\u001b[0m\u001b[0;32mNone\u001b[0m\u001b[0;34m,\u001b[0m\u001b[0;34m\u001b[0m\n",
       "\u001b[0;34m\u001b[0m    \u001b[0mminimum\u001b[0m\u001b[0;34m=\u001b[0m\u001b[0;32mNone\u001b[0m\u001b[0;34m,\u001b[0m\u001b[0;34m\u001b[0m\n",
       "\u001b[0;34m\u001b[0m    \u001b[0mmaximum\u001b[0m\u001b[0;34m=\u001b[0m\u001b[0;32mNone\u001b[0m\u001b[0;34m,\u001b[0m\u001b[0;34m\u001b[0m\n",
       "\u001b[0;34m\u001b[0m\u001b[0;34m)\u001b[0m\u001b[0;34m\u001b[0m\u001b[0;34m\u001b[0m\u001b[0m\n",
       "\u001b[0;31mDocstring:\u001b[0m\n",
       "Set a filter to apply.\n",
       "\n",
       "Filters data for minimum ≤ parameter ≤ maximum\n",
       "\n",
       "Note:\n",
       "    Apply multiple filters with successive calls to set_range_filter()\n",
       "\n",
       "Args:\n",
       "    parameter (str)\n",
       "    minimum (float)\n",
       "    maximum (float)\n",
       "\u001b[0;31mFile:\u001b[0m      /opt/conda/lib/python3.7/site-packages/viresclient/_client_swarm.py\n",
       "\u001b[0;31mType:\u001b[0m      function\n"
      ]
     },
     "metadata": {},
     "output_type": "display_data"
    }
   ],
   "source": [
    "SwarmRequest.set_range_filter?"
   ]
  },
  {
   "cell_type": "markdown",
   "metadata": {},
   "source": [
    "E.g. to set filter: -20 <= `Longitude` <= 50 and 30 <= `Latitude` <= 70:"
   ]
  },
  {
   "cell_type": "code",
   "execution_count": 65,
   "metadata": {},
   "outputs": [
    {
     "data": {
      "text/plain": [
       "<viresclient._client_swarm.SwarmRequest at 0x7f7f3064def0>"
      ]
     },
     "execution_count": 65,
     "metadata": {},
     "output_type": "execute_result"
    }
   ],
   "source": [
    "request.set_range_filter('Longitude', -20.0, 50.0)\n",
    "request.set_range_filter('Latitude', 30.0, 70.0)"
   ]
  },
  {
   "cell_type": "markdown",
   "metadata": {},
   "source": [
    "[TOP](#top)\n",
    "\n",
    "<a id=\"SwarmRequest.clear_range_filter\"/>\n",
    "\n",
    "## `SwarmRequest.clear_range_filter()`\n",
    "\n",
    "Remove the applied filters."
   ]
  },
  {
   "cell_type": "code",
   "execution_count": 70,
   "metadata": {},
   "outputs": [
    {
     "data": {
      "text/plain": [
       "\u001b[0;31mSignature:\u001b[0m \u001b[0mSwarmRequest\u001b[0m\u001b[0;34m.\u001b[0m\u001b[0mclear_range_filter\u001b[0m\u001b[0;34m(\u001b[0m\u001b[0mself\u001b[0m\u001b[0;34m)\u001b[0m\u001b[0;34m\u001b[0m\u001b[0;34m\u001b[0m\u001b[0m\n",
       "\u001b[0;31mDocstring:\u001b[0m Remove all applied filters.\n",
       "\u001b[0;31mFile:\u001b[0m      /opt/conda/lib/python3.7/site-packages/viresclient/_client_swarm.py\n",
       "\u001b[0;31mType:\u001b[0m      function\n"
      ]
     },
     "metadata": {},
     "output_type": "display_data"
    }
   ],
   "source": [
    "SwarmRequest.clear_range_filter?"
   ]
  },
  {
   "cell_type": "code",
   "execution_count": 71,
   "metadata": {},
   "outputs": [
    {
     "data": {
      "text/plain": [
       "<viresclient._client_swarm.SwarmRequest at 0x7f7f3064def0>"
      ]
     },
     "execution_count": 71,
     "metadata": {},
     "output_type": "execute_result"
    }
   ],
   "source": [
    "request.clear_range_filter()"
   ]
  },
  {
   "cell_type": "markdown",
   "metadata": {},
   "source": [
    "[TOP](#top)\n",
    "\n",
    "<a id=\"SwarmRequest.get_between\"/>\n",
    "\n",
    "## `SwarmRequest.get_between()`\n",
    "\n",
    "Send request to the server and download data."
   ]
  },
  {
   "cell_type": "code",
   "execution_count": 72,
   "metadata": {},
   "outputs": [
    {
     "data": {
      "text/plain": [
       "\u001b[0;31mSignature:\u001b[0m\n",
       "\u001b[0mSwarmRequest\u001b[0m\u001b[0;34m.\u001b[0m\u001b[0mget_between\u001b[0m\u001b[0;34m(\u001b[0m\u001b[0;34m\u001b[0m\n",
       "\u001b[0;34m\u001b[0m    \u001b[0mself\u001b[0m\u001b[0;34m,\u001b[0m\u001b[0;34m\u001b[0m\n",
       "\u001b[0;34m\u001b[0m    \u001b[0mstart_time\u001b[0m\u001b[0;34m=\u001b[0m\u001b[0;32mNone\u001b[0m\u001b[0;34m,\u001b[0m\u001b[0;34m\u001b[0m\n",
       "\u001b[0;34m\u001b[0m    \u001b[0mend_time\u001b[0m\u001b[0;34m=\u001b[0m\u001b[0;32mNone\u001b[0m\u001b[0;34m,\u001b[0m\u001b[0;34m\u001b[0m\n",
       "\u001b[0;34m\u001b[0m    \u001b[0mfiletype\u001b[0m\u001b[0;34m=\u001b[0m\u001b[0;34m'cdf'\u001b[0m\u001b[0;34m,\u001b[0m\u001b[0;34m\u001b[0m\n",
       "\u001b[0;34m\u001b[0m    \u001b[0masynchronous\u001b[0m\u001b[0;34m=\u001b[0m\u001b[0;32mTrue\u001b[0m\u001b[0;34m,\u001b[0m\u001b[0;34m\u001b[0m\n",
       "\u001b[0;34m\u001b[0m    \u001b[0mshow_progress\u001b[0m\u001b[0;34m=\u001b[0m\u001b[0;32mTrue\u001b[0m\u001b[0;34m,\u001b[0m\u001b[0;34m\u001b[0m\n",
       "\u001b[0;34m\u001b[0m    \u001b[0mnrecords_limit\u001b[0m\u001b[0;34m=\u001b[0m\u001b[0;32mNone\u001b[0m\u001b[0;34m,\u001b[0m\u001b[0;34m\u001b[0m\n",
       "\u001b[0;34m\u001b[0m    \u001b[0mtmpdir\u001b[0m\u001b[0;34m=\u001b[0m\u001b[0;32mNone\u001b[0m\u001b[0;34m,\u001b[0m\u001b[0;34m\u001b[0m\n",
       "\u001b[0;34m\u001b[0m\u001b[0;34m)\u001b[0m\u001b[0;34m\u001b[0m\u001b[0;34m\u001b[0m\u001b[0m\n",
       "\u001b[0;31mDocstring:\u001b[0m\n",
       "Make the server request and download the data.\n",
       "\n",
       "Args:\n",
       "    start_time (datetime / ISO_8601 string)\n",
       "    end_time (datetime / ISO_8601 string)\n",
       "    filetype (str): one of ('csv', 'cdf')\n",
       "    asynchronous (bool): True for asynchronous processing,\n",
       "        False for synchronous\n",
       "    show_progress (bool): Set to False to remove progress bars\n",
       "    nrecords_limit (int): Override the default limit per request\n",
       "        (e.g. nrecords_limit=3456000)\n",
       "    tmpdir (str): Override the default temporary file directory\n",
       "\n",
       "Returns:\n",
       "    ReturnedData:\n",
       "\u001b[0;31mFile:\u001b[0m      /opt/conda/lib/python3.7/site-packages/viresclient/_client.py\n",
       "\u001b[0;31mType:\u001b[0m      function\n"
      ]
     },
     "metadata": {},
     "output_type": "display_data"
    }
   ],
   "source": [
    "SwarmRequest.get_between?"
   ]
  },
  {
   "cell_type": "markdown",
   "metadata": {},
   "source": [
    "`start_time` and `end_time` are ISO-8601 strings or `datetime` objects. They specify the temporal interval of data.\n",
    "\n",
    "`filetype` is set, by default to `cdf` but can be set also to `csv`.\n",
    "\n",
    "`show_progress` (default: `True`) enable the progress bar while processing and downloading data.\n",
    "\n",
    "`nrecords_limit` can be used to override the limit of 3456000 records.\n",
    "\n",
    "E.g. to get data between 2019-10-01T00:00:00 and 2019-10-01T01:00:00:"
   ]
  },
  {
   "cell_type": "code",
   "execution_count": 83,
   "metadata": {},
   "outputs": [
    {
     "name": "stderr",
     "output_type": "stream",
     "text": [
      "[1/1] Processing:  100%|██████████|  [ Elapsed: 00:02, Remaining: 00:00 ]\n",
      "      Downloading: 100%|██████████|  [ Elapsed: 00:00, Remaining: 00:00 ] (0.404MB)\n"
     ]
    }
   ],
   "source": [
    "data = request.get_between('2019-10-01T00:00:00', '2019-10-01T01:00:00')"
   ]
  },
  {
   "cell_type": "markdown",
   "metadata": {},
   "source": [
    "Data is returned as `ReturnedData` object:"
   ]
  },
  {
   "cell_type": "code",
   "execution_count": 84,
   "metadata": {},
   "outputs": [
    {
     "data": {
      "text/plain": [
       "viresclient._data_handling.ReturnedData"
      ]
     },
     "execution_count": 84,
     "metadata": {},
     "output_type": "execute_result"
    }
   ],
   "source": [
    "type(data)"
   ]
  }
 ],
 "metadata": {
  "kernelspec": {
   "display_name": "Python 3",
   "language": "python",
   "name": "python3"
  },
  "language_info": {
   "codemirror_mode": {
    "name": "ipython",
    "version": 3
   },
   "file_extension": ".py",
   "mimetype": "text/x-python",
   "name": "python",
   "nbconvert_exporter": "python",
   "pygments_lexer": "ipython3",
   "version": "3.7.3"
  }
 },
 "nbformat": 4,
 "nbformat_minor": 4
}
