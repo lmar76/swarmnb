{
 "cells": [
  {
   "cell_type": "markdown",
   "metadata": {},
   "source": [
    "# VirES Python Client API\n",
    "\n",
    "<a id=\"top\"/>\n",
    "\n",
    "## Contents\n",
    "- [Access token configuration](#access_token_configuration)\n",
    "- [Send requests to the server](#SwarmRequest)\n",
    "    - [Get the available collections](#SwarmRequest.available_collections)\n",
    "    - [Get the available measurements](#SwarmRequest.available_measurements)\n",
    "    - [Get the available auxiliaries](#SwarmRequest.available_auxiliaries)\n",
    "    - [Get the available magnetic models](#SwarmRequest.available_models)\n",
    "    - [Get information about one or mode models](#SwarmRequest.get_model_info)\n",
    "    - [Get the orbit number](#SwarmRequest.get_orbit_number)\n",
    "    - [Get times for orbits](#SwarmRequest.get_times_for_orbits)\n",
    "    - [Set collections](#SwarmRequest.set_collection)\n",
    "    - [Set products](#SwarmRequest.set_products)\n",
    "    - [Set/clear filters](#SwarmRequest.set_range_filter)\n",
    "    - [Send request to the server](#SwarmRequest.get_between)\n",
    "- [`ReturnedData`](#ReturnedData)\n",
    "    - [`ReturnedData.sources`](#ReturnedData.sources)\n",
    "    - [`ReturnedData.contents`](#ReturnedData.contents)\n",
    "    - [`ReturnedData.filetype`](#ReturnedData.filetype)\n",
    "    - [`ReturnedData.magnetic_models`](#ReturnedData.magnetic_models)\n",
    "    - [`ReturnedData.range_filters`](#ReturnedData.range_filters)\n",
    "    - [`ReturnedData.as_dataframe()`](#ReturnedData.as_dataframe)\n",
    "    - [`ReturnedData.as_xarray()`](#ReturnedData.as_xarray)\n",
    "    - [`ReturnedData.to_file()`](#ReturnedData.to_file)\n",
    "    - [`ReturnedData.to_files()`](#ReturnedData.to_files)\n",
    "- [`ReturnedDataFile`](#ReturnedDataFile)\n",
    "    - [`ReturnedDataFile._file`](#ReturnedDataFile._file)\n",
    "    - [`ReturnedDataFile.filetype`](#ReturnedDataFile.filetype)\n",
    "    - [`ReturnedDataFile.as_dataframe()`](#ReturnedDataFile.as_dataframe)\n",
    "    - [`ReturnedDataFile.as_xarray()`](#ReturnedDataFile.as_xarray)\n",
    "    - [`ReturnedDataFile.to_file()`](#ReturnedDataFile.to_file)\n",
    "- [`ClientConfig`](#ClientConfig)\n",
    "    - [`ClientConfig.path`](#ClientConfig.path)\n",
    "    - [`ClientConfig.default_url`](#ClientConfig.default_url)\n",
    "    - [`ClientConfig.set_site_config()`](#ClientConfig.set_site_config)\n",
    "    - [`ClientConfig.get_site_config()`](#ClientConfig.get_site_config)\n",
    "    - [`ClientConfig.save()`](#ClientConfig.save)\n",
    "- [`DataUpload`](#DataUpload)\n",
    "    - [`DataUpload.post()`](#DataUpload.post)\n",
    "    - [`DataUpload.ids`](#DataUpload.ids)\n",
    "    - [`DataUpload.get()`](#DataUpload.get)\n",
    "    - [`DataUpload.set_constant_parameters()`](#DataUpload.set_constant_parameters)\n",
    "    - [`DataUpload.get_constant_parameters()`](#DataUpload.get_constant_parameters)\n",
    "    - [`DataUpload.delete()`](#DataUpload.delete)\n",
    "    - [`DataUpload.clear()`](#DataUpload.clear)"
   ]
  },
  {
   "cell_type": "markdown",
   "metadata": {},
   "source": [
    "[TOP](#top)\n",
    "\n",
    "<a id=\"access_token_configuration\"/>\n",
    "\n",
    "## Access token configuration\n",
    "\n",
    "Before using the client, it is necessary to set the access token. This can be done using the *set_token* function. First, the function must be imported from the *viresclient* package:"
   ]
  },
  {
   "cell_type": "code",
   "execution_count": null,
   "metadata": {},
   "outputs": [],
   "source": [
    "from viresclient import set_token"
   ]
  },
  {
   "cell_type": "markdown",
   "metadata": {},
   "source": [
    "Let's use `?` to get help on the function: "
   ]
  },
  {
   "cell_type": "code",
   "execution_count": 1,
   "metadata": {},
   "outputs": [
    {
     "name": "stdout",
     "output_type": "stream",
     "text": [
      "Object `set_token` not found.\n"
     ]
    }
   ],
   "source": [
    "set_token?"
   ]
  },
  {
   "cell_type": "markdown",
   "metadata": {},
   "source": [
    "The function has the following arguments:\n",
    "- **url** (*str*, optional): server URL (default value: `https://vires.services/ows`).\n",
    "- **token** (*str*, optional): token string obtained from the VirES access token management page (https://vires.services/accounts/tokens/). If this parameter is not set, the user is prompted to enter its value interactively.\n",
    "- **set_default** (*bool*, optional): if `True`, server identified by *url* is configured as default server (default `False`)."
   ]
  },
  {
   "cell_type": "markdown",
   "metadata": {},
   "source": [
    "Since the *url* parameter is by default set to the correct value we don't need to specify it. We can avoid also to specify the *token* parameter because this value will be asked interactively. Moreover, setting `set_default=True` we can configure this URL as default in the configuration file and avoid to specify it while sending requests to the server."
   ]
  },
  {
   "cell_type": "code",
   "execution_count": null,
   "metadata": {},
   "outputs": [
    {
     "name": "stdout",
     "output_type": "stream",
     "text": [
      "Setting access token for https://vires.services/ows ...\n",
      "Generate a token at https://vires.services/accounts/tokens/\n"
     ]
    }
   ],
   "source": [
    "set_token(set_default=True)"
   ]
  },
  {
   "cell_type": "markdown",
   "metadata": {},
   "source": [
    "[TOP](#top)\n",
    "\n",
    "<a id=\"SwarmRequest\"/>\n",
    "\n",
    "## Send requests to the server\n",
    "\n",
    "Requests are handled via the *SwarmRequest* object. This allows to create a request and to download data according to the input parameters. Before using it, it must be imported from the *viresclient* package."
   ]
  },
  {
   "cell_type": "code",
   "execution_count": 16,
   "metadata": {},
   "outputs": [],
   "source": [
    "from viresclient import SwarmRequest"
   ]
  },
  {
   "cell_type": "markdown",
   "metadata": {},
   "source": [
    "Let's use `?` to get help on the object: "
   ]
  },
  {
   "cell_type": "code",
   "execution_count": 2,
   "metadata": {},
   "outputs": [
    {
     "data": {
      "text/plain": [
       "\u001b[0;31mInit signature:\u001b[0m\n",
       "\u001b[0mSwarmRequest\u001b[0m\u001b[0;34m(\u001b[0m\u001b[0;34m\u001b[0m\n",
       "\u001b[0;34m\u001b[0m    \u001b[0murl\u001b[0m\u001b[0;34m=\u001b[0m\u001b[0;32mNone\u001b[0m\u001b[0;34m,\u001b[0m\u001b[0;34m\u001b[0m\n",
       "\u001b[0;34m\u001b[0m    \u001b[0musername\u001b[0m\u001b[0;34m=\u001b[0m\u001b[0;32mNone\u001b[0m\u001b[0;34m,\u001b[0m\u001b[0;34m\u001b[0m\n",
       "\u001b[0;34m\u001b[0m    \u001b[0mpassword\u001b[0m\u001b[0;34m=\u001b[0m\u001b[0;32mNone\u001b[0m\u001b[0;34m,\u001b[0m\u001b[0;34m\u001b[0m\n",
       "\u001b[0;34m\u001b[0m    \u001b[0mtoken\u001b[0m\u001b[0;34m=\u001b[0m\u001b[0;32mNone\u001b[0m\u001b[0;34m,\u001b[0m\u001b[0;34m\u001b[0m\n",
       "\u001b[0;34m\u001b[0m    \u001b[0mconfig\u001b[0m\u001b[0;34m=\u001b[0m\u001b[0;32mNone\u001b[0m\u001b[0;34m,\u001b[0m\u001b[0;34m\u001b[0m\n",
       "\u001b[0;34m\u001b[0m    \u001b[0mlogging_level\u001b[0m\u001b[0;34m=\u001b[0m\u001b[0;34m'NO_LOGGING'\u001b[0m\u001b[0;34m,\u001b[0m\u001b[0;34m\u001b[0m\n",
       "\u001b[0;34m\u001b[0m\u001b[0;34m)\u001b[0m\u001b[0;34m\u001b[0m\u001b[0;34m\u001b[0m\u001b[0m\n",
       "\u001b[0;31mDocstring:\u001b[0m     \n",
       "Handles the requests to and downloads from the server.\n",
       "\n",
       "Example usage::\n",
       "\n",
       "    from viresclient import SwarmRequest\n",
       "    # Set up connection with server\n",
       "    request = SwarmRequest()\n",
       "    # Set collection to use\n",
       "    request.set_collection(\"SW_OPER_MAGA_LR_1B\")\n",
       "    # Set mix of products to fetch:\n",
       "    #  measurements (variables from the given collection)\n",
       "    #  models (magnetic model predictions at spacecraft sampling points)\n",
       "    #  auxiliaries (variables available with any collection)\n",
       "    request.set_products(\n",
       "        measurements=[\"F\", \"B_NEC\"],\n",
       "        models=[\"CHAOS-Core\"],\n",
       "        auxiliaries=[\"QDLat\", \"QDLon\"],\n",
       "        sampling_step=\"PT10S\"\n",
       "    )\n",
       "    # Fetch data from a given time interval\n",
       "    data = request.get_between(\n",
       "        start_time=\"2014-01-01T00:00\",\n",
       "        end_time=\"2014-01-01T01:00\"\n",
       "    )\n",
       "    # Load the data as an xarray.Dataset\n",
       "    ds = data.as_xarray()\n",
       "\n",
       "Check what data are available with::\n",
       "\n",
       "    request.available_collections(details=False)\n",
       "    request.available_measurements(\"MAG\")\n",
       "    request.available_auxiliaries()\n",
       "    request.available_models(details=False)\n",
       "\n",
       "Args:\n",
       "    url (str):\n",
       "    username (str):\n",
       "    password (str):\n",
       "    token (str):\n",
       "    config (str or ClientConfig):\n",
       "    logging_level (str):\n",
       "\u001b[0;31mFile:\u001b[0m           /opt/conda/lib/python3.7/site-packages/viresclient/_client_swarm.py\n",
       "\u001b[0;31mType:\u001b[0m           type\n",
       "\u001b[0;31mSubclasses:\u001b[0m     \n"
      ]
     },
     "metadata": {},
     "output_type": "display_data"
    }
   ],
   "source": [
    "SwarmRequest?"
   ]
  },
  {
   "cell_type": "markdown",
   "metadata": {},
   "source": [
    "*SwarmRequest* object has the following arguments:\n",
    "\n",
    "- **url** (*str*, optional): if not provided, the request will be sent to the default URL set in the `~/.viresclient.ini` configuration file.\n",
    "- **username** (*str*, optional): username. The usage of username and password is deprecated and will be removed in future releases.\n",
    "- **password** (*str*, optional): password. The usage of username and password is deprecated and will be removed in future releases.\n",
    "- **token** (*str*, optional): token string obtained from the VirES access token management page (https://vires.services/accounts/tokens/). If this parameter is not specified and it is not set in the configuration file, the user is prompted to enter its value interactively.\n",
    "- **config** (*str* or *ClientConfig*, optional): viresclient configuration. By default, it is read from `~/.viresclient.ini`.\n",
    "- **logging_level** (*str*, optional): set the logging level. Allowed values are: `DEBUG`, `INFO`, `WARNING`, `ERROR`, `NO_LOGGING` (default)."
   ]
  },
  {
   "cell_type": "markdown",
   "metadata": {},
   "source": [
    "After configuring the access token using *set_token* function (see [Access token configuration](#access_token_configuration)) , the *SwarmRequest* object can be instantiated as follows:"
   ]
  },
  {
   "cell_type": "code",
   "execution_count": 7,
   "metadata": {},
   "outputs": [],
   "source": [
    "request = SwarmRequest()"
   ]
  },
  {
   "cell_type": "markdown",
   "metadata": {},
   "source": [
    "The software automatically retrieves the access token for the `https://vires.services/ows` default URL configured in the `~/.viresclient.ini` file:\n",
    "\n",
    "```ini\n",
    "[https://vires.services/ows]\n",
    "token = <token>\n",
    "\n",
    "[default]\n",
    "url = https://vires.services/ows\n",
    "```"
   ]
  },
  {
   "cell_type": "markdown",
   "metadata": {},
   "source": [
    "[TOP](#top)\n",
    "\n",
    "<a id=\"SwarmRequest.available_collections\"/>\n",
    "\n",
    "### Get the available collections\n",
    "\n",
    "Swarm data are organized in *collections*. Each collection is related to a Swarm file type (e.g. collection *SW_OPER_MAGA_LR_1B* is related to file type *MAGA_LR_1B*). The list of the available collections are provided invoking the *available_collections* method."
   ]
  },
  {
   "cell_type": "code",
   "execution_count": 25,
   "metadata": {},
   "outputs": [
    {
     "data": {
      "text/plain": [
       "\u001b[0;31mSignature:\u001b[0m \u001b[0mSwarmRequest\u001b[0m\u001b[0;34m.\u001b[0m\u001b[0mavailable_collections\u001b[0m\u001b[0;34m(\u001b[0m\u001b[0mself\u001b[0m\u001b[0;34m,\u001b[0m \u001b[0mdetails\u001b[0m\u001b[0;34m=\u001b[0m\u001b[0;32mTrue\u001b[0m\u001b[0;34m)\u001b[0m\u001b[0;34m\u001b[0m\u001b[0;34m\u001b[0m\u001b[0m\n",
       "\u001b[0;31mDocstring:\u001b[0m\n",
       "Show details of available collections.\n",
       "\n",
       "Args:\n",
       "    details (bool): If True then print a nice output.\n",
       "        If False then return a list of available collections.\n",
       "\u001b[0;31mFile:\u001b[0m      /opt/conda/lib/python3.7/site-packages/viresclient/_client_swarm.py\n",
       "\u001b[0;31mType:\u001b[0m      function\n"
      ]
     },
     "metadata": {},
     "output_type": "display_data"
    }
   ],
   "source": [
    "# Import SwarmClient if not already done\n",
    "from viresclient import SwarmRequest\n",
    "\n",
    "# Get info on SwarmRequest.available_collections\n",
    "SwarmRequest.available_collections?"
   ]
  },
  {
   "cell_type": "markdown",
   "metadata": {},
   "source": [
    "Arguments:\n",
    "\n",
    "- **details** (*bool*, optional): if `True` (default), the method prints the list of all the available collections and the related details. If `False`, it returns the available collections as a *list*.\n",
    "\n",
    "E.g. print the list of the available collections with the details:"
   ]
  },
  {
   "cell_type": "code",
   "execution_count": 19,
   "metadata": {},
   "outputs": [
    {
     "name": "stdout",
     "output_type": "stream",
     "text": [
      "General References:\n",
      " Swarm Data Handbook, https://earth.esa.int/web/guest/missions/esa-eo-missions/swarm/data-handbook \n",
      " The Swarm Satellite Constellation Application and Research Facility (SCARF) and Swarm data products, https://doi.org/10.5047/eps.2013.07.001 \n",
      " Swarm Science Data Processing and Products (2013), https://link.springer.com/journal/40623/65/11/page/1 \n",
      " Special issue “Swarm science results after 2 years in space (2016), https://www.springeropen.com/collections/swsr \n",
      " Earth's Magnetic Field: Understanding Geomagnetic Sources from the Earth's Interior and its Environment (2017), https://link.springer.com/journal/11214/206/1/page/1 \n",
      "\n",
      "MAG\n",
      "   SW_OPER_MAGA_LR_1B\n",
      "   SW_OPER_MAGB_LR_1B\n",
      "   SW_OPER_MAGC_LR_1B\n",
      " https://earth.esa.int/web/guest/missions/esa-eo-missions/swarm/data-handbook/level-1b-product-definitions#MAGX_LR_1B_Product \n",
      "\n",
      "EFI\n",
      "   SW_OPER_EFIA_LP_1B\n",
      "   SW_OPER_EFIB_LP_1B\n",
      "   SW_OPER_EFIC_LP_1B\n",
      " https://earth.esa.int/web/guest/missions/esa-eo-missions/swarm/data-handbook/level-1b-product-definitions#EFIX_LP_1B_Product \n",
      "\n",
      "IBI\n",
      "   SW_OPER_IBIATMS_2F\n",
      "   SW_OPER_IBIBTMS_2F\n",
      "   SW_OPER_IBICTMS_2F\n",
      " https://earth.esa.int/web/guest/missions/esa-eo-missions/swarm/data-handbook/level-2-product-definitions#IBIxTMS_2F \n",
      " https://earth.esa.int/documents/10174/1514862/Swarm_L2_IBI_product_description \n",
      "\n",
      "TEC\n",
      "   SW_OPER_TECATMS_2F\n",
      "   SW_OPER_TECBTMS_2F\n",
      "   SW_OPER_TECCTMS_2F\n",
      " https://earth.esa.int/web/guest/missions/esa-eo-missions/swarm/data-handbook/level-2-product-definitions#TECxTMS_2F \n",
      " https://earth.esa.int/documents/10174/1514862/Swarm_Level-2_TEC_Product_Description \n",
      "\n",
      "FAC\n",
      "   SW_OPER_FACATMS_2F\n",
      "   SW_OPER_FACBTMS_2F\n",
      "   SW_OPER_FACCTMS_2F\n",
      "   SW_OPER_FAC_TMS_2F\n",
      " https://earth.esa.int/web/guest/missions/esa-eo-missions/swarm/data-handbook/level-2-product-definitions#FAC_TMS_2F \n",
      " https://earth.esa.int/web/guest/missions/esa-eo-missions/swarm/data-handbook/level-2-product-definitions#FACxTMS_2F \n",
      " https://earth.esa.int/documents/10174/1514862/Swarm_L2_FAC_single_product_description \n",
      " https://earth.esa.int/documents/10174/1514862/Swarm-L2-FAC-Dual-Product-Description \n",
      "\n",
      "EEF\n",
      "   SW_OPER_EEFATMS_2F\n",
      "   SW_OPER_EEFBTMS_2F\n",
      " https://earth.esa.int/web/guest/missions/esa-eo-missions/swarm/data-handbook/level-2-product-definitions#EEFxTMS_2F \n",
      " https://earth.esa.int/documents/10174/1514862/Swarm-Level-2-EEF-Product-Description \n",
      "\n",
      "IPD\n",
      "   SW_OPER_IPDAIRR_2F\n",
      "   SW_OPER_IPDBIRR_2F\n",
      "   SW_OPER_IPDCIRR_2F\n",
      " https://earth.esa.int/web/guest/missions/esa-eo-missions/swarm/data-handbook/level-2-product-definitions#IPDxIPR_2F \n",
      "\n"
     ]
    }
   ],
   "source": [
    "# Create the request object\n",
    "request = SwarmRequest()\n",
    "\n",
    "# Get the available collections\n",
    "request.available_collections()"
   ]
  },
  {
   "cell_type": "markdown",
   "metadata": {},
   "source": [
    "E.g. get the list of available collections without details:"
   ]
  },
  {
   "cell_type": "code",
   "execution_count": 20,
   "metadata": {},
   "outputs": [
    {
     "data": {
      "text/plain": [
       "['SW_OPER_MAGA_LR_1B',\n",
       " 'SW_OPER_MAGB_LR_1B',\n",
       " 'SW_OPER_MAGC_LR_1B',\n",
       " 'SW_OPER_EFIA_LP_1B',\n",
       " 'SW_OPER_EFIB_LP_1B',\n",
       " 'SW_OPER_EFIC_LP_1B',\n",
       " 'SW_OPER_IBIATMS_2F',\n",
       " 'SW_OPER_IBIBTMS_2F',\n",
       " 'SW_OPER_IBICTMS_2F',\n",
       " 'SW_OPER_TECATMS_2F',\n",
       " 'SW_OPER_TECBTMS_2F',\n",
       " 'SW_OPER_TECCTMS_2F',\n",
       " 'SW_OPER_FACATMS_2F',\n",
       " 'SW_OPER_FACBTMS_2F',\n",
       " 'SW_OPER_FACCTMS_2F',\n",
       " 'SW_OPER_FAC_TMS_2F',\n",
       " 'SW_OPER_EEFATMS_2F',\n",
       " 'SW_OPER_EEFBTMS_2F',\n",
       " 'SW_OPER_IPDAIRR_2F',\n",
       " 'SW_OPER_IPDBIRR_2F',\n",
       " 'SW_OPER_IPDCIRR_2F']"
      ]
     },
     "execution_count": 20,
     "metadata": {},
     "output_type": "execute_result"
    }
   ],
   "source": [
    "request.available_collections(details=False)"
   ]
  },
  {
   "cell_type": "markdown",
   "metadata": {},
   "source": [
    "[TOP](#top)\n",
    "\n",
    "<a id=\"SwarmRequest.available_measurements\"/>\n",
    "\n",
    "### Get the available measurements\n",
    "\n",
    "It is possible to get the available measurements using the *available_measurements* method."
   ]
  },
  {
   "cell_type": "code",
   "execution_count": 24,
   "metadata": {},
   "outputs": [
    {
     "data": {
      "text/plain": [
       "\u001b[0;31mSignature:\u001b[0m \u001b[0mSwarmRequest\u001b[0m\u001b[0;34m.\u001b[0m\u001b[0mavailable_measurements\u001b[0m\u001b[0;34m(\u001b[0m\u001b[0mself\u001b[0m\u001b[0;34m,\u001b[0m \u001b[0mcollection\u001b[0m\u001b[0;34m=\u001b[0m\u001b[0;32mNone\u001b[0m\u001b[0;34m)\u001b[0m\u001b[0;34m\u001b[0m\u001b[0;34m\u001b[0m\u001b[0m\n",
       "\u001b[0;31mDocstring:\u001b[0m\n",
       "Returns a list of the available measurements for the chosen collection.\n",
       "\n",
       "Args:\n",
       "    collection (str): one of: (\"MAG\", \"EFI\", \"IBI\", \"TEC\", \"FAC\", \"EEF\")\n",
       "\u001b[0;31mFile:\u001b[0m      /opt/conda/lib/python3.7/site-packages/viresclient/_client_swarm.py\n",
       "\u001b[0;31mType:\u001b[0m      function\n"
      ]
     },
     "metadata": {},
     "output_type": "display_data"
    }
   ],
   "source": [
    "# Import SwarmClient if not already done\n",
    "from viresclient import SwarmRequest\n",
    "\n",
    "# Get info on SwarmRequest.available_measurements\n",
    "SwarmRequest.available_measurements?"
   ]
  },
  {
   "cell_type": "markdown",
   "metadata": {},
   "source": [
    "Arguments:\n",
    "\n",
    "- **collection** (*str*, optional). If indicated, returns the available measurements for this collection as a *list*. It can be set to: `MAG`, `EFI`, `IBI`, `TEC`, `FAC`, `EEF`, `IPD` or one of the collections returned by the *available_collections* method. If not indicated, it returns the available measurements for all the collections as a *dict*.\n",
    "\n",
    "E.g. get the list of measurements for the `MAG` collections:"
   ]
  },
  {
   "cell_type": "code",
   "execution_count": 26,
   "metadata": {},
   "outputs": [
    {
     "data": {
      "text/plain": [
       "['F',\n",
       " 'dF_AOCS',\n",
       " 'dF_other',\n",
       " 'F_error',\n",
       " 'B_VFM',\n",
       " 'B_NEC',\n",
       " 'dB_Sun',\n",
       " 'dB_AOCS',\n",
       " 'dB_other',\n",
       " 'B_error',\n",
       " 'q_NEC_CRF',\n",
       " 'Att_error',\n",
       " 'Flags_F',\n",
       " 'Flags_B',\n",
       " 'Flags_q',\n",
       " 'Flags_Platform',\n",
       " 'ASM_Freq_Dev']"
      ]
     },
     "execution_count": 26,
     "metadata": {},
     "output_type": "execute_result"
    }
   ],
   "source": [
    "# Create the request object\n",
    "request = SwarmRequest()\n",
    "\n",
    "# Get the available measurements\n",
    "request.available_measurements('MAG')"
   ]
  },
  {
   "cell_type": "markdown",
   "metadata": {},
   "source": [
    "Setting `collection=SW_OPER_MAGA_LR_1B` we obtain the same result:"
   ]
  },
  {
   "cell_type": "code",
   "execution_count": 7,
   "metadata": {},
   "outputs": [
    {
     "data": {
      "text/plain": [
       "['F',\n",
       " 'dF_AOCS',\n",
       " 'dF_other',\n",
       " 'F_error',\n",
       " 'B_VFM',\n",
       " 'B_NEC',\n",
       " 'dB_Sun',\n",
       " 'dB_AOCS',\n",
       " 'dB_other',\n",
       " 'B_error',\n",
       " 'q_NEC_CRF',\n",
       " 'Att_error',\n",
       " 'Flags_F',\n",
       " 'Flags_B',\n",
       " 'Flags_q',\n",
       " 'Flags_Platform',\n",
       " 'ASM_Freq_Dev']"
      ]
     },
     "execution_count": 7,
     "metadata": {},
     "output_type": "execute_result"
    }
   ],
   "source": [
    "request.available_measurements('SW_OPER_MAGA_LR_1B')"
   ]
  },
  {
   "cell_type": "markdown",
   "metadata": {},
   "source": [
    "E.g. get all the available measurements:"
   ]
  },
  {
   "cell_type": "code",
   "execution_count": 8,
   "metadata": {},
   "outputs": [
    {
     "data": {
      "text/plain": [
       "{'MAG': ['F',\n",
       "  'dF_AOCS',\n",
       "  'dF_other',\n",
       "  'F_error',\n",
       "  'B_VFM',\n",
       "  'B_NEC',\n",
       "  'dB_Sun',\n",
       "  'dB_AOCS',\n",
       "  'dB_other',\n",
       "  'B_error',\n",
       "  'q_NEC_CRF',\n",
       "  'Att_error',\n",
       "  'Flags_F',\n",
       "  'Flags_B',\n",
       "  'Flags_q',\n",
       "  'Flags_Platform',\n",
       "  'ASM_Freq_Dev'],\n",
       " 'EFI': ['U_orbit',\n",
       "  'Ne',\n",
       "  'Ne_error',\n",
       "  'Te',\n",
       "  'Te_error',\n",
       "  'Vs',\n",
       "  'Vs_error',\n",
       "  'Flags_LP',\n",
       "  'Flags_Ne',\n",
       "  'Flags_Te',\n",
       "  'Flags_Vs'],\n",
       " 'IBI': ['Bubble_Index',\n",
       "  'Bubble_Probability',\n",
       "  'Flags_Bubble',\n",
       "  'Flags_F',\n",
       "  'Flags_B',\n",
       "  'Flags_q'],\n",
       " 'TEC': ['GPS_Position',\n",
       "  'LEO_Position',\n",
       "  'PRN',\n",
       "  'L1',\n",
       "  'L2',\n",
       "  'P1',\n",
       "  'P2',\n",
       "  'S1',\n",
       "  'S2',\n",
       "  'Elevation_Angle',\n",
       "  'Absolute_VTEC',\n",
       "  'Absolute_STEC',\n",
       "  'Relative_STEC',\n",
       "  'Relative_STEC_RMS',\n",
       "  'DCB',\n",
       "  'DCB_Error'],\n",
       " 'FAC': ['IRC',\n",
       "  'IRC_Error',\n",
       "  'FAC',\n",
       "  'FAC_Error',\n",
       "  'Flags',\n",
       "  'Flags_F',\n",
       "  'Flags_B',\n",
       "  'Flags_q'],\n",
       " 'EEF': ['EEF', 'RelErr', 'flags'],\n",
       " 'IPD': ['Ne',\n",
       "  'Te',\n",
       "  'Background_Ne',\n",
       "  'Foreground_Ne',\n",
       "  'PCP_flag',\n",
       "  'Grad_Ne_at_100km',\n",
       "  'Grad_Ne_at_50km',\n",
       "  'Grad_Ne_at_20km',\n",
       "  'Grad_Ne_at_PCP_edge',\n",
       "  'ROD',\n",
       "  'RODI10s',\n",
       "  'RODI20s',\n",
       "  'delta_Ne10s',\n",
       "  'delta_Ne20s',\n",
       "  'delta_Ne40s',\n",
       "  'Num_GPS_satellites',\n",
       "  'mVTEC',\n",
       "  'mROT',\n",
       "  'mROTI10s',\n",
       "  'mROTI20s',\n",
       "  'IBI_flag',\n",
       "  'Ionosphere_region_flag',\n",
       "  'IPIR_index',\n",
       "  'Ne_quality_flag',\n",
       "  'TEC_STD']}"
      ]
     },
     "execution_count": 8,
     "metadata": {},
     "output_type": "execute_result"
    }
   ],
   "source": [
    "request.available_measurements()"
   ]
  },
  {
   "cell_type": "markdown",
   "metadata": {},
   "source": [
    "[TOP](#top)\n",
    "\n",
    "<a id=\"SwarmRequest.available_auxiliaries\"/>\n",
    "\n",
    "### Get the available auxiliaries\n",
    "\n",
    "It is possible to get the available auxiliaries using the *available_auxiliaries* method."
   ]
  },
  {
   "cell_type": "code",
   "execution_count": 27,
   "metadata": {},
   "outputs": [
    {
     "data": {
      "text/plain": [
       "\u001b[0;31mSignature:\u001b[0m \u001b[0mSwarmRequest\u001b[0m\u001b[0;34m.\u001b[0m\u001b[0mavailable_auxiliaries\u001b[0m\u001b[0;34m(\u001b[0m\u001b[0mself\u001b[0m\u001b[0;34m)\u001b[0m\u001b[0;34m\u001b[0m\u001b[0;34m\u001b[0m\u001b[0m\n",
       "\u001b[0;31mDocstring:\u001b[0m\n",
       "Returns a list of the available auxiliary parameters.\n",
       "        \n",
       "\u001b[0;31mFile:\u001b[0m      /opt/conda/lib/python3.7/site-packages/viresclient/_client_swarm.py\n",
       "\u001b[0;31mType:\u001b[0m      function\n"
      ]
     },
     "metadata": {},
     "output_type": "display_data"
    }
   ],
   "source": [
    "# Import SwarmClient if not already done\n",
    "from viresclient import SwarmRequest\n",
    "\n",
    "# Get info on SwarmRequest.available_auxiliaries\n",
    "SwarmRequest.available_auxiliaries?"
   ]
  },
  {
   "cell_type": "markdown",
   "metadata": {},
   "source": [
    "This method does not accept any argument and provides the available auxiliaries as a *list*:"
   ]
  },
  {
   "cell_type": "code",
   "execution_count": 28,
   "metadata": {},
   "outputs": [
    {
     "data": {
      "text/plain": [
       "['Timestamp',\n",
       " 'Latitude',\n",
       " 'Longitude',\n",
       " 'Radius',\n",
       " 'Spacecraft',\n",
       " 'OrbitDirection',\n",
       " 'QDOrbitDirection',\n",
       " 'SyncStatus',\n",
       " 'Kp10',\n",
       " 'Kp',\n",
       " 'Dst',\n",
       " 'F107',\n",
       " 'IMF_BY_GSM',\n",
       " 'IMF_BZ_GSM',\n",
       " 'IMF_V',\n",
       " 'F10_INDEX',\n",
       " 'OrbitSource',\n",
       " 'OrbitNumber',\n",
       " 'AscendingNodeTime',\n",
       " 'AscendingNodeLongitude',\n",
       " 'QDLat',\n",
       " 'QDLon',\n",
       " 'QDBasis',\n",
       " 'MLT',\n",
       " 'SunDeclination',\n",
       " 'SunHourAngle',\n",
       " 'SunRightAscension',\n",
       " 'SunAzimuthAngle',\n",
       " 'SunZenithAngle',\n",
       " 'SunLongitude',\n",
       " 'SunVector',\n",
       " 'DipoleAxisVector',\n",
       " 'NGPLatitude',\n",
       " 'NGPLongitude',\n",
       " 'DipoleTiltAngle',\n",
       " 'UpwardCurrent',\n",
       " 'TotalCurrent',\n",
       " 'DivergenceFreeCurrentFunction']"
      ]
     },
     "execution_count": 28,
     "metadata": {},
     "output_type": "execute_result"
    }
   ],
   "source": [
    "# Create the request object\n",
    "request = SwarmRequest()\n",
    "\n",
    "# Get the list of available auxiliaries\n",
    "request.available_auxiliaries()"
   ]
  },
  {
   "cell_type": "markdown",
   "metadata": {},
   "source": [
    "[TOP](#top)\n",
    "\n",
    "<a id=\"SwarmRequest.available_models\"/>\n",
    "\n",
    "### Get the available magnetic models\n",
    "\n",
    "The available magnetic models can be obtained via the *available_models* method."
   ]
  },
  {
   "cell_type": "code",
   "execution_count": 29,
   "metadata": {},
   "outputs": [
    {
     "data": {
      "text/plain": [
       "\u001b[0;31mSignature:\u001b[0m\n",
       "\u001b[0mSwarmRequest\u001b[0m\u001b[0;34m.\u001b[0m\u001b[0mavailable_models\u001b[0m\u001b[0;34m(\u001b[0m\u001b[0;34m\u001b[0m\n",
       "\u001b[0;34m\u001b[0m    \u001b[0mself\u001b[0m\u001b[0;34m,\u001b[0m\u001b[0;34m\u001b[0m\n",
       "\u001b[0;34m\u001b[0m    \u001b[0mparam\u001b[0m\u001b[0;34m=\u001b[0m\u001b[0;32mNone\u001b[0m\u001b[0;34m,\u001b[0m\u001b[0;34m\u001b[0m\n",
       "\u001b[0;34m\u001b[0m    \u001b[0mdetails\u001b[0m\u001b[0;34m=\u001b[0m\u001b[0;32mTrue\u001b[0m\u001b[0;34m,\u001b[0m\u001b[0;34m\u001b[0m\n",
       "\u001b[0;34m\u001b[0m    \u001b[0mnice_output\u001b[0m\u001b[0;34m=\u001b[0m\u001b[0;32mTrue\u001b[0m\u001b[0;34m,\u001b[0m\u001b[0;34m\u001b[0m\n",
       "\u001b[0;34m\u001b[0m\u001b[0;34m)\u001b[0m\u001b[0;34m\u001b[0m\u001b[0;34m\u001b[0m\u001b[0m\n",
       "\u001b[0;31mDocstring:\u001b[0m\n",
       "Show details of avalable models.\n",
       "\n",
       "If details is True, return a dictionary of model names and details.\n",
       "If nice_output is True, the dictionary is printed nicely.\n",
       "If details is False, return a list of model names.\n",
       "If param is set, filter to only return entries including this\n",
       "\n",
       "Note:\n",
       "    |  F = Fast-Track Products\n",
       "    |  C = Comprehensive Inversion\n",
       "    |  D = Dedicated Chain\n",
       "    |  MCO = Core / main\n",
       "    |  MLI = Lithosphere\n",
       "    |  MMA = Magnetosphere\n",
       "    |  MIO = Ionosphere\n",
       "\n",
       "Args:\n",
       "    param (str): one of \"F C D MCO MLI MMA MIO\"\n",
       "    details (bool): True for a dict of details, False for a brief list\n",
       "    nice_output (bool): If True, just print the dict nicely\n",
       "\u001b[0;31mFile:\u001b[0m      /opt/conda/lib/python3.7/site-packages/viresclient/_client_swarm.py\n",
       "\u001b[0;31mType:\u001b[0m      function\n"
      ]
     },
     "metadata": {},
     "output_type": "display_data"
    }
   ],
   "source": [
    "# Import SwarmClient if not already done\n",
    "from viresclient import SwarmRequest\n",
    "\n",
    "# Get info on SwarmRequest.available_models\n",
    "SwarmRequest.available_models?"
   ]
  },
  {
   "cell_type": "markdown",
   "metadata": {},
   "source": [
    "The method accepts the following arguments:\n",
    "\n",
    "- **param** (*str*, optional): it can be set to one of `F`, `C`, `D`, `MCO`, `MLI`, `MMA`, `MIO` to filter all the available magnetic models.\n",
    "- **details** (*bool*, optional): if it is set to `True` (default), it gets the models and their details. If `False`, it returns only the models as a *list*.\n",
    "- **nice_output** (*bool*, optional): if it is set to `True` (default), it prints the models and their details. If `False`, it returns the models as a dictionary (if `details=True`) or a s a list (if `details=False`).\n",
    "\n",
    "E.g. get the list of all the available models and details"
   ]
  },
  {
   "cell_type": "code",
   "execution_count": 30,
   "metadata": {},
   "outputs": [
    {
     "name": "stdout",
     "output_type": "stream",
     "text": [
      "CHAOS-6-Core = 'CHAOS-6-Core'(max_degree=20,min_degree=1)\n",
      "  START: 1997-02-07T05:31:12.000003Z\n",
      "  END:   2020-04-21T02:49:20.639999Z\n",
      "DESCRIPTION:\n",
      "CHAOS Core field\n",
      " deprecated model identifier, use CHAOS-Core instead\n",
      "SOURCES:\n",
      "  SW_OPER_MCO_SHA_2X_19970101T000000_20200419T235959_0701\n",
      "\n",
      "CHAOS-6-MMA-Primary = 'CHAOS-6-MMA-Primary'(max_degree=2,min_degree=1)\n",
      "  START: 2012-01-01T00:00:00Z\n",
      "  END:   2020-02-01T23:30:00Z\n",
      "DESCRIPTION:\n",
      "CHAOS Primary (external) magnetospheric field\n",
      " deprecated model identifier, use CHAOS-MMA-Primary instead\n",
      "SOURCES:\n",
      "  SW_OPER_MMA_CHAOS__20120101T000000_20121231T233000_0608\n",
      "  SW_OPER_MMA_CHAOS__20130101T000000_20131231T233000_0608\n",
      "  SW_OPER_MMA_CHAOS__20140101T000000_20141231T233000_0608\n",
      "  SW_OPER_MMA_CHAOS__20150101T000000_20151231T233000_0608\n",
      "  SW_OPER_MMA_CHAOS__20160101T000000_20161231T233000_0608\n",
      "  SW_OPER_MMA_CHAOS__20170101T000000_20171231T233000_0608\n",
      "  SW_OPER_MMA_CHAOS__20180101T000000_20181231T233000_0701\n",
      "  SW_OPER_MMA_CHAOS__20190101T000000_20200201T233000_0701\n",
      "\n",
      "CHAOS-6-MMA-Secondary = 'CHAOS-6-MMA-Secondary'(max_degree=2,min_degree=1)\n",
      "  START: 2012-01-01T00:00:00Z\n",
      "  END:   2020-02-01T23:30:00Z\n",
      "DESCRIPTION:\n",
      "CHAOS-Secondary (internal) magnetospheric field\n",
      " deprecated model identifier, use CHAOS-MMA-Secondary instead\n",
      "SOURCES:\n",
      "  SW_OPER_MMA_CHAOS__20120101T000000_20121231T233000_0608\n",
      "  SW_OPER_MMA_CHAOS__20130101T000000_20131231T233000_0608\n",
      "  SW_OPER_MMA_CHAOS__20140101T000000_20141231T233000_0608\n",
      "  SW_OPER_MMA_CHAOS__20150101T000000_20151231T233000_0608\n",
      "  SW_OPER_MMA_CHAOS__20160101T000000_20161231T233000_0608\n",
      "  SW_OPER_MMA_CHAOS__20170101T000000_20171231T233000_0608\n",
      "  SW_OPER_MMA_CHAOS__20180101T000000_20181231T233000_0701\n",
      "  SW_OPER_MMA_CHAOS__20190101T000000_20200201T233000_0701\n",
      "\n",
      "CHAOS-6-Static = 'CHAOS-6-Static'(max_degree=185,min_degree=21)\n",
      "  START: 0001-01-01T00:00:00Z\n",
      "  END:   4000-01-01T00:00:00Z\n",
      "DESCRIPTION:\n",
      "CHAOS crust field\n",
      " deprecated model identifier, use CHAOS-Static instead\n",
      "SOURCES:\n",
      "  CHAOS-7_static.shc\n",
      "\n",
      "CHAOS-Core = 'CHAOS-Core'(max_degree=20,min_degree=1)\n",
      "  START: 1997-02-07T05:31:12.000003Z\n",
      "  END:   2020-04-21T02:49:20.639999Z\n",
      "DESCRIPTION:\n",
      "CHAOS-7 Core field (SH degrees 1-20)\n",
      " http://www.spacecenter.dk/files/magnetic-models/CHAOS-7/ \n",
      "SOURCES:\n",
      "  SW_OPER_MCO_SHA_2X_19970101T000000_20200419T235959_0701\n",
      "\n",
      "CHAOS-MMA-Primary = 'CHAOS-MMA-Primary'(max_degree=2,min_degree=1)\n",
      "  START: 2012-01-01T00:00:00Z\n",
      "  END:   2020-02-01T23:30:00Z\n",
      "DESCRIPTION:\n",
      "CHAOS-7 Primary (external) magnetospheric field\n",
      " hhttp://www.spacecenter.dk/files/magnetic-models/CHAOS-7/ \n",
      "SOURCES:\n",
      "  SW_OPER_MMA_CHAOS__20120101T000000_20121231T233000_0608\n",
      "  SW_OPER_MMA_CHAOS__20130101T000000_20131231T233000_0608\n",
      "  SW_OPER_MMA_CHAOS__20140101T000000_20141231T233000_0608\n",
      "  SW_OPER_MMA_CHAOS__20150101T000000_20151231T233000_0608\n",
      "  SW_OPER_MMA_CHAOS__20160101T000000_20161231T233000_0608\n",
      "  SW_OPER_MMA_CHAOS__20170101T000000_20171231T233000_0608\n",
      "  SW_OPER_MMA_CHAOS__20180101T000000_20181231T233000_0701\n",
      "  SW_OPER_MMA_CHAOS__20190101T000000_20200201T233000_0701\n",
      "\n",
      "CHAOS-MMA-Secondary = 'CHAOS-MMA-Secondary'(max_degree=2,min_degree=1)\n",
      "  START: 2012-01-01T00:00:00Z\n",
      "  END:   2020-02-01T23:30:00Z\n",
      "DESCRIPTION:\n",
      "CHAOS-7 Secondary (internal) magnetospheric field\n",
      " http://www.spacecenter.dk/files/magnetic-models/CHAOS-7/ \n",
      "SOURCES:\n",
      "  SW_OPER_MMA_CHAOS__20120101T000000_20121231T233000_0608\n",
      "  SW_OPER_MMA_CHAOS__20130101T000000_20131231T233000_0608\n",
      "  SW_OPER_MMA_CHAOS__20140101T000000_20141231T233000_0608\n",
      "  SW_OPER_MMA_CHAOS__20150101T000000_20151231T233000_0608\n",
      "  SW_OPER_MMA_CHAOS__20160101T000000_20161231T233000_0608\n",
      "  SW_OPER_MMA_CHAOS__20170101T000000_20171231T233000_0608\n",
      "  SW_OPER_MMA_CHAOS__20180101T000000_20181231T233000_0701\n",
      "  SW_OPER_MMA_CHAOS__20190101T000000_20200201T233000_0701\n",
      "\n",
      "CHAOS-Static = 'CHAOS-Static'(max_degree=185,min_degree=21)\n",
      "  START: 0001-01-01T00:00:00Z\n",
      "  END:   4000-01-01T00:00:00Z\n",
      "DESCRIPTION:\n",
      "CHAOS-7 crust field (SH degrees 21-185)\n",
      " http://www.spacecenter.dk/files/magnetic-models/CHAOS-7/ \n",
      "SOURCES:\n",
      "  CHAOS-7_static.shc\n",
      "\n",
      "IGRF12 = IGRF12(max_degree=13,min_degree=1)\n",
      "  START: 1900-01-01T00:00:00Z\n",
      "  END:   2020-01-01T00:00:00Z\n",
      "DESCRIPTION:\n",
      " International Geomagnetic Reference Field: the 12th generation, https://doi.org/10.1186/s40623-015-0228-9 \n",
      " https://www.ngdc.noaa.gov/IAGA/vmod/igrf.html \n",
      "SOURCES:\n",
      "  SW_OPER_AUX_IGR_2__19000101T000000_20191231T235959_0102\n",
      "\n",
      "LCS-1 = 'LCS-1'(max_degree=185,min_degree=1)\n",
      "  START: 0001-01-01T00:00:00Z\n",
      "  END:   4000-01-01T00:00:00Z\n",
      "DESCRIPTION:\n",
      "The LCS-1 high-resolution lithospheric field model, derived from CHAMP and Swarm satellite observations\n",
      " http://www.spacecenter.dk/files/magnetic-models/LCS-1/\n",
      "SOURCES:\n",
      "  LCS-1.shc\n",
      "\n",
      "MCO_SHA_2C = MCO_SHA_2C(max_degree=18,min_degree=1)\n",
      "  START: 2013-11-24T18:28:47.999997Z\n",
      "  END:   2019-01-01T00:00:00Z\n",
      "DESCRIPTION:\n",
      "[Comprehensive Inversion]: Core field of CIY4\n",
      " A comprehensive model of Earth’s magnetic field determined from 4 years of Swarm satellite observations, https://doi.org/10.1186/s40623-018-0896-3 \n",
      "Validation: ftp://swarm-diss.eo.esa.int/Level2longterm/MCO/SW_OPER_MCO_VAL_2C_20131201T000000_20180101T000000_0401.ZIP \n",
      "SOURCES:\n",
      "  SW_OPER_MCO_SHA_2C_20131125T000000_20190101T000000_0501\n",
      "\n",
      "MCO_SHA_2D = MCO_SHA_2D(max_degree=20,min_degree=1)\n",
      "  START: 2013-11-25T12:00:00.000003Z\n",
      "  END:   2018-01-01T00:00:00Z\n",
      "DESCRIPTION:\n",
      "[Dedicated Chain]: Core field\n",
      "An algorithm for deriving core magnetic field models from the Swarm data set, https://doi.org/10.5047/eps.2013.07.005 \n",
      "Validation: ftp://swarm-diss.eo.esa.int/Level2longterm/MCO/SW_OPER_MCO_VAL_2D_20131126T000000_20180101T000000_0401.ZIP \n",
      "SOURCES:\n",
      "  SW_OPER_MCO_SHA_2D_20131126T000000_20180101T000000_0401\n",
      "\n",
      "MF7 = MF7(max_degree=133,min_degree=16)\n",
      "  START: 0001-01-01T00:00:00Z\n",
      "  END:   4000-01-01T00:00:00Z\n",
      "DESCRIPTION:\n",
      "MF7 crustal field model, derived from CHAMP satellite observations\n",
      " http://geomag.org/models/MF7.html\n",
      "SOURCES:\n",
      "  MF7.shc\n",
      "\n",
      "MIO_SHA_2C-Primary = 'MIO_SHA_2C-Primary'(max_degree=60,min_degree=1)\n",
      "  START: 0001-01-01T00:00:00Z\n",
      "  END:   4000-01-01T00:00:00Z\n",
      "DESCRIPTION:\n",
      "[Comprehensive Inversion]: Primary (external) ionospheric field of CIY4\n",
      "Validation: ftp://swarm-diss.eo.esa.int/Level2longterm/MIO/SW_OPER_MIO_VAL_2C_00000000T000000_99999999T999999_0401.ZIP \n",
      "SOURCES:\n",
      "  SW_OPER_MIO_SHA_2C_00000000T000000_99999999T999999_0501\n",
      "\n",
      "MIO_SHA_2C-Secondary = 'MIO_SHA_2C-Secondary'(max_degree=60,min_degree=1)\n",
      "  START: 0001-01-01T00:00:00Z\n",
      "  END:   4000-01-01T00:00:00Z\n",
      "DESCRIPTION:\n",
      "[Comprehensive Inversion]: Secondary (external/induced) ionospheric field of CIY4\n",
      "SOURCES:\n",
      "  SW_OPER_MIO_SHA_2C_00000000T000000_99999999T999999_0501\n",
      "\n",
      "MIO_SHA_2D-Primary = 'MIO_SHA_2D-Primary'(max_degree=60,min_degree=1)\n",
      "  START: 0001-01-01T00:00:00Z\n",
      "  END:   4000-01-01T00:00:00Z\n",
      "DESCRIPTION:\n",
      "[Dedicated Chain]: Primary (external) ionospheric field, DIFI\n",
      " Swarm SCARF dedicated ionospheric field inversion chain, https://doi.org/10.5047/eps.2013.08.006 \n",
      " First results from the Swarm Dedicated Ionospheric Field Inversion chain, https://doi.org/10.1186/s40623-016-0481-6 \n",
      " http://geomag.colorado.edu/difi-3 \n",
      "Validation: ftp://swarm-diss.eo.esa.int/Level2longterm/MIO/SW_OPER_MIO_VAL_2D_20131201T000000_20171231T235959_0402.ZIP \n",
      "SOURCES:\n",
      "  SW_OPER_MIO_SHA_2D_20131201T000000_20171231T235959_0402\n",
      "\n",
      "MIO_SHA_2D-Secondary = 'MIO_SHA_2D-Secondary'(max_degree=60,min_degree=1)\n",
      "  START: 0001-01-01T00:00:00Z\n",
      "  END:   4000-01-01T00:00:00Z\n",
      "DESCRIPTION:\n",
      "[Dedicated Chain]: Secondary (external/induced) ionospheric field, DIFI\n",
      "SOURCES:\n",
      "  SW_OPER_MIO_SHA_2D_20131201T000000_20171231T235959_0402\n",
      "\n",
      "MLI_SHA_2C = MLI_SHA_2C(max_degree=120,min_degree=16)\n",
      "  START: 0001-01-01T00:00:00Z\n",
      "  END:   4000-01-01T00:00:00Z\n",
      "DESCRIPTION:\n",
      "[Comprehensive Inversion]: Lithospheric field of CIY4\n",
      "Validation: ftp://swarm-diss.eo.esa.int/Level2longterm/MLI/SW_OPER_MLI_VAL_2C_00000000T000000_99999999T999999_0401.ZIP\n",
      "SOURCES:\n",
      "  SW_OPER_MLI_SHA_2C_00000000T000000_99999999T999999_0501\n",
      "\n",
      "MLI_SHA_2D = MLI_SHA_2D(max_degree=133,min_degree=16)\n",
      "  START: 0001-01-01T00:00:00Z\n",
      "  END:   4000-01-01T00:00:00Z\n",
      "DESCRIPTION:\n",
      "[Dedicated Chain]: Lithospheric field\n",
      " Swarm SCARF Dedicated Lithospheric Field Inversion chain, https://doi.org/10.5047/eps.2013.07.008 \n",
      " Validation: ftp://swarm-diss.eo.esa.int/Level2longterm/MLI/SW_OPER_MLI_VAL_2D_00000000T000000_99999999T999999_0401.ZIP \n",
      "SOURCES:\n",
      "  SW_OPER_MLI_SHA_2D_00000000T000000_99999999T999999_0501\n",
      "\n",
      "MMA_SHA_2C-Primary = 'MMA_SHA_2C-Primary'(max_degree=2,min_degree=1)\n",
      "  START: 2013-11-25T03:00:00Z\n",
      "  END:   2018-12-31T21:00:00Z\n",
      "DESCRIPTION:\n",
      "[Comprehensive Inversion]: Primary (external) magnetospheric field of CIY4\n",
      "Validation: ftp://swarm-diss.eo.esa.int/Level2longterm/MMA/SW_OPER_MMA_VAL_2C_20131201T000000_20180101T000000_0401.ZIP\n",
      "SOURCES:\n",
      "  SW_OPER_MMA_SHA_2C_20131125T000000_20181231T235959_0501\n",
      "\n",
      "MMA_SHA_2C-Secondary = 'MMA_SHA_2C-Secondary'(max_degree=3,min_degree=1)\n",
      "  START: 2013-11-25T03:00:00Z\n",
      "  END:   2018-12-31T21:00:00Z\n",
      "DESCRIPTION:\n",
      "[Comprehensive Inversion]: Secondary (internal/induced) magnetospheric field of CIY4\n",
      "SOURCES:\n",
      "  SW_OPER_MMA_SHA_2C_20131125T000000_20181231T235959_0501\n",
      "\n",
      "MMA_SHA_2F-Primary = 'MMA_SHA_2F-Primary'(max_degree=1,min_degree=1)\n",
      "  START: 2013-11-25T11:15:00Z\n",
      "  END:   2020-01-20T21:45:00Z\n",
      "DESCRIPTION:\n",
      "[Fast-Track Product]: Primary (external) magnetospheric field\n",
      " Rapid modelling of the large-scale magnetospheric field from Swarm satellite data, https://doi.org/10.5047/eps.2013.09.003 \n",
      "SOURCES:\n",
      "  SW_OPER_MMA_SHA_2F_20131125T103000_20140101T000000_0108\n",
      "  SW_OPER_MMA_SHA_2F_20140101T000000_20150101T000000_0108\n",
      "  SW_OPER_MMA_SHA_2F_20150101T000000_20160101T000000_0108\n",
      "  SW_OPER_MMA_SHA_2F_20160101T000000_20170101T000000_0108\n",
      "  SW_OPER_MMA_SHA_2F_20170101T000000_20180101T000000_0108\n",
      "  SW_OPER_MMA_SHA_2F_20180101T000000_20190101T000000_0108\n",
      "  SW_OPER_MMA_SHA_2F_20190101T000000_20200101T000000_0108\n",
      "  SW_OPER_MMA_SHA_2F_20200101T000000_20200120T223000_0108\n",
      "\n",
      "MMA_SHA_2F-Secondary = 'MMA_SHA_2F-Secondary'(max_degree=1,min_degree=1)\n",
      "  START: 2013-11-25T11:15:00Z\n",
      "  END:   2020-01-20T21:45:00Z\n",
      "DESCRIPTION:\n",
      "[Fast-Track Product]: Secondary (internal/induced) magnetospheric field\n",
      "SOURCES:\n",
      "  SW_OPER_MMA_SHA_2F_20131125T103000_20140101T000000_0108\n",
      "  SW_OPER_MMA_SHA_2F_20140101T000000_20150101T000000_0108\n",
      "  SW_OPER_MMA_SHA_2F_20150101T000000_20160101T000000_0108\n",
      "  SW_OPER_MMA_SHA_2F_20160101T000000_20170101T000000_0108\n",
      "  SW_OPER_MMA_SHA_2F_20170101T000000_20180101T000000_0108\n",
      "  SW_OPER_MMA_SHA_2F_20180101T000000_20190101T000000_0108\n",
      "  SW_OPER_MMA_SHA_2F_20190101T000000_20200101T000000_0108\n",
      "  SW_OPER_MMA_SHA_2F_20200101T000000_20200120T223000_0108\n",
      "\n"
     ]
    }
   ],
   "source": [
    "# Create the request object\n",
    "request = SwarmRequest()\n",
    "\n",
    "# Get available models\n",
    "request.available_models()"
   ]
  },
  {
   "cell_type": "markdown",
   "metadata": {},
   "source": [
    "E.g. print the list of the available `F` (i.e. Fast-Track) models and their details:"
   ]
  },
  {
   "cell_type": "code",
   "execution_count": 21,
   "metadata": {},
   "outputs": [
    {
     "name": "stdout",
     "output_type": "stream",
     "text": [
      "MMA_SHA_2F-Primary = 'MMA_SHA_2F-Primary'(max_degree=1,min_degree=1)\n",
      "  START: 2013-11-25T11:15:00Z\n",
      "  END:   2020-01-20T21:45:00Z\n",
      "DESCRIPTION:\n",
      "[Fast-Track Product]: Primary (external) magnetospheric field\n",
      " Rapid modelling of the large-scale magnetospheric field from Swarm satellite data, https://doi.org/10.5047/eps.2013.09.003 \n",
      "SOURCES:\n",
      "  SW_OPER_MMA_SHA_2F_20131125T103000_20140101T000000_0108\n",
      "  SW_OPER_MMA_SHA_2F_20140101T000000_20150101T000000_0108\n",
      "  SW_OPER_MMA_SHA_2F_20150101T000000_20160101T000000_0108\n",
      "  SW_OPER_MMA_SHA_2F_20160101T000000_20170101T000000_0108\n",
      "  SW_OPER_MMA_SHA_2F_20170101T000000_20180101T000000_0108\n",
      "  SW_OPER_MMA_SHA_2F_20180101T000000_20190101T000000_0108\n",
      "  SW_OPER_MMA_SHA_2F_20190101T000000_20200101T000000_0108\n",
      "  SW_OPER_MMA_SHA_2F_20200101T000000_20200120T223000_0108\n",
      "\n",
      "MMA_SHA_2F-Secondary = 'MMA_SHA_2F-Secondary'(max_degree=1,min_degree=1)\n",
      "  START: 2013-11-25T11:15:00Z\n",
      "  END:   2020-01-20T21:45:00Z\n",
      "DESCRIPTION:\n",
      "[Fast-Track Product]: Secondary (internal/induced) magnetospheric field\n",
      "SOURCES:\n",
      "  SW_OPER_MMA_SHA_2F_20131125T103000_20140101T000000_0108\n",
      "  SW_OPER_MMA_SHA_2F_20140101T000000_20150101T000000_0108\n",
      "  SW_OPER_MMA_SHA_2F_20150101T000000_20160101T000000_0108\n",
      "  SW_OPER_MMA_SHA_2F_20160101T000000_20170101T000000_0108\n",
      "  SW_OPER_MMA_SHA_2F_20170101T000000_20180101T000000_0108\n",
      "  SW_OPER_MMA_SHA_2F_20180101T000000_20190101T000000_0108\n",
      "  SW_OPER_MMA_SHA_2F_20190101T000000_20200101T000000_0108\n",
      "  SW_OPER_MMA_SHA_2F_20200101T000000_20200120T223000_0108\n",
      "\n"
     ]
    }
   ],
   "source": [
    "request.available_models('F')"
   ]
  },
  {
   "cell_type": "markdown",
   "metadata": {},
   "source": [
    "E.g. get the If the list of models of type `F` as a dictionary:"
   ]
  },
  {
   "cell_type": "code",
   "execution_count": 22,
   "metadata": {},
   "outputs": [
    {
     "data": {
      "text/plain": [
       "{'MMA_SHA_2F-Primary': {'description': ('[Fast-Track Product]: Primary (external) magnetospheric field',\n",
       "   ' Rapid modelling of the large-scale magnetospheric field from Swarm satellite data, https://doi.org/10.5047/eps.2013.09.003 '),\n",
       "  'details': {'sources': ['SW_OPER_MMA_SHA_2F_20131125T103000_20140101T000000_0108',\n",
       "    'SW_OPER_MMA_SHA_2F_20140101T000000_20150101T000000_0108',\n",
       "    'SW_OPER_MMA_SHA_2F_20150101T000000_20160101T000000_0108',\n",
       "    'SW_OPER_MMA_SHA_2F_20160101T000000_20170101T000000_0108',\n",
       "    'SW_OPER_MMA_SHA_2F_20170101T000000_20180101T000000_0108',\n",
       "    'SW_OPER_MMA_SHA_2F_20180101T000000_20190101T000000_0108',\n",
       "    'SW_OPER_MMA_SHA_2F_20190101T000000_20200101T000000_0108',\n",
       "    'SW_OPER_MMA_SHA_2F_20200101T000000_20200120T223000_0108'],\n",
       "   'expression': \"'MMA_SHA_2F-Primary'(max_degree=1,min_degree=1)\",\n",
       "   'validity': {'start': '2013-11-25T11:15:00Z',\n",
       "    'end': '2020-01-20T21:45:00Z'}}},\n",
       " 'MMA_SHA_2F-Secondary': {'description': ('[Fast-Track Product]: Secondary (internal/induced) magnetospheric field',),\n",
       "  'details': {'sources': ['SW_OPER_MMA_SHA_2F_20131125T103000_20140101T000000_0108',\n",
       "    'SW_OPER_MMA_SHA_2F_20140101T000000_20150101T000000_0108',\n",
       "    'SW_OPER_MMA_SHA_2F_20150101T000000_20160101T000000_0108',\n",
       "    'SW_OPER_MMA_SHA_2F_20160101T000000_20170101T000000_0108',\n",
       "    'SW_OPER_MMA_SHA_2F_20170101T000000_20180101T000000_0108',\n",
       "    'SW_OPER_MMA_SHA_2F_20180101T000000_20190101T000000_0108',\n",
       "    'SW_OPER_MMA_SHA_2F_20190101T000000_20200101T000000_0108',\n",
       "    'SW_OPER_MMA_SHA_2F_20200101T000000_20200120T223000_0108'],\n",
       "   'expression': \"'MMA_SHA_2F-Secondary'(max_degree=1,min_degree=1)\",\n",
       "   'validity': {'start': '2013-11-25T11:15:00Z',\n",
       "    'end': '2020-01-20T21:45:00Z'}}}}"
      ]
     },
     "execution_count": 22,
     "metadata": {},
     "output_type": "execute_result"
    }
   ],
   "source": [
    "request.available_models(param='F', nice_output=False)"
   ]
  },
  {
   "cell_type": "markdown",
   "metadata": {},
   "source": [
    "E.g. get the list of all the available models without their details:"
   ]
  },
  {
   "cell_type": "code",
   "execution_count": 23,
   "metadata": {},
   "outputs": [
    {
     "data": {
      "text/plain": [
       "['IGRF12',\n",
       " 'LCS-1',\n",
       " 'MF7',\n",
       " 'CHAOS-Core',\n",
       " 'CHAOS-Static',\n",
       " 'CHAOS-MMA-Primary',\n",
       " 'CHAOS-MMA-Secondary',\n",
       " 'CHAOS-6-Core',\n",
       " 'CHAOS-6-Static',\n",
       " 'CHAOS-6-MMA-Primary',\n",
       " 'CHAOS-6-MMA-Secondary',\n",
       " 'MCO_SHA_2C',\n",
       " 'MCO_SHA_2D',\n",
       " 'MLI_SHA_2C',\n",
       " 'MLI_SHA_2D',\n",
       " 'MMA_SHA_2C-Primary',\n",
       " 'MMA_SHA_2C-Secondary',\n",
       " 'MMA_SHA_2F-Primary',\n",
       " 'MMA_SHA_2F-Secondary',\n",
       " 'MIO_SHA_2C-Primary',\n",
       " 'MIO_SHA_2C-Secondary',\n",
       " 'MIO_SHA_2D-Primary',\n",
       " 'MIO_SHA_2D-Secondary']"
      ]
     },
     "execution_count": 23,
     "metadata": {},
     "output_type": "execute_result"
    }
   ],
   "source": [
    "request.available_models(details=False)"
   ]
  },
  {
   "cell_type": "markdown",
   "metadata": {},
   "source": [
    "[TOP](#top)\n",
    "\n",
    "<a id=\"SwarmRequest.get_model_info\"/>\n",
    "\n",
    "### Get information about one or more models.\n",
    "\n",
    "It is possible to get information about one or more specific models using the *get_model_info* method."
   ]
  },
  {
   "cell_type": "code",
   "execution_count": 31,
   "metadata": {},
   "outputs": [
    {
     "data": {
      "text/plain": [
       "\u001b[0;31mSignature:\u001b[0m\n",
       "\u001b[0mSwarmRequest\u001b[0m\u001b[0;34m.\u001b[0m\u001b[0mget_model_info\u001b[0m\u001b[0;34m(\u001b[0m\u001b[0;34m\u001b[0m\n",
       "\u001b[0;34m\u001b[0m    \u001b[0mself\u001b[0m\u001b[0;34m,\u001b[0m\u001b[0;34m\u001b[0m\n",
       "\u001b[0;34m\u001b[0m    \u001b[0mmodels\u001b[0m\u001b[0;34m=\u001b[0m\u001b[0;32mNone\u001b[0m\u001b[0;34m,\u001b[0m\u001b[0;34m\u001b[0m\n",
       "\u001b[0;34m\u001b[0m    \u001b[0mcustom_model\u001b[0m\u001b[0;34m=\u001b[0m\u001b[0;32mNone\u001b[0m\u001b[0;34m,\u001b[0m\u001b[0;34m\u001b[0m\n",
       "\u001b[0;34m\u001b[0m    \u001b[0moriginal_response\u001b[0m\u001b[0;34m=\u001b[0m\u001b[0;32mFalse\u001b[0m\u001b[0;34m,\u001b[0m\u001b[0;34m\u001b[0m\n",
       "\u001b[0;34m\u001b[0m\u001b[0;34m)\u001b[0m\u001b[0;34m\u001b[0m\u001b[0;34m\u001b[0m\u001b[0m\n",
       "\u001b[0;31mDocstring:\u001b[0m\n",
       "Get model info from server.\n",
       "\n",
       "Handles the same models input as .set_products(), and returns a dict\n",
       "like:\n",
       "\n",
       "{'IGRF12': {\n",
       "'expression': 'IGRF12(max_degree=13,min_degree=0)',\n",
       "'validity': {'start': '1900-01-01T00:00:00Z', 'end': '2020-01-01T00:00:00Z'\n",
       "}, ...}\n",
       "\n",
       "If original_response=True, return the list of dicts like:\n",
       "\n",
       "{'expression': 'MCO_SHA_2C(max_degree=16,min_degree=0)',\n",
       "'name': 'MCO_SHA_2C',\n",
       "'validity': {'start': '2013-11-30T14:38:24Z',\n",
       "'end': '2018-01-01T00:00:00Z'}}, ...\n",
       "\n",
       "Args:\n",
       "    models (list/dict): as with set_products\n",
       "    custom_model (str): as with set_products\n",
       "    original_response (bool)\n",
       "\n",
       "Returns:\n",
       "    dict or list\n",
       "\u001b[0;31mFile:\u001b[0m      /opt/conda/lib/python3.7/site-packages/viresclient/_client_swarm.py\n",
       "\u001b[0;31mType:\u001b[0m      function\n"
      ]
     },
     "metadata": {},
     "output_type": "display_data"
    }
   ],
   "source": [
    "# Import SwarmClient if not already done\n",
    "from viresclient import SwarmRequest\n",
    "\n",
    "# Get info on SwarmRequest.get_model_info\n",
    "SwarmRequest.get_model_info?"
   ]
  },
  {
   "cell_type": "markdown",
   "metadata": {},
   "source": [
    "This method accepts the following arguments:\n",
    "\n",
    "- **models** (*list[str]*, optional): models as a list of strings. If the list is not provided, returns information about all the available magnetico models.\n",
    "- **custom_model** (*str*, optional): name of the file containing the spherical harmonics coefficients (custom model).\n",
    "- **original_response** (*bool*, optional): if set to `False` (default), returns the result as a dictionary. If set to `True`, returns the result as a list of dictionaries.\n",
    "\n",
    "E.g. get info about all the available magnetic models:"
   ]
  },
  {
   "cell_type": "code",
   "execution_count": 32,
   "metadata": {},
   "outputs": [
    {
     "data": {
      "text/plain": [
       "{'MLI_SHA_2D': {'sources': ['SW_OPER_MLI_SHA_2D_00000000T000000_99999999T999999_0501'],\n",
       "  'expression': 'MLI_SHA_2D(max_degree=133,min_degree=16)',\n",
       "  'validity': {'start': '0001-01-01T00:00:00Z',\n",
       "   'end': '4000-01-01T00:00:00Z'}},\n",
       " 'MLI_SHA_2C': {'sources': ['SW_OPER_MLI_SHA_2C_00000000T000000_99999999T999999_0501'],\n",
       "  'expression': 'MLI_SHA_2C(max_degree=120,min_degree=16)',\n",
       "  'validity': {'start': '0001-01-01T00:00:00Z',\n",
       "   'end': '4000-01-01T00:00:00Z'}},\n",
       " 'CHAOS-Core': {'sources': ['SW_OPER_MCO_SHA_2X_19970101T000000_20200419T235959_0701'],\n",
       "  'expression': \"'CHAOS-Core'(max_degree=20,min_degree=1)\",\n",
       "  'validity': {'start': '1997-02-07T05:31:12.000003Z',\n",
       "   'end': '2020-04-21T02:49:20.639999Z'}},\n",
       " 'MIO_SHA_2C-Primary': {'sources': ['SW_OPER_MIO_SHA_2C_00000000T000000_99999999T999999_0501'],\n",
       "  'expression': \"'MIO_SHA_2C-Primary'(max_degree=60,min_degree=1)\",\n",
       "  'validity': {'start': '0001-01-01T00:00:00Z',\n",
       "   'end': '4000-01-01T00:00:00Z'}},\n",
       " 'LCS-1': {'sources': ['LCS-1.shc'],\n",
       "  'expression': \"'LCS-1'(max_degree=185,min_degree=1)\",\n",
       "  'validity': {'start': '0001-01-01T00:00:00Z',\n",
       "   'end': '4000-01-01T00:00:00Z'}},\n",
       " 'CHAOS-MMA-Primary': {'sources': ['SW_OPER_MMA_CHAOS__20120101T000000_20121231T233000_0608',\n",
       "   'SW_OPER_MMA_CHAOS__20130101T000000_20131231T233000_0608',\n",
       "   'SW_OPER_MMA_CHAOS__20140101T000000_20141231T233000_0608',\n",
       "   'SW_OPER_MMA_CHAOS__20150101T000000_20151231T233000_0608',\n",
       "   'SW_OPER_MMA_CHAOS__20160101T000000_20161231T233000_0608',\n",
       "   'SW_OPER_MMA_CHAOS__20170101T000000_20171231T233000_0608',\n",
       "   'SW_OPER_MMA_CHAOS__20180101T000000_20181231T233000_0701',\n",
       "   'SW_OPER_MMA_CHAOS__20190101T000000_20200201T233000_0701'],\n",
       "  'expression': \"'CHAOS-MMA-Primary'(max_degree=2,min_degree=1)\",\n",
       "  'validity': {'start': '2012-01-01T00:00:00Z',\n",
       "   'end': '2020-02-01T23:30:00Z'}},\n",
       " 'MIO_SHA_2C-Secondary': {'sources': ['SW_OPER_MIO_SHA_2C_00000000T000000_99999999T999999_0501'],\n",
       "  'expression': \"'MIO_SHA_2C-Secondary'(max_degree=60,min_degree=1)\",\n",
       "  'validity': {'start': '0001-01-01T00:00:00Z',\n",
       "   'end': '4000-01-01T00:00:00Z'}},\n",
       " 'CHAOS-MMA-Secondary': {'sources': ['SW_OPER_MMA_CHAOS__20120101T000000_20121231T233000_0608',\n",
       "   'SW_OPER_MMA_CHAOS__20130101T000000_20131231T233000_0608',\n",
       "   'SW_OPER_MMA_CHAOS__20140101T000000_20141231T233000_0608',\n",
       "   'SW_OPER_MMA_CHAOS__20150101T000000_20151231T233000_0608',\n",
       "   'SW_OPER_MMA_CHAOS__20160101T000000_20161231T233000_0608',\n",
       "   'SW_OPER_MMA_CHAOS__20170101T000000_20171231T233000_0608',\n",
       "   'SW_OPER_MMA_CHAOS__20180101T000000_20181231T233000_0701',\n",
       "   'SW_OPER_MMA_CHAOS__20190101T000000_20200201T233000_0701'],\n",
       "  'expression': \"'CHAOS-MMA-Secondary'(max_degree=2,min_degree=1)\",\n",
       "  'validity': {'start': '2012-01-01T00:00:00Z',\n",
       "   'end': '2020-02-01T23:30:00Z'}},\n",
       " 'MIO_SHA_2D-Secondary': {'sources': ['SW_OPER_MIO_SHA_2D_20131201T000000_20171231T235959_0402'],\n",
       "  'expression': \"'MIO_SHA_2D-Secondary'(max_degree=60,min_degree=1)\",\n",
       "  'validity': {'start': '0001-01-01T00:00:00Z',\n",
       "   'end': '4000-01-01T00:00:00Z'}},\n",
       " 'MMA_SHA_2F-Primary': {'sources': ['SW_OPER_MMA_SHA_2F_20131125T103000_20140101T000000_0108',\n",
       "   'SW_OPER_MMA_SHA_2F_20140101T000000_20150101T000000_0108',\n",
       "   'SW_OPER_MMA_SHA_2F_20150101T000000_20160101T000000_0108',\n",
       "   'SW_OPER_MMA_SHA_2F_20160101T000000_20170101T000000_0108',\n",
       "   'SW_OPER_MMA_SHA_2F_20170101T000000_20180101T000000_0108',\n",
       "   'SW_OPER_MMA_SHA_2F_20180101T000000_20190101T000000_0108',\n",
       "   'SW_OPER_MMA_SHA_2F_20190101T000000_20200101T000000_0108',\n",
       "   'SW_OPER_MMA_SHA_2F_20200101T000000_20200120T223000_0108'],\n",
       "  'expression': \"'MMA_SHA_2F-Primary'(max_degree=1,min_degree=1)\",\n",
       "  'validity': {'start': '2013-11-25T11:15:00Z',\n",
       "   'end': '2020-01-20T21:45:00Z'}},\n",
       " 'IGRF13': {'sources': ['SW_OPER_AUX_IGR_2__19000101T000000_20241231T235959_0103'],\n",
       "  'expression': 'IGRF13(max_degree=13,min_degree=1)',\n",
       "  'validity': {'start': '1900-01-01T00:00:00Z',\n",
       "   'end': '2025-01-01T00:00:00Z'}},\n",
       " 'IGRF12': {'sources': ['SW_OPER_AUX_IGR_2__19000101T000000_20191231T235959_0102'],\n",
       "  'expression': 'IGRF12(max_degree=13,min_degree=1)',\n",
       "  'validity': {'start': '1900-01-01T00:00:00Z',\n",
       "   'end': '2020-01-01T00:00:00Z'}},\n",
       " 'MCO_SHA_2C': {'sources': ['SW_OPER_MCO_SHA_2C_20131125T000000_20190101T000000_0501'],\n",
       "  'expression': 'MCO_SHA_2C(max_degree=18,min_degree=1)',\n",
       "  'validity': {'start': '2013-11-24T18:28:47.999997Z',\n",
       "   'end': '2019-01-01T00:00:00Z'}},\n",
       " 'MF7': {'sources': ['MF7.shc'],\n",
       "  'expression': 'MF7(max_degree=133,min_degree=16)',\n",
       "  'validity': {'start': '0001-01-01T00:00:00Z',\n",
       "   'end': '4000-01-01T00:00:00Z'}},\n",
       " 'MIO_SHA_2D-Primary': {'sources': ['SW_OPER_MIO_SHA_2D_20131201T000000_20171231T235959_0402'],\n",
       "  'expression': \"'MIO_SHA_2D-Primary'(max_degree=60,min_degree=1)\",\n",
       "  'validity': {'start': '0001-01-01T00:00:00Z',\n",
       "   'end': '4000-01-01T00:00:00Z'}},\n",
       " 'MCO_SHA_2D': {'sources': ['SW_OPER_MCO_SHA_2D_20131126T000000_20180101T000000_0401'],\n",
       "  'expression': 'MCO_SHA_2D(max_degree=20,min_degree=1)',\n",
       "  'validity': {'start': '2013-11-25T12:00:00.000003Z',\n",
       "   'end': '2018-01-01T00:00:00Z'}},\n",
       " 'MMA_SHA_2F-Secondary': {'sources': ['SW_OPER_MMA_SHA_2F_20131125T103000_20140101T000000_0108',\n",
       "   'SW_OPER_MMA_SHA_2F_20140101T000000_20150101T000000_0108',\n",
       "   'SW_OPER_MMA_SHA_2F_20150101T000000_20160101T000000_0108',\n",
       "   'SW_OPER_MMA_SHA_2F_20160101T000000_20170101T000000_0108',\n",
       "   'SW_OPER_MMA_SHA_2F_20170101T000000_20180101T000000_0108',\n",
       "   'SW_OPER_MMA_SHA_2F_20180101T000000_20190101T000000_0108',\n",
       "   'SW_OPER_MMA_SHA_2F_20190101T000000_20200101T000000_0108',\n",
       "   'SW_OPER_MMA_SHA_2F_20200101T000000_20200120T223000_0108'],\n",
       "  'expression': \"'MMA_SHA_2F-Secondary'(max_degree=1,min_degree=1)\",\n",
       "  'validity': {'start': '2013-11-25T11:15:00Z',\n",
       "   'end': '2020-01-20T21:45:00Z'}},\n",
       " 'CHAOS-Static': {'sources': ['CHAOS-7_static.shc'],\n",
       "  'expression': \"'CHAOS-Static'(max_degree=185,min_degree=21)\",\n",
       "  'validity': {'start': '0001-01-01T00:00:00Z',\n",
       "   'end': '4000-01-01T00:00:00Z'}},\n",
       " 'MMA_SHA_2C-Secondary': {'sources': ['SW_OPER_MMA_SHA_2C_20131125T000000_20181231T235959_0501'],\n",
       "  'expression': \"'MMA_SHA_2C-Secondary'(max_degree=3,min_degree=1)\",\n",
       "  'validity': {'start': '2013-11-25T03:00:00Z',\n",
       "   'end': '2018-12-31T21:00:00Z'}},\n",
       " 'MMA_SHA_2C-Primary': {'sources': ['SW_OPER_MMA_SHA_2C_20131125T000000_20181231T235959_0501'],\n",
       "  'expression': \"'MMA_SHA_2C-Primary'(max_degree=2,min_degree=1)\",\n",
       "  'validity': {'start': '2013-11-25T03:00:00Z',\n",
       "   'end': '2018-12-31T21:00:00Z'}},\n",
       " 'CHAOS-6-MMA-Secondary': {'sources': ['SW_OPER_MMA_CHAOS__20120101T000000_20121231T233000_0608',\n",
       "   'SW_OPER_MMA_CHAOS__20130101T000000_20131231T233000_0608',\n",
       "   'SW_OPER_MMA_CHAOS__20140101T000000_20141231T233000_0608',\n",
       "   'SW_OPER_MMA_CHAOS__20150101T000000_20151231T233000_0608',\n",
       "   'SW_OPER_MMA_CHAOS__20160101T000000_20161231T233000_0608',\n",
       "   'SW_OPER_MMA_CHAOS__20170101T000000_20171231T233000_0608',\n",
       "   'SW_OPER_MMA_CHAOS__20180101T000000_20181231T233000_0701',\n",
       "   'SW_OPER_MMA_CHAOS__20190101T000000_20200201T233000_0701'],\n",
       "  'expression': \"'CHAOS-6-MMA-Secondary'(max_degree=2,min_degree=1)\",\n",
       "  'validity': {'start': '2012-01-01T00:00:00Z',\n",
       "   'end': '2020-02-01T23:30:00Z'}},\n",
       " 'CHAOS-6-Core': {'sources': ['SW_OPER_MCO_SHA_2X_19970101T000000_20200419T235959_0701'],\n",
       "  'expression': \"'CHAOS-6-Core'(max_degree=20,min_degree=1)\",\n",
       "  'validity': {'start': '1997-02-07T05:31:12.000003Z',\n",
       "   'end': '2020-04-21T02:49:20.639999Z'}},\n",
       " 'MCO_SHA_2X': {'sources': ['SW_OPER_MCO_SHA_2X_19970101T000000_20200419T235959_0701'],\n",
       "  'expression': 'MCO_SHA_2X(max_degree=20,min_degree=1)',\n",
       "  'validity': {'start': '1997-02-07T05:31:12.000003Z',\n",
       "   'end': '2020-04-21T02:49:20.639999Z'}},\n",
       " 'IGRF': {'sources': ['SW_OPER_AUX_IGR_2__19000101T000000_20241231T235959_0103'],\n",
       "  'expression': 'IGRF(max_degree=13,min_degree=1)',\n",
       "  'validity': {'start': '1900-01-01T00:00:00Z',\n",
       "   'end': '2025-01-01T00:00:00Z'}},\n",
       " 'CHAOS-6-MMA-Primary': {'sources': ['SW_OPER_MMA_CHAOS__20120101T000000_20121231T233000_0608',\n",
       "   'SW_OPER_MMA_CHAOS__20130101T000000_20131231T233000_0608',\n",
       "   'SW_OPER_MMA_CHAOS__20140101T000000_20141231T233000_0608',\n",
       "   'SW_OPER_MMA_CHAOS__20150101T000000_20151231T233000_0608',\n",
       "   'SW_OPER_MMA_CHAOS__20160101T000000_20161231T233000_0608',\n",
       "   'SW_OPER_MMA_CHAOS__20170101T000000_20171231T233000_0608',\n",
       "   'SW_OPER_MMA_CHAOS__20180101T000000_20181231T233000_0701',\n",
       "   'SW_OPER_MMA_CHAOS__20190101T000000_20200201T233000_0701'],\n",
       "  'expression': \"'CHAOS-6-MMA-Primary'(max_degree=2,min_degree=1)\",\n",
       "  'validity': {'start': '2012-01-01T00:00:00Z',\n",
       "   'end': '2020-02-01T23:30:00Z'}},\n",
       " 'CHAOS-6-Static': {'sources': ['CHAOS-7_static.shc'],\n",
       "  'expression': \"'CHAOS-6-Static'(max_degree=185,min_degree=21)\",\n",
       "  'validity': {'start': '0001-01-01T00:00:00Z',\n",
       "   'end': '4000-01-01T00:00:00Z'}}}"
      ]
     },
     "execution_count": 32,
     "metadata": {},
     "output_type": "execute_result"
    }
   ],
   "source": [
    "# Create the request object\n",
    "request = SwarmRequest()\n",
    "\n",
    "# Get model info\n",
    "request.get_model_info()"
   ]
  },
  {
   "cell_type": "markdown",
   "metadata": {},
   "source": [
    "E.g. get info about CHAOS-Core and CHAOS-Static:"
   ]
  },
  {
   "cell_type": "code",
   "execution_count": 27,
   "metadata": {},
   "outputs": [
    {
     "data": {
      "text/plain": [
       "{'CHAOS-Core': {'sources': ['SW_OPER_MCO_SHA_2X_19970101T000000_20200419T235959_0701'],\n",
       "  'expression': \"'CHAOS-Core'(max_degree=20,min_degree=1)\",\n",
       "  'validity': {'start': '1997-02-07T05:31:12.000003Z',\n",
       "   'end': '2020-04-21T02:49:20.639999Z'}},\n",
       " 'CHAOS-Static': {'sources': ['CHAOS-7_static.shc'],\n",
       "  'expression': \"'CHAOS-Static'(max_degree=185,min_degree=21)\",\n",
       "  'validity': {'start': '0001-01-01T00:00:00Z',\n",
       "   'end': '4000-01-01T00:00:00Z'}}}"
      ]
     },
     "execution_count": 27,
     "metadata": {},
     "output_type": "execute_result"
    }
   ],
   "source": [
    "request.get_model_info(models=['CHAOS-Core', 'CHAOS-Static'])"
   ]
  },
  {
   "cell_type": "markdown",
   "metadata": {},
   "source": [
    "E.g. set `original_response=True` to get the result as a list of dictionaries:"
   ]
  },
  {
   "cell_type": "code",
   "execution_count": 28,
   "metadata": {},
   "outputs": [
    {
     "data": {
      "text/plain": [
       "[{'sources': ['SW_OPER_MCO_SHA_2X_19970101T000000_20200419T235959_0701'],\n",
       "  'expression': \"'CHAOS-Core'(max_degree=20,min_degree=1)\",\n",
       "  'name': 'CHAOS-Core',\n",
       "  'validity': {'start': '1997-02-07T05:31:12.000003Z',\n",
       "   'end': '2020-04-21T02:49:20.639999Z'}},\n",
       " {'sources': ['CHAOS-7_static.shc'],\n",
       "  'expression': \"'CHAOS-Static'(max_degree=185,min_degree=21)\",\n",
       "  'name': 'CHAOS-Static',\n",
       "  'validity': {'start': '0001-01-01T00:00:00Z',\n",
       "   'end': '4000-01-01T00:00:00Z'}}]"
      ]
     },
     "execution_count": 28,
     "metadata": {},
     "output_type": "execute_result"
    }
   ],
   "source": [
    "request.get_model_info(models=['CHAOS-Core', 'CHAOS-Static'], original_response=True)"
   ]
  },
  {
   "cell_type": "markdown",
   "metadata": {},
   "source": [
    "E.g. get info on a custom model by providing the name of the file containing its coefficients:"
   ]
  },
  {
   "cell_type": "code",
   "execution_count": 30,
   "metadata": {},
   "outputs": [
    {
     "name": "stdout",
     "output_type": "stream",
     "text": [
      "--2020-02-03 11:35:03--  http://www.spacecenter.dk/files/magnetic-models/LCS-1/LCS-1.shc\n",
      "Resolving www.spacecenter.dk (www.spacecenter.dk)... 130.226.216.199\n",
      "Connecting to www.spacecenter.dk (www.spacecenter.dk)|130.226.216.199|:80... connected.\n",
      "HTTP request sent, awaiting response... 200 OK\n",
      "Length: 657666 (642K) [text/plain]\n",
      "Saving to: ‘LCS-1.shc.1’\n",
      "\n",
      "LCS-1.shc.1         100%[===================>] 642.25K  2.24MB/s    in 0.3s    \n",
      "\n",
      "2020-02-03 11:35:04 (2.24 MB/s) - ‘LCS-1.shc.1’ saved [657666/657666]\n",
      "\n"
     ]
    },
    {
     "data": {
      "text/plain": [
       "{'Custom_Model': {'sources': [],\n",
       "  'expression': 'Custom_Model(max_degree=185,min_degree=1)',\n",
       "  'validity': {'start': '0001-01-01T00:00:00Z',\n",
       "   'end': '4000-01-01T00:00:00Z'}}}"
      ]
     },
     "execution_count": 30,
     "metadata": {},
     "output_type": "execute_result"
    }
   ],
   "source": [
    "# Download shc file with WGET (command line tool)\n",
    "!wget \"http://www.spacecenter.dk/files/magnetic-models/LCS-1/LCS-1.shc\"\n",
    "\n",
    "# Upload a .shc file and update the file name\n",
    "request.get_model_info(custom_model='LCS-1.shc')"
   ]
  },
  {
   "cell_type": "code",
   "execution_count": 31,
   "metadata": {},
   "outputs": [],
   "source": [
    "# Delete downloaded file(s)\n",
    "!rm LCS-1.shc*"
   ]
  },
  {
   "cell_type": "markdown",
   "metadata": {},
   "source": [
    "[TOP](#top)\n",
    "\n",
    "<a id=\"SwarmRequest.get_orbit_number\"/>\n",
    "\n",
    "### Get the orbit number\n",
    "\n",
    "It is possible to get the orbit number of a given spacecraft providing date and time."
   ]
  },
  {
   "cell_type": "code",
   "execution_count": 33,
   "metadata": {},
   "outputs": [
    {
     "data": {
      "text/plain": [
       "\u001b[0;31mSignature:\u001b[0m \u001b[0mSwarmRequest\u001b[0m\u001b[0;34m.\u001b[0m\u001b[0mget_orbit_number\u001b[0m\u001b[0;34m(\u001b[0m\u001b[0mself\u001b[0m\u001b[0;34m,\u001b[0m \u001b[0mspacecraft\u001b[0m\u001b[0;34m,\u001b[0m \u001b[0minput_time\u001b[0m\u001b[0;34m)\u001b[0m\u001b[0;34m\u001b[0m\u001b[0;34m\u001b[0m\u001b[0m\n",
       "\u001b[0;31mDocstring:\u001b[0m\n",
       "Translate a time to an orbit number.\n",
       "\n",
       "Args:\n",
       "    spacecraft (str): one of ('A','B','C') or\n",
       "                        (\"Alpha\", \"Bravo\", \"Charlie\")\n",
       "    input_time (datetime): a point in time\n",
       "\n",
       "Returns:\n",
       "    int: The current orbit number at the input_time\n",
       "\u001b[0;31mFile:\u001b[0m      /opt/conda/lib/python3.7/site-packages/viresclient/_client_swarm.py\n",
       "\u001b[0;31mType:\u001b[0m      function\n"
      ]
     },
     "metadata": {},
     "output_type": "display_data"
    }
   ],
   "source": [
    "# Import SwarmClient if not already done\n",
    "from viresclient import SwarmRequest\n",
    "\n",
    "# Get info on SwarmRequest.get_orbit_number\n",
    "SwarmRequest.get_orbit_number?"
   ]
  },
  {
   "cell_type": "markdown",
   "metadata": {},
   "source": [
    "Arguments:\n",
    "\n",
    "- **spacecraft** (*str*): spacecraft identifier: `A`, `B` or `C`.\n",
    "- **input_time** (*datetime.datetime*): date and time.\n",
    "\n",
    "*input_time* must be provided as *datetime.datetime* object, thus we need to import the *datetime* class from the *datetime* package:"
   ]
  },
  {
   "cell_type": "code",
   "execution_count": 8,
   "metadata": {},
   "outputs": [],
   "source": [
    "from datetime import datetime"
   ]
  },
  {
   "cell_type": "markdown",
   "metadata": {},
   "source": [
    "E.g. get orbit numbers corresponding to date 2020-01-01 00:00:00 for the three spacecrafts:"
   ]
  },
  {
   "cell_type": "code",
   "execution_count": 34,
   "metadata": {},
   "outputs": [
    {
     "name": "stdout",
     "output_type": "stream",
     "text": [
      "s/c A: 34324\n",
      "s/c B: 33892\n",
      "s/c C: 34320\n"
     ]
    }
   ],
   "source": [
    "# Create the request object\n",
    "request = SwarmRequest()\n",
    "\n",
    "# Create datetime object\n",
    "dt = datetime(2020, 1, 1)\n",
    "\n",
    "# Get results\n",
    "for sc in ('A', 'B', 'C'):\n",
    "    orbit = request.get_orbit_number(sc, dt)\n",
    "    print(f's/c {sc}: {orbit}')"
   ]
  },
  {
   "cell_type": "markdown",
   "metadata": {},
   "source": [
    "[TOP](#top)\n",
    "\n",
    "<a id=\"SwarmRequest.get_times_for_orbits\"/>\n",
    "\n",
    "### Get times for orbits\n",
    "\n",
    "Get the time interval corresponding to a pair of orbit numbers using the *get_times_for_orbits* method."
   ]
  },
  {
   "cell_type": "code",
   "execution_count": 35,
   "metadata": {},
   "outputs": [
    {
     "data": {
      "text/plain": [
       "\u001b[0;31mSignature:\u001b[0m \u001b[0mSwarmRequest\u001b[0m\u001b[0;34m.\u001b[0m\u001b[0mget_times_for_orbits\u001b[0m\u001b[0;34m(\u001b[0m\u001b[0mself\u001b[0m\u001b[0;34m,\u001b[0m \u001b[0mspacecraft\u001b[0m\u001b[0;34m,\u001b[0m \u001b[0mstart_orbit\u001b[0m\u001b[0;34m,\u001b[0m \u001b[0mend_orbit\u001b[0m\u001b[0;34m)\u001b[0m\u001b[0;34m\u001b[0m\u001b[0;34m\u001b[0m\u001b[0m\n",
       "\u001b[0;31mDocstring:\u001b[0m\n",
       "Translate a pair of orbit numbers to a time interval.\n",
       "\n",
       "Args:\n",
       "    spacecraft (str): one of ('A','B','C') or\n",
       "                        (\"Alpha\", \"Bravo\", \"Charlie\")\n",
       "    start_orbit (int): a starting orbit number\n",
       "    end_orbit (int): a later orbit number\n",
       "\n",
       "Returns:\n",
       "    tuple (datetime): (start_time, end_time) The start time of the\n",
       "    start_orbit and the ending time of the end_orbit.\n",
       "    (Based on ascending nodes of the orbits)\n",
       "\u001b[0;31mFile:\u001b[0m      /opt/conda/lib/python3.7/site-packages/viresclient/_client_swarm.py\n",
       "\u001b[0;31mType:\u001b[0m      function\n"
      ]
     },
     "metadata": {},
     "output_type": "display_data"
    }
   ],
   "source": [
    "# Import SwarmClient if not already done\n",
    "from viresclient import SwarmRequest\n",
    "\n",
    "# Get info on SwarmRequest.get_times_for_orbits\n",
    "SwarmRequest.get_times_for_orbits?"
   ]
  },
  {
   "cell_type": "markdown",
   "metadata": {},
   "source": [
    "Arguments are:\n",
    "\n",
    "- **spacecraft** (*str*): spacecraft identifier: `A`, `B` or `C`.\n",
    "- **start_orbit** (*int*): start orbit number\n",
    "- **end_orbit** (*int*): end orbit number\n",
    "\n",
    "E.g. get time intervals corresponding to *start_orbit* 1000 and *end_orbit* 2000 for the three spacecrafts:"
   ]
  },
  {
   "cell_type": "code",
   "execution_count": 36,
   "metadata": {},
   "outputs": [
    {
     "name": "stdout",
     "output_type": "stream",
     "text": [
      "s/c A: 2014-01-27 04:05:04.228591 - 2014-04-02 13:51:01.876037\n",
      "s/c B: 2014-01-27 04:04:17.158156 - 2014-04-03 00:46:19.552254\n",
      "s/c C: 2014-01-27 04:08:31.126684 - 2014-04-02 19:45:08.511104\n"
     ]
    }
   ],
   "source": [
    "# Set start/end orbits\n",
    "start_orbit = 1000\n",
    "end_orbit = 2000\n",
    "\n",
    "# Create the request object\n",
    "request = SwarmRequest()\n",
    "\n",
    "# Get results\n",
    "for sc in ('A', 'B', 'C'):\n",
    "    start_date, end_date = request.get_times_for_orbits(sc, start_orbit, end_orbit)\n",
    "    print(f's/c {sc}: {start_date} - {end_date}')"
   ]
  },
  {
   "cell_type": "markdown",
   "metadata": {},
   "source": [
    "[TOP](#top)\n",
    "\n",
    "<a id=\"SwarmRequest.set_collection\"/>\n",
    "\n",
    "### Set collections\n",
    "\n",
    "Before sending the request to the server, we need to set the Swarm collection including the measurement(s) of interest. This can be done using the *set_collection* method."
   ]
  },
  {
   "cell_type": "code",
   "execution_count": 37,
   "metadata": {},
   "outputs": [
    {
     "data": {
      "text/plain": [
       "\u001b[0;31mSignature:\u001b[0m \u001b[0mSwarmRequest\u001b[0m\u001b[0;34m.\u001b[0m\u001b[0mset_collection\u001b[0m\u001b[0;34m(\u001b[0m\u001b[0mself\u001b[0m\u001b[0;34m,\u001b[0m \u001b[0;34m*\u001b[0m\u001b[0margs\u001b[0m\u001b[0;34m)\u001b[0m\u001b[0;34m\u001b[0m\u001b[0;34m\u001b[0m\u001b[0m\n",
       "\u001b[0;31mDocstring:\u001b[0m\n",
       "Set the collection(s) to use.\n",
       "\n",
       "Args:\n",
       "    (str): one or several from .available_collections()\n",
       "\u001b[0;31mFile:\u001b[0m      /opt/conda/lib/python3.7/site-packages/viresclient/_client_swarm.py\n",
       "\u001b[0;31mType:\u001b[0m      function\n"
      ]
     },
     "metadata": {},
     "output_type": "display_data"
    }
   ],
   "source": [
    "# Import SwarmClient if not already done\n",
    "from viresclient import SwarmRequest\n",
    "\n",
    "# Get info on SwarmRequest.set_collection\n",
    "SwarmRequest.set_collection?"
   ]
  },
  {
   "cell_type": "markdown",
   "metadata": {},
   "source": [
    "The method accepts one or more collections provided as strings.\n",
    "\n",
    "<a id=\"SwarmRequest.set_collection.example\"/>\n",
    "\n",
    "E.g. to get data from `SW_OPER_MAGA_LR_1B` and `SW_OPER_EFIA_LP_1B` collections:"
   ]
  },
  {
   "cell_type": "code",
   "execution_count": 38,
   "metadata": {},
   "outputs": [
    {
     "data": {
      "text/plain": [
       "<viresclient._client_swarm.SwarmRequest at 0x7f1091bef668>"
      ]
     },
     "execution_count": 38,
     "metadata": {},
     "output_type": "execute_result"
    }
   ],
   "source": [
    "# Create the request object\n",
    "request = SwarmRequest()\n",
    "\n",
    "# Set collections\n",
    "request.set_collection('SW_OPER_MAGA_LR_1B', 'SW_OPER_EFIA_LP_1B')"
   ]
  },
  {
   "cell_type": "markdown",
   "metadata": {},
   "source": [
    "[TOP](#top)\n",
    "\n",
    "<a id=\"SwarmRequest.set_products\"/>\n",
    "\n",
    "### Set products\n",
    "\n",
    "After setting the collection, it is possible to set the combination of measurements and/or auxiliaries and/or magnetic model(s) data to retrieve. This can be done using the *set_products* method."
   ]
  },
  {
   "cell_type": "code",
   "execution_count": 39,
   "metadata": {},
   "outputs": [
    {
     "data": {
      "text/plain": [
       "\u001b[0;31mSignature:\u001b[0m\n",
       "\u001b[0mSwarmRequest\u001b[0m\u001b[0;34m.\u001b[0m\u001b[0mset_products\u001b[0m\u001b[0;34m(\u001b[0m\u001b[0;34m\u001b[0m\n",
       "\u001b[0;34m\u001b[0m    \u001b[0mself\u001b[0m\u001b[0;34m,\u001b[0m\u001b[0;34m\u001b[0m\n",
       "\u001b[0;34m\u001b[0m    \u001b[0mmeasurements\u001b[0m\u001b[0;34m=\u001b[0m\u001b[0;32mNone\u001b[0m\u001b[0;34m,\u001b[0m\u001b[0;34m\u001b[0m\n",
       "\u001b[0;34m\u001b[0m    \u001b[0mmodels\u001b[0m\u001b[0;34m=\u001b[0m\u001b[0;32mNone\u001b[0m\u001b[0;34m,\u001b[0m\u001b[0;34m\u001b[0m\n",
       "\u001b[0;34m\u001b[0m    \u001b[0mcustom_model\u001b[0m\u001b[0;34m=\u001b[0m\u001b[0;32mNone\u001b[0m\u001b[0;34m,\u001b[0m\u001b[0;34m\u001b[0m\n",
       "\u001b[0;34m\u001b[0m    \u001b[0mauxiliaries\u001b[0m\u001b[0;34m=\u001b[0m\u001b[0;32mNone\u001b[0m\u001b[0;34m,\u001b[0m\u001b[0;34m\u001b[0m\n",
       "\u001b[0;34m\u001b[0m    \u001b[0mresiduals\u001b[0m\u001b[0;34m=\u001b[0m\u001b[0;32mFalse\u001b[0m\u001b[0;34m,\u001b[0m\u001b[0;34m\u001b[0m\n",
       "\u001b[0;34m\u001b[0m    \u001b[0msampling_step\u001b[0m\u001b[0;34m=\u001b[0m\u001b[0;32mNone\u001b[0m\u001b[0;34m,\u001b[0m\u001b[0;34m\u001b[0m\n",
       "\u001b[0;34m\u001b[0m\u001b[0;34m)\u001b[0m\u001b[0;34m\u001b[0m\u001b[0;34m\u001b[0m\u001b[0m\n",
       "\u001b[0;31mDocstring:\u001b[0m\n",
       "Set the combination of products to retrieve.\n",
       "\n",
       "If residuals=True then just get the measurement-model residuals,\n",
       "otherwise get both measurement and model values.\n",
       "\n",
       "Args:\n",
       "    measurements (list(str)): from .available_measurements(collection_key)\n",
       "    models (list(str)/dict): from .available_models() or defineable with custom expressions\n",
       "    custom_model (str): path to a custom model in .shc format\n",
       "    auxiliaries (list(str)): from .available_auxiliaries()\n",
       "    residuals (bool): True if only returning measurement-model residual\n",
       "    sampling_step (str): ISO_8601 duration, e.g. 10 seconds: PT10S, 1 minute: PT1M\n",
       "\u001b[0;31mFile:\u001b[0m      /opt/conda/lib/python3.7/site-packages/viresclient/_client_swarm.py\n",
       "\u001b[0;31mType:\u001b[0m      function\n"
      ]
     },
     "metadata": {},
     "output_type": "display_data"
    }
   ],
   "source": [
    "# Import SwarmClient if not already done\n",
    "from viresclient import SwarmRequest\n",
    "\n",
    "# Get info on SwarmRequest.set_products\n",
    "SwarmRequest.set_products?"
   ]
  },
  {
   "cell_type": "markdown",
   "metadata": {},
   "source": [
    "The following arguments are admitted:\n",
    "\n",
    "- **measurements** (*list[str]*, optional): list of measurements to be downloaded. To get the list of the available measurements see [Available measurements](#SwarmRequest.available_measurements) (e.g.: `['F', 'B_NEC', 'Ne']`.).\n",
    "- **models** (*list[str]*, optional): list of magnetic models. To get the list of the available models see [Available models](#SwarmRequest.available_models) (e.g.: `['CHAOS-Core', 'CHAOS-Static']`). In addition to the list, this parameters accepts also expression for the definition of magnetic models (e.g.: `'CHAOS = \"CHAOS-Core\" + \"CHAOS-Static\"'`).\n",
    "- **custom_model** (*str*, optional): path to the the file containing the spherical harmonics coefficients of the custom model.\n",
    "- **auxiliaries** (*list[str]*, optional): list of auxiliaries to be downloaded. To get the list of the available auxiliaries see [Available auxiliaries](#SwarmRequest.available_auxiliaries). Please note that the following parameters are always retrieved (i.e. they don't need to be specified): `Spacecraft`, `Timestamp`, `Latitude`, `Longitude`, `Radius`.\n",
    "- **residuals** (*bool*, optional): if it is set to `True`, returns the residuals between measurements (specified with *measurements*) and models (specified with *models*). If it is set to `False` (default), returns measurements and models.\n",
    "- **sampling_step** (*str*, optional): set the sampling step as an [ISO 8601 time interval](https://en.wikipedia.org/wiki/ISO_8601#Time_intervals). If not provided, data is returned with the original sampling.\n",
    "\n",
    "E.g. get measurements: `F` and `B_NEC` from `SW_OPER_MAGA_LR_1B` and `Ne` from `SW_OPER_EFIA_LP_1B`, model `CHAOS = \"CHAOS-Core\" + \"Chaos-Static\"` and auxiliary `OrbitNumber` with a sampling step of 10 seconds."
   ]
  },
  {
   "cell_type": "code",
   "execution_count": 41,
   "metadata": {},
   "outputs": [
    {
     "data": {
      "text/plain": [
       "<viresclient._client_swarm.SwarmRequest at 0x7f108fcce2b0>"
      ]
     },
     "execution_count": 41,
     "metadata": {},
     "output_type": "execute_result"
    }
   ],
   "source": [
    "# Create the request object\n",
    "request = SwarmRequest()\n",
    "\n",
    "# Set collections\n",
    "request.set_collection('SW_OPER_MAGA_LR_1B', 'SW_OPER_EFIA_LP_1B')\n",
    "\n",
    "# Set products\n",
    "request.set_products(\n",
    "    measurements=['F', 'B_NEC', 'Ne'],\n",
    "    models=['CHAOS = \"CHAOS-Core\" + \"CHAOS-Static\"'],\n",
    "    auxiliaries=['OrbitNumber'],\n",
    "    residuals=False,\n",
    "    sampling_step='PT10S'\n",
    ")"
   ]
  },
  {
   "cell_type": "markdown",
   "metadata": {},
   "source": [
    "[TOP](#top)\n",
    "\n",
    "<a id=\"SwarmRequest.set_range_filter\"/>\n",
    "\n",
    "### Set/clear filters\n",
    "\n",
    "Filter(s) can be applied to the requested measurements using the *set_range_filter* method."
   ]
  },
  {
   "cell_type": "code",
   "execution_count": 42,
   "metadata": {},
   "outputs": [
    {
     "data": {
      "text/plain": [
       "\u001b[0;31mSignature:\u001b[0m\n",
       "\u001b[0mSwarmRequest\u001b[0m\u001b[0;34m.\u001b[0m\u001b[0mset_range_filter\u001b[0m\u001b[0;34m(\u001b[0m\u001b[0;34m\u001b[0m\n",
       "\u001b[0;34m\u001b[0m    \u001b[0mself\u001b[0m\u001b[0;34m,\u001b[0m\u001b[0;34m\u001b[0m\n",
       "\u001b[0;34m\u001b[0m    \u001b[0mparameter\u001b[0m\u001b[0;34m=\u001b[0m\u001b[0;32mNone\u001b[0m\u001b[0;34m,\u001b[0m\u001b[0;34m\u001b[0m\n",
       "\u001b[0;34m\u001b[0m    \u001b[0mminimum\u001b[0m\u001b[0;34m=\u001b[0m\u001b[0;32mNone\u001b[0m\u001b[0;34m,\u001b[0m\u001b[0;34m\u001b[0m\n",
       "\u001b[0;34m\u001b[0m    \u001b[0mmaximum\u001b[0m\u001b[0;34m=\u001b[0m\u001b[0;32mNone\u001b[0m\u001b[0;34m,\u001b[0m\u001b[0;34m\u001b[0m\n",
       "\u001b[0;34m\u001b[0m\u001b[0;34m)\u001b[0m\u001b[0;34m\u001b[0m\u001b[0;34m\u001b[0m\u001b[0m\n",
       "\u001b[0;31mDocstring:\u001b[0m\n",
       "Set a filter to apply.\n",
       "\n",
       "Filters data for minimum ≤ parameter ≤ maximum\n",
       "\n",
       "Note:\n",
       "    Apply multiple filters with successive calls to set_range_filter()\n",
       "\n",
       "Args:\n",
       "    parameter (str)\n",
       "    minimum (float)\n",
       "    maximum (float)\n",
       "\u001b[0;31mFile:\u001b[0m      /opt/conda/lib/python3.7/site-packages/viresclient/_client_swarm.py\n",
       "\u001b[0;31mType:\u001b[0m      function\n"
      ]
     },
     "metadata": {},
     "output_type": "display_data"
    }
   ],
   "source": [
    "# Import SwarmClient if not already done\n",
    "from viresclient import SwarmRequest\n",
    "\n",
    "# Get info on SwarmRequest.set_range_filter\n",
    "SwarmRequest.set_range_filter?"
   ]
  },
  {
   "cell_type": "markdown",
   "metadata": {},
   "source": [
    "This method allows to set filter(s) in the form: $min \\le parameter \\le max$.\n",
    "\n",
    "Arguments:\n",
    "\n",
    "- **parameter** (*str*, optional): parameter to be used as a filter (e.g. `Latitude`)\n",
    "- **minimum** (*float*, optional): allowed minimum value\n",
    "- **maximum** (*float*, optional): allowed maximum value\n",
    "\n",
    "It is possible to apply multiple filters with consecutive calls to this method. E.g. to set filter: -20 <= `Longitude` <= 50 and 30 <= `Latitude` <= 70:"
   ]
  },
  {
   "cell_type": "code",
   "execution_count": 44,
   "metadata": {},
   "outputs": [
    {
     "data": {
      "text/plain": [
       "<viresclient._client_swarm.SwarmRequest at 0x7f10909267f0>"
      ]
     },
     "execution_count": 44,
     "metadata": {},
     "output_type": "execute_result"
    }
   ],
   "source": [
    "# Create the request object\n",
    "request = SwarmRequest()\n",
    "\n",
    "# Set collection\n",
    "request.set_collection('SW_OPER_MAGA_LR_1B')\n",
    "\n",
    "# Set product\n",
    "request.set_products(measurements=['F', 'B_NEC'])\n",
    "\n",
    "# Set filters\n",
    "request.set_range_filter('Longitude', -20.0, 50.0)\n",
    "request.set_range_filter('Latitude', 30.0, 70.0)"
   ]
  },
  {
   "cell_type": "markdown",
   "metadata": {},
   "source": [
    "Filters can be removed using the *clear_range_filter* method:"
   ]
  },
  {
   "cell_type": "code",
   "execution_count": 45,
   "metadata": {},
   "outputs": [
    {
     "data": {
      "text/plain": [
       "<viresclient._client_swarm.SwarmRequest at 0x7f10909267f0>"
      ]
     },
     "execution_count": 45,
     "metadata": {},
     "output_type": "execute_result"
    }
   ],
   "source": [
    "request.clear_range_filter()"
   ]
  },
  {
   "cell_type": "markdown",
   "metadata": {},
   "source": [
    "[TOP](#top)\n",
    "\n",
    "<a id=\"SwarmRequest.get_between\"/>\n",
    "\n",
    "### Send request to the server\n",
    "\n",
    "The request is sent to the server using the *get_between* method. "
   ]
  },
  {
   "cell_type": "code",
   "execution_count": 2,
   "metadata": {},
   "outputs": [
    {
     "data": {
      "text/plain": [
       "\u001b[0;31mSignature:\u001b[0m\n",
       "\u001b[0mSwarmRequest\u001b[0m\u001b[0;34m.\u001b[0m\u001b[0mget_between\u001b[0m\u001b[0;34m(\u001b[0m\u001b[0;34m\u001b[0m\n",
       "\u001b[0;34m\u001b[0m    \u001b[0mself\u001b[0m\u001b[0;34m,\u001b[0m\u001b[0;34m\u001b[0m\n",
       "\u001b[0;34m\u001b[0m    \u001b[0mstart_time\u001b[0m\u001b[0;34m=\u001b[0m\u001b[0;32mNone\u001b[0m\u001b[0;34m,\u001b[0m\u001b[0;34m\u001b[0m\n",
       "\u001b[0;34m\u001b[0m    \u001b[0mend_time\u001b[0m\u001b[0;34m=\u001b[0m\u001b[0;32mNone\u001b[0m\u001b[0;34m,\u001b[0m\u001b[0;34m\u001b[0m\n",
       "\u001b[0;34m\u001b[0m    \u001b[0mfiletype\u001b[0m\u001b[0;34m=\u001b[0m\u001b[0;34m'cdf'\u001b[0m\u001b[0;34m,\u001b[0m\u001b[0;34m\u001b[0m\n",
       "\u001b[0;34m\u001b[0m    \u001b[0masynchronous\u001b[0m\u001b[0;34m=\u001b[0m\u001b[0;32mTrue\u001b[0m\u001b[0;34m,\u001b[0m\u001b[0;34m\u001b[0m\n",
       "\u001b[0;34m\u001b[0m    \u001b[0mshow_progress\u001b[0m\u001b[0;34m=\u001b[0m\u001b[0;32mTrue\u001b[0m\u001b[0;34m,\u001b[0m\u001b[0;34m\u001b[0m\n",
       "\u001b[0;34m\u001b[0m    \u001b[0mnrecords_limit\u001b[0m\u001b[0;34m=\u001b[0m\u001b[0;32mNone\u001b[0m\u001b[0;34m,\u001b[0m\u001b[0;34m\u001b[0m\n",
       "\u001b[0;34m\u001b[0m    \u001b[0mtmpdir\u001b[0m\u001b[0;34m=\u001b[0m\u001b[0;32mNone\u001b[0m\u001b[0;34m,\u001b[0m\u001b[0;34m\u001b[0m\n",
       "\u001b[0;34m\u001b[0m\u001b[0;34m)\u001b[0m\u001b[0;34m\u001b[0m\u001b[0;34m\u001b[0m\u001b[0m\n",
       "\u001b[0;31mDocstring:\u001b[0m\n",
       "Make the server request and download the data.\n",
       "\n",
       "Args:\n",
       "    start_time (datetime / ISO_8601 string)\n",
       "    end_time (datetime / ISO_8601 string)\n",
       "    filetype (str): one of ('csv', 'cdf')\n",
       "    asynchronous (bool): True for asynchronous processing,\n",
       "        False for synchronous\n",
       "    show_progress (bool): Set to False to remove progress bars\n",
       "    nrecords_limit (int): Override the default limit per request\n",
       "        (e.g. nrecords_limit=3456000)\n",
       "    tmpdir (str): Override the default temporary file directory\n",
       "\n",
       "Returns:\n",
       "    ReturnedData:\n",
       "\u001b[0;31mFile:\u001b[0m      /opt/conda/lib/python3.7/site-packages/viresclient/_client.py\n",
       "\u001b[0;31mType:\u001b[0m      function\n"
      ]
     },
     "metadata": {},
     "output_type": "display_data"
    }
   ],
   "source": [
    "# Import SwarmClient if not already done\n",
    "from viresclient import SwarmRequest\n",
    "\n",
    "# Get info on SwarmRequest.get_between\n",
    "SwarmRequest.get_between?"
   ]
  },
  {
   "cell_type": "markdown",
   "metadata": {},
   "source": [
    "Arguments:\n",
    "\n",
    "- **start_time** (*datetime.datetime* or *str*, optional): lower bound of temporal interval. If provided as string, it must be compliant to [ISO-8601](https://en.wikipedia.org/wiki/ISO_8601).\n",
    "- **end_time** (*datetime.datetime* or *str*, optional): upper bound of temporal interval. If provided as string, it must be compliant to [ISO-8601](https://en.wikipedia.org/wiki/ISO_8601).\n",
    "- **filetype** (*str*, optional): file format. Allowed values: `csv` and `cdf` (default).\n",
    "- **asynchronous** (*bool*, optional): if `True` (default), set the asynchronous processing.\n",
    "- **show_progress** (*bool*, optional): if `True` (default), enable the progress bar while processing and downloading data.\n",
    "- **nrecords_limit** (*int*): overrides the limit of 3456000 records.\n",
    "\n",
    "E.g. get measurements: F and B_NEC from SW_OPER_MAGA_LR_1B and Ne from SW_OPER_EFIA_LP_1B, model CHAOS = \"CHAOS-Core\" + \"Chaos-Static\" and auxiliary OrbitNumber with a sampling step of 10 seconds, between 2019-10-01T00:00:00 and 2019-10-01T01:00:00 in CDF format:"
   ]
  },
  {
   "cell_type": "code",
   "execution_count": 3,
   "metadata": {},
   "outputs": [
    {
     "name": "stderr",
     "output_type": "stream",
     "text": [
      "[1/1] Processing:  100%|██████████|  [ Elapsed: 00:01, Remaining: 00:00 ]\n",
      "      Downloading: 100%|██████████|  [ Elapsed: 00:00, Remaining: 00:00 ] (0.098MB)\n"
     ]
    }
   ],
   "source": [
    "# Create the request object\n",
    "request = SwarmRequest()\n",
    "\n",
    "# Set collections\n",
    "request.set_collection('SW_OPER_MAGA_LR_1B', 'SW_OPER_EFIA_LP_1B')\n",
    "\n",
    "# Set products\n",
    "request.set_products(\n",
    "    measurements=['F', 'B_NEC', 'Ne'],\n",
    "    models=['CHAOS = \"CHAOS-Core\" + \"CHAOS-Static\"'],\n",
    "    auxiliaries=['OrbitNumber'],\n",
    "    residuals=False,\n",
    "    sampling_step='PT10S'\n",
    ")\n",
    "\n",
    "# Get data\n",
    "data = request.get_between('2019-10-01T00:00:00', '2019-10-01T01:00:00')"
   ]
  },
  {
   "cell_type": "markdown",
   "metadata": {},
   "source": [
    "Data is returned as `ReturnedData` object:"
   ]
  },
  {
   "cell_type": "code",
   "execution_count": 4,
   "metadata": {},
   "outputs": [
    {
     "data": {
      "text/plain": [
       "viresclient._data_handling.ReturnedData"
      ]
     },
     "execution_count": 4,
     "metadata": {},
     "output_type": "execute_result"
    }
   ],
   "source": [
    "type(data)"
   ]
  },
  {
   "cell_type": "markdown",
   "metadata": {},
   "source": [
    "[TOP](#top)\n",
    "\n",
    "<a id=\"ReturnedData\"/>\n",
    "\n",
    "## `ReturnedData`\n",
    "\n",
    "This object holds data returned from the server (i.e. after invoking [`SwarmRequest.get_between()`](#SwarmRequest.get_between))."
   ]
  },
  {
   "cell_type": "code",
   "execution_count": 40,
   "metadata": {},
   "outputs": [
    {
     "data": {
      "text/plain": [
       "\u001b[0;31mInit signature:\u001b[0m \u001b[0mReturnedData\u001b[0m\u001b[0;34m(\u001b[0m\u001b[0mfiletype\u001b[0m\u001b[0;34m=\u001b[0m\u001b[0;32mNone\u001b[0m\u001b[0;34m,\u001b[0m \u001b[0mN\u001b[0m\u001b[0;34m=\u001b[0m\u001b[0;36m1\u001b[0m\u001b[0;34m,\u001b[0m \u001b[0mtmpdir\u001b[0m\u001b[0;34m=\u001b[0m\u001b[0;32mNone\u001b[0m\u001b[0;34m)\u001b[0m\u001b[0;34m\u001b[0m\u001b[0;34m\u001b[0m\u001b[0m\n",
       "\u001b[0;31mDocstring:\u001b[0m     \n",
       "Flexible object for working with data returned from the server\n",
       "\n",
       "Holds a list of ReturnedDataFile objects.\n",
       "The number of them, N, is set upon initialisation.\n",
       "Access the ReturnedDataFile objects directly via the list in ReturnedData.contents.\n",
       "\n",
       "Example usage::\n",
       "\n",
       "    ...\n",
       "    data = request.get_between(..., ...)\n",
       "    data.as_xarray()\n",
       "    data.as_dataframe(expand=True)\n",
       "    data.to_file()\n",
       "\u001b[0;31mFile:\u001b[0m           /opt/conda/lib/python3.7/site-packages/viresclient/_data_handling.py\n",
       "\u001b[0;31mType:\u001b[0m           type\n",
       "\u001b[0;31mSubclasses:\u001b[0m     \n"
      ]
     },
     "metadata": {},
     "output_type": "display_data"
    }
   ],
   "source": [
    "from viresclient import ReturnedData\n",
    "\n",
    "ReturnedData?"
   ]
  },
  {
   "cell_type": "markdown",
   "metadata": {},
   "source": [
    "[TOP](#top)\n",
    "\n",
    "<a id=\"ReturnedData.sources\"/>\n",
    "\n",
    "### `ReturnedData.sources`\n",
    "\n",
    "This attribute contains the list of source data from which the values have been extracted."
   ]
  },
  {
   "cell_type": "code",
   "execution_count": 41,
   "metadata": {},
   "outputs": [
    {
     "data": {
      "text/plain": [
       "\u001b[0;31mType:\u001b[0m        property\n",
       "\u001b[0;31mString form:\u001b[0m <property object at 0x7fe3fde024f8>\n",
       "\u001b[0;31mDocstring:\u001b[0m  \n",
       "Get list of source product identifiers.\n",
       "        \n"
      ]
     },
     "metadata": {},
     "output_type": "display_data"
    }
   ],
   "source": [
    "ReturnedData.sources?"
   ]
  },
  {
   "cell_type": "markdown",
   "metadata": {},
   "source": [
    "E.g. to list the source of data retrieved in the `SwarmRequest.get_between()` [example](#SwarmRequest.get_between.example1):"
   ]
  },
  {
   "cell_type": "code",
   "execution_count": 42,
   "metadata": {},
   "outputs": [
    {
     "data": {
      "text/plain": [
       "['CHAOS-7_static.shc',\n",
       " 'SW_OPER_AUXAORBCNT_20131122T000000_20200128T000000_0001',\n",
       " 'SW_OPER_EFIA_LP_1B_20190930T000000_20190930T235959_0501_MDR_EFI_LP',\n",
       " 'SW_OPER_EFIA_LP_1B_20191001T000000_20191001T235959_0501_MDR_EFI_LP',\n",
       " 'SW_OPER_MAGA_LR_1B_20191001T000000_20191001T235959_0505_MDR_MAG_LR',\n",
       " 'SW_OPER_MCO_SHA_2X_19970101T000000_20200419T235959_0701']"
      ]
     },
     "execution_count": 42,
     "metadata": {},
     "output_type": "execute_result"
    }
   ],
   "source": [
    "data.sources"
   ]
  },
  {
   "cell_type": "markdown",
   "metadata": {},
   "source": [
    "[TOP](#top)\n",
    "\n",
    "<a id=\"ReturnedData.contents\"/>\n",
    "\n",
    "### `ReturnedData.contents`\n",
    "\n",
    "This attribute contains the list of `ReturnedDataFile` objects downloaded from the server."
   ]
  },
  {
   "cell_type": "code",
   "execution_count": 43,
   "metadata": {},
   "outputs": [
    {
     "data": {
      "text/plain": [
       "\u001b[0;31mType:\u001b[0m        property\n",
       "\u001b[0;31mString form:\u001b[0m <property object at 0x7fe3fddbb7c8>\n",
       "\u001b[0;31mDocstring:\u001b[0m  \n",
       "List of ReturnedDataFile objects\n",
       "        \n"
      ]
     },
     "metadata": {},
     "output_type": "display_data"
    }
   ],
   "source": [
    "ReturnedData.contents?"
   ]
  },
  {
   "cell_type": "markdown",
   "metadata": {},
   "source": [
    "E.g. get the list of `ReturnedDataFile` objects downloaded in the `SwarmRequest.get_between()` [example](#SwarmRequest.get_between.example1):"
   ]
  },
  {
   "cell_type": "code",
   "execution_count": 44,
   "metadata": {},
   "outputs": [
    {
     "data": {
      "text/plain": [
       "[<viresclient._data_handling.ReturnedDataFile at 0x7fe3fd08b4a8>]"
      ]
     },
     "execution_count": 44,
     "metadata": {},
     "output_type": "execute_result"
    }
   ],
   "source": [
    "data.contents"
   ]
  },
  {
   "cell_type": "markdown",
   "metadata": {},
   "source": [
    "[TOP](#top)\n",
    "\n",
    "<a id=\"ReturnedData.filetype\"/>\n",
    "\n",
    "### `ReturnedData.filetype`\n",
    "\n",
    "This attribute contains the type of downloaded files (i.e. `cdf` or `csv`)"
   ]
  },
  {
   "cell_type": "code",
   "execution_count": 45,
   "metadata": {},
   "outputs": [
    {
     "data": {
      "text/plain": [
       "\u001b[0;31mType:\u001b[0m        property\n",
       "\u001b[0;31mString form:\u001b[0m <property object at 0x7fe3fde02548>\n",
       "\u001b[0;31mDocstring:\u001b[0m  \n",
       "Filetype string\n",
       "        \n"
      ]
     },
     "metadata": {},
     "output_type": "display_data"
    }
   ],
   "source": [
    "ReturnedData.filetype?"
   ]
  },
  {
   "cell_type": "markdown",
   "metadata": {},
   "source": [
    "E.g. get type of file downloaded in the `SwarmRequest.get_between()` [example](#SwarmRequest.get_between.example1):"
   ]
  },
  {
   "cell_type": "code",
   "execution_count": 46,
   "metadata": {},
   "outputs": [
    {
     "data": {
      "text/plain": [
       "'cdf'"
      ]
     },
     "execution_count": 46,
     "metadata": {},
     "output_type": "execute_result"
    }
   ],
   "source": [
    "data.filetype"
   ]
  },
  {
   "cell_type": "markdown",
   "metadata": {},
   "source": [
    "[TOP](#top)\n",
    "\n",
    "<a id=\"ReturnedData.magnetic_models\"/>\n",
    "\n",
    "### `ReturnedData.magnetic_models`\n",
    "\n",
    "This attribute contains the list of the magnetic models."
   ]
  },
  {
   "cell_type": "code",
   "execution_count": 47,
   "metadata": {},
   "outputs": [
    {
     "data": {
      "text/plain": [
       "\u001b[0;31mType:\u001b[0m        property\n",
       "\u001b[0;31mString form:\u001b[0m <property object at 0x7fe3fddbb6d8>\n",
       "\u001b[0;31mDocstring:\u001b[0m  \n",
       "Get list of magnetic models used.\n",
       "        \n"
      ]
     },
     "metadata": {},
     "output_type": "display_data"
    }
   ],
   "source": [
    "ReturnedData.magnetic_models?"
   ]
  },
  {
   "cell_type": "markdown",
   "metadata": {},
   "source": [
    "E.g. with reference to the last downloaded data:"
   ]
  },
  {
   "cell_type": "code",
   "execution_count": 48,
   "metadata": {},
   "outputs": [
    {
     "data": {
      "text/plain": [
       "[\"CHAOS = 'CHAOS-Core'(max_degree=20,min_degree=1) + 'CHAOS-Static'(max_degree=185,min_degree=21)\"]"
      ]
     },
     "execution_count": 48,
     "metadata": {},
     "output_type": "execute_result"
    }
   ],
   "source": [
    "data.magnetic_models"
   ]
  },
  {
   "cell_type": "markdown",
   "metadata": {},
   "source": [
    "[TOP](#top)\n",
    "\n",
    "<a id=\"ReturnedData.range_filters\"/>\n",
    "\n",
    "### `ReturnedData.range_filters`\n",
    "\n",
    "This attribute contains the list of applied filters:"
   ]
  },
  {
   "cell_type": "code",
   "execution_count": 49,
   "metadata": {},
   "outputs": [
    {
     "data": {
      "text/plain": [
       "\u001b[0;31mType:\u001b[0m        property\n",
       "\u001b[0;31mString form:\u001b[0m <property object at 0x7fe3fddbb728>\n",
       "\u001b[0;31mDocstring:\u001b[0m  \n",
       "Get list of filters applied.\n",
       "        \n"
      ]
     },
     "metadata": {},
     "output_type": "display_data"
    }
   ],
   "source": [
    "ReturnedData.range_filters?"
   ]
  },
  {
   "cell_type": "markdown",
   "metadata": {},
   "source": [
    "E.g. with reference to the last downloaded data:"
   ]
  },
  {
   "cell_type": "code",
   "execution_count": 50,
   "metadata": {},
   "outputs": [
    {
     "data": {
      "text/plain": [
       "[]"
      ]
     },
     "execution_count": 50,
     "metadata": {},
     "output_type": "execute_result"
    }
   ],
   "source": [
    "data.range_filters"
   ]
  },
  {
   "cell_type": "markdown",
   "metadata": {},
   "source": [
    "[TOP](#top)\n",
    "\n",
    "<a id=\"ReturnedData.as_dataframe\"/>\n",
    "\n",
    "### `ReturnedData.as_dataframe()`\n",
    "\n",
    "Convert `ReturnedData` object to pandas [`DataFrame`](https://pandas.pydata.org/pandas-docs/stable/reference/frame.html) (see pandas reference documentation at  https://pandas.pydata.org/pandas-docs/stable/index.html)."
   ]
  },
  {
   "cell_type": "code",
   "execution_count": 51,
   "metadata": {},
   "outputs": [
    {
     "data": {
      "text/plain": [
       "\u001b[0;31mSignature:\u001b[0m \u001b[0mReturnedData\u001b[0m\u001b[0;34m.\u001b[0m\u001b[0mas_dataframe\u001b[0m\u001b[0;34m(\u001b[0m\u001b[0mself\u001b[0m\u001b[0;34m,\u001b[0m \u001b[0mexpand\u001b[0m\u001b[0;34m=\u001b[0m\u001b[0;32mFalse\u001b[0m\u001b[0;34m)\u001b[0m\u001b[0;34m\u001b[0m\u001b[0;34m\u001b[0m\u001b[0m\n",
       "\u001b[0;31mDocstring:\u001b[0m\n",
       "Convert the data to a pandas DataFrame.\n",
       "\n",
       "If expand is True, expand some columns, e.g.:\n",
       "\n",
       "B_NEC -> B_NEC_N, B_NEC_E, B_NEC_C\n",
       "\n",
       "B_VFM -> B_VFM_i, B_VFM_j, B_VFM_k\n",
       "\n",
       "Args:\n",
       "    expand (bool)\n",
       "\n",
       "Returns:\n",
       "    pandas.DataFrame\n",
       "\u001b[0;31mFile:\u001b[0m      /opt/conda/lib/python3.7/site-packages/viresclient/_data_handling.py\n",
       "\u001b[0;31mType:\u001b[0m      function\n"
      ]
     },
     "metadata": {},
     "output_type": "display_data"
    }
   ],
   "source": [
    "ReturnedData.as_dataframe?"
   ]
  },
  {
   "cell_type": "markdown",
   "metadata": {},
   "source": [
    "The optional `expand` parameter is, by default, set to `False`. This means that the vector parameters are presented as arrays (i.e. all the vector components in a single column). E.g. with reference to data returned in `SwarmRequest.get_between()` [example](#SwarmRequest.get_between.example1):"
   ]
  },
  {
   "cell_type": "code",
   "execution_count": 52,
   "metadata": {},
   "outputs": [
    {
     "data": {
      "text/html": [
       "<div>\n",
       "<style scoped>\n",
       "    .dataframe tbody tr th:only-of-type {\n",
       "        vertical-align: middle;\n",
       "    }\n",
       "\n",
       "    .dataframe tbody tr th {\n",
       "        vertical-align: top;\n",
       "    }\n",
       "\n",
       "    .dataframe thead th {\n",
       "        text-align: right;\n",
       "    }\n",
       "</style>\n",
       "<table border=\"1\" class=\"dataframe\">\n",
       "  <thead>\n",
       "    <tr style=\"text-align: right;\">\n",
       "      <th></th>\n",
       "      <th>Spacecraft</th>\n",
       "      <th>Latitude</th>\n",
       "      <th>Longitude</th>\n",
       "      <th>Radius</th>\n",
       "      <th>F</th>\n",
       "      <th>F_CHAOS</th>\n",
       "      <th>B_NEC</th>\n",
       "      <th>B_NEC_CHAOS</th>\n",
       "      <th>Ne</th>\n",
       "      <th>OrbitNumber</th>\n",
       "    </tr>\n",
       "  </thead>\n",
       "  <tbody>\n",
       "    <tr>\n",
       "      <th>2019-10-01 00:00:00</th>\n",
       "      <td>A</td>\n",
       "      <td>-33.130184</td>\n",
       "      <td>37.641386</td>\n",
       "      <td>6820061.65</td>\n",
       "      <td>26246.0328</td>\n",
       "      <td>26240.985891</td>\n",
       "      <td>[11030.816, -6222.3955000000005, -22988.693300...</td>\n",
       "      <td>[11046.424869499242, -6221.021024854402, -2297...</td>\n",
       "      <td>108830.9</td>\n",
       "      <td>32904</td>\n",
       "    </tr>\n",
       "    <tr>\n",
       "      <th>2019-10-01 00:00:01</th>\n",
       "      <td>A</td>\n",
       "      <td>-33.194279</td>\n",
       "      <td>37.641441</td>\n",
       "      <td>6820066.90</td>\n",
       "      <td>26249.4370</td>\n",
       "      <td>26244.351869</td>\n",
       "      <td>[11018.4866, -6234.7621, -22995.146200000003]</td>\n",
       "      <td>[11034.0388145068, -6233.415904174271, -22981....</td>\n",
       "      <td>108985.6</td>\n",
       "      <td>32904</td>\n",
       "    </tr>\n",
       "    <tr>\n",
       "      <th>2019-10-01 00:00:02</th>\n",
       "      <td>A</td>\n",
       "      <td>-33.258373</td>\n",
       "      <td>37.641502</td>\n",
       "      <td>6820072.14</td>\n",
       "      <td>26252.8804</td>\n",
       "      <td>26247.760366</td>\n",
       "      <td>[11006.2309, -6247.1441, -23001.5979]</td>\n",
       "      <td>[11021.728601082996, -6245.801052536994, -2298...</td>\n",
       "      <td>110149.9</td>\n",
       "      <td>32904</td>\n",
       "    </tr>\n",
       "    <tr>\n",
       "      <th>2019-10-01 00:00:03</th>\n",
       "      <td>A</td>\n",
       "      <td>-33.322467</td>\n",
       "      <td>37.641570</td>\n",
       "      <td>6820077.38</td>\n",
       "      <td>26256.3718</td>\n",
       "      <td>26251.211496</td>\n",
       "      <td>[10994.072400000001, -6259.4914, -23008.0711]</td>\n",
       "      <td>[11009.494017179964, -6258.176491021181, -2299...</td>\n",
       "      <td>110497.3</td>\n",
       "      <td>32904</td>\n",
       "    </tr>\n",
       "    <tr>\n",
       "      <th>2019-10-01 00:00:04</th>\n",
       "      <td>A</td>\n",
       "      <td>-33.386560</td>\n",
       "      <td>37.641644</td>\n",
       "      <td>6820082.60</td>\n",
       "      <td>26259.9015</td>\n",
       "      <td>26254.705565</td>\n",
       "      <td>[10981.9362, -6271.791200000001, -23014.524800...</td>\n",
       "      <td>[10997.334942448828, -6270.542276417115, -2300...</td>\n",
       "      <td>111010.1</td>\n",
       "      <td>32904</td>\n",
       "    </tr>\n",
       "  </tbody>\n",
       "</table>\n",
       "</div>"
      ],
      "text/plain": [
       "                    Spacecraft   Latitude  Longitude      Radius           F  \\\n",
       "2019-10-01 00:00:00          A -33.130184  37.641386  6820061.65  26246.0328   \n",
       "2019-10-01 00:00:01          A -33.194279  37.641441  6820066.90  26249.4370   \n",
       "2019-10-01 00:00:02          A -33.258373  37.641502  6820072.14  26252.8804   \n",
       "2019-10-01 00:00:03          A -33.322467  37.641570  6820077.38  26256.3718   \n",
       "2019-10-01 00:00:04          A -33.386560  37.641644  6820082.60  26259.9015   \n",
       "\n",
       "                          F_CHAOS  \\\n",
       "2019-10-01 00:00:00  26240.985891   \n",
       "2019-10-01 00:00:01  26244.351869   \n",
       "2019-10-01 00:00:02  26247.760366   \n",
       "2019-10-01 00:00:03  26251.211496   \n",
       "2019-10-01 00:00:04  26254.705565   \n",
       "\n",
       "                                                                 B_NEC  \\\n",
       "2019-10-01 00:00:00  [11030.816, -6222.3955000000005, -22988.693300...   \n",
       "2019-10-01 00:00:01      [11018.4866, -6234.7621, -22995.146200000003]   \n",
       "2019-10-01 00:00:02              [11006.2309, -6247.1441, -23001.5979]   \n",
       "2019-10-01 00:00:03      [10994.072400000001, -6259.4914, -23008.0711]   \n",
       "2019-10-01 00:00:04  [10981.9362, -6271.791200000001, -23014.524800...   \n",
       "\n",
       "                                                           B_NEC_CHAOS  \\\n",
       "2019-10-01 00:00:00  [11046.424869499242, -6221.021024854402, -2297...   \n",
       "2019-10-01 00:00:01  [11034.0388145068, -6233.415904174271, -22981....   \n",
       "2019-10-01 00:00:02  [11021.728601082996, -6245.801052536994, -2298...   \n",
       "2019-10-01 00:00:03  [11009.494017179964, -6258.176491021181, -2299...   \n",
       "2019-10-01 00:00:04  [10997.334942448828, -6270.542276417115, -2300...   \n",
       "\n",
       "                           Ne  OrbitNumber  \n",
       "2019-10-01 00:00:00  108830.9        32904  \n",
       "2019-10-01 00:00:01  108985.6        32904  \n",
       "2019-10-01 00:00:02  110149.9        32904  \n",
       "2019-10-01 00:00:03  110497.3        32904  \n",
       "2019-10-01 00:00:04  111010.1        32904  "
      ]
     },
     "execution_count": 52,
     "metadata": {},
     "output_type": "execute_result"
    }
   ],
   "source": [
    "data.as_dataframe().head()"
   ]
  },
  {
   "cell_type": "markdown",
   "metadata": {},
   "source": [
    "Setting `expand=True`, the vector parameters are expanded with each componet in a different column. E.g.:"
   ]
  },
  {
   "cell_type": "code",
   "execution_count": 53,
   "metadata": {},
   "outputs": [
    {
     "data": {
      "text/html": [
       "<div>\n",
       "<style scoped>\n",
       "    .dataframe tbody tr th:only-of-type {\n",
       "        vertical-align: middle;\n",
       "    }\n",
       "\n",
       "    .dataframe tbody tr th {\n",
       "        vertical-align: top;\n",
       "    }\n",
       "\n",
       "    .dataframe thead th {\n",
       "        text-align: right;\n",
       "    }\n",
       "</style>\n",
       "<table border=\"1\" class=\"dataframe\">\n",
       "  <thead>\n",
       "    <tr style=\"text-align: right;\">\n",
       "      <th></th>\n",
       "      <th>Spacecraft</th>\n",
       "      <th>Latitude</th>\n",
       "      <th>Longitude</th>\n",
       "      <th>Radius</th>\n",
       "      <th>F</th>\n",
       "      <th>F_CHAOS</th>\n",
       "      <th>B_NEC_N</th>\n",
       "      <th>B_NEC_E</th>\n",
       "      <th>B_NEC_C</th>\n",
       "      <th>B_NEC_CHAOS_N</th>\n",
       "      <th>B_NEC_CHAOS_E</th>\n",
       "      <th>B_NEC_CHAOS_C</th>\n",
       "      <th>Ne</th>\n",
       "      <th>OrbitNumber</th>\n",
       "    </tr>\n",
       "  </thead>\n",
       "  <tbody>\n",
       "    <tr>\n",
       "      <th>2019-10-01 00:00:00</th>\n",
       "      <td>A</td>\n",
       "      <td>-33.130184</td>\n",
       "      <td>37.641386</td>\n",
       "      <td>6820061.65</td>\n",
       "      <td>26246.0328</td>\n",
       "      <td>26240.985891</td>\n",
       "      <td>11030.8160</td>\n",
       "      <td>-6222.3955</td>\n",
       "      <td>-22988.6933</td>\n",
       "      <td>11046.424869</td>\n",
       "      <td>-6221.021025</td>\n",
       "      <td>-22975.307083</td>\n",
       "      <td>108830.9</td>\n",
       "      <td>32904</td>\n",
       "    </tr>\n",
       "    <tr>\n",
       "      <th>2019-10-01 00:00:01</th>\n",
       "      <td>A</td>\n",
       "      <td>-33.194279</td>\n",
       "      <td>37.641441</td>\n",
       "      <td>6820066.90</td>\n",
       "      <td>26249.4370</td>\n",
       "      <td>26244.351869</td>\n",
       "      <td>11018.4866</td>\n",
       "      <td>-6234.7621</td>\n",
       "      <td>-22995.1462</td>\n",
       "      <td>11034.038815</td>\n",
       "      <td>-6233.415904</td>\n",
       "      <td>-22981.743159</td>\n",
       "      <td>108985.6</td>\n",
       "      <td>32904</td>\n",
       "    </tr>\n",
       "    <tr>\n",
       "      <th>2019-10-01 00:00:02</th>\n",
       "      <td>A</td>\n",
       "      <td>-33.258373</td>\n",
       "      <td>37.641502</td>\n",
       "      <td>6820072.14</td>\n",
       "      <td>26252.8804</td>\n",
       "      <td>26247.760366</td>\n",
       "      <td>11006.2309</td>\n",
       "      <td>-6247.1441</td>\n",
       "      <td>-23001.5979</td>\n",
       "      <td>11021.728601</td>\n",
       "      <td>-6245.801053</td>\n",
       "      <td>-22988.179399</td>\n",
       "      <td>110149.9</td>\n",
       "      <td>32904</td>\n",
       "    </tr>\n",
       "    <tr>\n",
       "      <th>2019-10-01 00:00:03</th>\n",
       "      <td>A</td>\n",
       "      <td>-33.322467</td>\n",
       "      <td>37.641570</td>\n",
       "      <td>6820077.38</td>\n",
       "      <td>26256.3718</td>\n",
       "      <td>26251.211496</td>\n",
       "      <td>10994.0724</td>\n",
       "      <td>-6259.4914</td>\n",
       "      <td>-23008.0711</td>\n",
       "      <td>11009.494017</td>\n",
       "      <td>-6258.176491</td>\n",
       "      <td>-22994.616185</td>\n",
       "      <td>110497.3</td>\n",
       "      <td>32904</td>\n",
       "    </tr>\n",
       "    <tr>\n",
       "      <th>2019-10-01 00:00:04</th>\n",
       "      <td>A</td>\n",
       "      <td>-33.386560</td>\n",
       "      <td>37.641644</td>\n",
       "      <td>6820082.60</td>\n",
       "      <td>26259.9015</td>\n",
       "      <td>26254.705565</td>\n",
       "      <td>10981.9362</td>\n",
       "      <td>-6271.7912</td>\n",
       "      <td>-23014.5248</td>\n",
       "      <td>10997.334942</td>\n",
       "      <td>-6270.542276</td>\n",
       "      <td>-23001.054063</td>\n",
       "      <td>111010.1</td>\n",
       "      <td>32904</td>\n",
       "    </tr>\n",
       "  </tbody>\n",
       "</table>\n",
       "</div>"
      ],
      "text/plain": [
       "                    Spacecraft   Latitude  Longitude      Radius           F  \\\n",
       "2019-10-01 00:00:00          A -33.130184  37.641386  6820061.65  26246.0328   \n",
       "2019-10-01 00:00:01          A -33.194279  37.641441  6820066.90  26249.4370   \n",
       "2019-10-01 00:00:02          A -33.258373  37.641502  6820072.14  26252.8804   \n",
       "2019-10-01 00:00:03          A -33.322467  37.641570  6820077.38  26256.3718   \n",
       "2019-10-01 00:00:04          A -33.386560  37.641644  6820082.60  26259.9015   \n",
       "\n",
       "                          F_CHAOS     B_NEC_N    B_NEC_E     B_NEC_C  \\\n",
       "2019-10-01 00:00:00  26240.985891  11030.8160 -6222.3955 -22988.6933   \n",
       "2019-10-01 00:00:01  26244.351869  11018.4866 -6234.7621 -22995.1462   \n",
       "2019-10-01 00:00:02  26247.760366  11006.2309 -6247.1441 -23001.5979   \n",
       "2019-10-01 00:00:03  26251.211496  10994.0724 -6259.4914 -23008.0711   \n",
       "2019-10-01 00:00:04  26254.705565  10981.9362 -6271.7912 -23014.5248   \n",
       "\n",
       "                     B_NEC_CHAOS_N  B_NEC_CHAOS_E  B_NEC_CHAOS_C        Ne  \\\n",
       "2019-10-01 00:00:00   11046.424869   -6221.021025  -22975.307083  108830.9   \n",
       "2019-10-01 00:00:01   11034.038815   -6233.415904  -22981.743159  108985.6   \n",
       "2019-10-01 00:00:02   11021.728601   -6245.801053  -22988.179399  110149.9   \n",
       "2019-10-01 00:00:03   11009.494017   -6258.176491  -22994.616185  110497.3   \n",
       "2019-10-01 00:00:04   10997.334942   -6270.542276  -23001.054063  111010.1   \n",
       "\n",
       "                     OrbitNumber  \n",
       "2019-10-01 00:00:00        32904  \n",
       "2019-10-01 00:00:01        32904  \n",
       "2019-10-01 00:00:02        32904  \n",
       "2019-10-01 00:00:03        32904  \n",
       "2019-10-01 00:00:04        32904  "
      ]
     },
     "execution_count": 53,
     "metadata": {},
     "output_type": "execute_result"
    }
   ],
   "source": [
    "data.as_dataframe(expand=True).head()"
   ]
  },
  {
   "cell_type": "markdown",
   "metadata": {},
   "source": [
    "[TOP](#top)\n",
    "\n",
    "<a id=\"ReturnedData.as_xarray\"/>\n",
    "\n",
    "### `ReturnedData.as_xarray()`\n",
    "\n",
    "Convert `ReturnedData` object to xarray [`Dataset`](http://xarray.pydata.org/en/stable/data-structures.html#dataset) (see xarray reference documentation at http://xarray.pydata.org/en/stable/index.html)."
   ]
  },
  {
   "cell_type": "code",
   "execution_count": 54,
   "metadata": {},
   "outputs": [
    {
     "data": {
      "text/plain": [
       "\u001b[0;31mSignature:\u001b[0m \u001b[0mReturnedData\u001b[0m\u001b[0;34m.\u001b[0m\u001b[0mas_xarray\u001b[0m\u001b[0;34m(\u001b[0m\u001b[0mself\u001b[0m\u001b[0;34m)\u001b[0m\u001b[0;34m\u001b[0m\u001b[0;34m\u001b[0m\u001b[0m\n",
       "\u001b[0;31mDocstring:\u001b[0m\n",
       "Convert the data to an xarray Dataset.\n",
       "\n",
       "Returns:\n",
       "    xarray.Dataset\n",
       "\u001b[0;31mFile:\u001b[0m      /opt/conda/lib/python3.7/site-packages/viresclient/_data_handling.py\n",
       "\u001b[0;31mType:\u001b[0m      function\n"
      ]
     },
     "metadata": {},
     "output_type": "display_data"
    }
   ],
   "source": [
    "ReturnedData.as_xarray?"
   ]
  },
  {
   "cell_type": "markdown",
   "metadata": {},
   "source": [
    "E.g. with reference to data returned in `SwarmRequest.get_between()` [example](#SwarmRequest.get_between.example1):"
   ]
  },
  {
   "cell_type": "code",
   "execution_count": 55,
   "metadata": {},
   "outputs": [
    {
     "data": {
      "text/html": [
       "<pre>&lt;xarray.Dataset&gt;\n",
       "Dimensions:      (NEC: 3, Timestamp: 3600)\n",
       "Coordinates:\n",
       "  * Timestamp    (Timestamp) datetime64[ns] 2019-10-01 ... 2019-10-01T00:59:59\n",
       "Dimensions without coordinates: NEC\n",
       "Data variables:\n",
       "    Spacecraft   (Timestamp) &lt;U1 &#x27;A&#x27; &#x27;A&#x27; &#x27;A&#x27; &#x27;A&#x27; &#x27;A&#x27; &#x27;A&#x27; ... &#x27;A&#x27; &#x27;A&#x27; &#x27;A&#x27; &#x27;A&#x27; &#x27;A&#x27;\n",
       "    Latitude     (Timestamp) float64 -33.13 -33.19 -33.26 ... 83.7 83.76 83.81\n",
       "    Longitude    (Timestamp) float64 37.64 37.64 37.64 ... -134.3 -134.1 -133.9\n",
       "    Radius       (Timestamp) float64 6.82e+06 6.82e+06 ... 6.803e+06 6.803e+06\n",
       "    F            (Timestamp) float64 2.625e+04 2.625e+04 ... 4.744e+04 4.743e+04\n",
       "    F_CHAOS      (Timestamp) float64 2.624e+04 2.624e+04 ... 4.743e+04 4.743e+04\n",
       "    B_NEC        (Timestamp, NEC) float64 1.103e+04 -6.222e+03 ... 4.742e+04\n",
       "    B_NEC_CHAOS  (Timestamp, NEC) float64 1.105e+04 -6.221e+03 ... 4.742e+04\n",
       "    Ne           (Timestamp) float64 1.088e+05 1.09e+05 ... 3.016e+04 3.059e+04\n",
       "    OrbitNumber  (Timestamp) int32 32904 32904 32904 32904 ... 32905 32905 32905\n",
       "Attributes:\n",
       "    Sources:         [&#x27;CHAOS-7_static.shc&#x27;, &#x27;SW_OPER_AUXAORBCNT_20131122T0000...\n",
       "    MagneticModels:  [&quot;CHAOS = &#x27;CHAOS-Core&#x27;(max_degree=20,min_degree=1) + &#x27;CH...\n",
       "    RangeFilters:    []</pre>"
      ],
      "text/plain": [
       "<xarray.Dataset>\n",
       "Dimensions:      (NEC: 3, Timestamp: 3600)\n",
       "Coordinates:\n",
       "  * Timestamp    (Timestamp) datetime64[ns] 2019-10-01 ... 2019-10-01T00:59:59\n",
       "Dimensions without coordinates: NEC\n",
       "Data variables:\n",
       "    Spacecraft   (Timestamp) <U1 'A' 'A' 'A' 'A' 'A' 'A' ... 'A' 'A' 'A' 'A' 'A'\n",
       "    Latitude     (Timestamp) float64 -33.13 -33.19 -33.26 ... 83.7 83.76 83.81\n",
       "    Longitude    (Timestamp) float64 37.64 37.64 37.64 ... -134.3 -134.1 -133.9\n",
       "    Radius       (Timestamp) float64 6.82e+06 6.82e+06 ... 6.803e+06 6.803e+06\n",
       "    F            (Timestamp) float64 2.625e+04 2.625e+04 ... 4.744e+04 4.743e+04\n",
       "    F_CHAOS      (Timestamp) float64 2.624e+04 2.624e+04 ... 4.743e+04 4.743e+04\n",
       "    B_NEC        (Timestamp, NEC) float64 1.103e+04 -6.222e+03 ... 4.742e+04\n",
       "    B_NEC_CHAOS  (Timestamp, NEC) float64 1.105e+04 -6.221e+03 ... 4.742e+04\n",
       "    Ne           (Timestamp) float64 1.088e+05 1.09e+05 ... 3.016e+04 3.059e+04\n",
       "    OrbitNumber  (Timestamp) int32 32904 32904 32904 32904 ... 32905 32905 32905\n",
       "Attributes:\n",
       "    Sources:         ['CHAOS-7_static.shc', 'SW_OPER_AUXAORBCNT_20131122T0000...\n",
       "    MagneticModels:  [\"CHAOS = 'CHAOS-Core'(max_degree=20,min_degree=1) + 'CH...\n",
       "    RangeFilters:    []"
      ]
     },
     "execution_count": 55,
     "metadata": {},
     "output_type": "execute_result"
    }
   ],
   "source": [
    "data.as_xarray()"
   ]
  },
  {
   "cell_type": "markdown",
   "metadata": {},
   "source": [
    "[TOP](#top)\n",
    "\n",
    "<a id=\"ReturnedData.to_file\"/>\n",
    "\n",
    "### `ReturnedData.to_file()`\n",
    "\n",
    "Save `ReturnedData` object to file."
   ]
  },
  {
   "cell_type": "code",
   "execution_count": 56,
   "metadata": {},
   "outputs": [
    {
     "data": {
      "text/plain": [
       "\u001b[0;31mSignature:\u001b[0m \u001b[0mReturnedData\u001b[0m\u001b[0;34m.\u001b[0m\u001b[0mto_file\u001b[0m\u001b[0;34m(\u001b[0m\u001b[0mself\u001b[0m\u001b[0;34m,\u001b[0m \u001b[0mpath\u001b[0m\u001b[0;34m,\u001b[0m \u001b[0moverwrite\u001b[0m\u001b[0;34m=\u001b[0m\u001b[0;32mFalse\u001b[0m\u001b[0;34m)\u001b[0m\u001b[0;34m\u001b[0m\u001b[0;34m\u001b[0m\u001b[0m\n",
       "\u001b[0;31mDocstring:\u001b[0m\n",
       "Saves the data to the specified file, when data is only in one file.\n",
       "\n",
       "Only write to file if it does not yet exist, or if overwrite=True.\n",
       "Currently handles CSV and CDF formats.\n",
       "\n",
       "Args:\n",
       "    path (str): path to the file to save as\n",
       "    overwrite (bool): Will overwrite existing file if True\n",
       "\u001b[0;31mFile:\u001b[0m      /opt/conda/lib/python3.7/site-packages/viresclient/_data_handling.py\n",
       "\u001b[0;31mType:\u001b[0m      function\n"
      ]
     },
     "metadata": {},
     "output_type": "display_data"
    }
   ],
   "source": [
    "ReturnedData.to_file?"
   ]
  },
  {
   "cell_type": "markdown",
   "metadata": {},
   "source": [
    "The `path` parameter indicates the output file path.\n",
    "\n",
    "The `overwrite` parameter (default: `False`) allows to overwrite the file if already present at `path`.\n",
    "\n",
    "<a id=\"ReturnedData.to_file\"/>\n",
    "\n",
    "E.g.:"
   ]
  },
  {
   "cell_type": "code",
   "execution_count": 57,
   "metadata": {},
   "outputs": [
    {
     "name": "stdout",
     "output_type": "stream",
     "text": [
      "Data written to out.cdf\n"
     ]
    }
   ],
   "source": [
    "data.to_file('out.cdf', True)"
   ]
  },
  {
   "cell_type": "markdown",
   "metadata": {},
   "source": [
    "Try executing again the above cell after setting `overwrite` to `False`.\n",
    "\n",
    "**Note**: this method can be used only if the amount of downloaded data is small (i.e. if the request is not split between multiple requests).\n",
    "\n",
    "<a id=\"ReturnedData.to_file.example1\"/>\n",
    "\n",
    "E.g.: try to download `U_orbit`, `Ne`, `Te`, `Vs` EFI data between 2019-10-01T00:00:00' and '2019-11-01T00:00:00':"
   ]
  },
  {
   "cell_type": "code",
   "execution_count": 58,
   "metadata": {},
   "outputs": [
    {
     "name": "stderr",
     "output_type": "stream",
     "text": [
      "[1/2] Processing:  100%|██████████|  [ Elapsed: 00:03, Remaining: 00:00 ]\n",
      "      Downloading: 100%|██████████|  [ Elapsed: 00:02, Remaining: 00:00 ] (279.743MB)\n",
      "[2/2] Processing:  100%|██████████|  [ Elapsed: 00:01, Remaining: 00:00 ]\n",
      "      Downloading: 100%|██████████|  [ Elapsed: 00:00, Remaining: 00:00 ] (67.389MB)\n"
     ]
    }
   ],
   "source": [
    "newreq = SwarmRequest()\n",
    "newreq.set_collection('SW_OPER_EFIA_LP_1B')\n",
    "newreq.set_products(measurements=['U_orbit', 'Ne', 'Te', 'Vs'])\n",
    "hugedata = newreq.get_between('2019-10-01T00:00:00', '2019-11-01T00:00:00')"
   ]
  },
  {
   "cell_type": "markdown",
   "metadata": {},
   "source": [
    "The request is split between multiple requests. Try to execute the cell below:"
   ]
  },
  {
   "cell_type": "code",
   "execution_count": null,
   "metadata": {},
   "outputs": [],
   "source": [
    "hugedata.to_file('huge.cdf', True)"
   ]
  },
  {
   "cell_type": "code",
   "execution_count": 60,
   "metadata": {},
   "outputs": [],
   "source": [
    "!rm *.cdf"
   ]
  },
  {
   "cell_type": "markdown",
   "metadata": {},
   "source": [
    "[TOP](#top)\n",
    "\n",
    "<a id=\"ReturnedData.to_files\"/>\n",
    "\n",
    "### `ReturnedData.to_files()`\n",
    "\n",
    "Save the `ReturnedData` object to file(s)."
   ]
  },
  {
   "cell_type": "code",
   "execution_count": 61,
   "metadata": {},
   "outputs": [
    {
     "data": {
      "text/plain": [
       "\u001b[0;31mSignature:\u001b[0m \u001b[0mReturnedData\u001b[0m\u001b[0;34m.\u001b[0m\u001b[0mto_files\u001b[0m\u001b[0;34m(\u001b[0m\u001b[0mself\u001b[0m\u001b[0;34m,\u001b[0m \u001b[0mpaths\u001b[0m\u001b[0;34m,\u001b[0m \u001b[0moverwrite\u001b[0m\u001b[0;34m=\u001b[0m\u001b[0;32mFalse\u001b[0m\u001b[0;34m)\u001b[0m\u001b[0;34m\u001b[0m\u001b[0;34m\u001b[0m\u001b[0m\n",
       "\u001b[0;31mDocstring:\u001b[0m\n",
       "Saves the data to the specified files.\n",
       "\n",
       "Only write to file if it does not yet exist, or if overwrite=True.\n",
       "Currently handles CSV and CDF formats.\n",
       "\n",
       "Args:\n",
       "    paths (list of str): paths to the files to save as\n",
       "    overwrite (bool): Will overwrite existing file if True\n",
       "\u001b[0;31mFile:\u001b[0m      /opt/conda/lib/python3.7/site-packages/viresclient/_data_handling.py\n",
       "\u001b[0;31mType:\u001b[0m      function\n"
      ]
     },
     "metadata": {},
     "output_type": "display_data"
    }
   ],
   "source": [
    "ReturnedData.to_files?"
   ]
  },
  {
   "cell_type": "markdown",
   "metadata": {},
   "source": [
    "The `paths` parameter is a list of strings indicating the output file paths.\n",
    "\n",
    "The `overwrite` parameter (default: `False`) allows to overwrite the file if already present."
   ]
  },
  {
   "cell_type": "code",
   "execution_count": 62,
   "metadata": {},
   "outputs": [
    {
     "name": "stdout",
     "output_type": "stream",
     "text": [
      "Data written to out.cdf\n"
     ]
    }
   ],
   "source": [
    "data.to_files(['out.cdf'], True)"
   ]
  },
  {
   "cell_type": "markdown",
   "metadata": {},
   "source": [
    "This method allows to write data to file(s) even if the request has been split between multiple requests. E.g. try to save `hugedata` to two files:"
   ]
  },
  {
   "cell_type": "code",
   "execution_count": 63,
   "metadata": {},
   "outputs": [
    {
     "name": "stdout",
     "output_type": "stream",
     "text": [
      "Data written to first.cdf\n",
      "Data written to second.cdf\n"
     ]
    }
   ],
   "source": [
    "hugedata.to_files(['first.cdf', 'second.cdf'], True)"
   ]
  },
  {
   "cell_type": "markdown",
   "metadata": {},
   "source": [
    "The number of files to be specified must be equal to the number of files indicated by `ReturnedData.contents`. In the above case:"
   ]
  },
  {
   "cell_type": "code",
   "execution_count": 64,
   "metadata": {},
   "outputs": [
    {
     "data": {
      "text/plain": [
       "[<viresclient._data_handling.ReturnedDataFile at 0x7fe3fc778f28>,\n",
       " <viresclient._data_handling.ReturnedDataFile at 0x7fe3fc778a58>]"
      ]
     },
     "execution_count": 64,
     "metadata": {},
     "output_type": "execute_result"
    }
   ],
   "source": [
    "hugedata.contents"
   ]
  },
  {
   "cell_type": "code",
   "execution_count": 65,
   "metadata": {},
   "outputs": [],
   "source": [
    "!rm *.cdf"
   ]
  },
  {
   "cell_type": "markdown",
   "metadata": {},
   "source": [
    "[TOP](#top)\n",
    "\n",
    "<a id=\"ReturnedDataFile\"/>\n",
    "\n",
    "## `ReturnedDataFile`\n",
    "\n",
    "This object holds the file downloaded from the server. Even if the file is not saved (with `ReturnedData.to_files()` method) it is saved into a temporary file and automatically deleted when not needed anymore."
   ]
  },
  {
   "cell_type": "code",
   "execution_count": 66,
   "metadata": {},
   "outputs": [],
   "source": [
    "from viresclient import ReturnedDataFile"
   ]
  },
  {
   "cell_type": "code",
   "execution_count": 67,
   "metadata": {},
   "outputs": [
    {
     "data": {
      "text/plain": [
       "\u001b[0;31mInit signature:\u001b[0m \u001b[0mReturnedDataFile\u001b[0m\u001b[0;34m(\u001b[0m\u001b[0mfiletype\u001b[0m\u001b[0;34m=\u001b[0m\u001b[0;32mNone\u001b[0m\u001b[0;34m,\u001b[0m \u001b[0mtmpdir\u001b[0m\u001b[0;34m=\u001b[0m\u001b[0;32mNone\u001b[0m\u001b[0;34m)\u001b[0m\u001b[0;34m\u001b[0m\u001b[0;34m\u001b[0m\u001b[0m\n",
       "\u001b[0;31mDocstring:\u001b[0m     \n",
       "For handling individual files returned from the server.\n",
       "\n",
       "Holds the data returned from the server and the data type.\n",
       "Data is held in a NamedTemporaryFile, which is automatically closed and\n",
       "destroyed when it goes out of scope.\n",
       "Provides output to different file types and data objects.\n",
       "\u001b[0;31mFile:\u001b[0m           /opt/conda/lib/python3.7/site-packages/viresclient/_data_handling.py\n",
       "\u001b[0;31mType:\u001b[0m           type\n",
       "\u001b[0;31mSubclasses:\u001b[0m     \n"
      ]
     },
     "metadata": {},
     "output_type": "display_data"
    }
   ],
   "source": [
    "ReturnedDataFile?"
   ]
  },
  {
   "cell_type": "markdown",
   "metadata": {},
   "source": [
    "It is possible to access the `ReturnedDataFile` objects via the `ReturnedData.contents` attribute. E.g.:"
   ]
  },
  {
   "cell_type": "code",
   "execution_count": 68,
   "metadata": {},
   "outputs": [
    {
     "data": {
      "text/plain": [
       "[<viresclient._data_handling.ReturnedDataFile at 0x7fe3fd08b4a8>]"
      ]
     },
     "execution_count": 68,
     "metadata": {},
     "output_type": "execute_result"
    }
   ],
   "source": [
    "data.contents"
   ]
  },
  {
   "cell_type": "markdown",
   "metadata": {},
   "source": [
    "[TOP](#top)\n",
    "\n",
    "<a id=\"ReturnedDataFile._file\"/>\n",
    "\n",
    "### `ReturnedDataFile._file`\n",
    "\n",
    "This attribute returns the [`NamedTemporaryFile`](https://docs.python.org/3/library/tempfile.html#tempfile.NamedTemporaryFile) corresponding to the `ReturnedDataFile`. E.g.:"
   ]
  },
  {
   "cell_type": "code",
   "execution_count": 69,
   "metadata": {},
   "outputs": [
    {
     "data": {
      "text/plain": [
       "<tempfile._TemporaryFileWrapper at 0x7fe3fd08b6d8>"
      ]
     },
     "execution_count": 69,
     "metadata": {},
     "output_type": "execute_result"
    }
   ],
   "source": [
    "data.contents[0]._file"
   ]
  },
  {
   "cell_type": "markdown",
   "metadata": {},
   "source": [
    "[TOP](#top)\n",
    "\n",
    "<a id=\"ReturnedDataFile.filetype\"/>\n",
    "\n",
    "### `ReturnedDataFile.filetype`\n",
    "\n",
    "This attribute contains the type of downloaded files (i.e. `cdf`, `csv` or `nc`)"
   ]
  },
  {
   "cell_type": "code",
   "execution_count": 70,
   "metadata": {},
   "outputs": [
    {
     "data": {
      "text/plain": [
       "\u001b[0;31mType:\u001b[0m        property\n",
       "\u001b[0;31mString form:\u001b[0m <property object at 0x7fe4200409a8>\n",
       "\u001b[0;31mDocstring:\u001b[0m  \n",
       "Filetype is one of (\"csv\", \"cdf\", \"nc\")\n",
       "        \n"
      ]
     },
     "metadata": {},
     "output_type": "display_data"
    }
   ],
   "source": [
    "ReturnedDataFile.filetype?"
   ]
  },
  {
   "cell_type": "markdown",
   "metadata": {},
   "source": [
    "E.g. for `data`:"
   ]
  },
  {
   "cell_type": "code",
   "execution_count": 71,
   "metadata": {},
   "outputs": [
    {
     "data": {
      "text/plain": [
       "'cdf'"
      ]
     },
     "execution_count": 71,
     "metadata": {},
     "output_type": "execute_result"
    }
   ],
   "source": [
    "data.contents[0].filetype"
   ]
  },
  {
   "cell_type": "markdown",
   "metadata": {},
   "source": [
    "[TOP](#top)\n",
    "\n",
    "<a id=\"ReturnedDataFile.as_dataframe\"/>\n",
    "\n",
    "### `ReturnedDataFile.as_dataframe()`\n",
    "\n",
    "Convert `ReturnedDataFile` object to pandas [`DataFrame`](https://pandas.pydata.org/pandas-docs/stable/reference/frame.html) (see pandas reference documentation at  https://pandas.pydata.org/pandas-docs/stable/index.html)."
   ]
  },
  {
   "cell_type": "code",
   "execution_count": 72,
   "metadata": {},
   "outputs": [
    {
     "data": {
      "text/plain": [
       "\u001b[0;31mSignature:\u001b[0m \u001b[0mReturnedDataFile\u001b[0m\u001b[0;34m.\u001b[0m\u001b[0mas_dataframe\u001b[0m\u001b[0;34m(\u001b[0m\u001b[0mself\u001b[0m\u001b[0;34m,\u001b[0m \u001b[0mexpand\u001b[0m\u001b[0;34m=\u001b[0m\u001b[0;32mFalse\u001b[0m\u001b[0;34m)\u001b[0m\u001b[0;34m\u001b[0m\u001b[0;34m\u001b[0m\u001b[0m\n",
       "\u001b[0;31mDocstring:\u001b[0m\n",
       "Convert the data to a pandas DataFrame.\n",
       "\n",
       "Returns:\n",
       "    pandas.DataFrame\n",
       "\u001b[0;31mFile:\u001b[0m      /opt/conda/lib/python3.7/site-packages/viresclient/_data_handling.py\n",
       "\u001b[0;31mType:\u001b[0m      function\n"
      ]
     },
     "metadata": {},
     "output_type": "display_data"
    }
   ],
   "source": [
    "ReturnedDataFile.as_dataframe?"
   ]
  },
  {
   "cell_type": "markdown",
   "metadata": {},
   "source": [
    "The optional `expand` parameter is, by default, set to `False`. This means that the vector parameters are presented as arrays (i.e. all the vector components in a single column). E.g. with reference to data returned in `SwarmRequest.get_between()` [example](#SwarmRequest.get_between.example1):"
   ]
  },
  {
   "cell_type": "code",
   "execution_count": 73,
   "metadata": {},
   "outputs": [
    {
     "data": {
      "text/html": [
       "<div>\n",
       "<style scoped>\n",
       "    .dataframe tbody tr th:only-of-type {\n",
       "        vertical-align: middle;\n",
       "    }\n",
       "\n",
       "    .dataframe tbody tr th {\n",
       "        vertical-align: top;\n",
       "    }\n",
       "\n",
       "    .dataframe thead th {\n",
       "        text-align: right;\n",
       "    }\n",
       "</style>\n",
       "<table border=\"1\" class=\"dataframe\">\n",
       "  <thead>\n",
       "    <tr style=\"text-align: right;\">\n",
       "      <th></th>\n",
       "      <th>Spacecraft</th>\n",
       "      <th>Latitude</th>\n",
       "      <th>Longitude</th>\n",
       "      <th>Radius</th>\n",
       "      <th>F</th>\n",
       "      <th>F_CHAOS</th>\n",
       "      <th>B_NEC</th>\n",
       "      <th>B_NEC_CHAOS</th>\n",
       "      <th>Ne</th>\n",
       "      <th>OrbitNumber</th>\n",
       "    </tr>\n",
       "  </thead>\n",
       "  <tbody>\n",
       "    <tr>\n",
       "      <th>2019-10-01 00:00:00</th>\n",
       "      <td>A</td>\n",
       "      <td>-33.130184</td>\n",
       "      <td>37.641386</td>\n",
       "      <td>6820061.65</td>\n",
       "      <td>26246.0328</td>\n",
       "      <td>26240.985891</td>\n",
       "      <td>[11030.816, -6222.3955000000005, -22988.693300...</td>\n",
       "      <td>[11046.424869499242, -6221.021024854402, -2297...</td>\n",
       "      <td>108830.9</td>\n",
       "      <td>32904</td>\n",
       "    </tr>\n",
       "    <tr>\n",
       "      <th>2019-10-01 00:00:01</th>\n",
       "      <td>A</td>\n",
       "      <td>-33.194279</td>\n",
       "      <td>37.641441</td>\n",
       "      <td>6820066.90</td>\n",
       "      <td>26249.4370</td>\n",
       "      <td>26244.351869</td>\n",
       "      <td>[11018.4866, -6234.7621, -22995.146200000003]</td>\n",
       "      <td>[11034.0388145068, -6233.415904174271, -22981....</td>\n",
       "      <td>108985.6</td>\n",
       "      <td>32904</td>\n",
       "    </tr>\n",
       "    <tr>\n",
       "      <th>2019-10-01 00:00:02</th>\n",
       "      <td>A</td>\n",
       "      <td>-33.258373</td>\n",
       "      <td>37.641502</td>\n",
       "      <td>6820072.14</td>\n",
       "      <td>26252.8804</td>\n",
       "      <td>26247.760366</td>\n",
       "      <td>[11006.2309, -6247.1441, -23001.5979]</td>\n",
       "      <td>[11021.728601082996, -6245.801052536994, -2298...</td>\n",
       "      <td>110149.9</td>\n",
       "      <td>32904</td>\n",
       "    </tr>\n",
       "    <tr>\n",
       "      <th>2019-10-01 00:00:03</th>\n",
       "      <td>A</td>\n",
       "      <td>-33.322467</td>\n",
       "      <td>37.641570</td>\n",
       "      <td>6820077.38</td>\n",
       "      <td>26256.3718</td>\n",
       "      <td>26251.211496</td>\n",
       "      <td>[10994.072400000001, -6259.4914, -23008.0711]</td>\n",
       "      <td>[11009.494017179964, -6258.176491021181, -2299...</td>\n",
       "      <td>110497.3</td>\n",
       "      <td>32904</td>\n",
       "    </tr>\n",
       "    <tr>\n",
       "      <th>2019-10-01 00:00:04</th>\n",
       "      <td>A</td>\n",
       "      <td>-33.386560</td>\n",
       "      <td>37.641644</td>\n",
       "      <td>6820082.60</td>\n",
       "      <td>26259.9015</td>\n",
       "      <td>26254.705565</td>\n",
       "      <td>[10981.9362, -6271.791200000001, -23014.524800...</td>\n",
       "      <td>[10997.334942448828, -6270.542276417115, -2300...</td>\n",
       "      <td>111010.1</td>\n",
       "      <td>32904</td>\n",
       "    </tr>\n",
       "  </tbody>\n",
       "</table>\n",
       "</div>"
      ],
      "text/plain": [
       "                    Spacecraft   Latitude  Longitude      Radius           F  \\\n",
       "2019-10-01 00:00:00          A -33.130184  37.641386  6820061.65  26246.0328   \n",
       "2019-10-01 00:00:01          A -33.194279  37.641441  6820066.90  26249.4370   \n",
       "2019-10-01 00:00:02          A -33.258373  37.641502  6820072.14  26252.8804   \n",
       "2019-10-01 00:00:03          A -33.322467  37.641570  6820077.38  26256.3718   \n",
       "2019-10-01 00:00:04          A -33.386560  37.641644  6820082.60  26259.9015   \n",
       "\n",
       "                          F_CHAOS  \\\n",
       "2019-10-01 00:00:00  26240.985891   \n",
       "2019-10-01 00:00:01  26244.351869   \n",
       "2019-10-01 00:00:02  26247.760366   \n",
       "2019-10-01 00:00:03  26251.211496   \n",
       "2019-10-01 00:00:04  26254.705565   \n",
       "\n",
       "                                                                 B_NEC  \\\n",
       "2019-10-01 00:00:00  [11030.816, -6222.3955000000005, -22988.693300...   \n",
       "2019-10-01 00:00:01      [11018.4866, -6234.7621, -22995.146200000003]   \n",
       "2019-10-01 00:00:02              [11006.2309, -6247.1441, -23001.5979]   \n",
       "2019-10-01 00:00:03      [10994.072400000001, -6259.4914, -23008.0711]   \n",
       "2019-10-01 00:00:04  [10981.9362, -6271.791200000001, -23014.524800...   \n",
       "\n",
       "                                                           B_NEC_CHAOS  \\\n",
       "2019-10-01 00:00:00  [11046.424869499242, -6221.021024854402, -2297...   \n",
       "2019-10-01 00:00:01  [11034.0388145068, -6233.415904174271, -22981....   \n",
       "2019-10-01 00:00:02  [11021.728601082996, -6245.801052536994, -2298...   \n",
       "2019-10-01 00:00:03  [11009.494017179964, -6258.176491021181, -2299...   \n",
       "2019-10-01 00:00:04  [10997.334942448828, -6270.542276417115, -2300...   \n",
       "\n",
       "                           Ne  OrbitNumber  \n",
       "2019-10-01 00:00:00  108830.9        32904  \n",
       "2019-10-01 00:00:01  108985.6        32904  \n",
       "2019-10-01 00:00:02  110149.9        32904  \n",
       "2019-10-01 00:00:03  110497.3        32904  \n",
       "2019-10-01 00:00:04  111010.1        32904  "
      ]
     },
     "execution_count": 73,
     "metadata": {},
     "output_type": "execute_result"
    }
   ],
   "source": [
    "data.contents[0].as_dataframe().head()"
   ]
  },
  {
   "cell_type": "markdown",
   "metadata": {},
   "source": [
    "Setting `expand=True`, the vector parameters are expanded with each componet in a different column. E.g.:"
   ]
  },
  {
   "cell_type": "code",
   "execution_count": 74,
   "metadata": {},
   "outputs": [
    {
     "data": {
      "text/html": [
       "<div>\n",
       "<style scoped>\n",
       "    .dataframe tbody tr th:only-of-type {\n",
       "        vertical-align: middle;\n",
       "    }\n",
       "\n",
       "    .dataframe tbody tr th {\n",
       "        vertical-align: top;\n",
       "    }\n",
       "\n",
       "    .dataframe thead th {\n",
       "        text-align: right;\n",
       "    }\n",
       "</style>\n",
       "<table border=\"1\" class=\"dataframe\">\n",
       "  <thead>\n",
       "    <tr style=\"text-align: right;\">\n",
       "      <th></th>\n",
       "      <th>Spacecraft</th>\n",
       "      <th>Latitude</th>\n",
       "      <th>Longitude</th>\n",
       "      <th>Radius</th>\n",
       "      <th>F</th>\n",
       "      <th>F_CHAOS</th>\n",
       "      <th>B_NEC_N</th>\n",
       "      <th>B_NEC_E</th>\n",
       "      <th>B_NEC_C</th>\n",
       "      <th>B_NEC_CHAOS_N</th>\n",
       "      <th>B_NEC_CHAOS_E</th>\n",
       "      <th>B_NEC_CHAOS_C</th>\n",
       "      <th>Ne</th>\n",
       "      <th>OrbitNumber</th>\n",
       "    </tr>\n",
       "  </thead>\n",
       "  <tbody>\n",
       "    <tr>\n",
       "      <th>2019-10-01 00:00:00</th>\n",
       "      <td>A</td>\n",
       "      <td>-33.130184</td>\n",
       "      <td>37.641386</td>\n",
       "      <td>6820061.65</td>\n",
       "      <td>26246.0328</td>\n",
       "      <td>26240.985891</td>\n",
       "      <td>11030.8160</td>\n",
       "      <td>-6222.3955</td>\n",
       "      <td>-22988.6933</td>\n",
       "      <td>11046.424869</td>\n",
       "      <td>-6221.021025</td>\n",
       "      <td>-22975.307083</td>\n",
       "      <td>108830.9</td>\n",
       "      <td>32904</td>\n",
       "    </tr>\n",
       "    <tr>\n",
       "      <th>2019-10-01 00:00:01</th>\n",
       "      <td>A</td>\n",
       "      <td>-33.194279</td>\n",
       "      <td>37.641441</td>\n",
       "      <td>6820066.90</td>\n",
       "      <td>26249.4370</td>\n",
       "      <td>26244.351869</td>\n",
       "      <td>11018.4866</td>\n",
       "      <td>-6234.7621</td>\n",
       "      <td>-22995.1462</td>\n",
       "      <td>11034.038815</td>\n",
       "      <td>-6233.415904</td>\n",
       "      <td>-22981.743159</td>\n",
       "      <td>108985.6</td>\n",
       "      <td>32904</td>\n",
       "    </tr>\n",
       "    <tr>\n",
       "      <th>2019-10-01 00:00:02</th>\n",
       "      <td>A</td>\n",
       "      <td>-33.258373</td>\n",
       "      <td>37.641502</td>\n",
       "      <td>6820072.14</td>\n",
       "      <td>26252.8804</td>\n",
       "      <td>26247.760366</td>\n",
       "      <td>11006.2309</td>\n",
       "      <td>-6247.1441</td>\n",
       "      <td>-23001.5979</td>\n",
       "      <td>11021.728601</td>\n",
       "      <td>-6245.801053</td>\n",
       "      <td>-22988.179399</td>\n",
       "      <td>110149.9</td>\n",
       "      <td>32904</td>\n",
       "    </tr>\n",
       "    <tr>\n",
       "      <th>2019-10-01 00:00:03</th>\n",
       "      <td>A</td>\n",
       "      <td>-33.322467</td>\n",
       "      <td>37.641570</td>\n",
       "      <td>6820077.38</td>\n",
       "      <td>26256.3718</td>\n",
       "      <td>26251.211496</td>\n",
       "      <td>10994.0724</td>\n",
       "      <td>-6259.4914</td>\n",
       "      <td>-23008.0711</td>\n",
       "      <td>11009.494017</td>\n",
       "      <td>-6258.176491</td>\n",
       "      <td>-22994.616185</td>\n",
       "      <td>110497.3</td>\n",
       "      <td>32904</td>\n",
       "    </tr>\n",
       "    <tr>\n",
       "      <th>2019-10-01 00:00:04</th>\n",
       "      <td>A</td>\n",
       "      <td>-33.386560</td>\n",
       "      <td>37.641644</td>\n",
       "      <td>6820082.60</td>\n",
       "      <td>26259.9015</td>\n",
       "      <td>26254.705565</td>\n",
       "      <td>10981.9362</td>\n",
       "      <td>-6271.7912</td>\n",
       "      <td>-23014.5248</td>\n",
       "      <td>10997.334942</td>\n",
       "      <td>-6270.542276</td>\n",
       "      <td>-23001.054063</td>\n",
       "      <td>111010.1</td>\n",
       "      <td>32904</td>\n",
       "    </tr>\n",
       "  </tbody>\n",
       "</table>\n",
       "</div>"
      ],
      "text/plain": [
       "                    Spacecraft   Latitude  Longitude      Radius           F  \\\n",
       "2019-10-01 00:00:00          A -33.130184  37.641386  6820061.65  26246.0328   \n",
       "2019-10-01 00:00:01          A -33.194279  37.641441  6820066.90  26249.4370   \n",
       "2019-10-01 00:00:02          A -33.258373  37.641502  6820072.14  26252.8804   \n",
       "2019-10-01 00:00:03          A -33.322467  37.641570  6820077.38  26256.3718   \n",
       "2019-10-01 00:00:04          A -33.386560  37.641644  6820082.60  26259.9015   \n",
       "\n",
       "                          F_CHAOS     B_NEC_N    B_NEC_E     B_NEC_C  \\\n",
       "2019-10-01 00:00:00  26240.985891  11030.8160 -6222.3955 -22988.6933   \n",
       "2019-10-01 00:00:01  26244.351869  11018.4866 -6234.7621 -22995.1462   \n",
       "2019-10-01 00:00:02  26247.760366  11006.2309 -6247.1441 -23001.5979   \n",
       "2019-10-01 00:00:03  26251.211496  10994.0724 -6259.4914 -23008.0711   \n",
       "2019-10-01 00:00:04  26254.705565  10981.9362 -6271.7912 -23014.5248   \n",
       "\n",
       "                     B_NEC_CHAOS_N  B_NEC_CHAOS_E  B_NEC_CHAOS_C        Ne  \\\n",
       "2019-10-01 00:00:00   11046.424869   -6221.021025  -22975.307083  108830.9   \n",
       "2019-10-01 00:00:01   11034.038815   -6233.415904  -22981.743159  108985.6   \n",
       "2019-10-01 00:00:02   11021.728601   -6245.801053  -22988.179399  110149.9   \n",
       "2019-10-01 00:00:03   11009.494017   -6258.176491  -22994.616185  110497.3   \n",
       "2019-10-01 00:00:04   10997.334942   -6270.542276  -23001.054063  111010.1   \n",
       "\n",
       "                     OrbitNumber  \n",
       "2019-10-01 00:00:00        32904  \n",
       "2019-10-01 00:00:01        32904  \n",
       "2019-10-01 00:00:02        32904  \n",
       "2019-10-01 00:00:03        32904  \n",
       "2019-10-01 00:00:04        32904  "
      ]
     },
     "execution_count": 74,
     "metadata": {},
     "output_type": "execute_result"
    }
   ],
   "source": [
    "data.contents[0].as_dataframe(expand=True).head()"
   ]
  },
  {
   "cell_type": "markdown",
   "metadata": {},
   "source": [
    "[TOP](#top)\n",
    "\n",
    "<a id=\"ReturnedDataFile.as_xarray\"/>\n",
    "\n",
    "### `ReturnedDataFile.as_xarray()`\n",
    "\n",
    "Convert `ReturnedDataFile` object to xarray [`Dataset`](http://xarray.pydata.org/en/stable/data-structures.html#dataset) (see xarray reference documentation at http://xarray.pydata.org/en/stable/index.html)."
   ]
  },
  {
   "cell_type": "code",
   "execution_count": 75,
   "metadata": {},
   "outputs": [
    {
     "data": {
      "text/plain": [
       "\u001b[0;31mSignature:\u001b[0m \u001b[0mReturnedDataFile\u001b[0m\u001b[0;34m.\u001b[0m\u001b[0mas_xarray\u001b[0m\u001b[0;34m(\u001b[0m\u001b[0mself\u001b[0m\u001b[0;34m,\u001b[0m \u001b[0mgroup\u001b[0m\u001b[0;34m=\u001b[0m\u001b[0;32mNone\u001b[0m\u001b[0;34m)\u001b[0m\u001b[0;34m\u001b[0m\u001b[0;34m\u001b[0m\u001b[0m\n",
       "\u001b[0;31mDocstring:\u001b[0m\n",
       "Convert the data to an xarray Dataset.\n",
       "\n",
       "Note:\n",
       "    Does not support csv\n",
       "\n",
       "    Only supports scalar and 3D vectors (currently)\n",
       "\n",
       "Returns:\n",
       "    xarray.Dataset\n",
       "\u001b[0;31mFile:\u001b[0m      /opt/conda/lib/python3.7/site-packages/viresclient/_data_handling.py\n",
       "\u001b[0;31mType:\u001b[0m      function\n"
      ]
     },
     "metadata": {},
     "output_type": "display_data"
    }
   ],
   "source": [
    "ReturnedDataFile.as_xarray?"
   ]
  },
  {
   "cell_type": "markdown",
   "metadata": {},
   "source": [
    "E.g. with reference to data returned in `SwarmRequest.get_between()` [example](#SwarmRequest.get_between.example1):"
   ]
  },
  {
   "cell_type": "code",
   "execution_count": 76,
   "metadata": {},
   "outputs": [
    {
     "data": {
      "text/html": [
       "<pre>&lt;xarray.Dataset&gt;\n",
       "Dimensions:      (NEC: 3, Timestamp: 3600)\n",
       "Coordinates:\n",
       "  * Timestamp    (Timestamp) datetime64[ns] 2019-10-01 ... 2019-10-01T00:59:59\n",
       "Dimensions without coordinates: NEC\n",
       "Data variables:\n",
       "    Spacecraft   (Timestamp) &lt;U1 &#x27;A&#x27; &#x27;A&#x27; &#x27;A&#x27; &#x27;A&#x27; &#x27;A&#x27; &#x27;A&#x27; ... &#x27;A&#x27; &#x27;A&#x27; &#x27;A&#x27; &#x27;A&#x27; &#x27;A&#x27;\n",
       "    Latitude     (Timestamp) float64 -33.13 -33.19 -33.26 ... 83.7 83.76 83.81\n",
       "    Longitude    (Timestamp) float64 37.64 37.64 37.64 ... -134.3 -134.1 -133.9\n",
       "    Radius       (Timestamp) float64 6.82e+06 6.82e+06 ... 6.803e+06 6.803e+06\n",
       "    F            (Timestamp) float64 2.625e+04 2.625e+04 ... 4.744e+04 4.743e+04\n",
       "    F_CHAOS      (Timestamp) float64 2.624e+04 2.624e+04 ... 4.743e+04 4.743e+04\n",
       "    B_NEC        (Timestamp, NEC) float64 1.103e+04 -6.222e+03 ... 4.742e+04\n",
       "    B_NEC_CHAOS  (Timestamp, NEC) float64 1.105e+04 -6.221e+03 ... 4.742e+04\n",
       "    Ne           (Timestamp) float64 1.088e+05 1.09e+05 ... 3.016e+04 3.059e+04\n",
       "    OrbitNumber  (Timestamp) int32 32904 32904 32904 32904 ... 32905 32905 32905</pre>"
      ],
      "text/plain": [
       "<xarray.Dataset>\n",
       "Dimensions:      (NEC: 3, Timestamp: 3600)\n",
       "Coordinates:\n",
       "  * Timestamp    (Timestamp) datetime64[ns] 2019-10-01 ... 2019-10-01T00:59:59\n",
       "Dimensions without coordinates: NEC\n",
       "Data variables:\n",
       "    Spacecraft   (Timestamp) <U1 'A' 'A' 'A' 'A' 'A' 'A' ... 'A' 'A' 'A' 'A' 'A'\n",
       "    Latitude     (Timestamp) float64 -33.13 -33.19 -33.26 ... 83.7 83.76 83.81\n",
       "    Longitude    (Timestamp) float64 37.64 37.64 37.64 ... -134.3 -134.1 -133.9\n",
       "    Radius       (Timestamp) float64 6.82e+06 6.82e+06 ... 6.803e+06 6.803e+06\n",
       "    F            (Timestamp) float64 2.625e+04 2.625e+04 ... 4.744e+04 4.743e+04\n",
       "    F_CHAOS      (Timestamp) float64 2.624e+04 2.624e+04 ... 4.743e+04 4.743e+04\n",
       "    B_NEC        (Timestamp, NEC) float64 1.103e+04 -6.222e+03 ... 4.742e+04\n",
       "    B_NEC_CHAOS  (Timestamp, NEC) float64 1.105e+04 -6.221e+03 ... 4.742e+04\n",
       "    Ne           (Timestamp) float64 1.088e+05 1.09e+05 ... 3.016e+04 3.059e+04\n",
       "    OrbitNumber  (Timestamp) int32 32904 32904 32904 32904 ... 32905 32905 32905"
      ]
     },
     "execution_count": 76,
     "metadata": {},
     "output_type": "execute_result"
    }
   ],
   "source": [
    "data.contents[0].as_xarray()"
   ]
  },
  {
   "cell_type": "markdown",
   "metadata": {},
   "source": [
    "[TOP](#top)\n",
    "\n",
    "<a id=\"ReturnedDataFile.to_file\"/>\n",
    "\n",
    "### `ReturnedDataFile.to_file()`\n",
    "\n",
    "Save `ReturnedDataFile` object to file."
   ]
  },
  {
   "cell_type": "code",
   "execution_count": 77,
   "metadata": {},
   "outputs": [
    {
     "data": {
      "text/plain": [
       "\u001b[0;31mSignature:\u001b[0m \u001b[0mReturnedDataFile\u001b[0m\u001b[0;34m.\u001b[0m\u001b[0mto_file\u001b[0m\u001b[0;34m(\u001b[0m\u001b[0mself\u001b[0m\u001b[0;34m,\u001b[0m \u001b[0mpath\u001b[0m\u001b[0;34m,\u001b[0m \u001b[0moverwrite\u001b[0m\u001b[0;34m=\u001b[0m\u001b[0;32mFalse\u001b[0m\u001b[0;34m)\u001b[0m\u001b[0;34m\u001b[0m\u001b[0;34m\u001b[0m\u001b[0m\n",
       "\u001b[0;31mDocstring:\u001b[0m\n",
       "Saves the data to the specified file.\n",
       "\n",
       "Only write to file if it does not yet exist, or if overwrite=True.\n",
       "Currently handles CSV and CDF formats.\n",
       "\n",
       "Args:\n",
       "    path (str): path to the file to save as\n",
       "    overwrite (bool): Will overwrite existing file if True\n",
       "\u001b[0;31mFile:\u001b[0m      /opt/conda/lib/python3.7/site-packages/viresclient/_data_handling.py\n",
       "\u001b[0;31mType:\u001b[0m      function\n"
      ]
     },
     "metadata": {},
     "output_type": "display_data"
    }
   ],
   "source": [
    "ReturnedDataFile.to_file?"
   ]
  },
  {
   "cell_type": "markdown",
   "metadata": {},
   "source": [
    "The `path` parameter indicates the output file path.\n",
    "\n",
    "The `overwrite` parameter (default: `False`) allows to overwrite the file if already present at `path`."
   ]
  },
  {
   "cell_type": "code",
   "execution_count": 78,
   "metadata": {},
   "outputs": [
    {
     "name": "stdout",
     "output_type": "stream",
     "text": [
      "Data written to out.cdf\n"
     ]
    }
   ],
   "source": [
    "data.contents[0].to_file('out.cdf', True)"
   ]
  },
  {
   "cell_type": "markdown",
   "metadata": {},
   "source": [
    "Try executing again the above cell after setting `overwrite` to `False`."
   ]
  },
  {
   "cell_type": "code",
   "execution_count": 79,
   "metadata": {},
   "outputs": [],
   "source": [
    "!rm out.cdf"
   ]
  },
  {
   "cell_type": "markdown",
   "metadata": {},
   "source": [
    "[TOP](#top)\n",
    "\n",
    "<a id=\"ClientConfig\"/>\n",
    "\n",
    "## `ClientConfig`\n",
    "\n",
    "Class for client configuration."
   ]
  },
  {
   "cell_type": "code",
   "execution_count": 80,
   "metadata": {},
   "outputs": [
    {
     "data": {
      "text/plain": [
       "\u001b[0;31mInit signature:\u001b[0m \u001b[0mClientConfig\u001b[0m\u001b[0;34m(\u001b[0m\u001b[0mpath\u001b[0m\u001b[0;34m=\u001b[0m\u001b[0;32mNone\u001b[0m\u001b[0;34m)\u001b[0m\u001b[0;34m\u001b[0m\u001b[0;34m\u001b[0m\u001b[0m\n",
       "\u001b[0;31mDocstring:\u001b[0m     \n",
       "Client configuration.\n",
       "\n",
       "Example usage::\n",
       "\n",
       "  cc = ClientConfig()      # use default configuration file\n",
       "  cc = ClientConfig(\"./viresconf.ini\")  # use custom configuration file\n",
       "\n",
       "  print(cc.path)           # print path\n",
       "  print(cc)                # print the whole configuration\n",
       "\n",
       "  cc.default_url = \"https://foo.bar/ows\"  # set default server\n",
       "\n",
       "  # access to credentials configuration ...\n",
       "  cc.set_site_config(\"https://foo.bar/ows\", username=\"...\", password=\"...\")\n",
       "  cc.set_site_config(\"https://foo2.bar/ows\", token=\"...\")\n",
       "\n",
       "  cc.save()    # save configuration\n",
       "\u001b[0;31mFile:\u001b[0m           /opt/conda/lib/python3.7/site-packages/viresclient/_config.py\n",
       "\u001b[0;31mType:\u001b[0m           type\n",
       "\u001b[0;31mSubclasses:\u001b[0m     \n"
      ]
     },
     "metadata": {},
     "output_type": "display_data"
    }
   ],
   "source": [
    "from viresclient import ClientConfig\n",
    "\n",
    "ClientConfig?"
   ]
  },
  {
   "cell_type": "markdown",
   "metadata": {},
   "source": [
    "Load `viresclient` configuration from the configuration file.\n",
    "\n",
    "<a id=\"ClientConfig.example1\"/>\n",
    "\n",
    "The `path` argument is optional and is needed to specify the configuration file. If it is not specified, the configuration file will be `~/.viresclient.ini`. E.g.:"
   ]
  },
  {
   "cell_type": "code",
   "execution_count": 81,
   "metadata": {},
   "outputs": [],
   "source": [
    "default = ClientConfig()"
   ]
  },
  {
   "cell_type": "markdown",
   "metadata": {},
   "source": [
    "[TOP](#top)\n",
    "\n",
    "<a id=\"ClientConfig.path\"/>\n",
    "\n",
    "### `ClientConfig.path`\n",
    "\n",
    "Get path of the configuration file."
   ]
  },
  {
   "cell_type": "code",
   "execution_count": 82,
   "metadata": {},
   "outputs": [
    {
     "data": {
      "text/plain": [
       "\u001b[0;31mType:\u001b[0m        property\n",
       "\u001b[0;31mString form:\u001b[0m <property object at 0x7fe4202774a8>\n",
       "\u001b[0;31mDocstring:\u001b[0m   Get path of the configuration file. \n"
      ]
     },
     "metadata": {},
     "output_type": "display_data"
    }
   ],
   "source": [
    "ClientConfig.path?"
   ]
  },
  {
   "cell_type": "markdown",
   "metadata": {},
   "source": [
    "E.g. for default configuration file:"
   ]
  },
  {
   "cell_type": "code",
   "execution_count": 83,
   "metadata": {},
   "outputs": [
    {
     "data": {
      "text/plain": [
       "'/home/jovyan/.viresclient.ini'"
      ]
     },
     "execution_count": 83,
     "metadata": {},
     "output_type": "execute_result"
    }
   ],
   "source": [
    "default.path"
   ]
  },
  {
   "cell_type": "markdown",
   "metadata": {},
   "source": [
    "[TOP](#top)\n",
    "\n",
    "<a id=\"ClientConfig.default_url\"/>\n",
    "\n",
    "### `ClientConfig.default_url`\n",
    "\n",
    "Get/set the default server URL (i.e. the one used when `SwarmClient` class is invoked without URL)."
   ]
  },
  {
   "cell_type": "code",
   "execution_count": 84,
   "metadata": {},
   "outputs": [
    {
     "data": {
      "text/plain": [
       "\u001b[0;31mType:\u001b[0m        property\n",
       "\u001b[0;31mString form:\u001b[0m <property object at 0x7fe420289ea8>\n",
       "\u001b[0;31mDocstring:\u001b[0m   Get default URL or None if not set. \n"
      ]
     },
     "metadata": {},
     "output_type": "display_data"
    }
   ],
   "source": [
    "ClientConfig.default_url?"
   ]
  },
  {
   "cell_type": "markdown",
   "metadata": {},
   "source": [
    "E.g. for default configuration file:"
   ]
  },
  {
   "cell_type": "code",
   "execution_count": 85,
   "metadata": {},
   "outputs": [
    {
     "data": {
      "text/plain": [
       "'https://vires.services/ows'"
      ]
     },
     "execution_count": 85,
     "metadata": {},
     "output_type": "execute_result"
    }
   ],
   "source": [
    "default.default_url"
   ]
  },
  {
   "cell_type": "markdown",
   "metadata": {},
   "source": [
    "If the default URL is not set, the attribute returns `None`. E.g:"
   ]
  },
  {
   "cell_type": "code",
   "execution_count": 86,
   "metadata": {},
   "outputs": [
    {
     "data": {
      "text/plain": [
       "NoneType"
      ]
     },
     "execution_count": 86,
     "metadata": {},
     "output_type": "execute_result"
    }
   ],
   "source": [
    "# Create new configuration\n",
    "newcfg = ClientConfig('newfile.ini')\n",
    "type(newcfg.default_url)"
   ]
  },
  {
   "cell_type": "markdown",
   "metadata": {},
   "source": [
    "The attribute can be used also to set teh default URL, e.g.:"
   ]
  },
  {
   "cell_type": "code",
   "execution_count": 87,
   "metadata": {},
   "outputs": [],
   "source": [
    "newcfg.default_url = 'https://vires.services/ows'"
   ]
  },
  {
   "cell_type": "markdown",
   "metadata": {},
   "source": [
    "[TOP](#top)\n",
    "\n",
    "<a id=\"ClientConfig.set_site_config\"/>\n",
    "\n",
    "### `ClientConfig.set_site_config()`\n",
    "\n",
    "Set site configuration."
   ]
  },
  {
   "cell_type": "code",
   "execution_count": 88,
   "metadata": {},
   "outputs": [
    {
     "data": {
      "text/plain": [
       "\u001b[0;31mSignature:\u001b[0m \u001b[0mClientConfig\u001b[0m\u001b[0;34m.\u001b[0m\u001b[0mset_site_config\u001b[0m\u001b[0;34m(\u001b[0m\u001b[0mself\u001b[0m\u001b[0;34m,\u001b[0m \u001b[0murl\u001b[0m\u001b[0;34m,\u001b[0m \u001b[0;34m**\u001b[0m\u001b[0moptions\u001b[0m\u001b[0;34m)\u001b[0m\u001b[0;34m\u001b[0m\u001b[0;34m\u001b[0m\u001b[0m\n",
       "\u001b[0;31mDocstring:\u001b[0m Set configuration for the given URL. \n",
       "\u001b[0;31mFile:\u001b[0m      /opt/conda/lib/python3.7/site-packages/viresclient/_config.py\n",
       "\u001b[0;31mType:\u001b[0m      function\n"
      ]
     },
     "metadata": {},
     "output_type": "display_data"
    }
   ],
   "source": [
    "ClientConfig.set_site_config?"
   ]
  },
  {
   "cell_type": "markdown",
   "metadata": {},
   "source": [
    "Arguments:\n",
    "- `url`: server URL\n",
    "- `**options`: options to be configured.\n",
    "\n",
    "E.g.:"
   ]
  },
  {
   "cell_type": "code",
   "execution_count": 89,
   "metadata": {},
   "outputs": [],
   "source": [
    "newcfg.set_site_config('https://vires.services/ows', token='mytokenstring')"
   ]
  },
  {
   "cell_type": "markdown",
   "metadata": {},
   "source": [
    "[TOP](#top)\n",
    "\n",
    "<a id=\"ClientConfig.get_site_config\"/>\n",
    "\n",
    "### `ClientConfig.get_site_config()`\n",
    "\n",
    "Get site configuration as a dictionary."
   ]
  },
  {
   "cell_type": "code",
   "execution_count": 90,
   "metadata": {},
   "outputs": [
    {
     "data": {
      "text/plain": [
       "\u001b[0;31mSignature:\u001b[0m \u001b[0mClientConfig\u001b[0m\u001b[0;34m.\u001b[0m\u001b[0mget_site_config\u001b[0m\u001b[0;34m(\u001b[0m\u001b[0mself\u001b[0m\u001b[0;34m,\u001b[0m \u001b[0murl\u001b[0m\u001b[0;34m)\u001b[0m\u001b[0;34m\u001b[0m\u001b[0;34m\u001b[0m\u001b[0m\n",
       "\u001b[0;31mDocstring:\u001b[0m Get configuration for the given URL. \n",
       "\u001b[0;31mFile:\u001b[0m      /opt/conda/lib/python3.7/site-packages/viresclient/_config.py\n",
       "\u001b[0;31mType:\u001b[0m      function\n"
      ]
     },
     "metadata": {},
     "output_type": "display_data"
    }
   ],
   "source": [
    "ClientConfig.get_site_config?"
   ]
  },
  {
   "cell_type": "code",
   "execution_count": 91,
   "metadata": {},
   "outputs": [
    {
     "data": {
      "text/plain": [
       "{'token': 'mytokenstring'}"
      ]
     },
     "execution_count": 91,
     "metadata": {},
     "output_type": "execute_result"
    }
   ],
   "source": [
    "newcfg.get_site_config('https://vires.services/ows')"
   ]
  },
  {
   "cell_type": "markdown",
   "metadata": {},
   "source": [
    "[TOP](#top)\n",
    "\n",
    "<a id=\"ClientConfig.save\"/>\n",
    "\n",
    "### `ClientConfig.save()`\n",
    "\n",
    "Save configuration to `ClientConfig.path`."
   ]
  },
  {
   "cell_type": "code",
   "execution_count": 92,
   "metadata": {},
   "outputs": [
    {
     "data": {
      "text/plain": [
       "\u001b[0;31mSignature:\u001b[0m \u001b[0mClientConfig\u001b[0m\u001b[0;34m.\u001b[0m\u001b[0msave\u001b[0m\u001b[0;34m(\u001b[0m\u001b[0mself\u001b[0m\u001b[0;34m)\u001b[0m\u001b[0;34m\u001b[0m\u001b[0;34m\u001b[0m\u001b[0m\n",
       "\u001b[0;31mDocstring:\u001b[0m Save the configuration file. \n",
       "\u001b[0;31mFile:\u001b[0m      /opt/conda/lib/python3.7/site-packages/viresclient/_config.py\n",
       "\u001b[0;31mType:\u001b[0m      function\n"
      ]
     },
     "metadata": {},
     "output_type": "display_data"
    }
   ],
   "source": [
    "ClientConfig.save?"
   ]
  },
  {
   "cell_type": "markdown",
   "metadata": {},
   "source": [
    "E.g.:"
   ]
  },
  {
   "cell_type": "code",
   "execution_count": 93,
   "metadata": {},
   "outputs": [],
   "source": [
    "newcfg.save()"
   ]
  },
  {
   "cell_type": "markdown",
   "metadata": {},
   "source": [
    "Let's have a look to the new configuration file:"
   ]
  },
  {
   "cell_type": "code",
   "execution_count": 94,
   "metadata": {},
   "outputs": [
    {
     "name": "stdout",
     "output_type": "stream",
     "text": [
      "[default]\n",
      "url = https://vires.services/ows\n",
      "\n",
      "[https://vires.services/ows]\n",
      "token = mytokenstring\n",
      "\n"
     ]
    }
   ],
   "source": [
    "!cat newfile.ini"
   ]
  },
  {
   "cell_type": "code",
   "execution_count": 95,
   "metadata": {},
   "outputs": [],
   "source": [
    "del newcfg"
   ]
  },
  {
   "cell_type": "code",
   "execution_count": 96,
   "metadata": {},
   "outputs": [],
   "source": [
    "!rm newfile.ini"
   ]
  },
  {
   "cell_type": "markdown",
   "metadata": {},
   "source": [
    "[TOP](#top)\n",
    "\n",
    "<a id=\"DataUpload\"/>\n",
    "\n",
    "## `DataUpload`\n",
    "\n",
    "Class for the user data upload. Supported file format are described in: https://github.com/ESA-VirES/VirES-Server/blob/master/vires/custom_data_format_description.md."
   ]
  },
  {
   "cell_type": "code",
   "execution_count": 97,
   "metadata": {},
   "outputs": [
    {
     "data": {
      "text/plain": [
       "\u001b[0;31mInit signature:\u001b[0m \u001b[0mDataUpload\u001b[0m\u001b[0;34m(\u001b[0m\u001b[0murl\u001b[0m\u001b[0;34m,\u001b[0m \u001b[0mtoken\u001b[0m\u001b[0;34m,\u001b[0m \u001b[0;34m**\u001b[0m\u001b[0mkwargs\u001b[0m\u001b[0;34m)\u001b[0m\u001b[0;34m\u001b[0m\u001b[0;34m\u001b[0m\u001b[0m\n",
       "\u001b[0;31mDocstring:\u001b[0m     \n",
       "VirES for Swarm data upload API proxy.\n",
       "\n",
       "Example usage::\n",
       "\n",
       "  from viresclient import ClientConfig, DataUpload\n",
       "\n",
       "  du = DataUpload(\"https://vires.services\", token=\"...\")\n",
       "\n",
       "  cc = ClientConfig()\n",
       "  url = cc.default_url\n",
       "  du = DataUpload(url, **cc.get_site_config(url))\n",
       "\n",
       "  # upload file\n",
       "  info = du.post(\"example.csv\")\n",
       "  print(info)\n",
       "\n",
       "  # get information about the uploaded files\n",
       "  info = du.get()\n",
       "  print(info)\n",
       "\n",
       "  # remove any uploaded files\n",
       "  du.clear()\n",
       "\n",
       "  # check if the upload is valid and get list of missing mandatory parameters\n",
       "  info = du.post(\"example.cdf\")\n",
       "  is_valid = info.get('is_valid', True)\n",
       "  missing_fields = info.get('missing_fields', {}).keys()\n",
       "  print(is_valid, missing_fields)\n",
       "\n",
       "  # get constant parameters\n",
       "  id = info['identifier']\n",
       "  parameters = du.get_constant_parameters(id)\n",
       "  print(parameters)\n",
       "\n",
       "  # set new constant parameters\n",
       "  parameters = du.set_constant_parameters(id, {'Radius': 7000000, 'Latitude': 24.0})\n",
       "  print(parameters)\n",
       "\n",
       "  # clear all constant parameters\n",
       "  parameters = du.set_constant_parameters(id, {}, replace=True)\n",
       "  print(parameters)\n",
       "\n",
       "For more information about the supported file format see the\n",
       "`file format specification <https://github.com/ESA-VirES/VirES-Server/blob/master/vires/custom_data_format_description.md>`_\n",
       "\u001b[0;31mFile:\u001b[0m           /opt/conda/lib/python3.7/site-packages/viresclient/_api/upload.py\n",
       "\u001b[0;31mType:\u001b[0m           type\n",
       "\u001b[0;31mSubclasses:\u001b[0m     \n"
      ]
     },
     "metadata": {},
     "output_type": "display_data"
    }
   ],
   "source": [
    "from viresclient import DataUpload\n",
    "\n",
    "DataUpload?"
   ]
  },
  {
   "cell_type": "markdown",
   "metadata": {},
   "source": [
    "To create the `DataUpload` object we must provide the server URL (via the `url` parameter) and the access token (via the `token` parameter). Since these parameters are set in the configuration file, we can retrieve them using the `ClientConfig` object created in `ClientConfig` [example](#ClientConfig.example1):"
   ]
  },
  {
   "cell_type": "code",
   "execution_count": 98,
   "metadata": {},
   "outputs": [],
   "source": [
    "url = default.default_url\n",
    "token = default.get_site_config(url)['token']\n",
    "\n",
    "du = DataUpload(url, token)"
   ]
  },
  {
   "cell_type": "markdown",
   "metadata": {},
   "source": [
    "[TOP](#top)\n",
    "\n",
    "<a id=\"DataUpload.post\"/>\n",
    "\n",
    "### `DataUpload.post()`\n",
    "\n",
    "Upload file to the server."
   ]
  },
  {
   "cell_type": "code",
   "execution_count": 99,
   "metadata": {},
   "outputs": [
    {
     "data": {
      "text/plain": [
       "\u001b[0;31mSignature:\u001b[0m \u001b[0mDataUpload\u001b[0m\u001b[0;34m.\u001b[0m\u001b[0mpost\u001b[0m\u001b[0;34m(\u001b[0m\u001b[0mself\u001b[0m\u001b[0;34m,\u001b[0m \u001b[0mfile\u001b[0m\u001b[0;34m,\u001b[0m \u001b[0mfilename\u001b[0m\u001b[0;34m=\u001b[0m\u001b[0;32mNone\u001b[0m\u001b[0;34m)\u001b[0m\u001b[0;34m\u001b[0m\u001b[0;34m\u001b[0m\u001b[0m\n",
       "\u001b[0;31mDocstring:\u001b[0m\n",
       "HTTP POST multipart/form-data\n",
       "Upload file to the server and get info about the uploaded file.\n",
       "\u001b[0;31mFile:\u001b[0m      /opt/conda/lib/python3.7/site-packages/viresclient/_api/upload.py\n",
       "\u001b[0;31mType:\u001b[0m      function\n"
      ]
     },
     "metadata": {},
     "output_type": "display_data"
    }
   ],
   "source": [
    "DataUpload.post?"
   ]
  },
  {
   "cell_type": "markdown",
   "metadata": {},
   "source": [
    "E.g. upload the product previously downloaded in `ReturnedData.to_file()` [example](#ReturnedData.to_file.example1)."
   ]
  },
  {
   "cell_type": "code",
   "execution_count": 100,
   "metadata": {},
   "outputs": [
    {
     "name": "stdout",
     "output_type": "stream",
     "text": [
      "Data written to out.cdf\n"
     ]
    }
   ],
   "source": [
    "data.to_file('out.cdf', True)\n",
    "info = du.post('out.cdf')"
   ]
  },
  {
   "cell_type": "code",
   "execution_count": 101,
   "metadata": {},
   "outputs": [
    {
     "data": {
      "text/plain": [
       "{'missing_fields': {},\n",
       " 'source_fields': ['OrbitNumber',\n",
       "  'F',\n",
       "  'Timestamp',\n",
       "  'B_NEC_CHAOS',\n",
       "  'F_CHAOS',\n",
       "  'Ne',\n",
       "  'Longitude',\n",
       "  'B_NEC',\n",
       "  'Radius',\n",
       "  'Latitude'],\n",
       " 'content_type': 'application/x-cdf',\n",
       " 'owner': 'lmar76',\n",
       " 'size': 404015,\n",
       " 'end': '2019-10-01T00:59:59Z',\n",
       " 'constant_fields': {},\n",
       " 'data_file': 'out.cdf',\n",
       " 'fields': {'F': {'shape': [], 'cdf_type': 45, 'data_type': 'CDF_DOUBLE'},\n",
       "  'Timestamp': {'shape': [], 'cdf_type': 31, 'data_type': 'CDF_EPOCH'},\n",
       "  'Latitude': {'shape': [], 'cdf_type': 45, 'data_type': 'CDF_DOUBLE'},\n",
       "  'B_NEC_CHAOS': {'shape': [3], 'cdf_type': 45, 'data_type': 'CDF_DOUBLE'},\n",
       "  'F_CHAOS': {'shape': [], 'cdf_type': 45, 'data_type': 'CDF_DOUBLE'},\n",
       "  'Ne': {'shape': [], 'cdf_type': 45, 'data_type': 'CDF_DOUBLE'},\n",
       "  'Longitude': {'shape': [], 'cdf_type': 45, 'data_type': 'CDF_DOUBLE'},\n",
       "  'B_NEC': {'shape': [3], 'cdf_type': 45, 'data_type': 'CDF_DOUBLE'},\n",
       "  'Radius': {'shape': [], 'cdf_type': 45, 'data_type': 'CDF_DOUBLE'},\n",
       "  'OrbitNumber': {'shape': [], 'cdf_type': 4, 'data_type': 'CDF_INT4'}},\n",
       " 'created': '2020-01-28T23:36:37.465989Z',\n",
       " 'filename': 'out.cdf',\n",
       " 'start': '2019-10-01T00:00:00Z',\n",
       " 'is_valid': True,\n",
       " 'checksum': '792f82a5289b8e987e52d3e3e68d938b',\n",
       " 'identifier': 'b34f0ca3-7b8f-40a6-b4ab-54f84eb45a50'}"
      ]
     },
     "execution_count": 101,
     "metadata": {},
     "output_type": "execute_result"
    }
   ],
   "source": [
    "info"
   ]
  },
  {
   "cell_type": "code",
   "execution_count": 102,
   "metadata": {},
   "outputs": [],
   "source": [
    "!rm out.cdf"
   ]
  },
  {
   "cell_type": "markdown",
   "metadata": {},
   "source": [
    "[TOP](#top)\n",
    "\n",
    "<a id=\"DataUpload.ids\"/>\n",
    "\n",
    "### `DataUpload.ids`\n",
    "\n",
    "Attribute reporting the list of identifiers of the uploaded files."
   ]
  },
  {
   "cell_type": "code",
   "execution_count": 103,
   "metadata": {},
   "outputs": [
    {
     "data": {
      "text/plain": [
       "\u001b[0;31mType:\u001b[0m        property\n",
       "\u001b[0;31mString form:\u001b[0m <property object at 0x7fe3fddd4a98>\n",
       "\u001b[0;31mDocstring:\u001b[0m   Get list of identifiers. \n"
      ]
     },
     "metadata": {},
     "output_type": "display_data"
    }
   ],
   "source": [
    "DataUpload.ids?"
   ]
  },
  {
   "cell_type": "markdown",
   "metadata": {},
   "source": [
    "E.g.:"
   ]
  },
  {
   "cell_type": "code",
   "execution_count": 104,
   "metadata": {},
   "outputs": [
    {
     "data": {
      "text/plain": [
       "['b34f0ca3-7b8f-40a6-b4ab-54f84eb45a50']"
      ]
     },
     "execution_count": 104,
     "metadata": {},
     "output_type": "execute_result"
    }
   ],
   "source": [
    "du.ids"
   ]
  },
  {
   "cell_type": "markdown",
   "metadata": {},
   "source": [
    "[TOP](#top)\n",
    "\n",
    "<a id=\"DataUpload.get\"/>\n",
    "\n",
    "### `DataUpload.get()`\n",
    "\n",
    "Get info on uploaded files."
   ]
  },
  {
   "cell_type": "code",
   "execution_count": 105,
   "metadata": {},
   "outputs": [
    {
     "data": {
      "text/plain": [
       "\u001b[0;31mSignature:\u001b[0m \u001b[0mDataUpload\u001b[0m\u001b[0;34m.\u001b[0m\u001b[0mget\u001b[0m\u001b[0;34m(\u001b[0m\u001b[0mself\u001b[0m\u001b[0;34m,\u001b[0m \u001b[0midentifier\u001b[0m\u001b[0;34m=\u001b[0m\u001b[0;32mNone\u001b[0m\u001b[0;34m)\u001b[0m\u001b[0;34m\u001b[0m\u001b[0;34m\u001b[0m\u001b[0m\n",
       "\u001b[0;31mDocstring:\u001b[0m\n",
       "REST/API GET\n",
       "If an identifier provided, get info about the uploaded item.\n",
       "If no identifier provided, list all uploaded items.\n",
       "\u001b[0;31mFile:\u001b[0m      /opt/conda/lib/python3.7/site-packages/viresclient/_api/upload.py\n",
       "\u001b[0;31mType:\u001b[0m      function\n"
      ]
     },
     "metadata": {},
     "output_type": "display_data"
    }
   ],
   "source": [
    "DataUpload.get?"
   ]
  },
  {
   "cell_type": "markdown",
   "metadata": {},
   "source": [
    "If the `identifier` is not provided, the method returns info about all the uploaded files as a list:"
   ]
  },
  {
   "cell_type": "code",
   "execution_count": 106,
   "metadata": {},
   "outputs": [
    {
     "data": {
      "text/plain": [
       "[{'missing_fields': {},\n",
       "  'source_fields': ['OrbitNumber',\n",
       "   'F',\n",
       "   'Timestamp',\n",
       "   'B_NEC_CHAOS',\n",
       "   'F_CHAOS',\n",
       "   'Ne',\n",
       "   'Longitude',\n",
       "   'B_NEC',\n",
       "   'Radius',\n",
       "   'Latitude'],\n",
       "  'content_type': 'application/x-cdf',\n",
       "  'owner': 'lmar76',\n",
       "  'size': 404015,\n",
       "  'end': '2019-10-01T00:59:59Z',\n",
       "  'constant_fields': {},\n",
       "  'data_file': 'out.cdf',\n",
       "  'fields': {'F': {'shape': [], 'cdf_type': 45, 'data_type': 'CDF_DOUBLE'},\n",
       "   'Timestamp': {'shape': [], 'cdf_type': 31, 'data_type': 'CDF_EPOCH'},\n",
       "   'Latitude': {'shape': [], 'cdf_type': 45, 'data_type': 'CDF_DOUBLE'},\n",
       "   'B_NEC_CHAOS': {'shape': [3], 'cdf_type': 45, 'data_type': 'CDF_DOUBLE'},\n",
       "   'F_CHAOS': {'shape': [], 'cdf_type': 45, 'data_type': 'CDF_DOUBLE'},\n",
       "   'Ne': {'shape': [], 'cdf_type': 45, 'data_type': 'CDF_DOUBLE'},\n",
       "   'Longitude': {'shape': [], 'cdf_type': 45, 'data_type': 'CDF_DOUBLE'},\n",
       "   'B_NEC': {'shape': [3], 'cdf_type': 45, 'data_type': 'CDF_DOUBLE'},\n",
       "   'Radius': {'shape': [], 'cdf_type': 45, 'data_type': 'CDF_DOUBLE'},\n",
       "   'OrbitNumber': {'shape': [], 'cdf_type': 4, 'data_type': 'CDF_INT4'}},\n",
       "  'created': '2020-01-28T23:36:37.472963Z',\n",
       "  'filename': 'out.cdf',\n",
       "  'start': '2019-10-01T00:00:00Z',\n",
       "  'is_valid': True,\n",
       "  'checksum': '792f82a5289b8e987e52d3e3e68d938b',\n",
       "  'identifier': 'b34f0ca3-7b8f-40a6-b4ab-54f84eb45a50'}]"
      ]
     },
     "execution_count": 106,
     "metadata": {},
     "output_type": "execute_result"
    }
   ],
   "source": [
    "du.get()"
   ]
  },
  {
   "cell_type": "markdown",
   "metadata": {},
   "source": [
    "Providing the `identifier`, it returns info about the specified file:"
   ]
  },
  {
   "cell_type": "code",
   "execution_count": 107,
   "metadata": {},
   "outputs": [
    {
     "data": {
      "text/plain": [
       "{'missing_fields': {},\n",
       " 'source_fields': ['OrbitNumber',\n",
       "  'F',\n",
       "  'Timestamp',\n",
       "  'B_NEC_CHAOS',\n",
       "  'F_CHAOS',\n",
       "  'Ne',\n",
       "  'Longitude',\n",
       "  'B_NEC',\n",
       "  'Radius',\n",
       "  'Latitude'],\n",
       " 'content_type': 'application/x-cdf',\n",
       " 'owner': 'lmar76',\n",
       " 'size': 404015,\n",
       " 'end': '2019-10-01T00:59:59Z',\n",
       " 'constant_fields': {},\n",
       " 'data_file': 'out.cdf',\n",
       " 'fields': {'F': {'shape': [], 'cdf_type': 45, 'data_type': 'CDF_DOUBLE'},\n",
       "  'Timestamp': {'shape': [], 'cdf_type': 31, 'data_type': 'CDF_EPOCH'},\n",
       "  'Latitude': {'shape': [], 'cdf_type': 45, 'data_type': 'CDF_DOUBLE'},\n",
       "  'B_NEC_CHAOS': {'shape': [3], 'cdf_type': 45, 'data_type': 'CDF_DOUBLE'},\n",
       "  'F_CHAOS': {'shape': [], 'cdf_type': 45, 'data_type': 'CDF_DOUBLE'},\n",
       "  'Ne': {'shape': [], 'cdf_type': 45, 'data_type': 'CDF_DOUBLE'},\n",
       "  'Longitude': {'shape': [], 'cdf_type': 45, 'data_type': 'CDF_DOUBLE'},\n",
       "  'B_NEC': {'shape': [3], 'cdf_type': 45, 'data_type': 'CDF_DOUBLE'},\n",
       "  'Radius': {'shape': [], 'cdf_type': 45, 'data_type': 'CDF_DOUBLE'},\n",
       "  'OrbitNumber': {'shape': [], 'cdf_type': 4, 'data_type': 'CDF_INT4'}},\n",
       " 'created': '2020-01-28T23:36:37.472963Z',\n",
       " 'filename': 'out.cdf',\n",
       " 'start': '2019-10-01T00:00:00Z',\n",
       " 'is_valid': True,\n",
       " 'checksum': '792f82a5289b8e987e52d3e3e68d938b',\n",
       " 'identifier': 'b34f0ca3-7b8f-40a6-b4ab-54f84eb45a50'}"
      ]
     },
     "execution_count": 107,
     "metadata": {},
     "output_type": "execute_result"
    }
   ],
   "source": [
    "du.get(du.ids[0])"
   ]
  },
  {
   "cell_type": "markdown",
   "metadata": {},
   "source": [
    "[TOP](#top)\n",
    "\n",
    "<a id=\"DataUpload.set_constant_parameters\"/>\n",
    "\n",
    "### `DataUpload.set_constant_parameters()`\n",
    "\n",
    "Set constant parameters to the uploaded product file."
   ]
  },
  {
   "cell_type": "code",
   "execution_count": 108,
   "metadata": {},
   "outputs": [
    {
     "data": {
      "text/plain": [
       "\u001b[0;31mSignature:\u001b[0m \u001b[0mdu\u001b[0m\u001b[0;34m.\u001b[0m\u001b[0mset_constant_parameters\u001b[0m\u001b[0;34m(\u001b[0m\u001b[0midentifier\u001b[0m\u001b[0;34m,\u001b[0m \u001b[0mparameters\u001b[0m\u001b[0;34m,\u001b[0m \u001b[0mreplace\u001b[0m\u001b[0;34m=\u001b[0m\u001b[0;32mFalse\u001b[0m\u001b[0;34m)\u001b[0m\u001b[0;34m\u001b[0m\u001b[0;34m\u001b[0m\u001b[0m\n",
       "\u001b[0;31mDocstring:\u001b[0m\n",
       "Set constant parameters form from give key value dictionary.\n",
       "Set replace to True if you prefer to replace the already set parameters\n",
       "rather then update them.\n",
       "\u001b[0;31mFile:\u001b[0m      /opt/conda/lib/python3.7/site-packages/viresclient/_api/upload.py\n",
       "\u001b[0;31mType:\u001b[0m      method\n"
      ]
     },
     "metadata": {},
     "output_type": "display_data"
    }
   ],
   "source": [
    "du.set_constant_parameters?"
   ]
  },
  {
   "cell_type": "markdown",
   "metadata": {},
   "source": [
    "Arguments:\n",
    "- `identifier`: file identifier\n",
    "- `parameters`: constant parameters provided as ditionary\n",
    "- `replace`: if set to `True`, all the parameters will be replaced by the new parameters, otherwise the new parameters will update the existing ones.\n",
    "\n",
    "E.g.:"
   ]
  },
  {
   "cell_type": "code",
   "execution_count": 109,
   "metadata": {},
   "outputs": [
    {
     "data": {
      "text/plain": [
       "{'param2': 34567, 'param1': 12345}"
      ]
     },
     "execution_count": 109,
     "metadata": {},
     "output_type": "execute_result"
    }
   ],
   "source": [
    "du.set_constant_parameters(du.ids[0], {'param1': 12345, 'param2': 34567})"
   ]
  },
  {
   "cell_type": "markdown",
   "metadata": {},
   "source": [
    "If we want to set `param1` to a new value we can update the existing parameters:"
   ]
  },
  {
   "cell_type": "code",
   "execution_count": 110,
   "metadata": {},
   "outputs": [
    {
     "data": {
      "text/plain": [
       "{'param2': 34567, 'param1': 1}"
      ]
     },
     "execution_count": 110,
     "metadata": {},
     "output_type": "execute_result"
    }
   ],
   "source": [
    "du.set_constant_parameters(du.ids[0], {'param1': 1})"
   ]
  },
  {
   "cell_type": "markdown",
   "metadata": {},
   "source": [
    "or replace all the parameters:"
   ]
  },
  {
   "cell_type": "code",
   "execution_count": 111,
   "metadata": {},
   "outputs": [
    {
     "data": {
      "text/plain": [
       "{'param1': 1}"
      ]
     },
     "execution_count": 111,
     "metadata": {},
     "output_type": "execute_result"
    }
   ],
   "source": [
    "du.set_constant_parameters(du.ids[0], {'param1': 1}, replace=True)"
   ]
  },
  {
   "cell_type": "markdown",
   "metadata": {},
   "source": [
    "Note that `param2` does not exist anymore."
   ]
  },
  {
   "cell_type": "markdown",
   "metadata": {},
   "source": [
    "[TOP](#top)\n",
    "\n",
    "<a id=\"DataUpload.get_constant_parameters\"/>\n",
    "\n",
    "### `DataUpload.get_constant_parameters()`\n",
    "\n",
    "Get the list of constant parameters."
   ]
  },
  {
   "cell_type": "code",
   "execution_count": 112,
   "metadata": {},
   "outputs": [
    {
     "data": {
      "text/plain": [
       "\u001b[0;31mSignature:\u001b[0m \u001b[0mDataUpload\u001b[0m\u001b[0;34m.\u001b[0m\u001b[0mget_constant_parameters\u001b[0m\u001b[0;34m(\u001b[0m\u001b[0mself\u001b[0m\u001b[0;34m,\u001b[0m \u001b[0midentifier\u001b[0m\u001b[0;34m)\u001b[0m\u001b[0;34m\u001b[0m\u001b[0;34m\u001b[0m\u001b[0m\n",
       "\u001b[0;31mDocstring:\u001b[0m Get dictionary of the currently set constant parameters. \n",
       "\u001b[0;31mFile:\u001b[0m      /opt/conda/lib/python3.7/site-packages/viresclient/_api/upload.py\n",
       "\u001b[0;31mType:\u001b[0m      function\n"
      ]
     },
     "metadata": {},
     "output_type": "display_data"
    }
   ],
   "source": [
    "DataUpload.get_constant_parameters?"
   ]
  },
  {
   "cell_type": "markdown",
   "metadata": {},
   "source": [
    "E.g. get the list of constant parameters set in the previous example:"
   ]
  },
  {
   "cell_type": "code",
   "execution_count": 113,
   "metadata": {},
   "outputs": [
    {
     "data": {
      "text/plain": [
       "{'param1': 1}"
      ]
     },
     "execution_count": 113,
     "metadata": {},
     "output_type": "execute_result"
    }
   ],
   "source": [
    "du.get_constant_parameters(du.ids[0])"
   ]
  },
  {
   "cell_type": "markdown",
   "metadata": {},
   "source": [
    "[TOP](#top)\n",
    "\n",
    "<a id=\"DataUpload.delete\"/>\n",
    "\n",
    "### `DataUpload.delete()`\n",
    "\n",
    "Delete file of given identifier."
   ]
  },
  {
   "cell_type": "code",
   "execution_count": 114,
   "metadata": {},
   "outputs": [
    {
     "data": {
      "text/plain": [
       "\u001b[0;31mSignature:\u001b[0m \u001b[0mDataUpload\u001b[0m\u001b[0;34m.\u001b[0m\u001b[0mdelete\u001b[0m\u001b[0;34m(\u001b[0m\u001b[0mself\u001b[0m\u001b[0;34m,\u001b[0m \u001b[0midentifier\u001b[0m\u001b[0;34m)\u001b[0m\u001b[0;34m\u001b[0m\u001b[0;34m\u001b[0m\u001b[0m\n",
       "\u001b[0;31mDocstring:\u001b[0m\n",
       "REST/API DELETE request.\n",
       "Delete item of the given identifier.\n",
       "\u001b[0;31mFile:\u001b[0m      /opt/conda/lib/python3.7/site-packages/viresclient/_api/upload.py\n",
       "\u001b[0;31mType:\u001b[0m      function\n"
      ]
     },
     "metadata": {},
     "output_type": "display_data"
    }
   ],
   "source": [
    "DataUpload.delete?"
   ]
  },
  {
   "cell_type": "markdown",
   "metadata": {},
   "source": [
    "E.g. to delete the file previously uploaded:"
   ]
  },
  {
   "cell_type": "code",
   "execution_count": 115,
   "metadata": {},
   "outputs": [
    {
     "data": {
      "text/plain": [
       "[]"
      ]
     },
     "execution_count": 115,
     "metadata": {},
     "output_type": "execute_result"
    }
   ],
   "source": [
    "du.delete(du.ids[0])\n",
    "\n",
    "du.ids"
   ]
  },
  {
   "cell_type": "markdown",
   "metadata": {},
   "source": [
    "[TOP](#top)\n",
    "\n",
    "<a id=\"DataUpload.clear\"/>\n",
    "\n",
    "### `DataUpload.clear()`\n",
    "\n",
    "Delete all the uploaded files."
   ]
  },
  {
   "cell_type": "code",
   "execution_count": 116,
   "metadata": {},
   "outputs": [
    {
     "data": {
      "text/plain": [
       "\u001b[0;31mSignature:\u001b[0m \u001b[0mDataUpload\u001b[0m\u001b[0;34m.\u001b[0m\u001b[0mclear\u001b[0m\u001b[0;34m(\u001b[0m\u001b[0mself\u001b[0m\u001b[0;34m)\u001b[0m\u001b[0;34m\u001b[0m\u001b[0;34m\u001b[0m\u001b[0m\n",
       "\u001b[0;31mDocstring:\u001b[0m Remove all uploaded items.  \n",
       "\u001b[0;31mFile:\u001b[0m      /opt/conda/lib/python3.7/site-packages/viresclient/_api/upload.py\n",
       "\u001b[0;31mType:\u001b[0m      function\n"
      ]
     },
     "metadata": {},
     "output_type": "display_data"
    }
   ],
   "source": [
    "DataUpload.clear?"
   ]
  },
  {
   "cell_type": "code",
   "execution_count": 117,
   "metadata": {},
   "outputs": [
    {
     "data": {
      "text/plain": [
       "[]"
      ]
     },
     "execution_count": 117,
     "metadata": {},
     "output_type": "execute_result"
    }
   ],
   "source": [
    "du.clear()\n",
    "\n",
    "du.ids"
   ]
  }
 ],
 "metadata": {
  "kernelspec": {
   "display_name": "Python 3",
   "language": "python",
   "name": "python3"
  },
  "language_info": {
   "codemirror_mode": {
    "name": "ipython",
    "version": 3
   },
   "file_extension": ".py",
   "mimetype": "text/x-python",
   "name": "python",
   "nbconvert_exporter": "python",
   "pygments_lexer": "ipython3",
   "version": "3.7.3"
  }
 },
 "nbformat": 4,
 "nbformat_minor": 4
}
