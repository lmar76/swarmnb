{
 "cells": [
  {
   "cell_type": "markdown",
   "id": "0c82dbf0",
   "metadata": {},
   "source": [
    "# Predicted Orbit Files\n",
    "\n",
    "Predicted Orbit Files are generated from FOS for the three Swarm spacecrafts.\n",
    "\n",
    "They are available on Swarm FTP at `/Auxiliary/Sat_x/MPLxORBPRE` for `mission` users."
   ]
  },
  {
   "cell_type": "markdown",
   "id": "7403330c",
   "metadata": {},
   "source": [
    "## Parse predicted orbit file from ZIP archive"
   ]
  },
  {
   "cell_type": "code",
   "execution_count": 1,
   "id": "6b57af2a",
   "metadata": {},
   "outputs": [],
   "source": [
    "from pathlib import Path\n",
    "from xml.etree import ElementTree\n",
    "from zipfile import ZipFile\n",
    "\n",
    "import pandas as pd\n",
    "from dateutil.parser import parse\n",
    "import numpy as np\n",
    "from matplotlib import pyplot\n",
    "from scipy import interpolate"
   ]
  },
  {
   "cell_type": "code",
   "execution_count": 2,
   "id": "8a2b0ee4",
   "metadata": {},
   "outputs": [
    {
     "data": {
      "text/html": [
       "<div>\n",
       "<style scoped>\n",
       "    .dataframe tbody tr th:only-of-type {\n",
       "        vertical-align: middle;\n",
       "    }\n",
       "\n",
       "    .dataframe tbody tr th {\n",
       "        vertical-align: top;\n",
       "    }\n",
       "\n",
       "    .dataframe thead th {\n",
       "        text-align: right;\n",
       "    }\n",
       "</style>\n",
       "<table border=\"1\" class=\"dataframe\">\n",
       "  <thead>\n",
       "    <tr style=\"text-align: right;\">\n",
       "      <th></th>\n",
       "      <th>TAI</th>\n",
       "      <th>UTC</th>\n",
       "      <th>UT1</th>\n",
       "      <th>Absolute_Orbit</th>\n",
       "      <th>X</th>\n",
       "      <th>Y</th>\n",
       "      <th>Z</th>\n",
       "      <th>VX</th>\n",
       "      <th>VY</th>\n",
       "      <th>VZ</th>\n",
       "    </tr>\n",
       "  </thead>\n",
       "  <tbody>\n",
       "    <tr>\n",
       "      <th>0</th>\n",
       "      <td>2020-11-26 00:33:15.566936</td>\n",
       "      <td>2020-11-26 00:32:38.566936</td>\n",
       "      <td>2020-11-26 00:32:38.387528</td>\n",
       "      <td>39418</td>\n",
       "      <td>6810128.732</td>\n",
       "      <td>-200683.127</td>\n",
       "      <td>4296.648</td>\n",
       "      <td>-20.191900</td>\n",
       "      <td>-144.666866</td>\n",
       "      <td>7642.501918</td>\n",
       "    </tr>\n",
       "    <tr>\n",
       "      <th>1</th>\n",
       "      <td>2020-11-26 02:06:31.920126</td>\n",
       "      <td>2020-11-26 02:05:54.920126</td>\n",
       "      <td>2020-11-26 02:05:54.740707</td>\n",
       "      <td>39419</td>\n",
       "      <td>6170133.040</td>\n",
       "      <td>-2889349.329</td>\n",
       "      <td>4298.438</td>\n",
       "      <td>-76.051564</td>\n",
       "      <td>-124.783002</td>\n",
       "      <td>7642.425501</td>\n",
       "    </tr>\n",
       "    <tr>\n",
       "      <th>2</th>\n",
       "      <td>2020-11-26 03:39:48.230336</td>\n",
       "      <td>2020-11-26 03:39:11.230336</td>\n",
       "      <td>2020-11-26 03:39:11.050905</td>\n",
       "      <td>39420</td>\n",
       "      <td>4514786.355</td>\n",
       "      <td>-5102725.570</td>\n",
       "      <td>4301.718</td>\n",
       "      <td>-119.317375</td>\n",
       "      <td>-84.322037</td>\n",
       "      <td>7642.211325</td>\n",
       "    </tr>\n",
       "    <tr>\n",
       "      <th>3</th>\n",
       "      <td>2020-11-26 05:13:04.617377</td>\n",
       "      <td>2020-11-26 05:12:27.617377</td>\n",
       "      <td>2020-11-26 05:12:27.437929</td>\n",
       "      <td>39421</td>\n",
       "      <td>2116381.512</td>\n",
       "      <td>-6476365.304</td>\n",
       "      <td>4306.367</td>\n",
       "      <td>-142.625842</td>\n",
       "      <td>-29.815494</td>\n",
       "      <td>7642.146300</td>\n",
       "    </tr>\n",
       "    <tr>\n",
       "      <th>4</th>\n",
       "      <td>2020-11-26 06:46:21.128812</td>\n",
       "      <td>2020-11-26 06:45:44.128812</td>\n",
       "      <td>2020-11-26 06:45:43.949337</td>\n",
       "      <td>39422</td>\n",
       "      <td>-630378.865</td>\n",
       "      <td>-6784111.768</td>\n",
       "      <td>4312.516</td>\n",
       "      <td>-142.563045</td>\n",
       "      <td>29.327468</td>\n",
       "      <td>7642.197483</td>\n",
       "    </tr>\n",
       "  </tbody>\n",
       "</table>\n",
       "</div>"
      ],
      "text/plain": [
       "                         TAI                        UTC  \\\n",
       "0 2020-11-26 00:33:15.566936 2020-11-26 00:32:38.566936   \n",
       "1 2020-11-26 02:06:31.920126 2020-11-26 02:05:54.920126   \n",
       "2 2020-11-26 03:39:48.230336 2020-11-26 03:39:11.230336   \n",
       "3 2020-11-26 05:13:04.617377 2020-11-26 05:12:27.617377   \n",
       "4 2020-11-26 06:46:21.128812 2020-11-26 06:45:44.128812   \n",
       "\n",
       "                         UT1  Absolute_Orbit            X            Y  \\\n",
       "0 2020-11-26 00:32:38.387528           39418  6810128.732  -200683.127   \n",
       "1 2020-11-26 02:05:54.740707           39419  6170133.040 -2889349.329   \n",
       "2 2020-11-26 03:39:11.050905           39420  4514786.355 -5102725.570   \n",
       "3 2020-11-26 05:12:27.437929           39421  2116381.512 -6476365.304   \n",
       "4 2020-11-26 06:45:43.949337           39422  -630378.865 -6784111.768   \n",
       "\n",
       "          Z          VX          VY           VZ  \n",
       "0  4296.648  -20.191900 -144.666866  7642.501918  \n",
       "1  4298.438  -76.051564 -124.783002  7642.425501  \n",
       "2  4301.718 -119.317375  -84.322037  7642.211325  \n",
       "3  4306.367 -142.625842  -29.815494  7642.146300  \n",
       "4  4312.516 -142.563045   29.327468  7642.197483  "
      ]
     },
     "execution_count": 2,
     "metadata": {},
     "output_type": "execute_result"
    }
   ],
   "source": [
    "file = Path('SW_OPER_MPLAORBPRE_20201126T000000_20201231T000000_2560.ZIP').resolve()\n",
    "\n",
    "with ZipFile(file) as zf:\n",
    "    et = ElementTree.parse(zf.open(file.with_suffix('.EEF').name))\n",
    "\n",
    "# parse orbit state vectors\n",
    "ns = {'': 'http://eop-cfi.esa.int/CFI'}\n",
    "osvs = [\n",
    "    {\n",
    "        'TAI': parse(osv.findtext('TAI', namespaces=ns)[4:]),\n",
    "        'UTC': parse(osv.findtext('UTC', namespaces=ns)[4:]),\n",
    "        'UT1': parse(osv.findtext('UT1', namespaces=ns)[4:]),\n",
    "        'Absolute_Orbit': int(osv.findtext('Absolute_Orbit', namespaces=ns)),\n",
    "        'X': float(osv.findtext('X', namespaces=ns)),\n",
    "        'Y': float(osv.findtext('Y', namespaces=ns)),\n",
    "        'Z': float(osv.findtext('Z', namespaces=ns)),\n",
    "        'VX': float(osv.findtext('VX', namespaces=ns)),\n",
    "        'VY': float(osv.findtext('VY', namespaces=ns)),\n",
    "        'VZ': float(osv.findtext('VZ', namespaces=ns))\n",
    "    }\n",
    "    for osv in et.iterfind('./Data_Block/List_of_OSVs/OSV', ns)\n",
    "]\n",
    "\n",
    "osvs_df = pd.DataFrame(osvs)\n",
    "osvs_df.head()"
   ]
  },
  {
   "cell_type": "code",
   "execution_count": 3,
   "id": "37973fa9",
   "metadata": {},
   "outputs": [
    {
     "data": {
      "text/plain": [
       "2020-11-26 00:32:38.566936    39418\n",
       "2020-11-26 02:05:54.920126    39419\n",
       "2020-11-26 03:39:11.230336    39420\n",
       "2020-11-26 05:12:27.617377    39421\n",
       "2020-11-26 06:45:44.128812    39422\n",
       "                              ...  \n",
       "2020-12-30 17:45:13.312885    39954\n",
       "2020-12-30 19:18:29.316025    39955\n",
       "2020-12-30 20:51:45.269973    39956\n",
       "2020-12-30 22:25:01.204554    39957\n",
       "2020-12-30 23:58:17.099850    39958\n",
       "Name: Absolute_Orbit, Length: 541, dtype: int64"
      ]
     },
     "execution_count": 3,
     "metadata": {},
     "output_type": "execute_result"
    }
   ],
   "source": [
    "anxs = osvs_df[['UTC', 'Absolute_Orbit']].set_index('UTC')['Absolute_Orbit']\n",
    "anxs.index.name = None\n",
    "anxs"
   ]
  },
  {
   "cell_type": "code",
   "execution_count": 4,
   "id": "c2994b4c",
   "metadata": {},
   "outputs": [
    {
     "data": {
      "image/png": "[encoded data removed]",
      "text/plain": [
       "<Figure size 1152x720 with 1 Axes>"
      ]
     },
     "metadata": {
      "needs_background": "light"
     },
     "output_type": "display_data"
    }
   ],
   "source": [
    "end = '2020-11-26T09:00:00'\n",
    "anxs.loc[:end].plot(figsize=(16, 10), style='.', grid=True, title=f\"Absolute orbits up to {end}\")\n",
    "pyplot.show()"
   ]
  },
  {
   "cell_type": "code",
   "execution_count": 5,
   "id": "e3142c5f",
   "metadata": {},
   "outputs": [
    {
     "data": {
      "image/png": "[encoded data removed]",
      "text/plain": [
       "<Figure size 1152x720 with 1 Axes>"
      ]
     },
     "metadata": {
      "needs_background": "light"
     },
     "output_type": "display_data"
    }
   ],
   "source": [
    "end = '2020-11-26T09:00:00'\n",
    "anxs.asfreq('S', method='pad').loc[:end].plot(\n",
    "    figsize=(16, 10), style='.', grid=True,\n",
    "    title=f\"Absolute orbits up to {end} resampled at 1 second\"\n",
    ")\n",
    "pyplot.show()"
   ]
  }
 ],
 "metadata": {
  "kernelspec": {
   "display_name": "Python 3",
   "language": "python",
   "name": "python3"
  },
  "language_info": {
   "codemirror_mode": {
    "name": "ipython",
    "version": 3
   },
   "file_extension": ".py",
   "mimetype": "text/x-python",
   "name": "python",
   "nbconvert_exporter": "python",
   "pygments_lexer": "ipython3",
   "version": "3.8.8"
  }
 },
 "nbformat": 4,
 "nbformat_minor": 5
}
