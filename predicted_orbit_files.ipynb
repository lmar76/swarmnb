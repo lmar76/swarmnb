{
 "cells": [
  {
   "cell_type": "markdown",
   "id": "fed83e26",
   "metadata": {},
   "source": [
    "# Predicted Orbit Files\n",
    "\n",
    "Predicted Orbit Files are generated from FOS for the three Swarm spacecrafts.\n",
    "\n",
    "They are available on Swarm FTP at `/Auxiliary/Sat_x/MPLxORBPRE` for `mission` users."
   ]
  },
  {
   "cell_type": "markdown",
   "id": "ce903410",
   "metadata": {},
   "source": [
    "## Parse predicted orbit file from ZIP archive"
   ]
  },
  {
   "cell_type": "code",
   "execution_count": 1,
   "id": "2afada02",
   "metadata": {},
   "outputs": [],
   "source": [
    "from pathlib import Path\n",
    "from xml.etree import ElementTree\n",
    "from zipfile import ZipFile\n",
    "\n",
    "import pandas as pd\n",
    "import numpy as np\n",
    "from matplotlib import pyplot"
   ]
  },
  {
   "cell_type": "code",
   "execution_count": 2,
   "id": "ad1dbd26",
   "metadata": {},
   "outputs": [
    {
     "data": {
      "text/html": [
       "<div>\n",
       "<style scoped>\n",
       "    .dataframe tbody tr th:only-of-type {\n",
       "        vertical-align: middle;\n",
       "    }\n",
       "\n",
       "    .dataframe tbody tr th {\n",
       "        vertical-align: top;\n",
       "    }\n",
       "\n",
       "    .dataframe thead th {\n",
       "        text-align: right;\n",
       "    }\n",
       "</style>\n",
       "<table border=\"1\" class=\"dataframe\">\n",
       "  <thead>\n",
       "    <tr style=\"text-align: right;\">\n",
       "      <th></th>\n",
       "      <th>TAI</th>\n",
       "      <th>UTC</th>\n",
       "      <th>UT1</th>\n",
       "      <th>Absolute_Orbit</th>\n",
       "      <th>X</th>\n",
       "      <th>Y</th>\n",
       "      <th>Z</th>\n",
       "      <th>VX</th>\n",
       "      <th>VY</th>\n",
       "      <th>VZ</th>\n",
       "    </tr>\n",
       "  </thead>\n",
       "  <tbody>\n",
       "    <tr>\n",
       "      <th>0</th>\n",
       "      <td>2016-12-30 00:58:31.303520</td>\n",
       "      <td>2016-12-30 00:57:55.303520</td>\n",
       "      <td>2016-12-30 00:57:54.897105</td>\n",
       "      <td>17409</td>\n",
       "      <td>-3271925.297</td>\n",
       "      <td>5986996.999</td>\n",
       "      <td>-6646.765</td>\n",
       "      <td>127.687752</td>\n",
       "      <td>66.931231</td>\n",
       "      <td>7637.096168</td>\n",
       "    </tr>\n",
       "    <tr>\n",
       "      <th>1</th>\n",
       "      <td>2016-12-30 02:31:59.698877</td>\n",
       "      <td>2016-12-30 02:31:23.698877</td>\n",
       "      <td>2016-12-30 02:31:23.292408</td>\n",
       "      <td>17410</td>\n",
       "      <td>-618272.533</td>\n",
       "      <td>6794541.911</td>\n",
       "      <td>-6650.834</td>\n",
       "      <td>143.530112</td>\n",
       "      <td>10.547535</td>\n",
       "      <td>7637.139734</td>\n",
       "    </tr>\n",
       "    <tr>\n",
       "      <th>2</th>\n",
       "      <td>2016-12-30 04:05:28.153986</td>\n",
       "      <td>2016-12-30 04:04:52.153986</td>\n",
       "      <td>2016-12-30 04:04:51.747469</td>\n",
       "      <td>17411</td>\n",
       "      <td>2137461.661</td>\n",
       "      <td>6478975.739</td>\n",
       "      <td>-6656.291</td>\n",
       "      <td>135.801250</td>\n",
       "      <td>-47.410836</td>\n",
       "      <td>7637.272177</td>\n",
       "    </tr>\n",
       "    <tr>\n",
       "      <th>3</th>\n",
       "      <td>2016-12-30 05:38:56.596916</td>\n",
       "      <td>2016-12-30 05:38:20.596916</td>\n",
       "      <td>2016-12-30 05:38:20.190356</td>\n",
       "      <td>17412</td>\n",
       "      <td>4539691.490</td>\n",
       "      <td>5092681.606</td>\n",
       "      <td>-6662.827</td>\n",
       "      <td>105.769600</td>\n",
       "      <td>-97.584685</td>\n",
       "      <td>7637.451614</td>\n",
       "    </tr>\n",
       "    <tr>\n",
       "      <th>4</th>\n",
       "      <td>2016-12-30 07:12:24.980484</td>\n",
       "      <td>2016-12-30 07:11:48.980484</td>\n",
       "      <td>2016-12-30 07:11:48.573879</td>\n",
       "      <td>17413</td>\n",
       "      <td>6191618.178</td>\n",
       "      <td>2864919.385</td>\n",
       "      <td>-6670.139</td>\n",
       "      <td>58.287888</td>\n",
       "      <td>-131.853348</td>\n",
       "      <td>7637.504389</td>\n",
       "    </tr>\n",
       "  </tbody>\n",
       "</table>\n",
       "</div>"
      ],
      "text/plain": [
       "                         TAI                        UTC  \\\n",
       "0 2016-12-30 00:58:31.303520 2016-12-30 00:57:55.303520   \n",
       "1 2016-12-30 02:31:59.698877 2016-12-30 02:31:23.698877   \n",
       "2 2016-12-30 04:05:28.153986 2016-12-30 04:04:52.153986   \n",
       "3 2016-12-30 05:38:56.596916 2016-12-30 05:38:20.596916   \n",
       "4 2016-12-30 07:12:24.980484 2016-12-30 07:11:48.980484   \n",
       "\n",
       "                         UT1  Absolute_Orbit            X            Y  \\\n",
       "0 2016-12-30 00:57:54.897105           17409 -3271925.297  5986996.999   \n",
       "1 2016-12-30 02:31:23.292408           17410  -618272.533  6794541.911   \n",
       "2 2016-12-30 04:04:51.747469           17411  2137461.661  6478975.739   \n",
       "3 2016-12-30 05:38:20.190356           17412  4539691.490  5092681.606   \n",
       "4 2016-12-30 07:11:48.573879           17413  6191618.178  2864919.385   \n",
       "\n",
       "          Z          VX          VY           VZ  \n",
       "0 -6646.765  127.687752   66.931231  7637.096168  \n",
       "1 -6650.834  143.530112   10.547535  7637.139734  \n",
       "2 -6656.291  135.801250  -47.410836  7637.272177  \n",
       "3 -6662.827  105.769600  -97.584685  7637.451614  \n",
       "4 -6670.139   58.287888 -131.853348  7637.504389  "
      ]
     },
     "execution_count": 2,
     "metadata": {},
     "output_type": "execute_result"
    }
   ],
   "source": [
    "file = Path('SW_OPER_MPLAORBPRE_20161230T000000_20170203T000000_1140.ZIP').resolve()\n",
    "\n",
    "with ZipFile(file) as zf:\n",
    "    et = ElementTree.parse(zf.open(file.with_suffix('.EEF').name))\n",
    "\n",
    "# parse orbit state vectors\n",
    "ns = {'': 'http://eop-cfi.esa.int/CFI'}\n",
    "osvs = [\n",
    "    {\n",
    "        'TAI': pd.Timestamp(osv.findtext('TAI', namespaces=ns)[4:]),\n",
    "        'UTC': pd.Timestamp(osv.findtext('UTC', namespaces=ns)[4:]),\n",
    "        'UT1': pd.Timestamp(osv.findtext('UT1', namespaces=ns)[4:]),\n",
    "        'Absolute_Orbit': int(osv.findtext('Absolute_Orbit', namespaces=ns)),\n",
    "        'X': float(osv.findtext('X', namespaces=ns)),\n",
    "        'Y': float(osv.findtext('Y', namespaces=ns)),\n",
    "        'Z': float(osv.findtext('Z', namespaces=ns)),\n",
    "        'VX': float(osv.findtext('VX', namespaces=ns)),\n",
    "        'VY': float(osv.findtext('VY', namespaces=ns)),\n",
    "        'VZ': float(osv.findtext('VZ', namespaces=ns))\n",
    "    }\n",
    "    for osv in et.iterfind('./Data_Block/List_of_OSVs/OSV', ns)\n",
    "]\n",
    "\n",
    "osvs_df = pd.DataFrame(osvs)\n",
    "osvs_df.head()"
   ]
  },
  {
   "cell_type": "code",
   "execution_count": 3,
   "id": "98ff369b",
   "metadata": {},
   "outputs": [
    {
     "data": {
      "text/plain": [
       "2016-12-30 00:57:55.303520    17409\n",
       "2016-12-30 02:31:23.698877    17410\n",
       "2016-12-30 04:04:52.153986    17411\n",
       "2016-12-30 05:38:20.596916    17412\n",
       "2016-12-30 07:11:48.980484    17413\n",
       "                              ...  \n",
       "2017-02-02 16:50:34.152478    17943\n",
       "2017-02-02 18:24:02.007849    17944\n",
       "2017-02-02 19:57:29.850120    17945\n",
       "2017-02-02 21:30:57.769933    17946\n",
       "2017-02-02 23:04:25.700457    17947\n",
       "Name: Absolute_Orbit, Length: 539, dtype: int64"
      ]
     },
     "execution_count": 3,
     "metadata": {},
     "output_type": "execute_result"
    }
   ],
   "source": [
    "anxs = osvs_df[['UTC', 'Absolute_Orbit']].set_index('UTC')['Absolute_Orbit']\n",
    "anxs.index.name = None\n",
    "anxs"
   ]
  },
  {
   "cell_type": "code",
   "execution_count": 4,
   "id": "20366845",
   "metadata": {},
   "outputs": [
    {
     "data": {
      "image/png": "[encoded data removed]",
      "text/plain": [
       "<Figure size 1152x720 with 1 Axes>"
      ]
     },
     "metadata": {
      "needs_background": "light"
     },
     "output_type": "display_data"
    }
   ],
   "source": [
    "end = '2017-01-02T00:00:00'\n",
    "anxs.loc[:end].plot(figsize=(16, 10), style='.', grid=True, title=f\"Absolute orbits up to {end}\")\n",
    "pyplot.show()"
   ]
  },
  {
   "cell_type": "code",
   "execution_count": 5,
   "id": "ad09c282",
   "metadata": {},
   "outputs": [
    {
     "data": {
      "image/png": "[encoded data removed]",
      "text/plain": [
       "<Figure size 1152x720 with 1 Axes>"
      ]
     },
     "metadata": {
      "needs_background": "light"
     },
     "output_type": "display_data"
    }
   ],
   "source": [
    "end = '2017-01-02T00:00:00'\n",
    "anxs.asfreq('S', method='pad').loc[:end].plot(\n",
    "    figsize=(16, 10), style='.', grid=True,\n",
    "    title=f\"Absolute orbits up to {end} resampled at 1 second\"\n",
    ")\n",
    "pyplot.show()"
   ]
  },
  {
   "cell_type": "code",
   "execution_count": 6,
   "id": "af058ea8-2152-4096-81bb-21133ff45c3e",
   "metadata": {},
   "outputs": [
    {
     "data": {
      "text/plain": [
       "0      36.0\n",
       "1      36.0\n",
       "2      36.0\n",
       "3      36.0\n",
       "4      36.0\n",
       "       ... \n",
       "534    37.0\n",
       "535    37.0\n",
       "536    37.0\n",
       "537    37.0\n",
       "538    37.0\n",
       "Length: 539, dtype: float64"
      ]
     },
     "execution_count": 6,
     "metadata": {},
     "output_type": "execute_result"
    }
   ],
   "source": [
    "(osvs_df['TAI'] - osvs_df['UTC']).dt.total_seconds()"
   ]
  },
  {
   "cell_type": "code",
   "execution_count": 7,
   "id": "d84edda0-f170-47b2-ba99-d4256d46feea",
   "metadata": {},
   "outputs": [
    {
     "data": {
      "text/html": [
       "<div>\n",
       "<style scoped>\n",
       "    .dataframe tbody tr th:only-of-type {\n",
       "        vertical-align: middle;\n",
       "    }\n",
       "\n",
       "    .dataframe tbody tr th {\n",
       "        vertical-align: top;\n",
       "    }\n",
       "\n",
       "    .dataframe thead th {\n",
       "        text-align: right;\n",
       "    }\n",
       "</style>\n",
       "<table border=\"1\" class=\"dataframe\">\n",
       "  <thead>\n",
       "    <tr style=\"text-align: right;\">\n",
       "      <th></th>\n",
       "      <th>TAI-UTC</th>\n",
       "      <th>Absolute_Orbit</th>\n",
       "    </tr>\n",
       "    <tr>\n",
       "      <th>UTC</th>\n",
       "      <th></th>\n",
       "      <th></th>\n",
       "    </tr>\n",
       "  </thead>\n",
       "  <tbody>\n",
       "    <tr>\n",
       "      <th>2016-12-30 00:57:55.303520</th>\n",
       "      <td>36.0</td>\n",
       "      <td>17409</td>\n",
       "    </tr>\n",
       "    <tr>\n",
       "      <th>2016-12-30 02:31:23.698877</th>\n",
       "      <td>36.0</td>\n",
       "      <td>17410</td>\n",
       "    </tr>\n",
       "    <tr>\n",
       "      <th>2016-12-30 04:04:52.153986</th>\n",
       "      <td>36.0</td>\n",
       "      <td>17411</td>\n",
       "    </tr>\n",
       "    <tr>\n",
       "      <th>2016-12-30 05:38:20.596916</th>\n",
       "      <td>36.0</td>\n",
       "      <td>17412</td>\n",
       "    </tr>\n",
       "    <tr>\n",
       "      <th>2016-12-30 07:11:48.980484</th>\n",
       "      <td>36.0</td>\n",
       "      <td>17413</td>\n",
       "    </tr>\n",
       "    <tr>\n",
       "      <th>...</th>\n",
       "      <td>...</td>\n",
       "      <td>...</td>\n",
       "    </tr>\n",
       "    <tr>\n",
       "      <th>2017-02-02 16:50:34.152478</th>\n",
       "      <td>37.0</td>\n",
       "      <td>17943</td>\n",
       "    </tr>\n",
       "    <tr>\n",
       "      <th>2017-02-02 18:24:02.007849</th>\n",
       "      <td>37.0</td>\n",
       "      <td>17944</td>\n",
       "    </tr>\n",
       "    <tr>\n",
       "      <th>2017-02-02 19:57:29.850120</th>\n",
       "      <td>37.0</td>\n",
       "      <td>17945</td>\n",
       "    </tr>\n",
       "    <tr>\n",
       "      <th>2017-02-02 21:30:57.769933</th>\n",
       "      <td>37.0</td>\n",
       "      <td>17946</td>\n",
       "    </tr>\n",
       "    <tr>\n",
       "      <th>2017-02-02 23:04:25.700457</th>\n",
       "      <td>37.0</td>\n",
       "      <td>17947</td>\n",
       "    </tr>\n",
       "  </tbody>\n",
       "</table>\n",
       "<p>539 rows × 2 columns</p>\n",
       "</div>"
      ],
      "text/plain": [
       "                            TAI-UTC  Absolute_Orbit\n",
       "UTC                                                \n",
       "2016-12-30 00:57:55.303520     36.0           17409\n",
       "2016-12-30 02:31:23.698877     36.0           17410\n",
       "2016-12-30 04:04:52.153986     36.0           17411\n",
       "2016-12-30 05:38:20.596916     36.0           17412\n",
       "2016-12-30 07:11:48.980484     36.0           17413\n",
       "...                             ...             ...\n",
       "2017-02-02 16:50:34.152478     37.0           17943\n",
       "2017-02-02 18:24:02.007849     37.0           17944\n",
       "2017-02-02 19:57:29.850120     37.0           17945\n",
       "2017-02-02 21:30:57.769933     37.0           17946\n",
       "2017-02-02 23:04:25.700457     37.0           17947\n",
       "\n",
       "[539 rows x 2 columns]"
      ]
     },
     "execution_count": 7,
     "metadata": {},
     "output_type": "execute_result"
    }
   ],
   "source": [
    "deltas = osvs_df[['UTC', 'Absolute_Orbit']].copy()\n",
    "deltas.insert(1, 'TAI-UTC', (osvs_df['TAI'] - osvs_df['UTC']).dt.total_seconds())\n",
    "deltas.set_index('UTC', inplace=True)\n",
    "deltas"
   ]
  },
  {
   "cell_type": "code",
   "execution_count": 8,
   "id": "05befa1f-be8a-471e-ab95-7297676f2fe0",
   "metadata": {},
   "outputs": [
    {
     "data": {
      "image/png": "[encoded data removed]",
      "text/plain": [
       "<Figure size 1152x720 with 1 Axes>"
      ]
     },
     "metadata": {
      "needs_background": "light"
     },
     "output_type": "display_data"
    }
   ],
   "source": [
    "end = '2017-01-02T00:00:00'\n",
    "deltas[:end].plot(y='TAI-UTC', figsize=(16, 10), style='.', grid=True, title=f\"TAI-UTC difference up to {end}\")\n",
    "pyplot.show()"
   ]
  }
 ],
 "metadata": {
  "kernelspec": {
   "display_name": "Python 3 (ipykernel)",
   "language": "python",
   "name": "python3"
  },
  "language_info": {
   "codemirror_mode": {
    "name": "ipython",
    "version": 3
   },
   "file_extension": ".py",
   "mimetype": "text/x-python",
   "name": "python",
   "nbconvert_exporter": "python",
   "pygments_lexer": "ipython3",
   "version": "3.9.7"
  }
 },
 "nbformat": 4,
 "nbformat_minor": 5
}
