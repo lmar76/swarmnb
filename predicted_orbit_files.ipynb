{
 "cells": [
  {
   "cell_type": "code",
   "execution_count": 1,
   "metadata": {},
   "outputs": [],
   "source": [
    "import os\n",
    "import re\n",
    "from collections import namedtuple\n",
    "from datetime import date, datetime, time, timezone\n",
    "from math import inf\n",
    "from pathlib import Path\n",
    "from tempfile import TemporaryDirectory\n",
    "from xml.etree import ElementTree\n",
    "from zipfile import ZipFile\n",
    "\n",
    "from swarmclient.client import SwarmClient, SwarmFile\n",
    "from swarmclient.config import ClientConfig"
   ]
  },
  {
   "cell_type": "code",
   "execution_count": 2,
   "metadata": {},
   "outputs": [],
   "source": [
    "datadir = Path('~/Workspace/data').expanduser()"
   ]
  },
  {
   "cell_type": "code",
   "execution_count": 3,
   "metadata": {},
   "outputs": [],
   "source": [
    "testfile = Path(datadir, 'SW_OPER_MPLAORBPRE_20191101T000000_20191206T000000_2172.ZIP')"
   ]
  },
  {
   "cell_type": "code",
   "execution_count": 4,
   "metadata": {},
   "outputs": [],
   "source": [
    "def get_orbit_data(satellite, batch_size=50, max_files=None):\n",
    "    \n",
    "    if satellite not in ('A', 'B', 'C'):\n",
    "        raise ValueError(\n",
    "            'Satellite ID must be A, B or C, not %s' % satellite\n",
    "        )\n",
    "    if max_files is None:\n",
    "        max_files = inf\n",
    "\n",
    "    cc = ClientConfig()\n",
    "    cln = SwarmClient(cc.default_site, *cc.get_site(cc.default_site).values())\n",
    "\n",
    "    path = f'Auxiliary/Sat_{satellite}/MPL{satellite}ORBPRE'\n",
    "\n",
    "    files = [elm for n, elm in enumerate(cln.search(path, file_type=f'MPL{satellite}ORBPRE')) if n < max_files]\n",
    "    \n",
    "    with TemporaryDirectory() as tmp:\n",
    "        print('downloading files to %s' % tmp)\n",
    "        while len(files):\n",
    "            cln.download(files[:batch_size], tmp)\n",
    "            files = files[batch_size:]\n",
    "        print('done')\n",
    "            \n",
    "    "
   ]
  },
  {
   "cell_type": "code",
   "execution_count": 3,
   "metadata": {
    "collapsed": true,
    "jupyter": {
     "outputs_hidden": true
    }
   },
   "outputs": [
    {
     "name": "stdout",
     "output_type": "stream",
     "text": [
      "downloading files to /var/folders/kr/0v3bs2p53wdd98x4103pjmdm0000gn/T/tmpkbdqn1by\n"
     ]
    },
    {
     "name": "stderr",
     "output_type": "stream",
     "text": [
      "SW_OPER_MPLAORBPRE_20131122T131347_20131207T131347_0014.ZIP: 100%|██████████| 17.8k/17.8k [00:00<00:00, 79.8kB/s]\n",
      "SW_OPER_MPLAORBPRE_20131122T131447_20131202T133247_0016.ZIP: 100%|██████████| 12.4k/12.4k [00:00<00:00, 66.5kB/s]\n",
      "SW_OPER_MPLAORBPRE_20131122T131447_20131202T232900_0017.ZIP: 100%|██████████| 12.9k/12.9k [00:00<00:00, 70.8kB/s]\n",
      "SW_OPER_MPLAORBPRE_20131122T131447_20131203T002900_0018.ZIP: 100%|██████████| 13.0k/13.0k [00:00<00:00, 69.8kB/s]\n",
      "SW_OPER_MPLAORBPRE_20131122T131447_20131203T002900_0019.ZIP: 100%|██████████| 13.0k/13.0k [00:00<00:00, 70.1kB/s]\n",
      "SW_OPER_MPLAORBPRE_20131122T131447_20131203T055900_0020.ZIP: 100%|██████████| 13.2k/13.2k [00:00<00:00, 70.0kB/s]\n",
      "SW_OPER_MPLAORBPRE_20131122T131447_20131203T055900_0021.ZIP: 100%|██████████| 13.0k/13.0k [00:00<00:00, 71.7kB/s]\n",
      "SW_OPER_MPLAORBPRE_20131122T131447_20140102T235900_0021.ZIP: 100%|██████████| 47.2k/47.2k [00:00<00:00, 173kB/s] \n",
      "SW_OPER_MPLAORBPRE_20131122T131447_20140102T235900_0022.ZIP: 100%|██████████| 47.2k/47.2k [00:00<00:00, 171kB/s] \n",
      "SW_OPER_MPLAORBPRE_20131126T000000_20140101T000000_0022.ZIP: 100%|██████████| 41.2k/41.2k [00:00<00:00, 148kB/s] \n",
      "SW_OPER_MPLAORBPRE_20131127T000000_20140108T000000_0023.ZIP: 100%|██████████| 47.9k/47.9k [00:00<00:00, 155kB/s] \n",
      "SW_OPER_MPLAORBPRE_20131128T000000_20140102T000000_0024.ZIP: 100%|██████████| 40.1k/40.1k [00:00<00:00, 142kB/s] \n",
      "SW_OPER_MPLAORBPRE_20131129T000000_20140103T000000_0025.ZIP: 100%|██████████| 40.0k/40.0k [00:00<00:00, 145kB/s] \n",
      "SW_OPER_MPLAORBPRE_20131130T000000_20140104T000000_0026.ZIP: 100%|██████████| 40.2k/40.2k [00:00<00:00, 149kB/s] \n",
      "SW_OPER_MPLAORBPRE_20131201T000000_20140105T000000_0027.ZIP: 100%|██████████| 40.1k/40.1k [00:00<00:00, 146kB/s] \n",
      "SW_OPER_MPLAORBPRE_20131202T000000_20140106T000000_0028.ZIP: 100%|██████████| 40.2k/40.2k [00:00<00:00, 135kB/s] \n",
      "SW_OPER_MPLAORBPRE_20131203T000000_20140107T000000_0029.ZIP: 100%|██████████| 40.2k/40.2k [00:00<00:00, 145kB/s] \n",
      "SW_OPER_MPLAORBPRE_20131204T000000_20140108T000000_0030.ZIP: 100%|██████████| 40.3k/40.3k [00:00<00:00, 144kB/s] \n",
      "SW_OPER_MPLAORBPRE_20131205T000000_20140109T000000_0031.ZIP: 100%|██████████| 40.2k/40.2k [00:00<00:00, 137kB/s] \n",
      "SW_OPER_MPLAORBPRE_20131206T000000_20140110T000000_0032.ZIP: 100%|██████████| 40.2k/40.2k [00:00<00:00, 148kB/s] \n",
      "SW_OPER_MPLAORBPRE_20131206T000000_20140110T000000_0033.ZIP: 100%|██████████| 40.2k/40.2k [00:00<00:00, 150kB/s] \n",
      "SW_OPER_MPLAORBPRE_20131207T000000_20140111T000000_0034.ZIP: 100%|██████████| 40.1k/40.1k [00:00<00:00, 137kB/s] \n",
      "SW_OPER_MPLAORBPRE_20131208T000000_20140112T000000_0035.ZIP: 100%|██████████| 40.0k/40.0k [00:00<00:00, 149kB/s] \n",
      "SW_OPER_MPLAORBPRE_20131209T000000_20140113T000000_0036.ZIP: 100%|██████████| 40.2k/40.2k [00:00<00:00, 140kB/s] \n",
      "SW_OPER_MPLAORBPRE_20131210T000000_20140114T000000_0037.ZIP: 100%|██████████| 40.2k/40.2k [00:00<00:00, 152kB/s] \n",
      "SW_OPER_MPLAORBPRE_20131211T000000_20140115T000000_0038.ZIP: 100%|██████████| 40.1k/40.1k [00:00<00:00, 146kB/s] \n",
      "SW_OPER_MPLAORBPRE_20131212T000000_20140116T000000_0039.ZIP: 100%|██████████| 40.1k/40.1k [00:00<00:00, 145kB/s] \n",
      "SW_OPER_MPLAORBPRE_20131213T000000_20140117T000000_0040.ZIP: 100%|██████████| 40.1k/40.1k [00:00<00:00, 148kB/s] \n",
      "SW_OPER_MPLAORBPRE_20131214T000000_20140118T000000_0041.ZIP: 100%|██████████| 40.1k/40.1k [00:00<00:00, 145kB/s] \n",
      "SW_OPER_MPLAORBPRE_20131216T000000_20140120T000000_0042.ZIP: 100%|██████████| 40.1k/40.1k [00:00<00:00, 139kB/s] \n",
      "SW_OPER_MPLAORBPRE_20131217T000000_20140121T000000_0043.ZIP: 100%|██████████| 40.1k/40.1k [00:00<00:00, 146kB/s] \n",
      "SW_OPER_MPLAORBPRE_20131218T000000_20140122T000000_0044.ZIP: 100%|██████████| 40.1k/40.1k [00:00<00:00, 146kB/s] \n",
      "SW_OPER_MPLAORBPRE_20131219T000000_20140123T000000_0045.ZIP: 100%|██████████| 40.2k/40.2k [00:00<00:00, 147kB/s] \n",
      "SW_OPER_MPLAORBPRE_20131220T000000_20140124T000000_0046.ZIP: 100%|██████████| 40.2k/40.2k [00:00<00:00, 145kB/s] \n",
      "SW_OPER_MPLAORBPRE_20131221T000000_20140125T000000_0047.ZIP: 100%|██████████| 40.1k/40.1k [00:00<00:00, 148kB/s] \n",
      "SW_OPER_MPLAORBPRE_20131221T000000_20140125T000000_0048.ZIP: 100%|██████████| 40.1k/40.1k [00:00<00:00, 143kB/s] \n",
      "SW_OPER_MPLAORBPRE_20131223T000000_20140127T000000_0049.ZIP: 100%|██████████| 40.2k/40.2k [00:00<00:00, 147kB/s] \n",
      "SW_OPER_MPLAORBPRE_20131224T000000_20140128T000000_0050.ZIP: 100%|██████████| 40.1k/40.1k [00:00<00:00, 148kB/s] \n",
      "SW_OPER_MPLAORBPRE_20131225T000000_20140129T000000_0051.ZIP: 100%|██████████| 40.1k/40.1k [00:00<00:00, 149kB/s] \n",
      "SW_OPER_MPLAORBPRE_20131226T000000_20140130T000000_0052.ZIP: 100%|██████████| 40.1k/40.1k [00:00<00:00, 147kB/s] \n",
      "SW_OPER_MPLAORBPRE_20131227T000000_20140131T000000_0053.ZIP: 100%|██████████| 40.1k/40.1k [00:00<00:00, 150kB/s] \n",
      "SW_OPER_MPLAORBPRE_20131229T000000_20140202T000000_0054.ZIP: 100%|██████████| 40.2k/40.2k [00:00<00:00, 144kB/s] \n",
      "SW_OPER_MPLAORBPRE_20131230T000000_20140203T000000_0055.ZIP: 100%|██████████| 40.1k/40.1k [00:00<00:00, 147kB/s] \n",
      "SW_OPER_MPLAORBPRE_20131231T000000_20140204T000000_0056.ZIP: 100%|██████████| 40.1k/40.1k [00:00<00:00, 144kB/s] \n",
      "SW_OPER_MPLAORBPRE_20140101T000000_20140205T000000_0057.ZIP: 100%|██████████| 40.1k/40.1k [00:00<00:00, 148kB/s] \n",
      "SW_OPER_MPLAORBPRE_20140102T000000_20140206T000000_0058.ZIP: 100%|██████████| 40.2k/40.2k [00:00<00:00, 148kB/s] \n",
      "SW_OPER_MPLAORBPRE_20140103T000000_20140207T000000_0059.ZIP: 100%|██████████| 40.2k/40.2k [00:00<00:00, 148kB/s] \n",
      "SW_OPER_MPLAORBPRE_20140103T000000_20140207T000000_0060.ZIP: 100%|██████████| 40.1k/40.1k [00:00<00:00, 150kB/s] \n",
      "SW_OPER_MPLAORBPRE_20140104T000000_20140208T000000_0061.ZIP: 100%|██████████| 40.1k/40.1k [00:00<00:00, 148kB/s] \n",
      "SW_OPER_MPLAORBPRE_20140105T000000_20140209T000000_0062.ZIP: 100%|██████████| 40.1k/40.1k [00:00<00:00, 144kB/s] "
     ]
    },
    {
     "name": "stdout",
     "output_type": "stream",
     "text": [
      "done\n"
     ]
    },
    {
     "name": "stderr",
     "output_type": "stream",
     "text": [
      "\n"
     ]
    }
   ],
   "source": [
    "try:\n",
    "    get_orbit_data('A', max_files=50)\n",
    "except Exception as err:\n",
    "    print(err)"
   ]
  },
  {
   "cell_type": "code",
   "execution_count": 7,
   "metadata": {},
   "outputs": [],
   "source": [
    "class OrbitStateVector:\n",
    "    \n",
    "    def __init__(self, tai, utc, ut1, absolute_orbit, x, y, z, vx, vy, vz, quality):\n",
    "        self.__tai = self.__to_datetime(tai)\n",
    "        self.__utc = self.__to_datetime(utc)\n",
    "        self.__ut1 = self.__to_datetime(ut1)\n",
    "        self.__absolute_orbit = int(absolute_orbit)\n",
    "        self.__x = float(x)\n",
    "        self.__y = float(y)\n",
    "        self.__z = float(z)\n",
    "        self.__vx = float(vx)\n",
    "        self.__vy = float(vy)\n",
    "        self.__vz = float(vz)\n",
    "        self.__quality = int(quality)\n",
    "    \n",
    "    def __to_datetime(self, value):\n",
    "        if isinstance(value, date):\n",
    "            if not hasattr(value, 'hour'):\n",
    "                value = datetime.combine(value, time())\n",
    "        elif isinstance(value, str):\n",
    "            value = datetime.strptime(value[4:], '%Y-%m-%dT%H:%M:%S.%f')\n",
    "        return value.replace(tzinfo=timezone.utc)\n",
    "            \n",
    "    \n",
    "    def __repr__(self):\n",
    "        return f'<Orbit({self.__absolute_orbit})>'\n",
    "    \n",
    "    @property\n",
    "    def times(self):\n",
    "        return {\n",
    "            'TAI': self.__tai,\n",
    "            'UT1': self.__ut1,\n",
    "            'UTC': self.__utc\n",
    "        }\n",
    "\n",
    "    @property\n",
    "    def position(self):\n",
    "        return {\n",
    "            'x': self.__x,\n",
    "            'y': self.__y,\n",
    "            'z': self.__z\n",
    "        }\n",
    "\n",
    "    @property\n",
    "    def velocity(self):\n",
    "        return {\n",
    "            'vx': self.__vx,\n",
    "            'vy': self.__vy,\n",
    "            'vz': self.__vz\n",
    "        }\n",
    "\n",
    "    @property\n",
    "    def absolute_orbit(self):\n",
    "        return self.__absolute_orbit\n",
    "    \n",
    "    @property\n",
    "    def quality(self):\n",
    "        return self.__quality\n",
    "    \n",
    "    "
   ]
  },
  {
   "cell_type": "code",
   "execution_count": 8,
   "metadata": {},
   "outputs": [],
   "source": [
    "osv = OrbitStateVector(\n",
    "    tai='TAI=2019-11-01T00:08:00.538843',\n",
    "    utc='UTC=2019-11-01T00:07:23.538843',\n",
    "    ut1='UT1=2019-11-01T00:07:23.378921',\n",
    "    absolute_orbit='+33383',\n",
    "    x='-6752454.829',\n",
    "    y='+0925206.375',\n",
    "    z='-0010660.291',\n",
    "    vx='+0018.385635',\n",
    "    vy='+0145.048283',\n",
    "    vz='+7641.120229',\n",
    "    quality='0000000000000'\n",
    ")"
   ]
  },
  {
   "cell_type": "code",
   "execution_count": 9,
   "metadata": {},
   "outputs": [
    {
     "data": {
      "text/plain": [
       "<Orbit(33383)>"
      ]
     },
     "execution_count": 9,
     "metadata": {},
     "output_type": "execute_result"
    }
   ],
   "source": [
    "osv"
   ]
  },
  {
   "cell_type": "code",
   "execution_count": 10,
   "metadata": {},
   "outputs": [
    {
     "data": {
      "text/plain": [
       "{'TAI': datetime.datetime(2019, 11, 1, 0, 8, 0, 538843, tzinfo=datetime.timezone.utc),\n",
       " 'UT1': datetime.datetime(2019, 11, 1, 0, 7, 23, 378921, tzinfo=datetime.timezone.utc),\n",
       " 'UTC': datetime.datetime(2019, 11, 1, 0, 7, 23, 538843, tzinfo=datetime.timezone.utc)}"
      ]
     },
     "execution_count": 10,
     "metadata": {},
     "output_type": "execute_result"
    }
   ],
   "source": [
    "osv.times"
   ]
  },
  {
   "cell_type": "code",
   "execution_count": 11,
   "metadata": {},
   "outputs": [
    {
     "data": {
      "text/plain": [
       "33383"
      ]
     },
     "execution_count": 11,
     "metadata": {},
     "output_type": "execute_result"
    }
   ],
   "source": [
    "osv.absolute_orbit"
   ]
  },
  {
   "cell_type": "code",
   "execution_count": 12,
   "metadata": {},
   "outputs": [
    {
     "data": {
      "text/plain": [
       "{'x': -6752454.829, 'y': 925206.375, 'z': -10660.291}"
      ]
     },
     "execution_count": 12,
     "metadata": {},
     "output_type": "execute_result"
    }
   ],
   "source": [
    "osv.position"
   ]
  },
  {
   "cell_type": "code",
   "execution_count": 13,
   "metadata": {},
   "outputs": [
    {
     "data": {
      "text/plain": [
       "{'vx': 18.385635, 'vy': 145.048283, 'vz': 7641.120229}"
      ]
     },
     "execution_count": 13,
     "metadata": {},
     "output_type": "execute_result"
    }
   ],
   "source": [
    "osv.velocity"
   ]
  },
  {
   "cell_type": "code",
   "execution_count": 51,
   "metadata": {},
   "outputs": [],
   "source": [
    "class PredictedOrbitFile:\n",
    "    \n",
    "    __pattern = re.compile(\n",
    "        r'SW_(?P<file_class>\\w{4})_(?P<file_type>MPL(?P<sat_id>[ABC])ORBPRE)_'\n",
    "        r'(?P<validity_start>\\d{8}T\\d{6})_(?P<validity_stop>\\d{8}T\\d{6})_'\n",
    "        r'(?P<version>\\d{4})\\.(?P<suffix>ZIP|EEF)'\n",
    "    )\n",
    "    \n",
    "    def __init__(self, filename):\n",
    "        p = Path(filename)\n",
    "        m = self.__pattern.match(p.name)\n",
    "        if not m:\n",
    "            raise ValueError('invalid file name: %s' % p.name)\n",
    "        self.__properties = m.groupdict()\n",
    "        self.__parent = p.parent\n",
    "        self.__name = p.name\n",
    "\n",
    "    @property\n",
    "    def mission(self):\n",
    "        return 'SW'\n",
    "    \n",
    "    @property\n",
    "    def file_class(self):\n",
    "        return self.__properties['file_class']\n",
    "    \n",
    "    @property\n",
    "    def file_type(self):\n",
    "        return self.__properties['file_type']\n",
    "    \n",
    "    @property\n",
    "    def sat_id(self):\n",
    "        return self.__properties['sat_id']\n",
    "\n",
    "    @property\n",
    "    def suffix(self):\n",
    "        return self.__properties['suffix']\n",
    "    \n"
   ]
  },
  {
   "cell_type": "code",
   "execution_count": 52,
   "metadata": {},
   "outputs": [],
   "source": [
    "p = PredictedOrbitFile(testfile.name)"
   ]
  },
  {
   "cell_type": "code",
   "execution_count": 53,
   "metadata": {},
   "outputs": [
    {
     "data": {
      "text/plain": [
       "'OPER'"
      ]
     },
     "execution_count": 53,
     "metadata": {},
     "output_type": "execute_result"
    }
   ],
   "source": [
    "p.file_class"
   ]
  },
  {
   "cell_type": "code",
   "execution_count": 54,
   "metadata": {},
   "outputs": [
    {
     "data": {
      "text/plain": [
       "'MPLAORBPRE'"
      ]
     },
     "execution_count": 54,
     "metadata": {},
     "output_type": "execute_result"
    }
   ],
   "source": [
    "p.file_type"
   ]
  },
  {
   "cell_type": "code",
   "execution_count": 55,
   "metadata": {},
   "outputs": [
    {
     "data": {
      "text/plain": [
       "'A'"
      ]
     },
     "execution_count": 55,
     "metadata": {},
     "output_type": "execute_result"
    }
   ],
   "source": [
    "p.sat_id"
   ]
  },
  {
   "cell_type": "code",
   "execution_count": 56,
   "metadata": {},
   "outputs": [
    {
     "data": {
      "text/plain": [
       "'ZIP'"
      ]
     },
     "execution_count": 56,
     "metadata": {},
     "output_type": "execute_result"
    }
   ],
   "source": [
    "p.suffix"
   ]
  }
 ],
 "metadata": {
  "kernelspec": {
   "display_name": "Python 3 (swarm)",
   "language": "python",
   "name": "swarm"
  },
  "language_info": {
   "codemirror_mode": {
    "name": "ipython",
    "version": 3
   },
   "file_extension": ".py",
   "mimetype": "text/x-python",
   "name": "python",
   "nbconvert_exporter": "python",
   "pygments_lexer": "ipython3",
   "version": "3.7.6"
  }
 },
 "nbformat": 4,
 "nbformat_minor": 4
}
