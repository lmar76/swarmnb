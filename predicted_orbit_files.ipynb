{
 "cells": [
  {
   "cell_type": "code",
   "execution_count": 2,
   "metadata": {},
   "outputs": [],
   "source": [
    "from swarmclient.client import SwarmClient, SwarmFile\n",
    "from swarmclient.config import ClientConfig"
   ]
  },
  {
   "cell_type": "code",
   "execution_count": 12,
   "metadata": {},
   "outputs": [],
   "source": [
    "def get_orbit_data(satellite, max_files=None):\n",
    "    \n",
    "    satellite = str(satellite).upper()\n",
    "    if max_files:\n",
    "        max_files = int(max_files)\n",
    "    \n",
    "    if satellite not in ('A', 'B', 'C'):\n",
    "        raise ValueError(\n",
    "            'Satellite ID must be A, B or C, not %s' % satellite\n",
    "        )\n",
    "\n",
    "    cc = ClientConfig()\n",
    "    cln = SwarmClient(cc.default_site, *cc.get_site(cc.default_site).values())\n",
    "\n",
    "    path = f'Auxiliary/Sat_{satellite}/MPL{satellite}ORBPRE'\n",
    "\n",
    "    for n, elm in enumerate(cln.search(path, file_type='MPL[ABC]ORBPRE'), 1):\n",
    "        if n > max_files:\n",
    "            break\n",
    "        print(elm)\n",
    "    "
   ]
  },
  {
   "cell_type": "code",
   "execution_count": 13,
   "metadata": {},
   "outputs": [
    {
     "name": "stdout",
     "output_type": "stream",
     "text": [
      "Auxiliary/Sat_A/MPLAORBPRE/2013/SW_OPER_MPLAORBPRE_20131122T131347_20131207T131347_0014.ZIP\n",
      "Auxiliary/Sat_A/MPLAORBPRE/2013/SW_OPER_MPLAORBPRE_20131122T131447_20131202T133247_0016.ZIP\n",
      "Auxiliary/Sat_A/MPLAORBPRE/2013/SW_OPER_MPLAORBPRE_20131122T131447_20131202T232900_0017.ZIP\n",
      "Auxiliary/Sat_A/MPLAORBPRE/2013/SW_OPER_MPLAORBPRE_20131122T131447_20131203T002900_0018.ZIP\n"
     ]
    }
   ],
   "source": [
    "get_orbit_data('A', 4)"
   ]
  },
  {
   "cell_type": "code",
   "execution_count": null,
   "metadata": {},
   "outputs": [],
   "source": []
  }
 ],
 "metadata": {
  "kernelspec": {
   "display_name": "Python 3 (swarm)",
   "language": "python",
   "name": "swarm"
  },
  "language_info": {
   "codemirror_mode": {
    "name": "ipython",
    "version": 3
   },
   "file_extension": ".py",
   "mimetype": "text/x-python",
   "name": "python",
   "nbconvert_exporter": "python",
   "pygments_lexer": "ipython3",
   "version": "3.7.6"
  }
 },
 "nbformat": 4,
 "nbformat_minor": 4
}
