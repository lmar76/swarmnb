{
 "cells": [
  {
   "cell_type": "markdown",
   "metadata": {},
   "source": [
    "# `viresclient` API\n",
    "\n",
    "<a id=\"top\"/>\n",
    "\n",
    "## Content\n",
    "- [`SwarmRequest`](#SwarmRequest)\n",
    "    - [`SwarmRequest.available_collections()`](#SwarmRequest.available_collections)\n",
    "    - [`SwarmRequest.available_measurements()`](#SwarmRequest.available_measurements)\n",
    "    - [`SwarmRequest.available_auxiliaries()`](#SwarmRequest.available_auxiliaries)\n",
    "    - [`SwarmRequest.available_models()`](#SwarmRequest.available_models)"
   ]
  },
  {
   "cell_type": "markdown",
   "metadata": {},
   "source": [
    "<a id=\"SwarmRequest\"/>\n",
    "\n",
    "## `SwarmRequest`\n",
    "\n",
    "`SwarmRequest` is the class needed to send requests to the server."
   ]
  },
  {
   "cell_type": "code",
   "execution_count": 10,
   "metadata": {},
   "outputs": [
    {
     "data": {
      "text/plain": [
       "\u001b[0;31mInit signature:\u001b[0m\n",
       "\u001b[0mSwarmRequest\u001b[0m\u001b[0;34m(\u001b[0m\u001b[0;34m\u001b[0m\n",
       "\u001b[0;34m\u001b[0m    \u001b[0murl\u001b[0m\u001b[0;34m=\u001b[0m\u001b[0;32mNone\u001b[0m\u001b[0;34m,\u001b[0m\u001b[0;34m\u001b[0m\n",
       "\u001b[0;34m\u001b[0m    \u001b[0musername\u001b[0m\u001b[0;34m=\u001b[0m\u001b[0;32mNone\u001b[0m\u001b[0;34m,\u001b[0m\u001b[0;34m\u001b[0m\n",
       "\u001b[0;34m\u001b[0m    \u001b[0mpassword\u001b[0m\u001b[0;34m=\u001b[0m\u001b[0;32mNone\u001b[0m\u001b[0;34m,\u001b[0m\u001b[0;34m\u001b[0m\n",
       "\u001b[0;34m\u001b[0m    \u001b[0mtoken\u001b[0m\u001b[0;34m=\u001b[0m\u001b[0;32mNone\u001b[0m\u001b[0;34m,\u001b[0m\u001b[0;34m\u001b[0m\n",
       "\u001b[0;34m\u001b[0m    \u001b[0mconfig\u001b[0m\u001b[0;34m=\u001b[0m\u001b[0;32mNone\u001b[0m\u001b[0;34m,\u001b[0m\u001b[0;34m\u001b[0m\n",
       "\u001b[0;34m\u001b[0m    \u001b[0mlogging_level\u001b[0m\u001b[0;34m=\u001b[0m\u001b[0;34m'NO_LOGGING'\u001b[0m\u001b[0;34m,\u001b[0m\u001b[0;34m\u001b[0m\n",
       "\u001b[0;34m\u001b[0m\u001b[0;34m)\u001b[0m\u001b[0;34m\u001b[0m\u001b[0;34m\u001b[0m\u001b[0m\n",
       "\u001b[0;31mDocstring:\u001b[0m     \n",
       "Handles the requests to and downloads from the server.\n",
       "\n",
       "Steps to download data:\n",
       "\n",
       "1. Set up a connection to the server with: request = SwarmRequest()\n",
       "\n",
       "2. Set collections to use with: request.set_collections()\n",
       "\n",
       "3. Set parameters to get with: request.set_products()\n",
       "\n",
       "4. Set filters to apply with: request.set_range_filter()\n",
       "\n",
       "5. Get the data in a chosen time window: request.get_between()\n",
       "\n",
       "Args:\n",
       "    url (str):\n",
       "    username (str):\n",
       "    password (str):\n",
       "    token (str):\n",
       "    config (str or ClientConfig):\n",
       "    logging_level (str):\n",
       "\u001b[0;31mFile:\u001b[0m           /opt/conda/lib/python3.7/site-packages/viresclient/_client_swarm.py\n",
       "\u001b[0;31mType:\u001b[0m           type\n",
       "\u001b[0;31mSubclasses:\u001b[0m     \n"
      ]
     },
     "metadata": {},
     "output_type": "display_data"
    }
   ],
   "source": [
    "from viresclient import SwarmRequest\n",
    "\n",
    "SwarmRequest?"
   ]
  },
  {
   "cell_type": "markdown",
   "metadata": {},
   "source": [
    "After the client configuration (see [First Usage]('0_first_usage.ipynb')) the `SwarmRequest` object can be instantiated as follows:"
   ]
  },
  {
   "cell_type": "code",
   "execution_count": 11,
   "metadata": {},
   "outputs": [],
   "source": [
    "req = SwarmRequest()"
   ]
  },
  {
   "cell_type": "markdown",
   "metadata": {},
   "source": [
    "[TOP](#top)\n",
    "\n",
    "<a id=\"SwarmRequest.available_collections\"/>\n",
    "\n",
    "### `SwarmRequest.available_collections()`\n",
    "\n",
    "Show the available collections (i.e. Swarm product types) with references to the online documentation."
   ]
  },
  {
   "cell_type": "code",
   "execution_count": 29,
   "metadata": {},
   "outputs": [
    {
     "data": {
      "text/plain": [
       "\u001b[0;31mSignature:\u001b[0m \u001b[0mSwarmRequest\u001b[0m\u001b[0;34m.\u001b[0m\u001b[0mavailable_collections\u001b[0m\u001b[0;34m(\u001b[0m\u001b[0mself\u001b[0m\u001b[0;34m,\u001b[0m \u001b[0mdetails\u001b[0m\u001b[0;34m=\u001b[0m\u001b[0;32mTrue\u001b[0m\u001b[0;34m)\u001b[0m\u001b[0;34m\u001b[0m\u001b[0;34m\u001b[0m\u001b[0m\n",
       "\u001b[0;31mDocstring:\u001b[0m\n",
       "Show details of available collections.\n",
       "\n",
       "Args:\n",
       "    details (bool): If True then print a nice output.\n",
       "        If False then return a list of available collections.\n",
       "\u001b[0;31mFile:\u001b[0m      /opt/conda/lib/python3.7/site-packages/viresclient/_client_swarm.py\n",
       "\u001b[0;31mType:\u001b[0m      function\n"
      ]
     },
     "metadata": {},
     "output_type": "display_data"
    }
   ],
   "source": [
    "SwarmRequest.available_collections?"
   ]
  },
  {
   "cell_type": "code",
   "execution_count": 24,
   "metadata": {},
   "outputs": [
    {
     "name": "stdout",
     "output_type": "stream",
     "text": [
      "General References:\n",
      " Swarm Data Handbook, https://earth.esa.int/web/guest/missions/esa-eo-missions/swarm/data-handbook \n",
      " The Swarm Satellite Constellation Application and Research Facility (SCARF) and Swarm data products, https://doi.org/10.5047/eps.2013.07.001 \n",
      " Swarm Science Data Processing and Products (2013), https://link.springer.com/journal/40623/65/11/page/1 \n",
      " Special issue “Swarm science results after 2 years in space (2016), https://www.springeropen.com/collections/swsr \n",
      " Earth's Magnetic Field: Understanding Geomagnetic Sources from the Earth's Interior and its Environment (2017), https://link.springer.com/journal/11214/206/1/page/1 \n",
      "\n",
      "MAG\n",
      "   SW_OPER_MAGA_LR_1B\n",
      "   SW_OPER_MAGB_LR_1B\n",
      "   SW_OPER_MAGC_LR_1B\n",
      " https://earth.esa.int/web/guest/missions/esa-eo-missions/swarm/data-handbook/level-1b-product-definitions#MAGX_LR_1B_Product \n",
      "\n",
      "EFI\n",
      "   SW_OPER_EFIA_LP_1B\n",
      "   SW_OPER_EFIB_LP_1B\n",
      "   SW_OPER_EFIC_LP_1B\n",
      " https://earth.esa.int/web/guest/missions/esa-eo-missions/swarm/data-handbook/level-1b-product-definitions#EFIX_LP_1B_Product \n",
      "\n",
      "IBI\n",
      "   SW_OPER_IBIATMS_2F\n",
      "   SW_OPER_IBIBTMS_2F\n",
      "   SW_OPER_IBICTMS_2F\n",
      " https://earth.esa.int/web/guest/missions/esa-eo-missions/swarm/data-handbook/level-2-product-definitions#IBIxTMS_2F \n",
      " https://earth.esa.int/documents/10174/1514862/Swarm_L2_IBI_product_description \n",
      "\n",
      "TEC\n",
      "   SW_OPER_TECATMS_2F\n",
      "   SW_OPER_TECBTMS_2F\n",
      "   SW_OPER_TECCTMS_2F\n",
      " https://earth.esa.int/web/guest/missions/esa-eo-missions/swarm/data-handbook/level-2-product-definitions#TECxTMS_2F \n",
      " https://earth.esa.int/documents/10174/1514862/Swarm_Level-2_TEC_Product_Description \n",
      "\n",
      "FAC\n",
      "   SW_OPER_FACATMS_2F\n",
      "   SW_OPER_FACBTMS_2F\n",
      "   SW_OPER_FACCTMS_2F\n",
      "   SW_OPER_FAC_TMS_2F\n",
      " https://earth.esa.int/web/guest/missions/esa-eo-missions/swarm/data-handbook/level-2-product-definitions#FAC_TMS_2F \n",
      " https://earth.esa.int/web/guest/missions/esa-eo-missions/swarm/data-handbook/level-2-product-definitions#FACxTMS_2F \n",
      " https://earth.esa.int/documents/10174/1514862/Swarm_L2_FAC_single_product_description \n",
      " https://earth.esa.int/documents/10174/1514862/Swarm-L2-FAC-Dual-Product-Description \n",
      "\n",
      "EEF\n",
      "   SW_OPER_EEFATMS_2F\n",
      "   SW_OPER_EEFBTMS_2F\n",
      " https://earth.esa.int/web/guest/missions/esa-eo-missions/swarm/data-handbook/level-2-product-definitions#EEFxTMS_2F \n",
      " https://earth.esa.int/documents/10174/1514862/Swarm-Level-2-EEF-Product-Description \n",
      "\n",
      "IPD\n",
      "   SW_OPER_IPDAIRR_2F\n",
      "   SW_OPER_IPDBIRR_2F\n",
      "   SW_OPER_IPDCIRR_2F\n",
      " https://earth.esa.int/web/guest/missions/esa-eo-missions/swarm/data-handbook/level-2-product-definitions#IPDxIPR_2F \n",
      "\n",
      "AEJ_LPL\n",
      "   SW_OPER_AEJALPL_2F\n",
      "   SW_OPER_AEJBLPL_2F\n",
      "   SW_OPER_AEJCLPL_2F\n",
      "No reference...\n",
      "\n",
      "AEJ_LPS\n",
      "   SW_OPER_AEJALPS_2F\n",
      "   SW_OPER_AEJBLPS_2F\n",
      "   SW_OPER_AEJCLPS_2F\n",
      "No reference...\n",
      "\n",
      "AEJ_PBL\n",
      "   SW_OPER_AEJAPBL_2F\n",
      "   SW_OPER_AEJBPBL_2F\n",
      "   SW_OPER_AEJCPBL_2F\n",
      "No reference...\n",
      "\n",
      "AEJ_PBS\n",
      "   SW_OPER_AEJAPBS_2F\n",
      "   SW_OPER_AEJBPBS_2F\n",
      "   SW_OPER_AEJCPBS_2F\n",
      "No reference...\n",
      "\n",
      "AOB_FAC\n",
      "   SW_OPER_AOBAFAC_2F\n",
      "   SW_OPER_AOBBFAC_2F\n",
      "   SW_OPER_AOBCFAC_2F\n",
      "No reference...\n",
      "\n",
      "AEJ_PBS:PGMFD\n",
      "   SW_OPER_AEJAPBS_2F:PGMFD\n",
      "   SW_OPER_AEJBPBS_2F:PGMFD\n",
      "   SW_OPER_AEJCPBS_2F:PGMFD\n",
      "No reference...\n",
      "\n"
     ]
    }
   ],
   "source": [
    "req.available_collections()"
   ]
  },
  {
   "cell_type": "markdown",
   "metadata": {},
   "source": [
    "Show the available product types omitting the details."
   ]
  },
  {
   "cell_type": "code",
   "execution_count": 25,
   "metadata": {},
   "outputs": [
    {
     "data": {
      "text/plain": [
       "['SW_OPER_MAGA_LR_1B',\n",
       " 'SW_OPER_MAGB_LR_1B',\n",
       " 'SW_OPER_MAGC_LR_1B',\n",
       " 'SW_OPER_EFIA_LP_1B',\n",
       " 'SW_OPER_EFIB_LP_1B',\n",
       " 'SW_OPER_EFIC_LP_1B',\n",
       " 'SW_OPER_IBIATMS_2F',\n",
       " 'SW_OPER_IBIBTMS_2F',\n",
       " 'SW_OPER_IBICTMS_2F',\n",
       " 'SW_OPER_TECATMS_2F',\n",
       " 'SW_OPER_TECBTMS_2F',\n",
       " 'SW_OPER_TECCTMS_2F',\n",
       " 'SW_OPER_FACATMS_2F',\n",
       " 'SW_OPER_FACBTMS_2F',\n",
       " 'SW_OPER_FACCTMS_2F',\n",
       " 'SW_OPER_FAC_TMS_2F',\n",
       " 'SW_OPER_EEFATMS_2F',\n",
       " 'SW_OPER_EEFBTMS_2F',\n",
       " 'SW_OPER_IPDAIRR_2F',\n",
       " 'SW_OPER_IPDBIRR_2F',\n",
       " 'SW_OPER_IPDCIRR_2F',\n",
       " 'SW_OPER_AEJALPL_2F',\n",
       " 'SW_OPER_AEJBLPL_2F',\n",
       " 'SW_OPER_AEJCLPL_2F',\n",
       " 'SW_OPER_AEJALPS_2F',\n",
       " 'SW_OPER_AEJBLPS_2F',\n",
       " 'SW_OPER_AEJCLPS_2F',\n",
       " 'SW_OPER_AEJAPBL_2F',\n",
       " 'SW_OPER_AEJBPBL_2F',\n",
       " 'SW_OPER_AEJCPBL_2F',\n",
       " 'SW_OPER_AEJAPBS_2F',\n",
       " 'SW_OPER_AEJBPBS_2F',\n",
       " 'SW_OPER_AEJCPBS_2F',\n",
       " 'SW_OPER_AOBAFAC_2F',\n",
       " 'SW_OPER_AOBBFAC_2F',\n",
       " 'SW_OPER_AOBCFAC_2F',\n",
       " 'SW_OPER_AEJAPBS_2F:PGMFD',\n",
       " 'SW_OPER_AEJBPBS_2F:PGMFD',\n",
       " 'SW_OPER_AEJCPBS_2F:PGMFD']"
      ]
     },
     "execution_count": 25,
     "metadata": {},
     "output_type": "execute_result"
    }
   ],
   "source": [
    "req.available_collections(details=False)"
   ]
  },
  {
   "cell_type": "markdown",
   "metadata": {},
   "source": [
    "[TOP](#top)\n",
    "\n",
    "<a id=\"SwarmRequest.available_measurements\"/>\n",
    "\n",
    "## `SwarmRequest.available_measurements()`\n",
    "\n",
    "Show the available measurements."
   ]
  },
  {
   "cell_type": "code",
   "execution_count": 30,
   "metadata": {},
   "outputs": [
    {
     "data": {
      "text/plain": [
       "\u001b[0;31mSignature:\u001b[0m \u001b[0mSwarmRequest\u001b[0m\u001b[0;34m.\u001b[0m\u001b[0mavailable_measurements\u001b[0m\u001b[0;34m(\u001b[0m\u001b[0mself\u001b[0m\u001b[0;34m,\u001b[0m \u001b[0mcollection\u001b[0m\u001b[0;34m=\u001b[0m\u001b[0;32mNone\u001b[0m\u001b[0;34m)\u001b[0m\u001b[0;34m\u001b[0m\u001b[0;34m\u001b[0m\u001b[0m\n",
       "\u001b[0;31mDocstring:\u001b[0m\n",
       "Returns a list of the available measurements for the chosen collection.\n",
       "\n",
       "Args:\n",
       "    collection (str): one of: (\"MAG\", \"EFI\", \"IBI\", \"TEC\", \"FAC\", \"EEF\")\n",
       "\u001b[0;31mFile:\u001b[0m      /opt/conda/lib/python3.7/site-packages/viresclient/_client_swarm.py\n",
       "\u001b[0;31mType:\u001b[0m      function\n"
      ]
     },
     "metadata": {},
     "output_type": "display_data"
    }
   ],
   "source": [
    "SwarmRequest.available_measurements?"
   ]
  },
  {
   "cell_type": "code",
   "execution_count": 26,
   "metadata": {},
   "outputs": [
    {
     "data": {
      "text/plain": [
       "{'MAG': ['F',\n",
       "  'dF_AOCS',\n",
       "  'dF_other',\n",
       "  'F_error',\n",
       "  'B_VFM',\n",
       "  'B_NEC',\n",
       "  'dB_Sun',\n",
       "  'dB_AOCS',\n",
       "  'dB_other',\n",
       "  'B_error',\n",
       "  'q_NEC_CRF',\n",
       "  'Att_error',\n",
       "  'Flags_F',\n",
       "  'Flags_B',\n",
       "  'Flags_q',\n",
       "  'Flags_Platform',\n",
       "  'ASM_Freq_Dev'],\n",
       " 'EFI': ['U_orbit',\n",
       "  'Ne',\n",
       "  'Ne_error',\n",
       "  'Te',\n",
       "  'Te_error',\n",
       "  'Vs',\n",
       "  'Vs_error',\n",
       "  'Flags_LP',\n",
       "  'Flags_Ne',\n",
       "  'Flags_Te',\n",
       "  'Flags_Vs'],\n",
       " 'IBI': ['Bubble_Index',\n",
       "  'Bubble_Probability',\n",
       "  'Flags_Bubble',\n",
       "  'Flags_F',\n",
       "  'Flags_B',\n",
       "  'Flags_q'],\n",
       " 'TEC': ['GPS_Position',\n",
       "  'LEO_Position',\n",
       "  'PRN',\n",
       "  'L1',\n",
       "  'L2',\n",
       "  'P1',\n",
       "  'P2',\n",
       "  'S1',\n",
       "  'S2',\n",
       "  'Elevation_Angle',\n",
       "  'Absolute_VTEC',\n",
       "  'Absolute_STEC',\n",
       "  'Relative_STEC',\n",
       "  'Relative_STEC_RMS',\n",
       "  'DCB',\n",
       "  'DCB_Error'],\n",
       " 'FAC': ['IRC',\n",
       "  'IRC_Error',\n",
       "  'FAC',\n",
       "  'FAC_Error',\n",
       "  'Flags',\n",
       "  'Flags_F',\n",
       "  'Flags_B',\n",
       "  'Flags_q'],\n",
       " 'EEF': ['EEF', 'RelErr', 'flags'],\n",
       " 'IPD': ['Ne',\n",
       "  'Te',\n",
       "  'Background_Ne',\n",
       "  'Foreground_Ne',\n",
       "  'PCP_flag',\n",
       "  'Grad_Ne_at_100km',\n",
       "  'Grad_Ne_at_50km',\n",
       "  'Grad_Ne_at_20km',\n",
       "  'Grad_Ne_at_PCP_edge',\n",
       "  'ROD',\n",
       "  'RODI10s',\n",
       "  'RODI20s',\n",
       "  'delta_Ne10s',\n",
       "  'delta_Ne20s',\n",
       "  'delta_Ne40s',\n",
       "  'Num_GPS_satellites',\n",
       "  'mVTEC',\n",
       "  'mROT',\n",
       "  'mROTI10s',\n",
       "  'mROTI20s',\n",
       "  'IBI_flag',\n",
       "  'Ionosphere_region_flag',\n",
       "  'IPIR_index',\n",
       "  'Ne_quality_flag',\n",
       "  'TEC_STD'],\n",
       " 'AEJ_LPL': ['Latitude_QD', 'Longitude_QD', 'MLT_QD', 'J', 'J_QD'],\n",
       " 'AEJ_LPS': ['Latitude_QD',\n",
       "  'Longitude_QD',\n",
       "  'MLT_QD',\n",
       "  'J_CF',\n",
       "  'J_DF',\n",
       "  'J_CF_SemiQD',\n",
       "  'J_DF_SemiQD',\n",
       "  'J_C'],\n",
       " 'AEJ_PBL': ['Latitude_QD',\n",
       "  'Longitude_QD',\n",
       "  'MLT_QD',\n",
       "  'J_QD',\n",
       "  'Flags',\n",
       "  'PointType'],\n",
       " 'AEJ_PBS': ['Latitude_QD', 'Longitude_QD', 'MLT_QD', 'Flags', 'PointType'],\n",
       " 'AOB_FAC': ['Latitude_QD',\n",
       "  'Longitude_QD',\n",
       "  'MLT_QD',\n",
       "  'Boundary_Flag',\n",
       "  'Quality',\n",
       "  'Pair_Indicator'],\n",
       " 'AEJ_PBS:PGMFD': ['B_NEC']}"
      ]
     },
     "execution_count": 26,
     "metadata": {},
     "output_type": "execute_result"
    }
   ],
   "source": [
    "req.available_measurements()"
   ]
  },
  {
   "cell_type": "markdown",
   "metadata": {},
   "source": [
    "Show the available measurements for a given collection."
   ]
  },
  {
   "cell_type": "code",
   "execution_count": 27,
   "metadata": {},
   "outputs": [
    {
     "data": {
      "text/plain": [
       "['F',\n",
       " 'dF_AOCS',\n",
       " 'dF_other',\n",
       " 'F_error',\n",
       " 'B_VFM',\n",
       " 'B_NEC',\n",
       " 'dB_Sun',\n",
       " 'dB_AOCS',\n",
       " 'dB_other',\n",
       " 'B_error',\n",
       " 'q_NEC_CRF',\n",
       " 'Att_error',\n",
       " 'Flags_F',\n",
       " 'Flags_B',\n",
       " 'Flags_q',\n",
       " 'Flags_Platform',\n",
       " 'ASM_Freq_Dev']"
      ]
     },
     "execution_count": 27,
     "metadata": {},
     "output_type": "execute_result"
    }
   ],
   "source": [
    "req.available_measurements('MAG')"
   ]
  },
  {
   "cell_type": "markdown",
   "metadata": {},
   "source": [
    "or..."
   ]
  },
  {
   "cell_type": "code",
   "execution_count": 28,
   "metadata": {},
   "outputs": [
    {
     "data": {
      "text/plain": [
       "['F',\n",
       " 'dF_AOCS',\n",
       " 'dF_other',\n",
       " 'F_error',\n",
       " 'B_VFM',\n",
       " 'B_NEC',\n",
       " 'dB_Sun',\n",
       " 'dB_AOCS',\n",
       " 'dB_other',\n",
       " 'B_error',\n",
       " 'q_NEC_CRF',\n",
       " 'Att_error',\n",
       " 'Flags_F',\n",
       " 'Flags_B',\n",
       " 'Flags_q',\n",
       " 'Flags_Platform',\n",
       " 'ASM_Freq_Dev']"
      ]
     },
     "execution_count": 28,
     "metadata": {},
     "output_type": "execute_result"
    }
   ],
   "source": [
    "req.available_measurements('SW_OPER_MAGA_LR_1B')"
   ]
  },
  {
   "cell_type": "markdown",
   "metadata": {},
   "source": [
    "[TOP](#top)\n",
    "\n",
    "<a id=\"SwarmRequest.available_auxiliaries\"/>\n",
    "\n",
    "## `SwarmRequest.available_auxiliaries()`\n",
    "\n",
    "Show the available auxiliaries."
   ]
  },
  {
   "cell_type": "code",
   "execution_count": 31,
   "metadata": {},
   "outputs": [
    {
     "data": {
      "text/plain": [
       "\u001b[0;31mSignature:\u001b[0m \u001b[0mSwarmRequest\u001b[0m\u001b[0;34m.\u001b[0m\u001b[0mavailable_auxiliaries\u001b[0m\u001b[0;34m(\u001b[0m\u001b[0mself\u001b[0m\u001b[0;34m)\u001b[0m\u001b[0;34m\u001b[0m\u001b[0;34m\u001b[0m\u001b[0m\n",
       "\u001b[0;31mDocstring:\u001b[0m\n",
       "Returns a list of the available auxiliary parameters.\n",
       "        \n",
       "\u001b[0;31mFile:\u001b[0m      /opt/conda/lib/python3.7/site-packages/viresclient/_client_swarm.py\n",
       "\u001b[0;31mType:\u001b[0m      function\n"
      ]
     },
     "metadata": {},
     "output_type": "display_data"
    }
   ],
   "source": [
    "SwarmRequest.available_auxiliaries?"
   ]
  },
  {
   "cell_type": "code",
   "execution_count": 32,
   "metadata": {},
   "outputs": [
    {
     "data": {
      "text/plain": [
       "['Timestamp',\n",
       " 'Latitude',\n",
       " 'Longitude',\n",
       " 'Radius',\n",
       " 'Spacecraft',\n",
       " 'OrbitDirection',\n",
       " 'QDOrbitDirection',\n",
       " 'SyncStatus',\n",
       " 'Kp10',\n",
       " 'Kp',\n",
       " 'Dst',\n",
       " 'F107',\n",
       " 'IMF_BY_GSM',\n",
       " 'IMF_BZ_GSM',\n",
       " 'IMF_V',\n",
       " 'F10_INDEX',\n",
       " 'OrbitSource',\n",
       " 'OrbitNumber',\n",
       " 'AscendingNodeTime',\n",
       " 'AscendingNodeLongitude',\n",
       " 'QDLat',\n",
       " 'QDLon',\n",
       " 'QDBasis',\n",
       " 'MLT',\n",
       " 'SunDeclination',\n",
       " 'SunHourAngle',\n",
       " 'SunRightAscension',\n",
       " 'SunAzimuthAngle',\n",
       " 'SunZenithAngle',\n",
       " 'SunLongitude',\n",
       " 'SunVector',\n",
       " 'DipoleAxisVector',\n",
       " 'NGPLatitude',\n",
       " 'NGPLongitude',\n",
       " 'DipoleTiltAngle',\n",
       " 'UpwardCurrent',\n",
       " 'TotalCurrent',\n",
       " 'DivergenceFreeCurrentFunction',\n",
       " 'F_AMPS',\n",
       " 'B_NEC_AMPS']"
      ]
     },
     "execution_count": 32,
     "metadata": {},
     "output_type": "execute_result"
    }
   ],
   "source": [
    "req.available_auxiliaries()"
   ]
  },
  {
   "cell_type": "markdown",
   "metadata": {},
   "source": [
    "[TOP](#top)\n",
    "\n",
    "<a id=\"SwarmRequest.available_models\"/>\n",
    "\n",
    "## `SwarmRequest.available_models()`\n",
    "\n",
    "Show the available magnetic models."
   ]
  },
  {
   "cell_type": "code",
   "execution_count": 33,
   "metadata": {},
   "outputs": [
    {
     "data": {
      "text/plain": [
       "\u001b[0;31mSignature:\u001b[0m\n",
       "\u001b[0mSwarmRequest\u001b[0m\u001b[0;34m.\u001b[0m\u001b[0mavailable_models\u001b[0m\u001b[0;34m(\u001b[0m\u001b[0;34m\u001b[0m\n",
       "\u001b[0;34m\u001b[0m    \u001b[0mself\u001b[0m\u001b[0;34m,\u001b[0m\u001b[0;34m\u001b[0m\n",
       "\u001b[0;34m\u001b[0m    \u001b[0mparam\u001b[0m\u001b[0;34m=\u001b[0m\u001b[0;32mNone\u001b[0m\u001b[0;34m,\u001b[0m\u001b[0;34m\u001b[0m\n",
       "\u001b[0;34m\u001b[0m    \u001b[0mdetails\u001b[0m\u001b[0;34m=\u001b[0m\u001b[0;32mTrue\u001b[0m\u001b[0;34m,\u001b[0m\u001b[0;34m\u001b[0m\n",
       "\u001b[0;34m\u001b[0m    \u001b[0mnice_output\u001b[0m\u001b[0;34m=\u001b[0m\u001b[0;32mTrue\u001b[0m\u001b[0;34m,\u001b[0m\u001b[0;34m\u001b[0m\n",
       "\u001b[0;34m\u001b[0m\u001b[0;34m)\u001b[0m\u001b[0;34m\u001b[0m\u001b[0;34m\u001b[0m\u001b[0m\n",
       "\u001b[0;31mDocstring:\u001b[0m\n",
       "Show details of avalable models.\n",
       "\n",
       "If details is True, return a dictionary of model names and details.\n",
       "If nice_output is True, the dictionary is printed nicely.\n",
       "If details is False, return a list of model names.\n",
       "If param is set, filter to only return entries including this\n",
       "\n",
       "Note:\n",
       "    |  F = Fast-Track Products\n",
       "    |  C = Comprehensive Inversion\n",
       "    |  D = Dedicated Chain\n",
       "    |  MCO = Core / main\n",
       "    |  MLI = Lithosphere\n",
       "    |  MMA = Magnetosphere\n",
       "    |  MIO = Ionosphere\n",
       "\n",
       "Args:\n",
       "    param (str): one of \"F C D MCO MLI MMA MIO\"\n",
       "    details (bool): True for a dict of details, False for a brief list\n",
       "    nice_output (bool): If True, just print the dict nicely\n",
       "\u001b[0;31mFile:\u001b[0m      /opt/conda/lib/python3.7/site-packages/viresclient/_client_swarm.py\n",
       "\u001b[0;31mType:\u001b[0m      function\n"
      ]
     },
     "metadata": {},
     "output_type": "display_data"
    }
   ],
   "source": [
    "SwarmRequest.available_models?"
   ]
  },
  {
   "cell_type": "code",
   "execution_count": 34,
   "metadata": {},
   "outputs": [
    {
     "name": "stdout",
     "output_type": "stream",
     "text": [
      "CHAOS-6-Core = 'CHAOS-6-Core'(max_degree=20,min_degree=1)\n",
      "  START: 1997-02-07T05:31:12.000003Z\n",
      "  END:   2020-04-21T02:49:20.639999Z\n",
      "DESCRIPTION:\n",
      "CHAOS-6 Core field\n",
      " Recent geomagnetic secular variation from Swarm and ground observatories as estimated in the CHAOS-6 geomagnetic field model, http://doi.org/10.1186/s40623-016-0486-1 \n",
      " http://www.space.dtu.dk/english/Research/Scientific_data_and_models/Magnetic_Field_Models \n",
      "SOURCES:\n",
      "  SW_OPER_MCO_SHA_2X_19970101T000000_20200419T235959_0701\n",
      "\n",
      "CHAOS-6-MMA-Primary = 'CHAOS-6-MMA-Primary'(max_degree=2,min_degree=1)\n",
      "  START: 2012-01-01T00:00:00Z\n",
      "  END:   2020-01-12T23:30:00Z\n",
      "DESCRIPTION:\n",
      "CHAOS-6 Primary (external) magnetospheric field\n",
      " Recent geomagnetic secular variation from Swarm and ground observatories as estimated in the CHAOS-6 geomagnetic field model, http://doi.org/10.1186/s40623-016-0486-1 \n",
      " http://www.space.dtu.dk/english/Research/Scientific_data_and_models/Magnetic_Field_Models \n",
      "SOURCES:\n",
      "  SW_OPER_MMA_CHAOS__20120101T000000_20121231T233000_0608\n",
      "  SW_OPER_MMA_CHAOS__20130101T000000_20131231T233000_0608\n",
      "  SW_OPER_MMA_CHAOS__20140101T000000_20141231T233000_0608\n",
      "  SW_OPER_MMA_CHAOS__20150101T000000_20151231T233000_0608\n",
      "  SW_OPER_MMA_CHAOS__20160101T000000_20161231T233000_0608\n",
      "  SW_OPER_MMA_CHAOS__20170101T000000_20171231T233000_0608\n",
      "  SW_OPER_MMA_CHAOS__20180101T000000_20181231T233000_0701\n",
      "  SW_OPER_MMA_CHAOS__20190101T000000_20200112T233000_0701\n",
      "\n",
      "CHAOS-6-MMA-Secondary = 'CHAOS-6-MMA-Secondary'(max_degree=2,min_degree=1)\n",
      "  START: 2012-01-01T00:00:00Z\n",
      "  END:   2020-01-12T23:30:00Z\n",
      "DESCRIPTION:\n",
      "CHAOS-6 Secondary (internal) magnetospheric field\n",
      " Recent geomagnetic secular variation from Swarm and ground observatories as estimated in the CHAOS-6 geomagnetic field model, http://doi.org/10.1186/s40623-016-0486-1 \n",
      " http://www.space.dtu.dk/english/Research/Scientific_data_and_models/Magnetic_Field_Models \n",
      "SOURCES:\n",
      "  SW_OPER_MMA_CHAOS__20120101T000000_20121231T233000_0608\n",
      "  SW_OPER_MMA_CHAOS__20130101T000000_20131231T233000_0608\n",
      "  SW_OPER_MMA_CHAOS__20140101T000000_20141231T233000_0608\n",
      "  SW_OPER_MMA_CHAOS__20150101T000000_20151231T233000_0608\n",
      "  SW_OPER_MMA_CHAOS__20160101T000000_20161231T233000_0608\n",
      "  SW_OPER_MMA_CHAOS__20170101T000000_20171231T233000_0608\n",
      "  SW_OPER_MMA_CHAOS__20180101T000000_20181231T233000_0701\n",
      "  SW_OPER_MMA_CHAOS__20190101T000000_20200112T233000_0701\n",
      "\n",
      "CHAOS-6-Static = 'CHAOS-6-Static'(max_degree=185,min_degree=21)\n",
      "  START: 0001-01-01T00:00:00Z\n",
      "  END:   4000-01-01T00:00:00Z\n",
      "DESCRIPTION:\n",
      "CHAOS-6 crust field\n",
      " Recent geomagnetic secular variation from Swarm and ground observatories as estimated in the CHAOS-6 geomagnetic field model, http://doi.org/10.1186/s40623-016-0486-1 \n",
      " http://www.space.dtu.dk/english/Research/Scientific_data_and_models/Magnetic_Field_Models \n",
      "SOURCES:\n",
      "  CHAOS-7_static.shc\n",
      "\n",
      "IGRF12 = IGRF12(max_degree=13,min_degree=1)\n",
      "  START: 1900-01-01T00:00:00Z\n",
      "  END:   2020-01-01T00:00:00Z\n",
      "DESCRIPTION:\n",
      " International Geomagnetic Reference Field: the 12th generation, https://doi.org/10.1186/s40623-015-0228-9 \n",
      " https://www.ngdc.noaa.gov/IAGA/vmod/igrf.html \n",
      "SOURCES:\n",
      "  SW_OPER_AUX_IGR_2__19000101T000000_20191231T235959_0102\n",
      "\n",
      "LCS-1 = 'LCS-1'(max_degree=185,min_degree=1)\n",
      "  START: 0001-01-01T00:00:00Z\n",
      "  END:   4000-01-01T00:00:00Z\n",
      "DESCRIPTION:\n",
      "The LCS-1 high-resolution lithospheric field model, derived from CHAMP and Swarm satellite observations\n",
      " http://www.spacecenter.dk/files/magnetic-models/LCS-1/\n",
      "SOURCES:\n",
      "  LCS-1.shc\n",
      "\n",
      "MCO_SHA_2C = MCO_SHA_2C(max_degree=18,min_degree=1)\n",
      "  START: 2013-11-24T18:28:47.999997Z\n",
      "  END:   2019-01-01T00:00:00Z\n",
      "DESCRIPTION:\n",
      "[Comprehensive Inversion]: Core field of CIY4\n",
      " A comprehensive model of Earth’s magnetic field determined from 4 years of Swarm satellite observations, https://doi.org/10.1186/s40623-018-0896-3 \n",
      "Validation: ftp://swarm-diss.eo.esa.int/Level2longterm/MCO/SW_OPER_MCO_VAL_2C_20131201T000000_20180101T000000_0401.ZIP \n",
      "SOURCES:\n",
      "  SW_OPER_MCO_SHA_2C_20131125T000000_20190101T000000_0501\n",
      "\n",
      "MCO_SHA_2D = MCO_SHA_2D(max_degree=20,min_degree=1)\n",
      "  START: 2013-11-25T12:00:00.000003Z\n",
      "  END:   2018-01-01T00:00:00Z\n",
      "DESCRIPTION:\n",
      "[Dedicated Chain]: Core field\n",
      "An algorithm for deriving core magnetic field models from the Swarm data set, https://doi.org/10.5047/eps.2013.07.005 \n",
      "Validation: ftp://swarm-diss.eo.esa.int/Level2longterm/MCO/SW_OPER_MCO_VAL_2D_20131126T000000_20180101T000000_0401.ZIP \n",
      "SOURCES:\n",
      "  SW_OPER_MCO_SHA_2D_20131126T000000_20180101T000000_0401\n",
      "\n",
      "MF7 = MF7(max_degree=133,min_degree=16)\n",
      "  START: 0001-01-01T00:00:00Z\n",
      "  END:   4000-01-01T00:00:00Z\n",
      "DESCRIPTION:\n",
      "MF7 crustal field model, derived from CHAMP satellite observations\n",
      " http://geomag.org/models/MF7.html\n",
      "SOURCES:\n",
      "  MF7.shc\n",
      "\n",
      "MIO_SHA_2C-Primary = 'MIO_SHA_2C-Primary'(max_degree=60,min_degree=1)\n",
      "  START: 0001-01-01T00:00:00Z\n",
      "  END:   4000-01-01T00:00:00Z\n",
      "DESCRIPTION:\n",
      "[Comprehensive Inversion]: Primary (external) ionospheric field of CIY4\n",
      "Validation: ftp://swarm-diss.eo.esa.int/Level2longterm/MIO/SW_OPER_MIO_VAL_2C_00000000T000000_99999999T999999_0401.ZIP \n",
      "SOURCES:\n",
      "  SW_OPER_MIO_SHA_2C_00000000T000000_99999999T999999_0501\n",
      "\n",
      "MIO_SHA_2C-Secondary = 'MIO_SHA_2C-Secondary'(max_degree=60,min_degree=1)\n",
      "  START: 0001-01-01T00:00:00Z\n",
      "  END:   4000-01-01T00:00:00Z\n",
      "DESCRIPTION:\n",
      "[Comprehensive Inversion]: Secondary (external/induced) ionospheric field of CIY4\n",
      "SOURCES:\n",
      "  SW_OPER_MIO_SHA_2C_00000000T000000_99999999T999999_0501\n",
      "\n",
      "MIO_SHA_2D-Primary = 'MIO_SHA_2D-Primary'(max_degree=60,min_degree=1)\n",
      "  START: 0001-01-01T00:00:00Z\n",
      "  END:   4000-01-01T00:00:00Z\n",
      "DESCRIPTION:\n",
      "[Dedicated Chain]: Primary (external) ionospheric field, DIFI\n",
      " Swarm SCARF dedicated ionospheric field inversion chain, https://doi.org/10.5047/eps.2013.08.006 \n",
      " First results from the Swarm Dedicated Ionospheric Field Inversion chain, https://doi.org/10.1186/s40623-016-0481-6 \n",
      " http://geomag.colorado.edu/difi-3 \n",
      "Validation: ftp://swarm-diss.eo.esa.int/Level2longterm/MIO/SW_OPER_MIO_VAL_2D_20131201T000000_20171231T235959_0402.ZIP \n",
      "SOURCES:\n",
      "  SW_OPER_MIO_SHA_2D_20131201T000000_20171231T235959_0402\n",
      "\n",
      "MIO_SHA_2D-Secondary = 'MIO_SHA_2D-Secondary'(max_degree=60,min_degree=1)\n",
      "  START: 0001-01-01T00:00:00Z\n",
      "  END:   4000-01-01T00:00:00Z\n",
      "DESCRIPTION:\n",
      "[Dedicated Chain]: Secondary (external/induced) ionospheric field, DIFI\n",
      "SOURCES:\n",
      "  SW_OPER_MIO_SHA_2D_20131201T000000_20171231T235959_0402\n",
      "\n",
      "MLI_SHA_2C = MLI_SHA_2C(max_degree=120,min_degree=16)\n",
      "  START: 0001-01-01T00:00:00Z\n",
      "  END:   4000-01-01T00:00:00Z\n",
      "DESCRIPTION:\n",
      "[Comprehensive Inversion]: Lithospheric field of CIY4\n",
      "Validation: ftp://swarm-diss.eo.esa.int/Level2longterm/MLI/SW_OPER_MLI_VAL_2C_00000000T000000_99999999T999999_0401.ZIP\n",
      "SOURCES:\n",
      "  SW_OPER_MLI_SHA_2C_00000000T000000_99999999T999999_0501\n",
      "\n",
      "MLI_SHA_2D = MLI_SHA_2D(max_degree=133,min_degree=16)\n",
      "  START: 0001-01-01T00:00:00Z\n",
      "  END:   4000-01-01T00:00:00Z\n",
      "DESCRIPTION:\n",
      "[Dedicated Chain]: Lithospheric field\n",
      " Swarm SCARF Dedicated Lithospheric Field Inversion chain, https://doi.org/10.5047/eps.2013.07.008 \n",
      " Validation: ftp://swarm-diss.eo.esa.int/Level2longterm/MLI/SW_OPER_MLI_VAL_2D_00000000T000000_99999999T999999_0401.ZIP \n",
      "SOURCES:\n",
      "  SW_OPER_MLI_SHA_2D_00000000T000000_99999999T999999_0501\n",
      "\n",
      "MMA_SHA_2C-Primary = 'MMA_SHA_2C-Primary'(max_degree=2,min_degree=1)\n",
      "  START: 2013-11-25T03:00:00Z\n",
      "  END:   2018-12-31T21:00:00Z\n",
      "DESCRIPTION:\n",
      "[Comprehensive Inversion]: Primary (external) magnetospheric field of CIY4\n",
      "Validation: ftp://swarm-diss.eo.esa.int/Level2longterm/MMA/SW_OPER_MMA_VAL_2C_20131201T000000_20180101T000000_0401.ZIP\n",
      "SOURCES:\n",
      "  SW_OPER_MMA_SHA_2C_20131125T000000_20181231T235959_0501\n",
      "\n",
      "MMA_SHA_2C-Secondary = 'MMA_SHA_2C-Secondary'(max_degree=3,min_degree=1)\n",
      "  START: 2013-11-25T03:00:00Z\n",
      "  END:   2018-12-31T21:00:00Z\n",
      "DESCRIPTION:\n",
      "[Comprehensive Inversion]: Secondary (internal/induced) magnetospheric field of CIY4\n",
      "SOURCES:\n",
      "  SW_OPER_MMA_SHA_2C_20131125T000000_20181231T235959_0501\n",
      "\n",
      "MMA_SHA_2F-Primary = 'MMA_SHA_2F-Primary'(max_degree=1,min_degree=1)\n",
      "  START: 2013-11-25T11:15:00Z\n",
      "  END:   2020-01-10T21:45:00Z\n",
      "DESCRIPTION:\n",
      "[Fast-Track Product]: Primary (external) magnetospheric field\n",
      " Rapid modelling of the large-scale magnetospheric field from Swarm satellite data, https://doi.org/10.5047/eps.2013.09.003 \n",
      "SOURCES:\n",
      "  SW_OPER_MMA_SHA_2F_20131125T103000_20140101T000000_0108\n",
      "  SW_OPER_MMA_SHA_2F_20140101T000000_20150101T000000_0108\n",
      "  SW_OPER_MMA_SHA_2F_20150101T000000_20160101T000000_0108\n",
      "  SW_OPER_MMA_SHA_2F_20160101T000000_20170101T000000_0108\n",
      "  SW_OPER_MMA_SHA_2F_20170101T000000_20180101T000000_0108\n",
      "  SW_OPER_MMA_SHA_2F_20180101T000000_20190101T000000_0108\n",
      "  SW_OPER_MMA_SHA_2F_20190101T000000_20200101T000000_0108\n",
      "  SW_OPER_MMA_SHA_2F_20200101T000000_20200110T223000_0108\n",
      "\n",
      "MMA_SHA_2F-Secondary = 'MMA_SHA_2F-Secondary'(max_degree=1,min_degree=1)\n",
      "  START: 2013-11-25T11:15:00Z\n",
      "  END:   2020-01-10T21:45:00Z\n",
      "DESCRIPTION:\n",
      "[Fast-Track Product]: Secondary (internal/induced) magnetospheric field\n",
      "SOURCES:\n",
      "  SW_OPER_MMA_SHA_2F_20131125T103000_20140101T000000_0108\n",
      "  SW_OPER_MMA_SHA_2F_20140101T000000_20150101T000000_0108\n",
      "  SW_OPER_MMA_SHA_2F_20150101T000000_20160101T000000_0108\n",
      "  SW_OPER_MMA_SHA_2F_20160101T000000_20170101T000000_0108\n",
      "  SW_OPER_MMA_SHA_2F_20170101T000000_20180101T000000_0108\n",
      "  SW_OPER_MMA_SHA_2F_20180101T000000_20190101T000000_0108\n",
      "  SW_OPER_MMA_SHA_2F_20190101T000000_20200101T000000_0108\n",
      "  SW_OPER_MMA_SHA_2F_20200101T000000_20200110T223000_0108\n",
      "\n"
     ]
    }
   ],
   "source": [
    "req.available_models()"
   ]
  },
  {
   "cell_type": "markdown",
   "metadata": {},
   "source": [
    "Show available models without details."
   ]
  },
  {
   "cell_type": "code",
   "execution_count": 38,
   "metadata": {},
   "outputs": [
    {
     "data": {
      "text/plain": [
       "['IGRF12',\n",
       " 'LCS-1',\n",
       " 'MF7',\n",
       " 'CHAOS-6-Core',\n",
       " 'CHAOS-6-Static',\n",
       " 'CHAOS-6-MMA-Primary',\n",
       " 'CHAOS-6-MMA-Secondary',\n",
       " 'MCO_SHA_2C',\n",
       " 'MCO_SHA_2D',\n",
       " 'MLI_SHA_2C',\n",
       " 'MLI_SHA_2D',\n",
       " 'MMA_SHA_2C-Primary',\n",
       " 'MMA_SHA_2C-Secondary',\n",
       " 'MMA_SHA_2F-Primary',\n",
       " 'MMA_SHA_2F-Secondary',\n",
       " 'MIO_SHA_2C-Primary',\n",
       " 'MIO_SHA_2C-Secondary',\n",
       " 'MIO_SHA_2D-Primary',\n",
       " 'MIO_SHA_2D-Secondary']"
      ]
     },
     "execution_count": 38,
     "metadata": {},
     "output_type": "execute_result"
    }
   ],
   "source": [
    "req.available_models(details=False)"
   ]
  },
  {
   "cell_type": "markdown",
   "metadata": {},
   "source": [
    "Show available models of a given type:\n",
    "- F: Fast-Track Products\n",
    "- C: Comprehensive Inversion\n",
    "- D: Dedicated Chain\n",
    "- MCO: Core / main\n",
    "- MLI: Lithosphere\n",
    "- MMA: Magnetosphere\n",
    "- MIO: Ionosphere\n",
    "\n",
    "E.g.: Fast-Track:"
   ]
  },
  {
   "cell_type": "code",
   "execution_count": 41,
   "metadata": {},
   "outputs": [
    {
     "name": "stdout",
     "output_type": "stream",
     "text": [
      "MMA_SHA_2F-Primary = 'MMA_SHA_2F-Primary'(max_degree=1,min_degree=1)\n",
      "  START: 2013-11-25T11:15:00Z\n",
      "  END:   2020-01-10T21:45:00Z\n",
      "DESCRIPTION:\n",
      "[Fast-Track Product]: Primary (external) magnetospheric field\n",
      " Rapid modelling of the large-scale magnetospheric field from Swarm satellite data, https://doi.org/10.5047/eps.2013.09.003 \n",
      "SOURCES:\n",
      "  SW_OPER_MMA_SHA_2F_20131125T103000_20140101T000000_0108\n",
      "  SW_OPER_MMA_SHA_2F_20140101T000000_20150101T000000_0108\n",
      "  SW_OPER_MMA_SHA_2F_20150101T000000_20160101T000000_0108\n",
      "  SW_OPER_MMA_SHA_2F_20160101T000000_20170101T000000_0108\n",
      "  SW_OPER_MMA_SHA_2F_20170101T000000_20180101T000000_0108\n",
      "  SW_OPER_MMA_SHA_2F_20180101T000000_20190101T000000_0108\n",
      "  SW_OPER_MMA_SHA_2F_20190101T000000_20200101T000000_0108\n",
      "  SW_OPER_MMA_SHA_2F_20200101T000000_20200110T223000_0108\n",
      "\n",
      "MMA_SHA_2F-Secondary = 'MMA_SHA_2F-Secondary'(max_degree=1,min_degree=1)\n",
      "  START: 2013-11-25T11:15:00Z\n",
      "  END:   2020-01-10T21:45:00Z\n",
      "DESCRIPTION:\n",
      "[Fast-Track Product]: Secondary (internal/induced) magnetospheric field\n",
      "SOURCES:\n",
      "  SW_OPER_MMA_SHA_2F_20131125T103000_20140101T000000_0108\n",
      "  SW_OPER_MMA_SHA_2F_20140101T000000_20150101T000000_0108\n",
      "  SW_OPER_MMA_SHA_2F_20150101T000000_20160101T000000_0108\n",
      "  SW_OPER_MMA_SHA_2F_20160101T000000_20170101T000000_0108\n",
      "  SW_OPER_MMA_SHA_2F_20170101T000000_20180101T000000_0108\n",
      "  SW_OPER_MMA_SHA_2F_20180101T000000_20190101T000000_0108\n",
      "  SW_OPER_MMA_SHA_2F_20190101T000000_20200101T000000_0108\n",
      "  SW_OPER_MMA_SHA_2F_20200101T000000_20200110T223000_0108\n",
      "\n"
     ]
    }
   ],
   "source": [
    "req.available_models(param='F')"
   ]
  },
  {
   "cell_type": "code",
   "execution_count": null,
   "metadata": {},
   "outputs": [],
   "source": []
  }
 ],
 "metadata": {
  "kernelspec": {
   "display_name": "Python 3",
   "language": "python",
   "name": "python3"
  },
  "language_info": {
   "codemirror_mode": {
    "name": "ipython",
    "version": 3
   },
   "file_extension": ".py",
   "mimetype": "text/x-python",
   "name": "python",
   "nbconvert_exporter": "python",
   "pygments_lexer": "ipython3",
   "version": "3.7.3"
  }
 },
 "nbformat": 4,
 "nbformat_minor": 2
}
