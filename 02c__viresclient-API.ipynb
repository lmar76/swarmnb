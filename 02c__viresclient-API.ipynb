{
 "cells": [
  {
   "cell_type": "markdown",
   "metadata": {},
   "source": [
    "# viresclient API"
   ]
  },
  {
   "cell_type": "markdown",
   "metadata": {},
   "source": [
    "## Introduction\n",
    "\n",
    "The `viresclient` Python package allows to connect to the VirES server to download [Swarm](https://earth.esa.int/web/guest/missions/esa-operational-eo-missions/swarm) data and data calculated using magnetic models. This notebook describes the main classes and functions included in the the package.\n",
    "\n",
    "For more information, see: https://viresclient.readthedocs.io/"
   ]
  },
  {
   "cell_type": "markdown",
   "metadata": {},
   "source": [
    "<a id=\"top\"/>\n",
    "\n",
    "## Contents\n",
    "- [Access token configuration](#access_token_configuration)\n",
    "- [Send requests to the server - SwarmRequest](#SwarmRequest)\n",
    "    - [Get the available collections](#SwarmRequest.available_collections)\n",
    "    - [Get the available measurements](#SwarmRequest.available_measurements)\n",
    "    - [Get the available auxiliaries](#SwarmRequest.available_auxiliaries)\n",
    "    - [Get the available magnetic models](#SwarmRequest.available_models)\n",
    "    - [Get information about one or mode models](#SwarmRequest.get_model_info)\n",
    "    - [Get the orbit number](#SwarmRequest.get_orbit_number)\n",
    "    - [Get times for orbits](#SwarmRequest.get_times_for_orbits)\n",
    "    - [Set collections](#SwarmRequest.set_collection)\n",
    "    - [Set products](#SwarmRequest.set_products)\n",
    "    - [Set/clear filters](#SwarmRequest.set_range_filter)\n",
    "    - [Send request to the server](#SwarmRequest.get_between)\n",
    "- [Handle downloaded data - ReturnedData](#ReturnedData)\n",
    "    - [Get the list of source data](#ReturnedData.sources)\n",
    "    - [ReturnedData contents](#ReturnedData.contents)\n",
    "    - [Get type of downloaded data files](#ReturnedData.filetype)\n",
    "    - [Get list of magnetic models used during calculations](#ReturnedData.magnetic_models)\n",
    "    - [Get list of filters applied to the request](#ReturnedData.range_filters)\n",
    "    - [Convert ReturnedData to Pandas DataFrame](#ReturnedData.as_dataframe)\n",
    "    - [Convert ReturnedData to xarray Dataset](#ReturnedData.as_xarray)\n",
    "    - [Save downloaded data to a file](#ReturnedData.to_file)\n",
    "    - [Save downloaded data to multiple files](#ReturnedData.to_files)\n",
    "- [Handle downloaded temporary file - ReturnedDataFile](#ReturnedDataFile)\n",
    "    - [Get NamedTemporaryFile associated to a ReturnedDataFile](#ReturnedDataFile._file)\n",
    "    - [Get type of the downloaded data file](#ReturnedDataFile.filetype)\n",
    "    - [Convert ReturnedDataFile to Pandas DataFrame](#ReturnedDataFile.as_dataframe)\n",
    "    - [Convert ReturnedDataFile to xarray Dataset](#ReturnedDataFile.as_xarray)\n",
    "    - [Save ReturnedDataFile object to a file](#ReturnedDataFile.to_file)\n",
    "- [Handle viresclient configuration - ClientConfig](#ClientConfig)\n",
    "    - [Get path of the configuration file](#ClientConfig.path)\n",
    "    - [Get or set the default URL](#ClientConfig.default_url)\n",
    "    - [Set site configuration](#ClientConfig.set_site_config)\n",
    "    - [Get site configuration](#ClientConfig.get_site_config)\n",
    "    - [Save configuration](#ClientConfig.save)\n",
    "- [Upload data to the server - DataUpload](#DataUpload)\n",
    "    - [Upload a file to the server](#DataUpload.post)\n",
    "    - [Get the identifier(s) of the uploaded file(s)](#DataUpload.ids)\n",
    "    - [Get info about the uploaded file](#DataUpload.get)\n",
    "    - [Set constant parameters to the uploaded file](#DataUpload.set_constant_parameters)\n",
    "    - [Get constant parameters](#DataUpload.get_constant_parameters)\n",
    "    - [Delete a specific uploaded file](#DataUpload.delete)\n",
    "    - [Delete the uploaded files](#DataUpload.clear)"
   ]
  },
  {
   "cell_type": "markdown",
   "metadata": {},
   "source": [
    "[TOP](#top)\n",
    "\n",
    "<a id=\"access_token_configuration\"/>\n",
    "\n",
    "## Access token configuration\n",
    "\n",
    "Before using the client, you need to set the access token. This can be done using the `set_token()` function:\n",
    "\n",
    "```python\n",
    "set_token(url='https://vires.services/ows', token=None, set_default=False)\n",
    "```"
   ]
  },
  {
   "cell_type": "markdown",
   "metadata": {},
   "source": [
    "**Arguments**:\n",
    "\n",
    "- **url** (*str*, optional): server URL (default value: `https://vires.services/ows`).\n",
    "- **token** (*str*, optional): token string obtained from the VirES access token management page (https://vires.services/accounts/tokens/). If this parameter is not set, the user is prompted to enter its value interactively.\n",
    "- **set_default** (*bool*, optional): if `True`, the server identified by *url* is configured as default server (default `False`)."
   ]
  },
  {
   "cell_type": "markdown",
   "metadata": {},
   "source": [
    "Since the *url* parameter is by default set to the correct value you don't need to specify it. You can avoid also to specify the *token* parameter because this value will be asked interactively. Moreover, setting `set_default=True` you can configure this URL as default in the configuration file and avoid to specify it while sending requests to the server."
   ]
  },
  {
   "cell_type": "markdown",
   "metadata": {},
   "source": [
    "First, the function must be imported from the `viresclient` package:"
   ]
  },
  {
   "cell_type": "code",
   "execution_count": 1,
   "metadata": {},
   "outputs": [],
   "source": [
    "from viresclient import set_token"
   ]
  },
  {
   "cell_type": "markdown",
   "metadata": {},
   "source": [
    "Now it can be executed:"
   ]
  },
  {
   "cell_type": "code",
   "execution_count": null,
   "metadata": {},
   "outputs": [
    {
     "name": "stdout",
     "output_type": "stream",
     "text": [
      "Setting access token for https://vires.services/ows ...\n",
      "Generate a token at https://vires.services/accounts/tokens/\n"
     ]
    }
   ],
   "source": [
    "set_token(set_default=True)"
   ]
  },
  {
   "cell_type": "markdown",
   "metadata": {},
   "source": [
    "[TOP](#top)\n",
    "\n",
    "<a id=\"SwarmRequest\"/>\n",
    "\n",
    "## Send requests to the server - SwarmRequest\n",
    "\n",
    "The `SwarmRequest` object allows to create a request to the server and to download data according to the input parameters.\n",
    "\n",
    "```python\n",
    "SwarmRequest(url=None, username=None, password=None, token=None, config=None, logging_level='NO_LOGGING')\n",
    "```"
   ]
  },
  {
   "cell_type": "markdown",
   "metadata": {},
   "source": [
    "**Attributes**:\n",
    "\n",
    "- **url** (*str*, optional): if not provided, the request will be sent to the default URL set in the `~/.viresclient.ini` configuration file.\n",
    "- **username** (*str*, optional): username. The usage of username and password is deprecated and will be removed in future releases.\n",
    "- **password** (*str*, optional): password. The usage of username and password is deprecated and will be removed in future releases.\n",
    "- **token** (*str*, optional): token string obtained from the VirES access token management page (https://vires.services/accounts/tokens/). If this parameter is not specified and it is not set in the configuration file, the user is prompted to enter its value interactively.\n",
    "- **config** (*str* or *ClientConfig*, optional): viresclient configuration. By default, it is read from `~/.viresclient.ini`.\n",
    "- **logging_level** (*str*, optional): set the logging level. Allowed values are: `DEBUG`, `INFO`, `WARNING`, `ERROR`, `NO_LOGGING` (default)."
   ]
  },
  {
   "cell_type": "markdown",
   "metadata": {},
   "source": [
    "Let's import the class from the `viresclient` package:"
   ]
  },
  {
   "cell_type": "code",
   "execution_count": 2,
   "metadata": {},
   "outputs": [],
   "source": [
    "from viresclient import SwarmRequest"
   ]
  },
  {
   "cell_type": "markdown",
   "metadata": {},
   "source": [
    "After configuring the access token using the `set_token()` function (see [Access token configuration](#access_token_configuration)) , the `SwarmRequest` object can be created as follows:"
   ]
  },
  {
   "cell_type": "code",
   "execution_count": null,
   "metadata": {},
   "outputs": [],
   "source": [
    "request = SwarmRequest()"
   ]
  },
  {
   "cell_type": "markdown",
   "metadata": {},
   "source": [
    "The access token for the `https://vires.services/ows` default URL configured in the `~/.viresclient.ini` file is automatically retrieved:\n",
    "\n",
    "```ini\n",
    "[https://vires.services/ows]\n",
    "token = <token>\n",
    "\n",
    "[default]\n",
    "url = https://vires.services/ows\n",
    "```"
   ]
  },
  {
   "cell_type": "markdown",
   "metadata": {},
   "source": [
    "If the default server URL is not configured (i.e. the \"default\" section is not present), you must specify the server URL:"
   ]
  },
  {
   "cell_type": "code",
   "execution_count": null,
   "metadata": {},
   "outputs": [],
   "source": [
    "request = SwarmRequest('https://vires.services/ows')"
   ]
  },
  {
   "cell_type": "markdown",
   "metadata": {},
   "source": [
    "`SwarmRequest` object has the following methods:\n",
    "\n",
    "- `SwarmRequest.available_collections()`\n",
    "- `SwarmRequest.available_measurements()`\n",
    "- `SwarmRequest.available_auxiliaries()`\n",
    "- `SwarmRequest.available_models()`\n",
    "- `SwarmRequest.get_model_info()`\n",
    "- `SwarmRequest.get_orbit_number()`\n",
    "- `SwarmRequest.get_times_for_orbits()`\n",
    "- `SwarmRequest.set_collection()`\n",
    "- `SwarmRequest.set_products()`\n",
    "- `SwarmRequest.set_range_filter()`\n",
    "- `SwarmRequest.clear_range_filter()`\n",
    "- `SwarmRequest.get_between()`\n",
    "\n"
   ]
  },
  {
   "cell_type": "markdown",
   "metadata": {},
   "source": [
    "[TOP](#top)\n",
    "\n",
    "<a id=\"SwarmRequest.available_collections\"/>\n",
    "\n",
    "### Get the available collections\n",
    "\n",
    "Swarm data are organized in *collections*. Each collection is related to a Swarm file type (e.g. collection *SW_OPER_MAGA_LR_1B* is related to file type *MAGA_LR_1B*). The list of the available collections are provided invoking the `SwarmRequest.available_collections()` method.\n",
    "\n",
    "```python\n",
    "SwarmRequest.available_collections(details=True)\n",
    "```"
   ]
  },
  {
   "cell_type": "markdown",
   "metadata": {},
   "source": [
    "**Arguments**:\n",
    "\n",
    "- **details** (*bool*, optional): if `True` (default), the method prints the list of all the available collections and the related details. If `False`, it returns the available collections as a *list*."
   ]
  },
  {
   "cell_type": "markdown",
   "metadata": {},
   "source": [
    "Example: print the list of the available collections and their details:"
   ]
  },
  {
   "cell_type": "code",
   "execution_count": 5,
   "metadata": {},
   "outputs": [
    {
     "name": "stdout",
     "output_type": "stream",
     "text": [
      "General References:\n",
      " Swarm Data Handbook, https://earth.esa.int/web/guest/missions/esa-eo-missions/swarm/data-handbook \n",
      " The Swarm Satellite Constellation Application and Research Facility (SCARF) and Swarm data products, https://doi.org/10.5047/eps.2013.07.001 \n",
      " Swarm Science Data Processing and Products (2013), https://link.springer.com/journal/40623/65/11/page/1 \n",
      " Special issue “Swarm science results after 2 years in space (2016), https://www.springeropen.com/collections/swsr \n",
      " Earth's Magnetic Field: Understanding Geomagnetic Sources from the Earth's Interior and its Environment (2017), https://link.springer.com/journal/11214/206/1/page/1 \n",
      "\n",
      "MAG\n",
      "   SW_OPER_MAGA_LR_1B\n",
      "   SW_OPER_MAGB_LR_1B\n",
      "   SW_OPER_MAGC_LR_1B\n",
      " https://earth.esa.int/web/guest/missions/esa-eo-missions/swarm/data-handbook/level-1b-product-definitions#MAGX_LR_1B_Product \n",
      "\n",
      "EFI\n",
      "   SW_OPER_EFIA_LP_1B\n",
      "   SW_OPER_EFIB_LP_1B\n",
      "   SW_OPER_EFIC_LP_1B\n",
      " https://earth.esa.int/web/guest/missions/esa-eo-missions/swarm/data-handbook/level-1b-product-definitions#EFIX_LP_1B_Product \n",
      "\n",
      "IBI\n",
      "   SW_OPER_IBIATMS_2F\n",
      "   SW_OPER_IBIBTMS_2F\n",
      "   SW_OPER_IBICTMS_2F\n",
      " https://earth.esa.int/web/guest/missions/esa-eo-missions/swarm/data-handbook/level-2-product-definitions#IBIxTMS_2F \n",
      " https://earth.esa.int/documents/10174/1514862/Swarm_L2_IBI_product_description \n",
      "\n",
      "TEC\n",
      "   SW_OPER_TECATMS_2F\n",
      "   SW_OPER_TECBTMS_2F\n",
      "   SW_OPER_TECCTMS_2F\n",
      " https://earth.esa.int/web/guest/missions/esa-eo-missions/swarm/data-handbook/level-2-product-definitions#TECxTMS_2F \n",
      " https://earth.esa.int/documents/10174/1514862/Swarm_Level-2_TEC_Product_Description \n",
      "\n",
      "FAC\n",
      "   SW_OPER_FACATMS_2F\n",
      "   SW_OPER_FACBTMS_2F\n",
      "   SW_OPER_FACCTMS_2F\n",
      "   SW_OPER_FAC_TMS_2F\n",
      " https://earth.esa.int/web/guest/missions/esa-eo-missions/swarm/data-handbook/level-2-product-definitions#FAC_TMS_2F \n",
      " https://earth.esa.int/web/guest/missions/esa-eo-missions/swarm/data-handbook/level-2-product-definitions#FACxTMS_2F \n",
      " https://earth.esa.int/documents/10174/1514862/Swarm_L2_FAC_single_product_description \n",
      " https://earth.esa.int/documents/10174/1514862/Swarm-L2-FAC-Dual-Product-Description \n",
      "\n",
      "EEF\n",
      "   SW_OPER_EEFATMS_2F\n",
      "   SW_OPER_EEFBTMS_2F\n",
      " https://earth.esa.int/web/guest/missions/esa-eo-missions/swarm/data-handbook/level-2-product-definitions#EEFxTMS_2F \n",
      " https://earth.esa.int/documents/10174/1514862/Swarm-Level-2-EEF-Product-Description \n",
      "\n",
      "IPD\n",
      "   SW_OPER_IPDAIRR_2F\n",
      "   SW_OPER_IPDBIRR_2F\n",
      "   SW_OPER_IPDCIRR_2F\n",
      " https://earth.esa.int/web/guest/missions/esa-eo-missions/swarm/data-handbook/level-2-product-definitions#IPDxIPR_2F \n",
      "\n"
     ]
    }
   ],
   "source": [
    "# Import SwarmRequest object (this step can be skipped if SwarmRequest has been already imported)\n",
    "from viresclient import SwarmRequest\n",
    "\n",
    "# Create the request object\n",
    "request = SwarmRequest()\n",
    "\n",
    "# Get the available collections\n",
    "request.available_collections()"
   ]
  },
  {
   "cell_type": "markdown",
   "metadata": {},
   "source": [
    "Example: get the list of available collections without the details:"
   ]
  },
  {
   "cell_type": "code",
   "execution_count": 6,
   "metadata": {},
   "outputs": [
    {
     "data": {
      "text/plain": [
       "['SW_OPER_MAGA_LR_1B',\n",
       " 'SW_OPER_MAGB_LR_1B',\n",
       " 'SW_OPER_MAGC_LR_1B',\n",
       " 'SW_OPER_EFIA_LP_1B',\n",
       " 'SW_OPER_EFIB_LP_1B',\n",
       " 'SW_OPER_EFIC_LP_1B',\n",
       " 'SW_OPER_IBIATMS_2F',\n",
       " 'SW_OPER_IBIBTMS_2F',\n",
       " 'SW_OPER_IBICTMS_2F',\n",
       " 'SW_OPER_TECATMS_2F',\n",
       " 'SW_OPER_TECBTMS_2F',\n",
       " 'SW_OPER_TECCTMS_2F',\n",
       " 'SW_OPER_FACATMS_2F',\n",
       " 'SW_OPER_FACBTMS_2F',\n",
       " 'SW_OPER_FACCTMS_2F',\n",
       " 'SW_OPER_FAC_TMS_2F',\n",
       " 'SW_OPER_EEFATMS_2F',\n",
       " 'SW_OPER_EEFBTMS_2F',\n",
       " 'SW_OPER_IPDAIRR_2F',\n",
       " 'SW_OPER_IPDBIRR_2F',\n",
       " 'SW_OPER_IPDCIRR_2F']"
      ]
     },
     "execution_count": 6,
     "metadata": {},
     "output_type": "execute_result"
    }
   ],
   "source": [
    "request.available_collections(details=False)"
   ]
  },
  {
   "cell_type": "markdown",
   "metadata": {},
   "source": [
    "[TOP](#top)\n",
    "\n",
    "<a id=\"SwarmRequest.available_measurements\"/>\n",
    "\n",
    "### Get the available measurements\n",
    "\n",
    "It is possible to get the available measurements using the `SwarmRequest.available_measurements()` method:\n",
    "\n",
    "```python\n",
    "SwarmRequest.available_measurements(collection=None)\n",
    "```"
   ]
  },
  {
   "cell_type": "markdown",
   "metadata": {},
   "source": [
    "**Arguments**:\n",
    "\n",
    "- **collection** (*str*, optional). If indicated, returns the available measurements for this collection as a *list*. It can be set to: `MAG`, `EFI`, `IBI`, `TEC`, `FAC`, `EEF`, `IPD` or one of the collections returned by the *available_collections* method. If not indicated, it returns the available measurements for all the collections as a *dict*."
   ]
  },
  {
   "cell_type": "markdown",
   "metadata": {},
   "source": [
    "Example: get the list of measurements for the `MAG` collections:"
   ]
  },
  {
   "cell_type": "code",
   "execution_count": 7,
   "metadata": {},
   "outputs": [
    {
     "data": {
      "text/plain": [
       "['F',\n",
       " 'dF_AOCS',\n",
       " 'dF_other',\n",
       " 'F_error',\n",
       " 'B_VFM',\n",
       " 'B_NEC',\n",
       " 'dB_Sun',\n",
       " 'dB_AOCS',\n",
       " 'dB_other',\n",
       " 'B_error',\n",
       " 'q_NEC_CRF',\n",
       " 'Att_error',\n",
       " 'Flags_F',\n",
       " 'Flags_B',\n",
       " 'Flags_q',\n",
       " 'Flags_Platform',\n",
       " 'ASM_Freq_Dev']"
      ]
     },
     "execution_count": 7,
     "metadata": {},
     "output_type": "execute_result"
    }
   ],
   "source": [
    "# Import SwarmRequest object (this step can be skipped if SwarmRequest has been already imported)\n",
    "from viresclient import SwarmRequest\n",
    "\n",
    "# Create the request object\n",
    "request = SwarmRequest()\n",
    "\n",
    "# Get the available measurements\n",
    "request.available_measurements('MAG')"
   ]
  },
  {
   "cell_type": "markdown",
   "metadata": {},
   "source": [
    "Setting `collection=SW_OPER_MAGA_LR_1B` we obtain the same result:"
   ]
  },
  {
   "cell_type": "code",
   "execution_count": 8,
   "metadata": {},
   "outputs": [
    {
     "data": {
      "text/plain": [
       "['F',\n",
       " 'dF_AOCS',\n",
       " 'dF_other',\n",
       " 'F_error',\n",
       " 'B_VFM',\n",
       " 'B_NEC',\n",
       " 'dB_Sun',\n",
       " 'dB_AOCS',\n",
       " 'dB_other',\n",
       " 'B_error',\n",
       " 'q_NEC_CRF',\n",
       " 'Att_error',\n",
       " 'Flags_F',\n",
       " 'Flags_B',\n",
       " 'Flags_q',\n",
       " 'Flags_Platform',\n",
       " 'ASM_Freq_Dev']"
      ]
     },
     "execution_count": 8,
     "metadata": {},
     "output_type": "execute_result"
    }
   ],
   "source": [
    "request.available_measurements('SW_OPER_MAGA_LR_1B')"
   ]
  },
  {
   "cell_type": "markdown",
   "metadata": {},
   "source": [
    "Example: get all the available measurements:"
   ]
  },
  {
   "cell_type": "code",
   "execution_count": 9,
   "metadata": {},
   "outputs": [
    {
     "data": {
      "text/plain": [
       "{'MAG': ['F',\n",
       "  'dF_AOCS',\n",
       "  'dF_other',\n",
       "  'F_error',\n",
       "  'B_VFM',\n",
       "  'B_NEC',\n",
       "  'dB_Sun',\n",
       "  'dB_AOCS',\n",
       "  'dB_other',\n",
       "  'B_error',\n",
       "  'q_NEC_CRF',\n",
       "  'Att_error',\n",
       "  'Flags_F',\n",
       "  'Flags_B',\n",
       "  'Flags_q',\n",
       "  'Flags_Platform',\n",
       "  'ASM_Freq_Dev'],\n",
       " 'EFI': ['U_orbit',\n",
       "  'Ne',\n",
       "  'Ne_error',\n",
       "  'Te',\n",
       "  'Te_error',\n",
       "  'Vs',\n",
       "  'Vs_error',\n",
       "  'Flags_LP',\n",
       "  'Flags_Ne',\n",
       "  'Flags_Te',\n",
       "  'Flags_Vs'],\n",
       " 'IBI': ['Bubble_Index',\n",
       "  'Bubble_Probability',\n",
       "  'Flags_Bubble',\n",
       "  'Flags_F',\n",
       "  'Flags_B',\n",
       "  'Flags_q'],\n",
       " 'TEC': ['GPS_Position',\n",
       "  'LEO_Position',\n",
       "  'PRN',\n",
       "  'L1',\n",
       "  'L2',\n",
       "  'P1',\n",
       "  'P2',\n",
       "  'S1',\n",
       "  'S2',\n",
       "  'Elevation_Angle',\n",
       "  'Absolute_VTEC',\n",
       "  'Absolute_STEC',\n",
       "  'Relative_STEC',\n",
       "  'Relative_STEC_RMS',\n",
       "  'DCB',\n",
       "  'DCB_Error'],\n",
       " 'FAC': ['IRC',\n",
       "  'IRC_Error',\n",
       "  'FAC',\n",
       "  'FAC_Error',\n",
       "  'Flags',\n",
       "  'Flags_F',\n",
       "  'Flags_B',\n",
       "  'Flags_q'],\n",
       " 'EEF': ['EEF', 'RelErr', 'flags'],\n",
       " 'IPD': ['Ne',\n",
       "  'Te',\n",
       "  'Background_Ne',\n",
       "  'Foreground_Ne',\n",
       "  'PCP_flag',\n",
       "  'Grad_Ne_at_100km',\n",
       "  'Grad_Ne_at_50km',\n",
       "  'Grad_Ne_at_20km',\n",
       "  'Grad_Ne_at_PCP_edge',\n",
       "  'ROD',\n",
       "  'RODI10s',\n",
       "  'RODI20s',\n",
       "  'delta_Ne10s',\n",
       "  'delta_Ne20s',\n",
       "  'delta_Ne40s',\n",
       "  'Num_GPS_satellites',\n",
       "  'mVTEC',\n",
       "  'mROT',\n",
       "  'mROTI10s',\n",
       "  'mROTI20s',\n",
       "  'IBI_flag',\n",
       "  'Ionosphere_region_flag',\n",
       "  'IPIR_index',\n",
       "  'Ne_quality_flag',\n",
       "  'TEC_STD']}"
      ]
     },
     "execution_count": 9,
     "metadata": {},
     "output_type": "execute_result"
    }
   ],
   "source": [
    "request.available_measurements()"
   ]
  },
  {
   "cell_type": "markdown",
   "metadata": {},
   "source": [
    "[TOP](#top)\n",
    "\n",
    "<a id=\"SwarmRequest.available_auxiliaries\"/>\n",
    "\n",
    "### Get the available auxiliaries\n",
    "\n",
    "It is possible to get the available auxiliaries using the `SwarmRequest.available_auxiliaries()` method:\n",
    "\n",
    "```python\n",
    "viresclient.SwarmRequest.available_auxiliaries()\n",
    "```"
   ]
  },
  {
   "cell_type": "markdown",
   "metadata": {},
   "source": [
    "This method does not accept any argument and provides the available auxiliaries as a list."
   ]
  },
  {
   "cell_type": "markdown",
   "metadata": {},
   "source": [
    "Example: get the list of the available auxiliaries:"
   ]
  },
  {
   "cell_type": "code",
   "execution_count": 10,
   "metadata": {},
   "outputs": [
    {
     "data": {
      "text/plain": [
       "['Timestamp',\n",
       " 'Latitude',\n",
       " 'Longitude',\n",
       " 'Radius',\n",
       " 'Spacecraft',\n",
       " 'OrbitDirection',\n",
       " 'QDOrbitDirection',\n",
       " 'SyncStatus',\n",
       " 'Kp10',\n",
       " 'Kp',\n",
       " 'Dst',\n",
       " 'F107',\n",
       " 'IMF_BY_GSM',\n",
       " 'IMF_BZ_GSM',\n",
       " 'IMF_V',\n",
       " 'F10_INDEX',\n",
       " 'OrbitSource',\n",
       " 'OrbitNumber',\n",
       " 'AscendingNodeTime',\n",
       " 'AscendingNodeLongitude',\n",
       " 'QDLat',\n",
       " 'QDLon',\n",
       " 'QDBasis',\n",
       " 'MLT',\n",
       " 'SunDeclination',\n",
       " 'SunHourAngle',\n",
       " 'SunRightAscension',\n",
       " 'SunAzimuthAngle',\n",
       " 'SunZenithAngle',\n",
       " 'SunLongitude',\n",
       " 'SunVector',\n",
       " 'DipoleAxisVector',\n",
       " 'NGPLatitude',\n",
       " 'NGPLongitude',\n",
       " 'DipoleTiltAngle',\n",
       " 'UpwardCurrent',\n",
       " 'TotalCurrent',\n",
       " 'DivergenceFreeCurrentFunction']"
      ]
     },
     "execution_count": 10,
     "metadata": {},
     "output_type": "execute_result"
    }
   ],
   "source": [
    "# Import SwarmRequest object (this step can be skipped if SwarmRequest has been already imported)\n",
    "from viresclient import SwarmRequest\n",
    "\n",
    "# Create the request object\n",
    "request = SwarmRequest()\n",
    "\n",
    "# Get the list of available auxiliaries\n",
    "request.available_auxiliaries()"
   ]
  },
  {
   "cell_type": "markdown",
   "metadata": {},
   "source": [
    "[TOP](#top)\n",
    "\n",
    "<a id=\"SwarmRequest.available_models\"/>\n",
    "\n",
    "### Get the available magnetic models\n",
    "\n",
    "The available magnetic models can be obtained using the `SwarmRequest.available_models()` method:\n",
    "\n",
    "```python\n",
    "viresclient.SwarmRequest.available_models(param=None, details=True, nice_output=True)\n",
    "```"
   ]
  },
  {
   "cell_type": "markdown",
   "metadata": {},
   "source": [
    "**Arguments**:\n",
    "\n",
    "- **param** (*str*, optional): it can be set to one of `F`, `C`, `D`, `MCO`, `MLI`, `MMA`, `MIO` to filter all the available magnetic models.\n",
    "- **details** (*bool*, optional): if it is set to `True` (default), it gets the models and their details. If `False`, it returns only the models as a *list*.\n",
    "- **nice_output** (*bool*, optional): if it is set to `True` (default), it prints the models and their details. If `False`, it returns the models as a dictionary (if `details=True`) or a s a list (if `details=False`).\n",
    "\n",
    "Example: get the list of all the available models and their details:"
   ]
  },
  {
   "cell_type": "code",
   "execution_count": 11,
   "metadata": {
    "scrolled": true
   },
   "outputs": [
    {
     "name": "stdout",
     "output_type": "stream",
     "text": [
      "CHAOS-6-Core = 'CHAOS-6-Core'(max_degree=20,min_degree=1)\n",
      "  START: 1997-02-07T05:31:12.000003Z\n",
      "  END:   2020-04-21T02:49:20.639999Z\n",
      "DESCRIPTION:\n",
      "CHAOS Core field\n",
      " deprecated model identifier, use CHAOS-Core instead\n",
      "SOURCES:\n",
      "  SW_OPER_MCO_SHA_2X_19970101T000000_20200419T235959_0701\n",
      "\n",
      "CHAOS-6-MMA-Primary = 'CHAOS-6-MMA-Primary'(max_degree=2,min_degree=1)\n",
      "  START: 2012-01-01T00:00:00Z\n",
      "  END:   2020-02-09T23:30:00Z\n",
      "DESCRIPTION:\n",
      "CHAOS Primary (external) magnetospheric field\n",
      " deprecated model identifier, use CHAOS-MMA-Primary instead\n",
      "SOURCES:\n",
      "  SW_OPER_MMA_CHAOS__20120101T000000_20121231T233000_0608\n",
      "  SW_OPER_MMA_CHAOS__20130101T000000_20131231T233000_0608\n",
      "  SW_OPER_MMA_CHAOS__20140101T000000_20141231T233000_0608\n",
      "  SW_OPER_MMA_CHAOS__20150101T000000_20151231T233000_0608\n",
      "  SW_OPER_MMA_CHAOS__20160101T000000_20161231T233000_0608\n",
      "  SW_OPER_MMA_CHAOS__20170101T000000_20171231T233000_0608\n",
      "  SW_OPER_MMA_CHAOS__20180101T000000_20181231T233000_0701\n",
      "  SW_OPER_MMA_CHAOS__20190101T000000_20200209T233000_0701\n",
      "\n",
      "CHAOS-6-MMA-Secondary = 'CHAOS-6-MMA-Secondary'(max_degree=2,min_degree=1)\n",
      "  START: 2012-01-01T00:00:00Z\n",
      "  END:   2020-02-09T23:30:00Z\n",
      "DESCRIPTION:\n",
      "CHAOS-Secondary (internal) magnetospheric field\n",
      " deprecated model identifier, use CHAOS-MMA-Secondary instead\n",
      "SOURCES:\n",
      "  SW_OPER_MMA_CHAOS__20120101T000000_20121231T233000_0608\n",
      "  SW_OPER_MMA_CHAOS__20130101T000000_20131231T233000_0608\n",
      "  SW_OPER_MMA_CHAOS__20140101T000000_20141231T233000_0608\n",
      "  SW_OPER_MMA_CHAOS__20150101T000000_20151231T233000_0608\n",
      "  SW_OPER_MMA_CHAOS__20160101T000000_20161231T233000_0608\n",
      "  SW_OPER_MMA_CHAOS__20170101T000000_20171231T233000_0608\n",
      "  SW_OPER_MMA_CHAOS__20180101T000000_20181231T233000_0701\n",
      "  SW_OPER_MMA_CHAOS__20190101T000000_20200209T233000_0701\n",
      "\n",
      "CHAOS-6-Static = 'CHAOS-6-Static'(max_degree=185,min_degree=21)\n",
      "  START: 0001-01-01T00:00:00Z\n",
      "  END:   4000-01-01T00:00:00Z\n",
      "DESCRIPTION:\n",
      "CHAOS crust field\n",
      " deprecated model identifier, use CHAOS-Static instead\n",
      "SOURCES:\n",
      "  CHAOS-7_static.shc\n",
      "\n",
      "CHAOS-Core = 'CHAOS-Core'(max_degree=20,min_degree=1)\n",
      "  START: 1997-02-07T05:31:12.000003Z\n",
      "  END:   2020-04-21T02:49:20.639999Z\n",
      "DESCRIPTION:\n",
      "CHAOS-7 Core field (SH degrees 1-20)\n",
      " http://www.spacecenter.dk/files/magnetic-models/CHAOS-7/ \n",
      "SOURCES:\n",
      "  SW_OPER_MCO_SHA_2X_19970101T000000_20200419T235959_0701\n",
      "\n",
      "CHAOS-MMA-Primary = 'CHAOS-MMA-Primary'(max_degree=2,min_degree=1)\n",
      "  START: 2012-01-01T00:00:00Z\n",
      "  END:   2020-02-09T23:30:00Z\n",
      "DESCRIPTION:\n",
      "CHAOS-7 Primary (external) magnetospheric field\n",
      " hhttp://www.spacecenter.dk/files/magnetic-models/CHAOS-7/ \n",
      "SOURCES:\n",
      "  SW_OPER_MMA_CHAOS__20120101T000000_20121231T233000_0608\n",
      "  SW_OPER_MMA_CHAOS__20130101T000000_20131231T233000_0608\n",
      "  SW_OPER_MMA_CHAOS__20140101T000000_20141231T233000_0608\n",
      "  SW_OPER_MMA_CHAOS__20150101T000000_20151231T233000_0608\n",
      "  SW_OPER_MMA_CHAOS__20160101T000000_20161231T233000_0608\n",
      "  SW_OPER_MMA_CHAOS__20170101T000000_20171231T233000_0608\n",
      "  SW_OPER_MMA_CHAOS__20180101T000000_20181231T233000_0701\n",
      "  SW_OPER_MMA_CHAOS__20190101T000000_20200209T233000_0701\n",
      "\n",
      "CHAOS-MMA-Secondary = 'CHAOS-MMA-Secondary'(max_degree=2,min_degree=1)\n",
      "  START: 2012-01-01T00:00:00Z\n",
      "  END:   2020-02-09T23:30:00Z\n",
      "DESCRIPTION:\n",
      "CHAOS-7 Secondary (internal) magnetospheric field\n",
      " http://www.spacecenter.dk/files/magnetic-models/CHAOS-7/ \n",
      "SOURCES:\n",
      "  SW_OPER_MMA_CHAOS__20120101T000000_20121231T233000_0608\n",
      "  SW_OPER_MMA_CHAOS__20130101T000000_20131231T233000_0608\n",
      "  SW_OPER_MMA_CHAOS__20140101T000000_20141231T233000_0608\n",
      "  SW_OPER_MMA_CHAOS__20150101T000000_20151231T233000_0608\n",
      "  SW_OPER_MMA_CHAOS__20160101T000000_20161231T233000_0608\n",
      "  SW_OPER_MMA_CHAOS__20170101T000000_20171231T233000_0608\n",
      "  SW_OPER_MMA_CHAOS__20180101T000000_20181231T233000_0701\n",
      "  SW_OPER_MMA_CHAOS__20190101T000000_20200209T233000_0701\n",
      "\n",
      "CHAOS-Static = 'CHAOS-Static'(max_degree=185,min_degree=21)\n",
      "  START: 0001-01-01T00:00:00Z\n",
      "  END:   4000-01-01T00:00:00Z\n",
      "DESCRIPTION:\n",
      "CHAOS-7 crust field (SH degrees 21-185)\n",
      " http://www.spacecenter.dk/files/magnetic-models/CHAOS-7/ \n",
      "SOURCES:\n",
      "  CHAOS-7_static.shc\n",
      "\n",
      "IGRF12 = IGRF12(max_degree=13,min_degree=1)\n",
      "  START: 1900-01-01T00:00:00Z\n",
      "  END:   2020-01-01T00:00:00Z\n",
      "DESCRIPTION:\n",
      " International Geomagnetic Reference Field: the 12th generation, https://doi.org/10.1186/s40623-015-0228-9 \n",
      " https://www.ngdc.noaa.gov/IAGA/vmod/igrf.html \n",
      "SOURCES:\n",
      "  SW_OPER_AUX_IGR_2__19000101T000000_20191231T235959_0102\n",
      "\n",
      "LCS-1 = 'LCS-1'(max_degree=185,min_degree=1)\n",
      "  START: 0001-01-01T00:00:00Z\n",
      "  END:   4000-01-01T00:00:00Z\n",
      "DESCRIPTION:\n",
      "The LCS-1 high-resolution lithospheric field model, derived from CHAMP and Swarm satellite observations\n",
      " http://www.spacecenter.dk/files/magnetic-models/LCS-1/\n",
      "SOURCES:\n",
      "  LCS-1.shc\n",
      "\n",
      "MCO_SHA_2C = MCO_SHA_2C(max_degree=18,min_degree=1)\n",
      "  START: 2013-11-24T18:28:47.999997Z\n",
      "  END:   2019-01-01T00:00:00Z\n",
      "DESCRIPTION:\n",
      "[Comprehensive Inversion]: Core field of CIY4\n",
      " A comprehensive model of Earth’s magnetic field determined from 4 years of Swarm satellite observations, https://doi.org/10.1186/s40623-018-0896-3 \n",
      "Validation: ftp://swarm-diss.eo.esa.int/Level2longterm/MCO/SW_OPER_MCO_VAL_2C_20131201T000000_20180101T000000_0401.ZIP \n",
      "SOURCES:\n",
      "  SW_OPER_MCO_SHA_2C_20131125T000000_20190101T000000_0501\n",
      "\n",
      "MCO_SHA_2D = MCO_SHA_2D(max_degree=20,min_degree=1)\n",
      "  START: 2013-11-25T12:00:00.000003Z\n",
      "  END:   2018-01-01T00:00:00Z\n",
      "DESCRIPTION:\n",
      "[Dedicated Chain]: Core field\n",
      "An algorithm for deriving core magnetic field models from the Swarm data set, https://doi.org/10.5047/eps.2013.07.005 \n",
      "Validation: ftp://swarm-diss.eo.esa.int/Level2longterm/MCO/SW_OPER_MCO_VAL_2D_20131126T000000_20180101T000000_0401.ZIP \n",
      "SOURCES:\n",
      "  SW_OPER_MCO_SHA_2D_20131126T000000_20180101T000000_0401\n",
      "\n",
      "MF7 = MF7(max_degree=133,min_degree=16)\n",
      "  START: 0001-01-01T00:00:00Z\n",
      "  END:   4000-01-01T00:00:00Z\n",
      "DESCRIPTION:\n",
      "MF7 crustal field model, derived from CHAMP satellite observations\n",
      " http://geomag.org/models/MF7.html\n",
      "SOURCES:\n",
      "  MF7.shc\n",
      "\n",
      "MIO_SHA_2C-Primary = 'MIO_SHA_2C-Primary'(max_degree=60,min_degree=1)\n",
      "  START: 0001-01-01T00:00:00Z\n",
      "  END:   4000-01-01T00:00:00Z\n",
      "DESCRIPTION:\n",
      "[Comprehensive Inversion]: Primary (external) ionospheric field of CIY4\n",
      "Validation: ftp://swarm-diss.eo.esa.int/Level2longterm/MIO/SW_OPER_MIO_VAL_2C_00000000T000000_99999999T999999_0401.ZIP \n",
      "SOURCES:\n",
      "  SW_OPER_MIO_SHA_2C_00000000T000000_99999999T999999_0501\n",
      "\n",
      "MIO_SHA_2C-Secondary = 'MIO_SHA_2C-Secondary'(max_degree=60,min_degree=1)\n",
      "  START: 0001-01-01T00:00:00Z\n",
      "  END:   4000-01-01T00:00:00Z\n",
      "DESCRIPTION:\n",
      "[Comprehensive Inversion]: Secondary (external/induced) ionospheric field of CIY4\n",
      "SOURCES:\n",
      "  SW_OPER_MIO_SHA_2C_00000000T000000_99999999T999999_0501\n",
      "\n",
      "MIO_SHA_2D-Primary = 'MIO_SHA_2D-Primary'(max_degree=60,min_degree=1)\n",
      "  START: 0001-01-01T00:00:00Z\n",
      "  END:   4000-01-01T00:00:00Z\n",
      "DESCRIPTION:\n",
      "[Dedicated Chain]: Primary (external) ionospheric field, DIFI\n",
      " Swarm SCARF dedicated ionospheric field inversion chain, https://doi.org/10.5047/eps.2013.08.006 \n",
      " First results from the Swarm Dedicated Ionospheric Field Inversion chain, https://doi.org/10.1186/s40623-016-0481-6 \n",
      " http://geomag.colorado.edu/difi-3 \n",
      "Validation: ftp://swarm-diss.eo.esa.int/Level2longterm/MIO/SW_OPER_MIO_VAL_2D_20131201T000000_20171231T235959_0402.ZIP \n",
      "SOURCES:\n",
      "  SW_OPER_MIO_SHA_2D_20131201T000000_20171231T235959_0402\n",
      "\n",
      "MIO_SHA_2D-Secondary = 'MIO_SHA_2D-Secondary'(max_degree=60,min_degree=1)\n",
      "  START: 0001-01-01T00:00:00Z\n",
      "  END:   4000-01-01T00:00:00Z\n",
      "DESCRIPTION:\n",
      "[Dedicated Chain]: Secondary (external/induced) ionospheric field, DIFI\n",
      "SOURCES:\n",
      "  SW_OPER_MIO_SHA_2D_20131201T000000_20171231T235959_0402\n",
      "\n",
      "MLI_SHA_2C = MLI_SHA_2C(max_degree=120,min_degree=16)\n",
      "  START: 0001-01-01T00:00:00Z\n",
      "  END:   4000-01-01T00:00:00Z\n",
      "DESCRIPTION:\n",
      "[Comprehensive Inversion]: Lithospheric field of CIY4\n",
      "Validation: ftp://swarm-diss.eo.esa.int/Level2longterm/MLI/SW_OPER_MLI_VAL_2C_00000000T000000_99999999T999999_0401.ZIP\n",
      "SOURCES:\n",
      "  SW_OPER_MLI_SHA_2C_00000000T000000_99999999T999999_0501\n",
      "\n",
      "MLI_SHA_2D = MLI_SHA_2D(max_degree=133,min_degree=16)\n",
      "  START: 0001-01-01T00:00:00Z\n",
      "  END:   4000-01-01T00:00:00Z\n",
      "DESCRIPTION:\n",
      "[Dedicated Chain]: Lithospheric field\n",
      " Swarm SCARF Dedicated Lithospheric Field Inversion chain, https://doi.org/10.5047/eps.2013.07.008 \n",
      " Validation: ftp://swarm-diss.eo.esa.int/Level2longterm/MLI/SW_OPER_MLI_VAL_2D_00000000T000000_99999999T999999_0401.ZIP \n",
      "SOURCES:\n",
      "  SW_OPER_MLI_SHA_2D_00000000T000000_99999999T999999_0501\n",
      "\n",
      "MMA_SHA_2C-Primary = 'MMA_SHA_2C-Primary'(max_degree=2,min_degree=1)\n",
      "  START: 2013-11-25T03:00:00Z\n",
      "  END:   2018-12-31T21:00:00Z\n",
      "DESCRIPTION:\n",
      "[Comprehensive Inversion]: Primary (external) magnetospheric field of CIY4\n",
      "Validation: ftp://swarm-diss.eo.esa.int/Level2longterm/MMA/SW_OPER_MMA_VAL_2C_20131201T000000_20180101T000000_0401.ZIP\n",
      "SOURCES:\n",
      "  SW_OPER_MMA_SHA_2C_20131125T000000_20181231T235959_0501\n",
      "\n",
      "MMA_SHA_2C-Secondary = 'MMA_SHA_2C-Secondary'(max_degree=3,min_degree=1)\n",
      "  START: 2013-11-25T03:00:00Z\n",
      "  END:   2018-12-31T21:00:00Z\n",
      "DESCRIPTION:\n",
      "[Comprehensive Inversion]: Secondary (internal/induced) magnetospheric field of CIY4\n",
      "SOURCES:\n",
      "  SW_OPER_MMA_SHA_2C_20131125T000000_20181231T235959_0501\n",
      "\n",
      "MMA_SHA_2F-Primary = 'MMA_SHA_2F-Primary'(max_degree=1,min_degree=1)\n",
      "  START: 2013-11-25T11:15:00Z\n",
      "  END:   2020-02-02T21:45:00Z\n",
      "DESCRIPTION:\n",
      "[Fast-Track Product]: Primary (external) magnetospheric field\n",
      " Rapid modelling of the large-scale magnetospheric field from Swarm satellite data, https://doi.org/10.5047/eps.2013.09.003 \n",
      "SOURCES:\n",
      "  SW_OPER_MMA_SHA_2F_20131125T103000_20140101T000000_0108\n",
      "  SW_OPER_MMA_SHA_2F_20140101T000000_20150101T000000_0108\n",
      "  SW_OPER_MMA_SHA_2F_20150101T000000_20160101T000000_0108\n",
      "  SW_OPER_MMA_SHA_2F_20160101T000000_20170101T000000_0108\n",
      "  SW_OPER_MMA_SHA_2F_20170101T000000_20180101T000000_0108\n",
      "  SW_OPER_MMA_SHA_2F_20180101T000000_20190101T000000_0108\n",
      "  SW_OPER_MMA_SHA_2F_20190101T000000_20200101T000000_0108\n",
      "  SW_OPER_MMA_SHA_2F_20200101T000000_20200202T223000_0108\n",
      "\n",
      "MMA_SHA_2F-Secondary = 'MMA_SHA_2F-Secondary'(max_degree=1,min_degree=1)\n",
      "  START: 2013-11-25T11:15:00Z\n",
      "  END:   2020-02-02T21:45:00Z\n",
      "DESCRIPTION:\n",
      "[Fast-Track Product]: Secondary (internal/induced) magnetospheric field\n",
      "SOURCES:\n",
      "  SW_OPER_MMA_SHA_2F_20131125T103000_20140101T000000_0108\n",
      "  SW_OPER_MMA_SHA_2F_20140101T000000_20150101T000000_0108\n",
      "  SW_OPER_MMA_SHA_2F_20150101T000000_20160101T000000_0108\n",
      "  SW_OPER_MMA_SHA_2F_20160101T000000_20170101T000000_0108\n",
      "  SW_OPER_MMA_SHA_2F_20170101T000000_20180101T000000_0108\n",
      "  SW_OPER_MMA_SHA_2F_20180101T000000_20190101T000000_0108\n",
      "  SW_OPER_MMA_SHA_2F_20190101T000000_20200101T000000_0108\n",
      "  SW_OPER_MMA_SHA_2F_20200101T000000_20200202T223000_0108\n",
      "\n"
     ]
    }
   ],
   "source": [
    "# Import SwarmRequest object (this step can be skipped if SwarmRequest has been already imported)\n",
    "from viresclient import SwarmRequest\n",
    "\n",
    "# Create the request object\n",
    "request = SwarmRequest()\n",
    "\n",
    "# Get available models\n",
    "request.available_models()"
   ]
  },
  {
   "cell_type": "markdown",
   "metadata": {},
   "source": [
    "Example: print the list of the available `F` (Fast-Track) models and their details:"
   ]
  },
  {
   "cell_type": "code",
   "execution_count": 12,
   "metadata": {},
   "outputs": [
    {
     "name": "stdout",
     "output_type": "stream",
     "text": [
      "MMA_SHA_2F-Primary = 'MMA_SHA_2F-Primary'(max_degree=1,min_degree=1)\n",
      "  START: 2013-11-25T11:15:00Z\n",
      "  END:   2020-02-02T21:45:00Z\n",
      "DESCRIPTION:\n",
      "[Fast-Track Product]: Primary (external) magnetospheric field\n",
      " Rapid modelling of the large-scale magnetospheric field from Swarm satellite data, https://doi.org/10.5047/eps.2013.09.003 \n",
      "SOURCES:\n",
      "  SW_OPER_MMA_SHA_2F_20131125T103000_20140101T000000_0108\n",
      "  SW_OPER_MMA_SHA_2F_20140101T000000_20150101T000000_0108\n",
      "  SW_OPER_MMA_SHA_2F_20150101T000000_20160101T000000_0108\n",
      "  SW_OPER_MMA_SHA_2F_20160101T000000_20170101T000000_0108\n",
      "  SW_OPER_MMA_SHA_2F_20170101T000000_20180101T000000_0108\n",
      "  SW_OPER_MMA_SHA_2F_20180101T000000_20190101T000000_0108\n",
      "  SW_OPER_MMA_SHA_2F_20190101T000000_20200101T000000_0108\n",
      "  SW_OPER_MMA_SHA_2F_20200101T000000_20200202T223000_0108\n",
      "\n",
      "MMA_SHA_2F-Secondary = 'MMA_SHA_2F-Secondary'(max_degree=1,min_degree=1)\n",
      "  START: 2013-11-25T11:15:00Z\n",
      "  END:   2020-02-02T21:45:00Z\n",
      "DESCRIPTION:\n",
      "[Fast-Track Product]: Secondary (internal/induced) magnetospheric field\n",
      "SOURCES:\n",
      "  SW_OPER_MMA_SHA_2F_20131125T103000_20140101T000000_0108\n",
      "  SW_OPER_MMA_SHA_2F_20140101T000000_20150101T000000_0108\n",
      "  SW_OPER_MMA_SHA_2F_20150101T000000_20160101T000000_0108\n",
      "  SW_OPER_MMA_SHA_2F_20160101T000000_20170101T000000_0108\n",
      "  SW_OPER_MMA_SHA_2F_20170101T000000_20180101T000000_0108\n",
      "  SW_OPER_MMA_SHA_2F_20180101T000000_20190101T000000_0108\n",
      "  SW_OPER_MMA_SHA_2F_20190101T000000_20200101T000000_0108\n",
      "  SW_OPER_MMA_SHA_2F_20200101T000000_20200202T223000_0108\n",
      "\n"
     ]
    }
   ],
   "source": [
    "request.available_models('F')"
   ]
  },
  {
   "cell_type": "markdown",
   "metadata": {},
   "source": [
    "Example: get the If the list of models of type `F` as a dictionary:"
   ]
  },
  {
   "cell_type": "code",
   "execution_count": 13,
   "metadata": {},
   "outputs": [
    {
     "data": {
      "text/plain": [
       "{'MMA_SHA_2F-Primary': {'description': ('[Fast-Track Product]: Primary (external) magnetospheric field',\n",
       "   ' Rapid modelling of the large-scale magnetospheric field from Swarm satellite data, https://doi.org/10.5047/eps.2013.09.003 '),\n",
       "  'details': {'sources': ['SW_OPER_MMA_SHA_2F_20131125T103000_20140101T000000_0108',\n",
       "    'SW_OPER_MMA_SHA_2F_20140101T000000_20150101T000000_0108',\n",
       "    'SW_OPER_MMA_SHA_2F_20150101T000000_20160101T000000_0108',\n",
       "    'SW_OPER_MMA_SHA_2F_20160101T000000_20170101T000000_0108',\n",
       "    'SW_OPER_MMA_SHA_2F_20170101T000000_20180101T000000_0108',\n",
       "    'SW_OPER_MMA_SHA_2F_20180101T000000_20190101T000000_0108',\n",
       "    'SW_OPER_MMA_SHA_2F_20190101T000000_20200101T000000_0108',\n",
       "    'SW_OPER_MMA_SHA_2F_20200101T000000_20200202T223000_0108'],\n",
       "   'expression': \"'MMA_SHA_2F-Primary'(max_degree=1,min_degree=1)\",\n",
       "   'validity': {'start': '2013-11-25T11:15:00Z',\n",
       "    'end': '2020-02-02T21:45:00Z'}}},\n",
       " 'MMA_SHA_2F-Secondary': {'description': ('[Fast-Track Product]: Secondary (internal/induced) magnetospheric field',),\n",
       "  'details': {'sources': ['SW_OPER_MMA_SHA_2F_20131125T103000_20140101T000000_0108',\n",
       "    'SW_OPER_MMA_SHA_2F_20140101T000000_20150101T000000_0108',\n",
       "    'SW_OPER_MMA_SHA_2F_20150101T000000_20160101T000000_0108',\n",
       "    'SW_OPER_MMA_SHA_2F_20160101T000000_20170101T000000_0108',\n",
       "    'SW_OPER_MMA_SHA_2F_20170101T000000_20180101T000000_0108',\n",
       "    'SW_OPER_MMA_SHA_2F_20180101T000000_20190101T000000_0108',\n",
       "    'SW_OPER_MMA_SHA_2F_20190101T000000_20200101T000000_0108',\n",
       "    'SW_OPER_MMA_SHA_2F_20200101T000000_20200202T223000_0108'],\n",
       "   'expression': \"'MMA_SHA_2F-Secondary'(max_degree=1,min_degree=1)\",\n",
       "   'validity': {'start': '2013-11-25T11:15:00Z',\n",
       "    'end': '2020-02-02T21:45:00Z'}}}}"
      ]
     },
     "execution_count": 13,
     "metadata": {},
     "output_type": "execute_result"
    }
   ],
   "source": [
    "request.available_models(param='F', nice_output=False)"
   ]
  },
  {
   "cell_type": "markdown",
   "metadata": {},
   "source": [
    "Example: get the list of all the available models without their details:"
   ]
  },
  {
   "cell_type": "code",
   "execution_count": 14,
   "metadata": {},
   "outputs": [
    {
     "data": {
      "text/plain": [
       "['IGRF12',\n",
       " 'LCS-1',\n",
       " 'MF7',\n",
       " 'CHAOS-Core',\n",
       " 'CHAOS-Static',\n",
       " 'CHAOS-MMA-Primary',\n",
       " 'CHAOS-MMA-Secondary',\n",
       " 'CHAOS-6-Core',\n",
       " 'CHAOS-6-Static',\n",
       " 'CHAOS-6-MMA-Primary',\n",
       " 'CHAOS-6-MMA-Secondary',\n",
       " 'MCO_SHA_2C',\n",
       " 'MCO_SHA_2D',\n",
       " 'MLI_SHA_2C',\n",
       " 'MLI_SHA_2D',\n",
       " 'MMA_SHA_2C-Primary',\n",
       " 'MMA_SHA_2C-Secondary',\n",
       " 'MMA_SHA_2F-Primary',\n",
       " 'MMA_SHA_2F-Secondary',\n",
       " 'MIO_SHA_2C-Primary',\n",
       " 'MIO_SHA_2C-Secondary',\n",
       " 'MIO_SHA_2D-Primary',\n",
       " 'MIO_SHA_2D-Secondary']"
      ]
     },
     "execution_count": 14,
     "metadata": {},
     "output_type": "execute_result"
    }
   ],
   "source": [
    "request.available_models(details=False)"
   ]
  },
  {
   "cell_type": "markdown",
   "metadata": {},
   "source": [
    "[TOP](#top)\n",
    "\n",
    "<a id=\"SwarmRequest.get_model_info\"/>\n",
    "\n",
    "### Get information about one or more models.\n",
    "\n",
    "It is possible to get information about one or more specific models using the `SwarmRequest.get_model_info()` method:\n",
    "\n",
    "```python\n",
    "viresclient.SwarmRequest.get_model_info(models=None, custom_model=None, original_response=False)\n",
    "```"
   ]
  },
  {
   "cell_type": "markdown",
   "metadata": {},
   "source": [
    "**Arguments*:\n",
    "\n",
    "- **models** (*list[str]*, optional): models as a list of strings. If the list is not provided, returns information about all the available magnetic models.\n",
    "- **custom_model** (*str*, optional): name of the file containing the spherical harmonics coefficients (custom model).\n",
    "- **original_response** (*bool*, optional): if set to `False` (default), returns the result as a dictionary. If set to `True`, returns the result as a list of dictionaries.\n",
    "\n",
    "Example: get info about all the available magnetic models:"
   ]
  },
  {
   "cell_type": "code",
   "execution_count": 15,
   "metadata": {
    "scrolled": true
   },
   "outputs": [
    {
     "data": {
      "text/plain": [
       "{'MLI_SHA_2D': {'sources': ['SW_OPER_MLI_SHA_2D_00000000T000000_99999999T999999_0501'],\n",
       "  'expression': 'MLI_SHA_2D(max_degree=133,min_degree=16)',\n",
       "  'validity': {'start': '0001-01-01T00:00:00Z',\n",
       "   'end': '4000-01-01T00:00:00Z'}},\n",
       " 'MLI_SHA_2C': {'sources': ['SW_OPER_MLI_SHA_2C_00000000T000000_99999999T999999_0501'],\n",
       "  'expression': 'MLI_SHA_2C(max_degree=120,min_degree=16)',\n",
       "  'validity': {'start': '0001-01-01T00:00:00Z',\n",
       "   'end': '4000-01-01T00:00:00Z'}},\n",
       " 'CHAOS-Core': {'sources': ['SW_OPER_MCO_SHA_2X_19970101T000000_20200419T235959_0701'],\n",
       "  'expression': \"'CHAOS-Core'(max_degree=20,min_degree=1)\",\n",
       "  'validity': {'start': '1997-02-07T05:31:12.000003Z',\n",
       "   'end': '2020-04-21T02:49:20.639999Z'}},\n",
       " 'MIO_SHA_2C-Primary': {'sources': ['SW_OPER_MIO_SHA_2C_00000000T000000_99999999T999999_0501'],\n",
       "  'expression': \"'MIO_SHA_2C-Primary'(max_degree=60,min_degree=1)\",\n",
       "  'validity': {'start': '0001-01-01T00:00:00Z',\n",
       "   'end': '4000-01-01T00:00:00Z'}},\n",
       " 'LCS-1': {'sources': ['LCS-1.shc'],\n",
       "  'expression': \"'LCS-1'(max_degree=185,min_degree=1)\",\n",
       "  'validity': {'start': '0001-01-01T00:00:00Z',\n",
       "   'end': '4000-01-01T00:00:00Z'}},\n",
       " 'CHAOS-MMA-Primary': {'sources': ['SW_OPER_MMA_CHAOS__20120101T000000_20121231T233000_0608',\n",
       "   'SW_OPER_MMA_CHAOS__20130101T000000_20131231T233000_0608',\n",
       "   'SW_OPER_MMA_CHAOS__20140101T000000_20141231T233000_0608',\n",
       "   'SW_OPER_MMA_CHAOS__20150101T000000_20151231T233000_0608',\n",
       "   'SW_OPER_MMA_CHAOS__20160101T000000_20161231T233000_0608',\n",
       "   'SW_OPER_MMA_CHAOS__20170101T000000_20171231T233000_0608',\n",
       "   'SW_OPER_MMA_CHAOS__20180101T000000_20181231T233000_0701',\n",
       "   'SW_OPER_MMA_CHAOS__20190101T000000_20200209T233000_0701'],\n",
       "  'expression': \"'CHAOS-MMA-Primary'(max_degree=2,min_degree=1)\",\n",
       "  'validity': {'start': '2012-01-01T00:00:00Z',\n",
       "   'end': '2020-02-09T23:30:00Z'}},\n",
       " 'MIO_SHA_2C-Secondary': {'sources': ['SW_OPER_MIO_SHA_2C_00000000T000000_99999999T999999_0501'],\n",
       "  'expression': \"'MIO_SHA_2C-Secondary'(max_degree=60,min_degree=1)\",\n",
       "  'validity': {'start': '0001-01-01T00:00:00Z',\n",
       "   'end': '4000-01-01T00:00:00Z'}},\n",
       " 'CHAOS-MMA-Secondary': {'sources': ['SW_OPER_MMA_CHAOS__20120101T000000_20121231T233000_0608',\n",
       "   'SW_OPER_MMA_CHAOS__20130101T000000_20131231T233000_0608',\n",
       "   'SW_OPER_MMA_CHAOS__20140101T000000_20141231T233000_0608',\n",
       "   'SW_OPER_MMA_CHAOS__20150101T000000_20151231T233000_0608',\n",
       "   'SW_OPER_MMA_CHAOS__20160101T000000_20161231T233000_0608',\n",
       "   'SW_OPER_MMA_CHAOS__20170101T000000_20171231T233000_0608',\n",
       "   'SW_OPER_MMA_CHAOS__20180101T000000_20181231T233000_0701',\n",
       "   'SW_OPER_MMA_CHAOS__20190101T000000_20200209T233000_0701'],\n",
       "  'expression': \"'CHAOS-MMA-Secondary'(max_degree=2,min_degree=1)\",\n",
       "  'validity': {'start': '2012-01-01T00:00:00Z',\n",
       "   'end': '2020-02-09T23:30:00Z'}},\n",
       " 'MIO_SHA_2D-Secondary': {'sources': ['SW_OPER_MIO_SHA_2D_20131201T000000_20171231T235959_0402'],\n",
       "  'expression': \"'MIO_SHA_2D-Secondary'(max_degree=60,min_degree=1)\",\n",
       "  'validity': {'start': '0001-01-01T00:00:00Z',\n",
       "   'end': '4000-01-01T00:00:00Z'}},\n",
       " 'MMA_SHA_2F-Primary': {'sources': ['SW_OPER_MMA_SHA_2F_20131125T103000_20140101T000000_0108',\n",
       "   'SW_OPER_MMA_SHA_2F_20140101T000000_20150101T000000_0108',\n",
       "   'SW_OPER_MMA_SHA_2F_20150101T000000_20160101T000000_0108',\n",
       "   'SW_OPER_MMA_SHA_2F_20160101T000000_20170101T000000_0108',\n",
       "   'SW_OPER_MMA_SHA_2F_20170101T000000_20180101T000000_0108',\n",
       "   'SW_OPER_MMA_SHA_2F_20180101T000000_20190101T000000_0108',\n",
       "   'SW_OPER_MMA_SHA_2F_20190101T000000_20200101T000000_0108',\n",
       "   'SW_OPER_MMA_SHA_2F_20200101T000000_20200202T223000_0108'],\n",
       "  'expression': \"'MMA_SHA_2F-Primary'(max_degree=1,min_degree=1)\",\n",
       "  'validity': {'start': '2013-11-25T11:15:00Z',\n",
       "   'end': '2020-02-02T21:45:00Z'}},\n",
       " 'IGRF13': {'sources': ['SW_OPER_AUX_IGR_2__19000101T000000_20241231T235959_0103'],\n",
       "  'expression': 'IGRF13(max_degree=13,min_degree=1)',\n",
       "  'validity': {'start': '1900-01-01T00:00:00Z',\n",
       "   'end': '2025-01-01T00:00:00Z'}},\n",
       " 'IGRF12': {'sources': ['SW_OPER_AUX_IGR_2__19000101T000000_20191231T235959_0102'],\n",
       "  'expression': 'IGRF12(max_degree=13,min_degree=1)',\n",
       "  'validity': {'start': '1900-01-01T00:00:00Z',\n",
       "   'end': '2020-01-01T00:00:00Z'}},\n",
       " 'MCO_SHA_2C': {'sources': ['SW_OPER_MCO_SHA_2C_20131125T000000_20190101T000000_0501'],\n",
       "  'expression': 'MCO_SHA_2C(max_degree=18,min_degree=1)',\n",
       "  'validity': {'start': '2013-11-24T18:28:47.999997Z',\n",
       "   'end': '2019-01-01T00:00:00Z'}},\n",
       " 'MF7': {'sources': ['MF7.shc'],\n",
       "  'expression': 'MF7(max_degree=133,min_degree=16)',\n",
       "  'validity': {'start': '0001-01-01T00:00:00Z',\n",
       "   'end': '4000-01-01T00:00:00Z'}},\n",
       " 'MIO_SHA_2D-Primary': {'sources': ['SW_OPER_MIO_SHA_2D_20131201T000000_20171231T235959_0402'],\n",
       "  'expression': \"'MIO_SHA_2D-Primary'(max_degree=60,min_degree=1)\",\n",
       "  'validity': {'start': '0001-01-01T00:00:00Z',\n",
       "   'end': '4000-01-01T00:00:00Z'}},\n",
       " 'MCO_SHA_2D': {'sources': ['SW_OPER_MCO_SHA_2D_20131126T000000_20180101T000000_0401'],\n",
       "  'expression': 'MCO_SHA_2D(max_degree=20,min_degree=1)',\n",
       "  'validity': {'start': '2013-11-25T12:00:00.000003Z',\n",
       "   'end': '2018-01-01T00:00:00Z'}},\n",
       " 'MMA_SHA_2F-Secondary': {'sources': ['SW_OPER_MMA_SHA_2F_20131125T103000_20140101T000000_0108',\n",
       "   'SW_OPER_MMA_SHA_2F_20140101T000000_20150101T000000_0108',\n",
       "   'SW_OPER_MMA_SHA_2F_20150101T000000_20160101T000000_0108',\n",
       "   'SW_OPER_MMA_SHA_2F_20160101T000000_20170101T000000_0108',\n",
       "   'SW_OPER_MMA_SHA_2F_20170101T000000_20180101T000000_0108',\n",
       "   'SW_OPER_MMA_SHA_2F_20180101T000000_20190101T000000_0108',\n",
       "   'SW_OPER_MMA_SHA_2F_20190101T000000_20200101T000000_0108',\n",
       "   'SW_OPER_MMA_SHA_2F_20200101T000000_20200202T223000_0108'],\n",
       "  'expression': \"'MMA_SHA_2F-Secondary'(max_degree=1,min_degree=1)\",\n",
       "  'validity': {'start': '2013-11-25T11:15:00Z',\n",
       "   'end': '2020-02-02T21:45:00Z'}},\n",
       " 'CHAOS-Static': {'sources': ['CHAOS-7_static.shc'],\n",
       "  'expression': \"'CHAOS-Static'(max_degree=185,min_degree=21)\",\n",
       "  'validity': {'start': '0001-01-01T00:00:00Z',\n",
       "   'end': '4000-01-01T00:00:00Z'}},\n",
       " 'MMA_SHA_2C-Secondary': {'sources': ['SW_OPER_MMA_SHA_2C_20131125T000000_20181231T235959_0501'],\n",
       "  'expression': \"'MMA_SHA_2C-Secondary'(max_degree=3,min_degree=1)\",\n",
       "  'validity': {'start': '2013-11-25T03:00:00Z',\n",
       "   'end': '2018-12-31T21:00:00Z'}},\n",
       " 'MMA_SHA_2C-Primary': {'sources': ['SW_OPER_MMA_SHA_2C_20131125T000000_20181231T235959_0501'],\n",
       "  'expression': \"'MMA_SHA_2C-Primary'(max_degree=2,min_degree=1)\",\n",
       "  'validity': {'start': '2013-11-25T03:00:00Z',\n",
       "   'end': '2018-12-31T21:00:00Z'}},\n",
       " 'CHAOS-6-MMA-Secondary': {'sources': ['SW_OPER_MMA_CHAOS__20120101T000000_20121231T233000_0608',\n",
       "   'SW_OPER_MMA_CHAOS__20130101T000000_20131231T233000_0608',\n",
       "   'SW_OPER_MMA_CHAOS__20140101T000000_20141231T233000_0608',\n",
       "   'SW_OPER_MMA_CHAOS__20150101T000000_20151231T233000_0608',\n",
       "   'SW_OPER_MMA_CHAOS__20160101T000000_20161231T233000_0608',\n",
       "   'SW_OPER_MMA_CHAOS__20170101T000000_20171231T233000_0608',\n",
       "   'SW_OPER_MMA_CHAOS__20180101T000000_20181231T233000_0701',\n",
       "   'SW_OPER_MMA_CHAOS__20190101T000000_20200209T233000_0701'],\n",
       "  'expression': \"'CHAOS-6-MMA-Secondary'(max_degree=2,min_degree=1)\",\n",
       "  'validity': {'start': '2012-01-01T00:00:00Z',\n",
       "   'end': '2020-02-09T23:30:00Z'}},\n",
       " 'CHAOS-6-Core': {'sources': ['SW_OPER_MCO_SHA_2X_19970101T000000_20200419T235959_0701'],\n",
       "  'expression': \"'CHAOS-6-Core'(max_degree=20,min_degree=1)\",\n",
       "  'validity': {'start': '1997-02-07T05:31:12.000003Z',\n",
       "   'end': '2020-04-21T02:49:20.639999Z'}},\n",
       " 'MCO_SHA_2X': {'sources': ['SW_OPER_MCO_SHA_2X_19970101T000000_20200419T235959_0701'],\n",
       "  'expression': 'MCO_SHA_2X(max_degree=20,min_degree=1)',\n",
       "  'validity': {'start': '1997-02-07T05:31:12.000003Z',\n",
       "   'end': '2020-04-21T02:49:20.639999Z'}},\n",
       " 'IGRF': {'sources': ['SW_OPER_AUX_IGR_2__19000101T000000_20241231T235959_0103'],\n",
       "  'expression': 'IGRF(max_degree=13,min_degree=1)',\n",
       "  'validity': {'start': '1900-01-01T00:00:00Z',\n",
       "   'end': '2025-01-01T00:00:00Z'}},\n",
       " 'CHAOS-6-MMA-Primary': {'sources': ['SW_OPER_MMA_CHAOS__20120101T000000_20121231T233000_0608',\n",
       "   'SW_OPER_MMA_CHAOS__20130101T000000_20131231T233000_0608',\n",
       "   'SW_OPER_MMA_CHAOS__20140101T000000_20141231T233000_0608',\n",
       "   'SW_OPER_MMA_CHAOS__20150101T000000_20151231T233000_0608',\n",
       "   'SW_OPER_MMA_CHAOS__20160101T000000_20161231T233000_0608',\n",
       "   'SW_OPER_MMA_CHAOS__20170101T000000_20171231T233000_0608',\n",
       "   'SW_OPER_MMA_CHAOS__20180101T000000_20181231T233000_0701',\n",
       "   'SW_OPER_MMA_CHAOS__20190101T000000_20200209T233000_0701'],\n",
       "  'expression': \"'CHAOS-6-MMA-Primary'(max_degree=2,min_degree=1)\",\n",
       "  'validity': {'start': '2012-01-01T00:00:00Z',\n",
       "   'end': '2020-02-09T23:30:00Z'}},\n",
       " 'CHAOS-6-Static': {'sources': ['CHAOS-7_static.shc'],\n",
       "  'expression': \"'CHAOS-6-Static'(max_degree=185,min_degree=21)\",\n",
       "  'validity': {'start': '0001-01-01T00:00:00Z',\n",
       "   'end': '4000-01-01T00:00:00Z'}}}"
      ]
     },
     "execution_count": 15,
     "metadata": {},
     "output_type": "execute_result"
    }
   ],
   "source": [
    "# Import SwarmRequest object (this step can be skipped if SwarmRequest has been already imported)\n",
    "from viresclient import SwarmRequest\n",
    "\n",
    "# Create the request object\n",
    "request = SwarmRequest()\n",
    "\n",
    "# Get model info\n",
    "request.get_model_info()"
   ]
  },
  {
   "cell_type": "markdown",
   "metadata": {},
   "source": [
    "Example: get info about CHAOS-Core and CHAOS-Static:"
   ]
  },
  {
   "cell_type": "code",
   "execution_count": 16,
   "metadata": {},
   "outputs": [
    {
     "data": {
      "text/plain": [
       "{'CHAOS-Core': {'sources': ['SW_OPER_MCO_SHA_2X_19970101T000000_20200419T235959_0701'],\n",
       "  'expression': \"'CHAOS-Core'(max_degree=20,min_degree=1)\",\n",
       "  'validity': {'start': '1997-02-07T05:31:12.000003Z',\n",
       "   'end': '2020-04-21T02:49:20.639999Z'}},\n",
       " 'CHAOS-Static': {'sources': ['CHAOS-7_static.shc'],\n",
       "  'expression': \"'CHAOS-Static'(max_degree=185,min_degree=21)\",\n",
       "  'validity': {'start': '0001-01-01T00:00:00Z',\n",
       "   'end': '4000-01-01T00:00:00Z'}}}"
      ]
     },
     "execution_count": 16,
     "metadata": {},
     "output_type": "execute_result"
    }
   ],
   "source": [
    "request.get_model_info(models=['CHAOS-Core', 'CHAOS-Static'])"
   ]
  },
  {
   "cell_type": "markdown",
   "metadata": {},
   "source": [
    "Example: set `original_response=True` to get the result as a list of dictionaries:"
   ]
  },
  {
   "cell_type": "code",
   "execution_count": 17,
   "metadata": {},
   "outputs": [
    {
     "data": {
      "text/plain": [
       "[{'sources': ['SW_OPER_MCO_SHA_2X_19970101T000000_20200419T235959_0701'],\n",
       "  'expression': \"'CHAOS-Core'(max_degree=20,min_degree=1)\",\n",
       "  'name': 'CHAOS-Core',\n",
       "  'validity': {'start': '1997-02-07T05:31:12.000003Z',\n",
       "   'end': '2020-04-21T02:49:20.639999Z'}},\n",
       " {'sources': ['CHAOS-7_static.shc'],\n",
       "  'expression': \"'CHAOS-Static'(max_degree=185,min_degree=21)\",\n",
       "  'name': 'CHAOS-Static',\n",
       "  'validity': {'start': '0001-01-01T00:00:00Z',\n",
       "   'end': '4000-01-01T00:00:00Z'}}]"
      ]
     },
     "execution_count": 17,
     "metadata": {},
     "output_type": "execute_result"
    }
   ],
   "source": [
    "request.get_model_info(models=['CHAOS-Core', 'CHAOS-Static'], original_response=True)"
   ]
  },
  {
   "cell_type": "markdown",
   "metadata": {},
   "source": [
    "Example: get info on a custom model by providing the name of the file containing its coefficients:"
   ]
  },
  {
   "cell_type": "code",
   "execution_count": 18,
   "metadata": {},
   "outputs": [
    {
     "name": "stdout",
     "output_type": "stream",
     "text": [
      "--2020-02-11 22:17:14--  http://www.spacecenter.dk/files/magnetic-models/LCS-1/LCS-1.shc\n",
      "Resolving www.spacecenter.dk (www.spacecenter.dk)... 130.226.216.199\n",
      "Connecting to www.spacecenter.dk (www.spacecenter.dk)|130.226.216.199|:80... connected.\n",
      "HTTP request sent, awaiting response... 200 OK\n",
      "Length: 657666 (642K) [text/plain]\n",
      "Saving to: ‘LCS-1.shc’\n",
      "\n",
      "LCS-1.shc           100%[===================>] 642.25K  3.57MB/s    in 0.2s    \n",
      "\n",
      "2020-02-11 22:17:15 (3.57 MB/s) - ‘LCS-1.shc’ saved [657666/657666]\n",
      "\n"
     ]
    },
    {
     "data": {
      "text/plain": [
       "{'Custom_Model': {'sources': [],\n",
       "  'expression': 'Custom_Model(max_degree=185,min_degree=1)',\n",
       "  'validity': {'start': '0001-01-01T00:00:00Z',\n",
       "   'end': '4000-01-01T00:00:00Z'}}}"
      ]
     },
     "execution_count": 18,
     "metadata": {},
     "output_type": "execute_result"
    }
   ],
   "source": [
    "# Download shc file with WGET (command line tool)\n",
    "!wget \"http://www.spacecenter.dk/files/magnetic-models/LCS-1/LCS-1.shc\"\n",
    "\n",
    "# Upload a .shc file and update the file name\n",
    "request.get_model_info(custom_model='LCS-1.shc')"
   ]
  },
  {
   "cell_type": "code",
   "execution_count": 19,
   "metadata": {},
   "outputs": [],
   "source": [
    "# Delete downloaded file(s)\n",
    "!rm LCS-1.shc*"
   ]
  },
  {
   "cell_type": "markdown",
   "metadata": {},
   "source": [
    "[TOP](#top)\n",
    "\n",
    "<a id=\"SwarmRequest.get_orbit_number\"/>\n",
    "\n",
    "### Get the orbit number\n",
    "\n",
    "The `SwarmRequest.get_orbit_number()` allows to get the orbit number of a given spacecraft providing date and time:\n",
    "\n",
    "```python\n",
    "viresclient.SwarmRequest.get_orbit_number(spacecraft, input_time)\n",
    "```"
   ]
  },
  {
   "cell_type": "markdown",
   "metadata": {},
   "source": [
    "**Arguments**:\n",
    "\n",
    "- **spacecraft** (*str*): spacecraft identifier: `A`, `B` or `C`.\n",
    "- **input_time** (*datetime.datetime* or *str*): date and time."
   ]
  },
  {
   "cell_type": "markdown",
   "metadata": {},
   "source": [
    "Example: get orbit numbers corresponding to date 2020-01-01 00:00:00 for the three spacecrafts:"
   ]
  },
  {
   "cell_type": "code",
   "execution_count": 24,
   "metadata": {},
   "outputs": [
    {
     "name": "stdout",
     "output_type": "stream",
     "text": [
      "s/c A: 34324\n",
      "s/c B: 33892\n",
      "s/c C: 34320\n"
     ]
    }
   ],
   "source": [
    "# Create the request object\n",
    "request = SwarmRequest()\n",
    "\n",
    "# Get results\n",
    "for sc in ('A', 'B', 'C'):\n",
    "    orbit = request.get_orbit_number(sc, '2020-01-01T00:00:00')\n",
    "    print(f's/c {sc}: {orbit}')"
   ]
  },
  {
   "cell_type": "markdown",
   "metadata": {},
   "source": [
    "[TOP](#top)\n",
    "\n",
    "<a id=\"SwarmRequest.get_times_for_orbits\"/>\n",
    "\n",
    "### Get times for orbits\n",
    "\n",
    "Get the time interval corresponding to a pair of orbit numbers using the `SwarmRequest.get_times_for_orbits()` method:\n",
    "\n",
    "```python\n",
    "viresclient.SwarmRequest.get_times_for_orbits(spacecraft, start_orbit, end_orbit)\n",
    "```"
   ]
  },
  {
   "cell_type": "markdown",
   "metadata": {},
   "source": [
    "**Arguments**:\n",
    "\n",
    "- **spacecraft** (*str*): spacecraft identifier: `A`, `B` or `C`.\n",
    "- **start_orbit** (*int*): start orbit number\n",
    "- **end_orbit** (*int*): end orbit number\n",
    "\n",
    "Example: get time intervals corresponding to *start_orbit* 1000 and *end_orbit* 2000 for the three spacecrafts:"
   ]
  },
  {
   "cell_type": "code",
   "execution_count": 25,
   "metadata": {},
   "outputs": [
    {
     "name": "stdout",
     "output_type": "stream",
     "text": [
      "s/c A: 2014-01-27 04:05:04.228591 - 2014-04-02 13:51:01.876037\n",
      "s/c B: 2014-01-27 04:04:17.158156 - 2014-04-03 00:46:19.552254\n",
      "s/c C: 2014-01-27 04:08:31.126684 - 2014-04-02 19:45:08.511104\n"
     ]
    }
   ],
   "source": [
    "# Import SwarmRequest object (this step can be skipped if SwarmRequest has been already imported)\n",
    "from viresclient import SwarmRequest\n",
    "\n",
    "# Set start/end orbits\n",
    "start_orbit = 1000\n",
    "end_orbit = 2000\n",
    "\n",
    "# Create the request object\n",
    "request = SwarmRequest()\n",
    "\n",
    "# Get results\n",
    "for sc in ('A', 'B', 'C'):\n",
    "    start_date, end_date = request.get_times_for_orbits(sc, start_orbit, end_orbit)\n",
    "    print(f's/c {sc}: {start_date} - {end_date}')"
   ]
  },
  {
   "cell_type": "markdown",
   "metadata": {},
   "source": [
    "[TOP](#top)\n",
    "\n",
    "<a id=\"SwarmRequest.set_collection\"/>\n",
    "\n",
    "### Set collections\n",
    "\n",
    "Before sending the request to the server, you need to set the Swarm collection including the measurement(s) of interest. This can be done using the `SwarmRequest.set_collection()` method:\n",
    "\n",
    "```python\n",
    "viresclient.SwarmRequest.set_collection(*args)\n",
    "```\n",
    "\n",
    "**Arguments**:\n",
    "\n",
    "- ***args** (*str*): one or more collections (see `SwarmRequest.available_collections()`) as a string."
   ]
  },
  {
   "cell_type": "markdown",
   "metadata": {},
   "source": [
    "Example: to get data from `SW_OPER_MAGA_LR_1B` and `SW_OPER_EFIA_LP_1B` collections:"
   ]
  },
  {
   "cell_type": "code",
   "execution_count": 26,
   "metadata": {},
   "outputs": [
    {
     "data": {
      "text/plain": [
       "<viresclient._client_swarm.SwarmRequest at 0x7f229c388c50>"
      ]
     },
     "execution_count": 26,
     "metadata": {},
     "output_type": "execute_result"
    }
   ],
   "source": [
    "# Import SwarmRequest object (this step can be skipped if SwarmRequest has been already imported)\n",
    "from viresclient import SwarmRequest\n",
    "\n",
    "# Create the request object\n",
    "request = SwarmRequest()\n",
    "\n",
    "# Set collections\n",
    "request.set_collection('SW_OPER_MAGA_LR_1B', 'SW_OPER_EFIA_LP_1B')"
   ]
  },
  {
   "cell_type": "markdown",
   "metadata": {},
   "source": [
    "[TOP](#top)\n",
    "\n",
    "<a id=\"SwarmRequest.set_products\"/>\n",
    "\n",
    "### Set products\n",
    "\n",
    "After setting the collection, you must set the combination of measurements and/or auxiliaries and/or magnetic model(s) data to retrieve. This can be done using the `SwarmRequest.set_products()` method:\n",
    "\n",
    "```python\n",
    "viresclient.SwarmRequest.set_products(measurements=None, models=None, custom_model=None, auxiliaries=None, residuals=False, sampling_step=None)\n",
    "```"
   ]
  },
  {
   "cell_type": "markdown",
   "metadata": {},
   "source": [
    "**Arguments**:\n",
    "\n",
    "- **measurements** (*list[str]*, optional): list of measurements to be downloaded. To get the list of the available measurements see [Available measurements](#SwarmRequest.available_measurements) (e.g.: `['F', 'B_NEC', 'Ne']`.).\n",
    "- **models** (*list[str]*, optional): list of magnetic models. To get the list of the available models see [Available models](#SwarmRequest.available_models) (e.g.: `['CHAOS-Core', 'CHAOS-Static']`). In addition to the list, this parameters accepts also expression for the definition of magnetic models (e.g.: `'CHAOS = \"CHAOS-Core\" + \"CHAOS-Static\"'`).\n",
    "- **custom_model** (*str*, optional): path to the the file containing the spherical harmonics coefficients of the custom model.\n",
    "- **auxiliaries** (*list[str]*, optional): list of auxiliaries to be downloaded. To get the list of the available auxiliaries see [Available auxiliaries](#SwarmRequest.available_auxiliaries). Please note that the following parameters are always retrieved (i.e. they don't need to be specified): `Spacecraft`, `Timestamp`, `Latitude`, `Longitude`, `Radius`.\n",
    "- **residuals** (*bool*, optional): if it is set to `True`, returns the residuals between measurements (specified with *measurements*) and models (specified with *models*). If it is set to `False` (default), returns measurements and models.\n",
    "- **sampling_step** (*str*, optional): set the sampling step as an [ISO 8601 time interval](https://en.wikipedia.org/wiki/ISO_8601#Time_intervals). If not provided, data is returned with the original sampling.\n"
   ]
  },
  {
   "cell_type": "markdown",
   "metadata": {},
   "source": [
    "Example: get measurements: `F` and `B_NEC` from `SW_OPER_MAGA_LR_1B` and `Ne` from `SW_OPER_EFIA_LP_1B`, model `CHAOS = \"CHAOS-Core\" + \"Chaos-Static\"` and auxiliary `OrbitNumber` with a sampling step of 10 seconds:"
   ]
  },
  {
   "cell_type": "code",
   "execution_count": 27,
   "metadata": {},
   "outputs": [
    {
     "data": {
      "text/plain": [
       "<viresclient._client_swarm.SwarmRequest at 0x7f229c3712e8>"
      ]
     },
     "execution_count": 27,
     "metadata": {},
     "output_type": "execute_result"
    }
   ],
   "source": [
    "# Import SwarmRequest object (this step can be skipped if SwarmRequest has been already imported)\n",
    "from viresclient import SwarmRequest\n",
    "\n",
    "# Create the request object\n",
    "request = SwarmRequest()\n",
    "\n",
    "# Set collections\n",
    "request.set_collection('SW_OPER_MAGA_LR_1B', 'SW_OPER_EFIA_LP_1B')\n",
    "\n",
    "# Set products\n",
    "request.set_products(\n",
    "    measurements=['F', 'B_NEC', 'Ne'],\n",
    "    models=['CHAOS = \"CHAOS-Core\" + \"CHAOS-Static\"'],\n",
    "    auxiliaries=['OrbitNumber'],\n",
    "    residuals=False,\n",
    "    sampling_step='PT10S'\n",
    ")"
   ]
  },
  {
   "cell_type": "markdown",
   "metadata": {},
   "source": [
    "[TOP](#top)\n",
    "\n",
    "<a id=\"SwarmRequest.set_range_filter\"/>\n",
    "\n",
    "### Set/clear filters\n",
    "\n",
    "Filter(s) can be applied to the requested measurements using the `SwarmRequest.set_range_filter()` method:\n",
    "\n",
    "```python\n",
    "viresclient.SwarmRequest.set_range_filter(parameter=None, minimum=None, maximum=None)\n",
    "```"
   ]
  },
  {
   "cell_type": "markdown",
   "metadata": {},
   "source": [
    "This method allows to set filter(s) in the form: $minimum \\le parameter \\le maximum$.\n",
    "\n",
    "**Arguments**:\n",
    "\n",
    "- **parameter** (*str*, optional): parameter to be used as a filter (e.g. `Latitude`)\n",
    "- **minimum** (*float*, optional): allowed minimum value\n",
    "- **maximum** (*float*, optional): allowed maximum value\n",
    "\n",
    "It is possible to apply multiple filters with consecutive calls to this method."
   ]
  },
  {
   "cell_type": "markdown",
   "metadata": {},
   "source": [
    "<a id=\"example1\"/>\n",
    "\n",
    "**Example 1:** to set filter: -20 <= `Longitude` <= 50 and 30 <= `Latitude` <= 70:"
   ]
  },
  {
   "cell_type": "code",
   "execution_count": 28,
   "metadata": {},
   "outputs": [
    {
     "data": {
      "text/plain": [
       "<viresclient._client_swarm.SwarmRequest at 0x7f229bc1bc18>"
      ]
     },
     "execution_count": 28,
     "metadata": {},
     "output_type": "execute_result"
    }
   ],
   "source": [
    "# Import SwarmClient (this step can be omitted if already executed in the previous examples)\n",
    "from viresclient import SwarmRequest\n",
    "\n",
    "# Create the request object\n",
    "request = SwarmRequest()\n",
    "\n",
    "# Set collection\n",
    "request.set_collection('SW_OPER_MAGA_LR_1B')\n",
    "\n",
    "# Set product\n",
    "request.set_products(measurements=['F', 'B_NEC'])\n",
    "\n",
    "# Set filters\n",
    "request.set_range_filter('Longitude', -20.0, 50.0)\n",
    "request.set_range_filter('Latitude', 30.0, 70.0)"
   ]
  },
  {
   "cell_type": "markdown",
   "metadata": {},
   "source": [
    "Filters can be removed using the `SwarmRequest.clear_range_filter()` method:\n",
    "\n",
    "```python\n",
    "viresclient.SwarmRequest.clear_range_filter()\n",
    "```"
   ]
  },
  {
   "cell_type": "code",
   "execution_count": 29,
   "metadata": {},
   "outputs": [
    {
     "data": {
      "text/plain": [
       "<viresclient._client_swarm.SwarmRequest at 0x7f229bc1bc18>"
      ]
     },
     "execution_count": 29,
     "metadata": {},
     "output_type": "execute_result"
    }
   ],
   "source": [
    "request.clear_range_filter()"
   ]
  },
  {
   "cell_type": "markdown",
   "metadata": {},
   "source": [
    "[TOP](#top)\n",
    "\n",
    "<a id=\"SwarmRequest.get_between\"/>\n",
    "\n",
    "### Send request to the server\n",
    "\n",
    "After setting collection(s), measurements, auxiliaries and models, we are ready to send the request to the server using the `SwarmRequest.get_between()` method:\n",
    "\n",
    "```python\n",
    "viresclient.SwarmRequest.get_between(start_time=None, end_time=None, filetype='cdf', asynchronous=True, show_progress=True, nrecords_limit=None, tmpdir=None)\n",
    "```"
   ]
  },
  {
   "cell_type": "markdown",
   "metadata": {},
   "source": [
    "**Arguments**:\n",
    "\n",
    "- **start_time** (*datetime.datetime* or *str*, optional): lower bound of temporal interval. If provided as string, it must be compliant to [ISO-8601](https://en.wikipedia.org/wiki/ISO_8601).\n",
    "- **end_time** (*datetime.datetime* or *str*, optional): upper bound of temporal interval. If provided as string, it must be compliant to [ISO-8601](https://en.wikipedia.org/wiki/ISO_8601).\n",
    "- **filetype** (*str*, optional): file format. Allowed values: `csv` and `cdf` (default).\n",
    "- **asynchronous** (*bool*, optional): if `True` (default), set the asynchronous processing.\n",
    "- **show_progress** (*bool*, optional): if `True` (default), enable the progress bar while processing and downloading data.\n",
    "- **nrecords_limit** (*int*): overrides the limit of 3456000 records.\n"
   ]
  },
  {
   "cell_type": "markdown",
   "metadata": {},
   "source": [
    "<a id=\"example2\"/>\n",
    "\n",
    "**Example 2:** get F and B_NEC from SW_OPER_MAGA_LR_1B, Ne from SW_OPER_EFIA_LP_1B, model CHAOS = \"CHAOS-Core\" + \"Chaos-Static\" and auxiliary OrbitNumber with a sampling step of 10 seconds, between 2019-10-01T00:00:00 and 2019-10-01T01:00:00 in CDF format:"
   ]
  },
  {
   "cell_type": "code",
   "execution_count": 30,
   "metadata": {},
   "outputs": [
    {
     "name": "stderr",
     "output_type": "stream",
     "text": [
      "[1/1] Processing:  100%|██████████|  [ Elapsed: 00:01, Remaining: 00:00 ]\n",
      "      Downloading: 100%|██████████|  [ Elapsed: 00:00, Remaining: 00:00 ] (0.098MB)\n"
     ]
    }
   ],
   "source": [
    "# Import SwarmClient (this step can be omitted if already executed in the previous examples)\n",
    "from viresclient import SwarmRequest\n",
    "\n",
    "# Create the request object\n",
    "request = SwarmRequest()\n",
    "\n",
    "# Set collections\n",
    "request.set_collection('SW_OPER_MAGA_LR_1B', 'SW_OPER_EFIA_LP_1B')\n",
    "\n",
    "# Set products\n",
    "request.set_products(\n",
    "    measurements=['F', 'B_NEC', 'Ne'],\n",
    "    models=['CHAOS = \"CHAOS-Core\" + \"CHAOS-Static\"'],\n",
    "    auxiliaries=['OrbitNumber'],\n",
    "    residuals=False,\n",
    "    sampling_step='PT10S'\n",
    ")\n",
    "\n",
    "# Get data\n",
    "data = request.get_between('2019-10-01T00:00:00', '2019-10-01T01:00:00')"
   ]
  },
  {
   "cell_type": "markdown",
   "metadata": {},
   "source": [
    "Data is returned as a `ReturnedData` object:"
   ]
  },
  {
   "cell_type": "code",
   "execution_count": 31,
   "metadata": {},
   "outputs": [
    {
     "data": {
      "text/plain": [
       "viresclient._data_handling.ReturnedData"
      ]
     },
     "execution_count": 31,
     "metadata": {},
     "output_type": "execute_result"
    }
   ],
   "source": [
    "type(data)"
   ]
  },
  {
   "cell_type": "markdown",
   "metadata": {},
   "source": [
    "[TOP](#top)\n",
    "\n",
    "<a id=\"ReturnedData\"/>\n",
    "\n",
    "## Handle downloaded data - ReturnedData\n",
    "\n",
    "Once the server receives the user's request, it creates the product, than this product is automatically downloaded and returned to the client as a `ReturnedData` object. Thus you don't need to create it by yourself. It is now possible to convert this data to a `pandas.DataFrame` object or to a `xarray.Dataset` object or to save it to one or more files.\n",
    "\n",
    "`ReturnedData` object has the following attributes:\n",
    "\n",
    "- `ReturnedData.sources`\n",
    "- `ReturnedData.contents`\n",
    "- `ReturnedData.file_types`\n",
    "- `ReturnedData.magnetic_models`\n",
    "- `ReturnedData.range_filters`\n",
    "\n",
    "and the following methods:\n",
    "\n",
    "- `ReturnedData.as_dataframe()`\n",
    "- `ReturnedData.as_xarray()`\n",
    "- `ReturnedData.to_file()`\n",
    "- `ReturnedData.to_files()`\n"
   ]
  },
  {
   "cell_type": "markdown",
   "metadata": {},
   "source": [
    "[TOP](#top)\n",
    "\n",
    "<a id=\"ReturnedData.sources\"/>\n",
    "\n",
    "### Get the list of source data\n",
    "\n",
    "This attribute contains the list of source data files from which the values have been extracted."
   ]
  },
  {
   "cell_type": "markdown",
   "metadata": {},
   "source": [
    "After executing code at [Example 2](#example2), let's see the data sources:"
   ]
  },
  {
   "cell_type": "code",
   "execution_count": 7,
   "metadata": {},
   "outputs": [
    {
     "data": {
      "text/plain": [
       "['CHAOS-7_static.shc',\n",
       " 'SW_OPER_AUXAORBCNT_20131122T000000_20200207T000000_0001',\n",
       " 'SW_OPER_EFIA_LP_1B_20190930T000000_20190930T235959_0501_MDR_EFI_LP',\n",
       " 'SW_OPER_EFIA_LP_1B_20191001T000000_20191001T235959_0501_MDR_EFI_LP',\n",
       " 'SW_OPER_MAGA_LR_1B_20191001T000000_20191001T235959_0505_MDR_MAG_LR',\n",
       " 'SW_OPER_MCO_SHA_2X_19970101T000000_20200419T235959_0701']"
      ]
     },
     "execution_count": 7,
     "metadata": {},
     "output_type": "execute_result"
    }
   ],
   "source": [
    "data.sources"
   ]
  },
  {
   "cell_type": "markdown",
   "metadata": {},
   "source": [
    "This is the list of the files from which the measurement and auxiliaries values and the magnetic models values have been retrieved."
   ]
  },
  {
   "cell_type": "markdown",
   "metadata": {},
   "source": [
    "[TOP](#top)\n",
    "\n",
    "<a id=\"ReturnedData.contents\"/>\n",
    "\n",
    "### ReturnedData contents\n",
    "\n",
    "Downloaded data is saved to one or more temporary files represente as `ReturnedDataFile` objects. The `ReturnedData.contents` attribute contains the list of these objects."
   ]
  },
  {
   "cell_type": "markdown",
   "metadata": {},
   "source": [
    "After executing code at [Example 2](#example2), let's see the data contents:"
   ]
  },
  {
   "cell_type": "code",
   "execution_count": 8,
   "metadata": {},
   "outputs": [
    {
     "data": {
      "text/plain": [
       "[<viresclient._data_handling.ReturnedDataFile at 0x7fb97bc8f2e8>]"
      ]
     },
     "execution_count": 8,
     "metadata": {},
     "output_type": "execute_result"
    }
   ],
   "source": [
    "data.contents"
   ]
  },
  {
   "cell_type": "markdown",
   "metadata": {},
   "source": [
    "[TOP](#top)\n",
    "\n",
    "<a id=\"ReturnedData.filetype\"/>\n",
    "\n",
    "### Get type of downloaded data files\n",
    "\n",
    "This attribute contains the type of downloaded files (i.e. `cdf` or `csv`)."
   ]
  },
  {
   "cell_type": "markdown",
   "metadata": {},
   "source": [
    "After executing code at [Example 2](#example2), let's the file type:"
   ]
  },
  {
   "cell_type": "code",
   "execution_count": 9,
   "metadata": {},
   "outputs": [
    {
     "data": {
      "text/plain": [
       "'cdf'"
      ]
     },
     "execution_count": 9,
     "metadata": {},
     "output_type": "execute_result"
    }
   ],
   "source": [
    "data.filetype"
   ]
  },
  {
   "cell_type": "markdown",
   "metadata": {},
   "source": [
    "[TOP](#top)\n",
    "\n",
    "<a id=\"ReturnedData.magnetic_models\"/>\n",
    "\n",
    "### Get list of magnetic models used during calculations\n",
    "\n",
    "This attribute contains the list of the magnetic models used during calculations."
   ]
  },
  {
   "cell_type": "markdown",
   "metadata": {},
   "source": [
    "After executing code at [Example 2](#example2), let's see the list of model(s):"
   ]
  },
  {
   "cell_type": "code",
   "execution_count": 10,
   "metadata": {},
   "outputs": [
    {
     "data": {
      "text/plain": [
       "[\"CHAOS = 'CHAOS-Core'(max_degree=20,min_degree=1) + 'CHAOS-Static'(max_degree=185,min_degree=21)\"]"
      ]
     },
     "execution_count": 10,
     "metadata": {},
     "output_type": "execute_result"
    }
   ],
   "source": [
    "data.magnetic_models"
   ]
  },
  {
   "cell_type": "markdown",
   "metadata": {},
   "source": [
    "[TOP](#top)\n",
    "\n",
    "<a id=\"ReturnedData.range_filters\"/>\n",
    "\n",
    "### Get list of filters applied to the request\n",
    "\n",
    "This attribute contains the list of applied filters"
   ]
  },
  {
   "cell_type": "markdown",
   "metadata": {},
   "source": [
    "After executing code at [Example 1](#example1), let's see the applied filters:"
   ]
  },
  {
   "cell_type": "code",
   "execution_count": 20,
   "metadata": {},
   "outputs": [
    {
     "name": "stderr",
     "output_type": "stream",
     "text": [
      "[1/1] Processing:  100%|██████████|  [ Elapsed: 00:01, Remaining: 00:00 ]\n",
      "      Downloading: 100%|██████████|  [ Elapsed: 00:00, Remaining: 00:00 ] (0.249MB)\n"
     ]
    },
    {
     "data": {
      "text/plain": [
       "['Latitude:30,70', 'Longitude:-20,50']"
      ]
     },
     "execution_count": 20,
     "metadata": {},
     "output_type": "execute_result"
    }
   ],
   "source": [
    "# Get data between '2020-01-01T00:00:00' and '2020-01-02T00:00:00'\n",
    "data = request.get_between('2020-01-01T00:00:00', '2020-01-02T00:00:00')\n",
    "\n",
    "# Get list of applied filters\n",
    "data.range_filters"
   ]
  },
  {
   "cell_type": "markdown",
   "metadata": {},
   "source": [
    "After executing code at [Example 2](#example2), let's see the applied filters:"
   ]
  },
  {
   "cell_type": "code",
   "execution_count": 22,
   "metadata": {},
   "outputs": [
    {
     "data": {
      "text/plain": [
       "[]"
      ]
     },
     "execution_count": 22,
     "metadata": {},
     "output_type": "execute_result"
    }
   ],
   "source": [
    "data.range_filters"
   ]
  },
  {
   "cell_type": "markdown",
   "metadata": {},
   "source": [
    "[TOP](#top)\n",
    "\n",
    "<a id=\"ReturnedData.as_dataframe\"/>\n",
    "\n",
    "### Convert ReturnedData to Pandas DataFrame\n",
    "\n",
    "Data downloaded from the server can be converted to a `pandas.DataFrame` object. This is a general 2D labeled, size-mutable tabular structure with potentially heterogeneously-typed column allowing the user to directly access data. For more information:\n",
    "\n",
    "- https://pandas.pydata.org/pandas-docs/stable/\n",
    "- https://pandas.pydata.org/pandas-docs/stable/reference/frame.html\n",
    "\n",
    "This conversion can be obtained with the `ReturnedData.as_dataframe()` method:\n",
    "\n",
    "```python\n",
    "ReturnedData.as_dataframe(expand=False)\n",
    "```"
   ]
  },
  {
   "cell_type": "markdown",
   "metadata": {},
   "source": [
    "The optional *expand* parameter is, by default, set to `False`. This means that the vector parameters are represented as arrays (i.e. all the vector components in the same column). If this parameter is stet to `True`, the vector parameters are expanded (i.e. each component in a separate column). "
   ]
  },
  {
   "cell_type": "markdown",
   "metadata": {},
   "source": [
    "After executing code at [Example 2](#example2), let's convert the `ReturnedData` to a `DataFrame`:"
   ]
  },
  {
   "cell_type": "code",
   "execution_count": 24,
   "metadata": {},
   "outputs": [
    {
     "data": {
      "text/html": [
       "<div>\n",
       "<style scoped>\n",
       "    .dataframe tbody tr th:only-of-type {\n",
       "        vertical-align: middle;\n",
       "    }\n",
       "\n",
       "    .dataframe tbody tr th {\n",
       "        vertical-align: top;\n",
       "    }\n",
       "\n",
       "    .dataframe thead th {\n",
       "        text-align: right;\n",
       "    }\n",
       "</style>\n",
       "<table border=\"1\" class=\"dataframe\">\n",
       "  <thead>\n",
       "    <tr style=\"text-align: right;\">\n",
       "      <th></th>\n",
       "      <th>Spacecraft</th>\n",
       "      <th>Latitude</th>\n",
       "      <th>Longitude</th>\n",
       "      <th>Radius</th>\n",
       "      <th>F</th>\n",
       "      <th>F_CHAOS</th>\n",
       "      <th>B_NEC</th>\n",
       "      <th>B_NEC_CHAOS</th>\n",
       "      <th>Ne</th>\n",
       "      <th>OrbitNumber</th>\n",
       "    </tr>\n",
       "  </thead>\n",
       "  <tbody>\n",
       "    <tr>\n",
       "      <th>2019-10-01 00:00:00</th>\n",
       "      <td>A</td>\n",
       "      <td>-33.130184</td>\n",
       "      <td>37.641386</td>\n",
       "      <td>6820061.65</td>\n",
       "      <td>26246.0328</td>\n",
       "      <td>26240.985891</td>\n",
       "      <td>[11030.816, -6222.3955000000005, -22988.693300...</td>\n",
       "      <td>[11046.424869499242, -6221.021024854402, -2297...</td>\n",
       "      <td>108830.9</td>\n",
       "      <td>32904</td>\n",
       "    </tr>\n",
       "    <tr>\n",
       "      <th>2019-10-01 00:00:10</th>\n",
       "      <td>A</td>\n",
       "      <td>-33.771114</td>\n",
       "      <td>37.642219</td>\n",
       "      <td>6820113.72</td>\n",
       "      <td>26281.9878</td>\n",
       "      <td>26276.579667</td>\n",
       "      <td>[10910.8961, -6345.64, -23053.250200000002]</td>\n",
       "      <td>[10925.955568855303, -6344.535396315394, -2303...</td>\n",
       "      <td>116231.7</td>\n",
       "      <td>32904</td>\n",
       "    </tr>\n",
       "    <tr>\n",
       "      <th>2019-10-01 00:00:20</th>\n",
       "      <td>A</td>\n",
       "      <td>-34.412011</td>\n",
       "      <td>37.643695</td>\n",
       "      <td>6820164.78</td>\n",
       "      <td>26322.3415</td>\n",
       "      <td>26316.580822</td>\n",
       "      <td>[10798.207900000001, -6468.446800000001, -2311...</td>\n",
       "      <td>[10812.911047129362, -6467.100084355649, -2310...</td>\n",
       "      <td>116226.5</td>\n",
       "      <td>32904</td>\n",
       "    </tr>\n",
       "    <tr>\n",
       "      <th>2019-10-01 00:00:30</th>\n",
       "      <td>A</td>\n",
       "      <td>-35.052873</td>\n",
       "      <td>37.645838</td>\n",
       "      <td>6820214.83</td>\n",
       "      <td>26367.2575</td>\n",
       "      <td>26361.164222</td>\n",
       "      <td>[10692.824700000001, -6590.2154, -23183.793700...</td>\n",
       "      <td>[10707.112068975179, -6588.730009330973, -2317...</td>\n",
       "      <td>120598.5</td>\n",
       "      <td>32904</td>\n",
       "    </tr>\n",
       "    <tr>\n",
       "      <th>2019-10-01 00:00:40</th>\n",
       "      <td>A</td>\n",
       "      <td>-35.693700</td>\n",
       "      <td>37.648675</td>\n",
       "      <td>6820263.88</td>\n",
       "      <td>26416.9227</td>\n",
       "      <td>26410.501735</td>\n",
       "      <td>[10594.3256, -6710.861, -23250.8852]</td>\n",
       "      <td>[10608.360249796353, -6709.418192882664, -2323...</td>\n",
       "      <td>129792.6</td>\n",
       "      <td>32904</td>\n",
       "    </tr>\n",
       "  </tbody>\n",
       "</table>\n",
       "</div>"
      ],
      "text/plain": [
       "                    Spacecraft   Latitude  Longitude      Radius           F  \\\n",
       "2019-10-01 00:00:00          A -33.130184  37.641386  6820061.65  26246.0328   \n",
       "2019-10-01 00:00:10          A -33.771114  37.642219  6820113.72  26281.9878   \n",
       "2019-10-01 00:00:20          A -34.412011  37.643695  6820164.78  26322.3415   \n",
       "2019-10-01 00:00:30          A -35.052873  37.645838  6820214.83  26367.2575   \n",
       "2019-10-01 00:00:40          A -35.693700  37.648675  6820263.88  26416.9227   \n",
       "\n",
       "                          F_CHAOS  \\\n",
       "2019-10-01 00:00:00  26240.985891   \n",
       "2019-10-01 00:00:10  26276.579667   \n",
       "2019-10-01 00:00:20  26316.580822   \n",
       "2019-10-01 00:00:30  26361.164222   \n",
       "2019-10-01 00:00:40  26410.501735   \n",
       "\n",
       "                                                                 B_NEC  \\\n",
       "2019-10-01 00:00:00  [11030.816, -6222.3955000000005, -22988.693300...   \n",
       "2019-10-01 00:00:10        [10910.8961, -6345.64, -23053.250200000002]   \n",
       "2019-10-01 00:00:20  [10798.207900000001, -6468.446800000001, -2311...   \n",
       "2019-10-01 00:00:30  [10692.824700000001, -6590.2154, -23183.793700...   \n",
       "2019-10-01 00:00:40               [10594.3256, -6710.861, -23250.8852]   \n",
       "\n",
       "                                                           B_NEC_CHAOS  \\\n",
       "2019-10-01 00:00:00  [11046.424869499242, -6221.021024854402, -2297...   \n",
       "2019-10-01 00:00:10  [10925.955568855303, -6344.535396315394, -2303...   \n",
       "2019-10-01 00:00:20  [10812.911047129362, -6467.100084355649, -2310...   \n",
       "2019-10-01 00:00:30  [10707.112068975179, -6588.730009330973, -2317...   \n",
       "2019-10-01 00:00:40  [10608.360249796353, -6709.418192882664, -2323...   \n",
       "\n",
       "                           Ne  OrbitNumber  \n",
       "2019-10-01 00:00:00  108830.9        32904  \n",
       "2019-10-01 00:00:10  116231.7        32904  \n",
       "2019-10-01 00:00:20  116226.5        32904  \n",
       "2019-10-01 00:00:30  120598.5        32904  \n",
       "2019-10-01 00:00:40  129792.6        32904  "
      ]
     },
     "execution_count": 24,
     "metadata": {},
     "output_type": "execute_result"
    }
   ],
   "source": [
    "data.as_dataframe().head()"
   ]
  },
  {
   "cell_type": "markdown",
   "metadata": {},
   "source": [
    "Setting `expand=True`:"
   ]
  },
  {
   "cell_type": "code",
   "execution_count": 25,
   "metadata": {},
   "outputs": [
    {
     "data": {
      "text/html": [
       "<div>\n",
       "<style scoped>\n",
       "    .dataframe tbody tr th:only-of-type {\n",
       "        vertical-align: middle;\n",
       "    }\n",
       "\n",
       "    .dataframe tbody tr th {\n",
       "        vertical-align: top;\n",
       "    }\n",
       "\n",
       "    .dataframe thead th {\n",
       "        text-align: right;\n",
       "    }\n",
       "</style>\n",
       "<table border=\"1\" class=\"dataframe\">\n",
       "  <thead>\n",
       "    <tr style=\"text-align: right;\">\n",
       "      <th></th>\n",
       "      <th>Spacecraft</th>\n",
       "      <th>Latitude</th>\n",
       "      <th>Longitude</th>\n",
       "      <th>Radius</th>\n",
       "      <th>F</th>\n",
       "      <th>F_CHAOS</th>\n",
       "      <th>B_NEC_N</th>\n",
       "      <th>B_NEC_E</th>\n",
       "      <th>B_NEC_C</th>\n",
       "      <th>B_NEC_CHAOS_N</th>\n",
       "      <th>B_NEC_CHAOS_E</th>\n",
       "      <th>B_NEC_CHAOS_C</th>\n",
       "      <th>Ne</th>\n",
       "      <th>OrbitNumber</th>\n",
       "    </tr>\n",
       "  </thead>\n",
       "  <tbody>\n",
       "    <tr>\n",
       "      <th>2019-10-01 00:00:00</th>\n",
       "      <td>A</td>\n",
       "      <td>-33.130184</td>\n",
       "      <td>37.641386</td>\n",
       "      <td>6820061.65</td>\n",
       "      <td>26246.0328</td>\n",
       "      <td>26240.985891</td>\n",
       "      <td>11030.8160</td>\n",
       "      <td>-6222.3955</td>\n",
       "      <td>-22988.6933</td>\n",
       "      <td>11046.424869</td>\n",
       "      <td>-6221.021025</td>\n",
       "      <td>-22975.307083</td>\n",
       "      <td>108830.9</td>\n",
       "      <td>32904</td>\n",
       "    </tr>\n",
       "    <tr>\n",
       "      <th>2019-10-01 00:00:10</th>\n",
       "      <td>A</td>\n",
       "      <td>-33.771114</td>\n",
       "      <td>37.642219</td>\n",
       "      <td>6820113.72</td>\n",
       "      <td>26281.9878</td>\n",
       "      <td>26276.579667</td>\n",
       "      <td>10910.8961</td>\n",
       "      <td>-6345.6400</td>\n",
       "      <td>-23053.2502</td>\n",
       "      <td>10925.955569</td>\n",
       "      <td>-6344.535396</td>\n",
       "      <td>-23039.726659</td>\n",
       "      <td>116231.7</td>\n",
       "      <td>32904</td>\n",
       "    </tr>\n",
       "    <tr>\n",
       "      <th>2019-10-01 00:00:20</th>\n",
       "      <td>A</td>\n",
       "      <td>-34.412011</td>\n",
       "      <td>37.643695</td>\n",
       "      <td>6820164.78</td>\n",
       "      <td>26322.3415</td>\n",
       "      <td>26316.580822</td>\n",
       "      <td>10798.2079</td>\n",
       "      <td>-6468.4468</td>\n",
       "      <td>-23118.1299</td>\n",
       "      <td>10812.911047</td>\n",
       "      <td>-6467.100084</td>\n",
       "      <td>-23104.544950</td>\n",
       "      <td>116226.5</td>\n",
       "      <td>32904</td>\n",
       "    </tr>\n",
       "    <tr>\n",
       "      <th>2019-10-01 00:00:30</th>\n",
       "      <td>A</td>\n",
       "      <td>-35.052873</td>\n",
       "      <td>37.645838</td>\n",
       "      <td>6820214.83</td>\n",
       "      <td>26367.2575</td>\n",
       "      <td>26361.164222</td>\n",
       "      <td>10692.8247</td>\n",
       "      <td>-6590.2154</td>\n",
       "      <td>-23183.7937</td>\n",
       "      <td>10707.112069</td>\n",
       "      <td>-6588.730009</td>\n",
       "      <td>-23170.182717</td>\n",
       "      <td>120598.5</td>\n",
       "      <td>32904</td>\n",
       "    </tr>\n",
       "    <tr>\n",
       "      <th>2019-10-01 00:00:40</th>\n",
       "      <td>A</td>\n",
       "      <td>-35.693700</td>\n",
       "      <td>37.648675</td>\n",
       "      <td>6820263.88</td>\n",
       "      <td>26416.9227</td>\n",
       "      <td>26410.501735</td>\n",
       "      <td>10594.3256</td>\n",
       "      <td>-6710.8610</td>\n",
       "      <td>-23250.8852</td>\n",
       "      <td>10608.360250</td>\n",
       "      <td>-6709.418193</td>\n",
       "      <td>-23237.060964</td>\n",
       "      <td>129792.6</td>\n",
       "      <td>32904</td>\n",
       "    </tr>\n",
       "  </tbody>\n",
       "</table>\n",
       "</div>"
      ],
      "text/plain": [
       "                    Spacecraft   Latitude  Longitude      Radius           F  \\\n",
       "2019-10-01 00:00:00          A -33.130184  37.641386  6820061.65  26246.0328   \n",
       "2019-10-01 00:00:10          A -33.771114  37.642219  6820113.72  26281.9878   \n",
       "2019-10-01 00:00:20          A -34.412011  37.643695  6820164.78  26322.3415   \n",
       "2019-10-01 00:00:30          A -35.052873  37.645838  6820214.83  26367.2575   \n",
       "2019-10-01 00:00:40          A -35.693700  37.648675  6820263.88  26416.9227   \n",
       "\n",
       "                          F_CHAOS     B_NEC_N    B_NEC_E     B_NEC_C  \\\n",
       "2019-10-01 00:00:00  26240.985891  11030.8160 -6222.3955 -22988.6933   \n",
       "2019-10-01 00:00:10  26276.579667  10910.8961 -6345.6400 -23053.2502   \n",
       "2019-10-01 00:00:20  26316.580822  10798.2079 -6468.4468 -23118.1299   \n",
       "2019-10-01 00:00:30  26361.164222  10692.8247 -6590.2154 -23183.7937   \n",
       "2019-10-01 00:00:40  26410.501735  10594.3256 -6710.8610 -23250.8852   \n",
       "\n",
       "                     B_NEC_CHAOS_N  B_NEC_CHAOS_E  B_NEC_CHAOS_C        Ne  \\\n",
       "2019-10-01 00:00:00   11046.424869   -6221.021025  -22975.307083  108830.9   \n",
       "2019-10-01 00:00:10   10925.955569   -6344.535396  -23039.726659  116231.7   \n",
       "2019-10-01 00:00:20   10812.911047   -6467.100084  -23104.544950  116226.5   \n",
       "2019-10-01 00:00:30   10707.112069   -6588.730009  -23170.182717  120598.5   \n",
       "2019-10-01 00:00:40   10608.360250   -6709.418193  -23237.060964  129792.6   \n",
       "\n",
       "                     OrbitNumber  \n",
       "2019-10-01 00:00:00        32904  \n",
       "2019-10-01 00:00:10        32904  \n",
       "2019-10-01 00:00:20        32904  \n",
       "2019-10-01 00:00:30        32904  \n",
       "2019-10-01 00:00:40        32904  "
      ]
     },
     "execution_count": 25,
     "metadata": {},
     "output_type": "execute_result"
    }
   ],
   "source": [
    "data.as_dataframe(expand=True).head()"
   ]
  },
  {
   "cell_type": "markdown",
   "metadata": {},
   "source": [
    "[TOP](#top)\n",
    "\n",
    "<a id=\"ReturnedData.as_xarray\"/>\n",
    "\n",
    "### Convert ReturnedData to xarray Dataset\n",
    "\n",
    "Data downloaded from the server can be converted to a `xarray.Dataset` object. This is a multi-dimentional array allowing the user to directly access data. For more information:\n",
    "\n",
    "- http://xarray.pydata.org/en/stable/\n",
    "- http://xarray.pydata.org/en/stable/data-structures.html#dataset\n",
    "\n",
    "This conversion can be obtained with the `ReturnedData.as_xarray()`."
   ]
  },
  {
   "cell_type": "markdown",
   "metadata": {},
   "source": [
    "After executing code at [Example 2](#example2), let's convert the `ReturnedData` to a `Dataset`:"
   ]
  },
  {
   "cell_type": "code",
   "execution_count": 26,
   "metadata": {},
   "outputs": [
    {
     "data": {
      "text/html": [
       "<pre>&lt;xarray.Dataset&gt;\n",
       "Dimensions:      (NEC: 3, Timestamp: 360)\n",
       "Coordinates:\n",
       "  * Timestamp    (Timestamp) datetime64[ns] 2019-10-01 ... 2019-10-01T00:59:50\n",
       "Dimensions without coordinates: NEC\n",
       "Data variables:\n",
       "    Spacecraft   (Timestamp) &lt;U1 &#x27;A&#x27; &#x27;A&#x27; &#x27;A&#x27; &#x27;A&#x27; &#x27;A&#x27; &#x27;A&#x27; ... &#x27;A&#x27; &#x27;A&#x27; &#x27;A&#x27; &#x27;A&#x27; &#x27;A&#x27;\n",
       "    Latitude     (Timestamp) float64 -33.13 -33.77 -34.41 ... 82.09 82.69 83.29\n",
       "    Longitude    (Timestamp) float64 37.64 37.64 37.64 ... -139.6 -137.9 -135.9\n",
       "    Radius       (Timestamp) float64 6.82e+06 6.82e+06 ... 6.803e+06 6.803e+06\n",
       "    F            (Timestamp) float64 2.625e+04 2.628e+04 ... 4.749e+04 4.746e+04\n",
       "    F_CHAOS      (Timestamp) float64 2.624e+04 2.628e+04 ... 4.748e+04 4.745e+04\n",
       "    B_NEC        (Timestamp, NEC) float64 1.103e+04 -6.222e+03 ... 4.744e+04\n",
       "    B_NEC_CHAOS  (Timestamp, NEC) float64 1.105e+04 -6.221e+03 ... 4.744e+04\n",
       "    Ne           (Timestamp) float64 1.088e+05 1.162e+05 ... 4.102e+04 3.138e+04\n",
       "    OrbitNumber  (Timestamp) int32 32904 32904 32904 32904 ... 32905 32905 32905\n",
       "Attributes:\n",
       "    Sources:         [&#x27;CHAOS-7_static.shc&#x27;, &#x27;SW_OPER_AUXAORBCNT_20131122T0000...\n",
       "    MagneticModels:  [&quot;CHAOS = &#x27;CHAOS-Core&#x27;(max_degree=20,min_degree=1) + &#x27;CH...\n",
       "    RangeFilters:    []</pre>"
      ],
      "text/plain": [
       "<xarray.Dataset>\n",
       "Dimensions:      (NEC: 3, Timestamp: 360)\n",
       "Coordinates:\n",
       "  * Timestamp    (Timestamp) datetime64[ns] 2019-10-01 ... 2019-10-01T00:59:50\n",
       "Dimensions without coordinates: NEC\n",
       "Data variables:\n",
       "    Spacecraft   (Timestamp) <U1 'A' 'A' 'A' 'A' 'A' 'A' ... 'A' 'A' 'A' 'A' 'A'\n",
       "    Latitude     (Timestamp) float64 -33.13 -33.77 -34.41 ... 82.09 82.69 83.29\n",
       "    Longitude    (Timestamp) float64 37.64 37.64 37.64 ... -139.6 -137.9 -135.9\n",
       "    Radius       (Timestamp) float64 6.82e+06 6.82e+06 ... 6.803e+06 6.803e+06\n",
       "    F            (Timestamp) float64 2.625e+04 2.628e+04 ... 4.749e+04 4.746e+04\n",
       "    F_CHAOS      (Timestamp) float64 2.624e+04 2.628e+04 ... 4.748e+04 4.745e+04\n",
       "    B_NEC        (Timestamp, NEC) float64 1.103e+04 -6.222e+03 ... 4.744e+04\n",
       "    B_NEC_CHAOS  (Timestamp, NEC) float64 1.105e+04 -6.221e+03 ... 4.744e+04\n",
       "    Ne           (Timestamp) float64 1.088e+05 1.162e+05 ... 4.102e+04 3.138e+04\n",
       "    OrbitNumber  (Timestamp) int32 32904 32904 32904 32904 ... 32905 32905 32905\n",
       "Attributes:\n",
       "    Sources:         ['CHAOS-7_static.shc', 'SW_OPER_AUXAORBCNT_20131122T0000...\n",
       "    MagneticModels:  [\"CHAOS = 'CHAOS-Core'(max_degree=20,min_degree=1) + 'CH...\n",
       "    RangeFilters:    []"
      ]
     },
     "execution_count": 26,
     "metadata": {},
     "output_type": "execute_result"
    }
   ],
   "source": [
    "data.as_xarray()"
   ]
  },
  {
   "cell_type": "markdown",
   "metadata": {},
   "source": [
    "[TOP](#top)\n",
    "\n",
    "<a id=\"ReturnedData.to_file\"/>\n",
    "\n",
    "### Save downloaded data to a file\n",
    "\n",
    "Data downloaded from the server can be saved to a file using the `ReturnedData.to_file()` method:\n",
    "\n",
    "```python\n",
    "ReturnedData.to_file(path, overwrite=False)\n",
    "```\n"
   ]
  },
  {
   "cell_type": "markdown",
   "metadata": {},
   "source": [
    "Arguments:\n",
    "\n",
    "- **path** (*str*): output file path.\n",
    "- **overwrite** (*bool*, optional):if `True` allows to overwrite the file if already present at *path*.\n"
   ]
  },
  {
   "cell_type": "markdown",
   "metadata": {},
   "source": [
    "After executing code at [Example 2](#example2), let's save the `ReturnedData` to file:"
   ]
  },
  {
   "cell_type": "code",
   "execution_count": 28,
   "metadata": {},
   "outputs": [
    {
     "name": "stdout",
     "output_type": "stream",
     "text": [
      "Data written to out.cdf\n"
     ]
    }
   ],
   "source": [
    "data.to_file('out.cdf', overwrite=True)"
   ]
  },
  {
   "cell_type": "markdown",
   "metadata": {},
   "source": [
    "**Note**: this method can be used only if the amount of downloaded data is small (i.e. if the request is not split between multiple requests)."
   ]
  },
  {
   "cell_type": "markdown",
   "metadata": {},
   "source": [
    "<a id=\"example3\"/>\n",
    "\n",
    "**Example 3**: try to download `U_orbit`, `Ne`, `Te`, `Vs` EFI data between 2019-10-01T00:00:00' and '2019-11-01T00:00:00':"
   ]
  },
  {
   "cell_type": "code",
   "execution_count": 35,
   "metadata": {},
   "outputs": [
    {
     "name": "stderr",
     "output_type": "stream",
     "text": [
      "[1/2] Processing:  100%|██████████|  [ Elapsed: 00:03, Remaining: 00:00 ]\n",
      "      Downloading: 100%|██████████|  [ Elapsed: 00:02, Remaining: 00:00 ] (279.743MB)\n",
      "[2/2] Processing:  100%|██████████|  [ Elapsed: 00:01, Remaining: 00:00 ]\n",
      "      Downloading: 100%|██████████|  [ Elapsed: 00:00, Remaining: 00:00 ] (67.389MB)\n"
     ]
    }
   ],
   "source": [
    "# Set SW_OPER_EFIA_LP_1B collection (for EFIA_LP_1B product type)\n",
    "request.set_collection('SW_OPER_EFIA_LP_1B')\n",
    "\n",
    "# Set measurements\n",
    "request.set_products(measurements=['U_orbit', 'Ne', 'Te', 'Vs'])\n",
    "\n",
    "# Get data\n",
    "data = request.get_between('2019-10-01T00:00:00', '2019-11-01T00:00:00')"
   ]
  },
  {
   "cell_type": "markdown",
   "metadata": {},
   "source": [
    "The request is split between multiple requests. Try to execute the cell below:"
   ]
  },
  {
   "cell_type": "code",
   "execution_count": null,
   "metadata": {},
   "outputs": [],
   "source": [
    "data.to_file('huge.cdf', True)"
   ]
  },
  {
   "cell_type": "code",
   "execution_count": 32,
   "metadata": {},
   "outputs": [],
   "source": [
    "# Remove saved files (if any)\n",
    "!rm *.cdf"
   ]
  },
  {
   "cell_type": "markdown",
   "metadata": {},
   "source": [
    "[TOP](#top)\n",
    "\n",
    "<a id=\"ReturnedData.to_files\"/>\n",
    "\n",
    "### Save downloaded data to multiple files\n",
    "\n",
    "Data downloaded from the server can be saved to one or more files using the `ReturnedData.to_files()` method:\n",
    "\n",
    "```python\n",
    "ReturnedData.to_files(paths, overwrite=False)\n",
    "```"
   ]
  },
  {
   "cell_type": "markdown",
   "metadata": {},
   "source": [
    "Arguments:\n",
    "\n",
    "- **paths** (*list[str]*): output files path as a list of strings.\n",
    "- **overwrite** (*bool*, optional):if `True` allows to overwrite the file if already present at *path*.\n"
   ]
  },
  {
   "cell_type": "markdown",
   "metadata": {},
   "source": [
    "With reference to [Example 2](#example2), let's save the data to a single file:"
   ]
  },
  {
   "cell_type": "code",
   "execution_count": 34,
   "metadata": {},
   "outputs": [
    {
     "name": "stdout",
     "output_type": "stream",
     "text": [
      "Data written to out.cdf\n"
     ]
    }
   ],
   "source": [
    "data.to_files(['out.cdf'], overwrite=True)"
   ]
  },
  {
   "cell_type": "markdown",
   "metadata": {},
   "source": [
    "This method is very useful in case the request has been split between multiple requests. With reference to [Example 3](#example3) (execute again the code), let's save the downloaded data in two files:"
   ]
  },
  {
   "cell_type": "code",
   "execution_count": 36,
   "metadata": {},
   "outputs": [
    {
     "name": "stdout",
     "output_type": "stream",
     "text": [
      "Data written to first.cdf\n",
      "Data written to second.cdf\n"
     ]
    }
   ],
   "source": [
    "data.to_files(['first.cdf', 'second.cdf'], overwrite=True)"
   ]
  },
  {
   "cell_type": "markdown",
   "metadata": {},
   "source": [
    "**Note**: the number of files to be specified must be equal to the number of files indicated by the `ReturnedData.contents` attribute. In the above case:"
   ]
  },
  {
   "cell_type": "code",
   "execution_count": 37,
   "metadata": {},
   "outputs": [
    {
     "data": {
      "text/plain": [
       "[<viresclient._data_handling.ReturnedDataFile at 0x7fb97a3ed7b8>,\n",
       " <viresclient._data_handling.ReturnedDataFile at 0x7fb97a3ed668>]"
      ]
     },
     "execution_count": 37,
     "metadata": {},
     "output_type": "execute_result"
    }
   ],
   "source": [
    "data.contents"
   ]
  },
  {
   "cell_type": "code",
   "execution_count": 39,
   "metadata": {},
   "outputs": [],
   "source": [
    "# Remove saved files (if any)\n",
    "!rm *.cdf"
   ]
  },
  {
   "cell_type": "markdown",
   "metadata": {},
   "source": [
    "[TOP](#top)\n",
    "\n",
    "<a id=\"ReturnedDataFile\"/>\n",
    "\n",
    "## Handle downloaded temporary data file - ReturnedDataFile\n",
    "\n",
    "This object holds the file downloaded from the server. Even if data has not ben saved to a file with the `ReturnedData.to_files()`, it is stored in a temporary file and automatically deleted when not needed anymore. As indicated in the \"[ReturnedData contents](#ReturnedData.contents)\" section, you can get the list of the returned data files using the `ReturnedData.contents` attribute. Thus, you don't need to create this object by yourself.\n",
    "\n",
    "**Note**: the description of this object has been included for completeness only. You won't need to use this object and its methods directly. To handle the downloaded data is preferable to use the [ReturnedData](#ReturnedData) object. "
   ]
  },
  {
   "cell_type": "markdown",
   "metadata": {},
   "source": [
    "`ReturnedDataFile` object has the following attributes:\n",
    "\n",
    "- `ReturnedDataFile._file`\n",
    "- `ReturnedDataFile.filetype`\n",
    "\n",
    "and the following methods:\n",
    "\n",
    "- `ReturnedDataFile.as_dataframe()`\n",
    "- `ReturnedDataFile.as_xarray()`\n",
    "- `ReturnedDataFile.to_file()`"
   ]
  },
  {
   "cell_type": "markdown",
   "metadata": {},
   "source": [
    "[TOP](#top)\n",
    "\n",
    "<a id=\"ReturnedDataFile._file\"/>\n",
    "\n",
    "### Get the NamedTemporaryFile associated to a ReturnedDataFile\n",
    "\n",
    "The `NamedTemporaryFile` corresponding to the `ReturnedDataFile` is contained in the `ReturnedDataFile._file` attribute."
   ]
  },
  {
   "cell_type": "markdown",
   "metadata": {},
   "source": [
    "After executing code at [Example 2](#example2), let's get the list of `ReturnedDataFile` objects:"
   ]
  },
  {
   "cell_type": "code",
   "execution_count": 13,
   "metadata": {},
   "outputs": [
    {
     "data": {
      "text/plain": [
       "[<viresclient._data_handling.ReturnedDataFile at 0x7f992185bac8>]"
      ]
     },
     "execution_count": 13,
     "metadata": {},
     "output_type": "execute_result"
    }
   ],
   "source": [
    "data.contents"
   ]
  },
  {
   "cell_type": "markdown",
   "metadata": {},
   "source": [
    "`ReturnedData` contains only one `ReturnedDataFile`. Let's get the associated `NamedTemporaryFile`:"
   ]
  },
  {
   "cell_type": "code",
   "execution_count": 14,
   "metadata": {},
   "outputs": [
    {
     "data": {
      "text/plain": [
       "<tempfile._TemporaryFileWrapper at 0x7f992185ba58>"
      ]
     },
     "execution_count": 14,
     "metadata": {},
     "output_type": "execute_result"
    }
   ],
   "source": [
    "data.contents[0]._file"
   ]
  },
  {
   "cell_type": "markdown",
   "metadata": {},
   "source": [
    "`tempfile.NamedTemporaryFile` is part of the Python standard library. For more information see: https://docs.python.org/3/library/tempfile.html#tempfile.NamedTemporaryFile"
   ]
  },
  {
   "cell_type": "markdown",
   "metadata": {},
   "source": [
    "[TOP](#top)\n",
    "\n",
    "<a id=\"ReturnedDataFile.filetype\"/>\n",
    "\n",
    "### Get type of the downloaded data file\n",
    "\n",
    "This attribute contains the type of downloaded files (i.e. `cdf`, `csv` or `nc`)"
   ]
  },
  {
   "cell_type": "markdown",
   "metadata": {},
   "source": [
    "Aftere executing code at [Example 2](#example2):"
   ]
  },
  {
   "cell_type": "code",
   "execution_count": 15,
   "metadata": {},
   "outputs": [
    {
     "data": {
      "text/plain": [
       "'cdf'"
      ]
     },
     "execution_count": 15,
     "metadata": {},
     "output_type": "execute_result"
    }
   ],
   "source": [
    "data.contents[0].filetype"
   ]
  },
  {
   "cell_type": "markdown",
   "metadata": {},
   "source": [
    "[TOP](#top)\n",
    "\n",
    "<a id=\"ReturnedDataFile.as_dataframe\"/>\n",
    "\n",
    "### Convert ReturnedDataFile to Pandas Dataframe\n",
    "\n",
    "As for the `ReturnedData` object (see [Convert ReturnedData to Pandas DataFrame](#ReturnedData.as_dataframe)), the `ReturnedDataFile` object can be converted to a Pandas DataFrame using the `ReturnedDataFile.as_dataframe()` method:\n",
    "\n",
    "```python\n",
    "ReturnedDataFile.as_dataframe(expand=False)\n",
    "```"
   ]
  },
  {
   "cell_type": "markdown",
   "metadata": {},
   "source": [
    "The optional `expand` parameter is, by default, set to `False`. This means that the vector parameters are presented as arrays (i.e. all the vector components in a single column). If it is set to `True`, the vector parameters are expanded with each componet in a different column."
   ]
  },
  {
   "cell_type": "markdown",
   "metadata": {},
   "source": [
    "[TOP](#top)\n",
    "\n",
    "<a id=\"ReturnedDataFile.as_xarray\"/>\n",
    "\n",
    "### Convert ReturnedDataFile to xarray Dataset\n",
    "\n",
    "As for the `ReturnedData` object (see [Convert ReturnedData to xarray Dataset](#ReturnedData.as_xarray)), the `ReturnedDataFile` object can be converted to an xarray Dataset using the `ReturnedDataFile.as_xarray()` method:\n",
    "\n",
    "```python\n",
    "ReturnedDataFile.as_xarray()\n",
    "```"
   ]
  },
  {
   "cell_type": "markdown",
   "metadata": {},
   "source": [
    "[TOP](#top)\n",
    "\n",
    "<a id=\"ReturnedDataFile.to_file\"/>\n",
    "\n",
    "### Save ReturnedDataFile object to a file\n",
    "\n",
    "Data stored in the `ReturnedDataFile` object can be saved to a file with the `ReturnedDataFile.to_file()` method:\n",
    "\n",
    "```python\n",
    "ReturnedDataFile.to_file(path, overwrite=False)\n",
    "```"
   ]
  },
  {
   "cell_type": "markdown",
   "metadata": {},
   "source": [
    "Arguments:\n",
    "\n",
    "- **path** (*str*): output file path.\n",
    "- **overwrite** (*bool*, optional):if `True` allows to overwrite the file if already present at *path*.\n"
   ]
  },
  {
   "cell_type": "markdown",
   "metadata": {},
   "source": [
    "Aftere executing code at [Example 2](#example2):"
   ]
  },
  {
   "cell_type": "code",
   "execution_count": 17,
   "metadata": {},
   "outputs": [
    {
     "name": "stdout",
     "output_type": "stream",
     "text": [
      "Data written to out.cdf\n"
     ]
    }
   ],
   "source": [
    "data.contents[0].to_file('out.cdf', overwrite=True)"
   ]
  },
  {
   "cell_type": "code",
   "execution_count": 18,
   "metadata": {},
   "outputs": [],
   "source": [
    "# Remove saved files (if any)\n",
    "!rm out.cdf"
   ]
  },
  {
   "cell_type": "markdown",
   "metadata": {},
   "source": [
    "[TOP](#top)\n",
    "\n",
    "<a id=\"ClientConfig\"/>\n",
    "\n",
    "## Handle viresclient configuration - ClientConfig\n",
    "\n",
    "You can acces the `viresclient` configuration using the `ClientConfig` class:\n",
    "\n",
    "```python\n",
    "class viresclient.ClientConfig(path=None)\n",
    "```"
   ]
  },
  {
   "cell_type": "markdown",
   "metadata": {},
   "source": [
    "**Arguments**:\n",
    "- **path** (*str*, optional): path of the configuration file. If not specified, the default configuration file is assumed: `~/.viresclient.ini`."
   ]
  },
  {
   "cell_type": "markdown",
   "metadata": {},
   "source": [
    "<a id=\"example4\"/>\n",
    "\n",
    "**Example 4**: create the `ClientConfig` object associated to the default configuration file:"
   ]
  },
  {
   "cell_type": "code",
   "execution_count": 1,
   "metadata": {},
   "outputs": [],
   "source": [
    "# Import the class\n",
    "from viresclient import ClientConfig\n",
    "\n",
    "# Create the ClientConfig object\n",
    "default = ClientConfig()"
   ]
  },
  {
   "cell_type": "markdown",
   "metadata": {},
   "source": [
    "`ClientConfig` object has the following attributes:\n",
    "\n",
    "- `ClientConfig.path`\n",
    "- `ClientConfig.default_url`\n",
    "\n",
    "and the following methods:\n",
    "\n",
    "- `ClientConfig.set_site_config()`\n",
    "- `ClientConfig.get_site_config()`\n",
    "- `ClientConfig.save()`"
   ]
  },
  {
   "cell_type": "markdown",
   "metadata": {},
   "source": [
    "[TOP](#top)\n",
    "\n",
    "<a id=\"ClientConfig.path\"/>\n",
    "\n",
    "### Get path of the configuration file\n",
    "\n",
    "The `ClientConfig.path` read-only attribute contains the path of the configuration file."
   ]
  },
  {
   "cell_type": "markdown",
   "metadata": {},
   "source": [
    "With reference to [Example 4](#example4):"
   ]
  },
  {
   "cell_type": "code",
   "execution_count": 3,
   "metadata": {},
   "outputs": [
    {
     "data": {
      "text/plain": [
       "'/home/jovyan/.viresclient.ini'"
      ]
     },
     "execution_count": 3,
     "metadata": {},
     "output_type": "execute_result"
    }
   ],
   "source": [
    "default.path"
   ]
  },
  {
   "cell_type": "markdown",
   "metadata": {},
   "source": [
    "[TOP](#top)\n",
    "\n",
    "<a id=\"ClientConfig.default_url\"/>\n",
    "\n",
    "### Get or set the default URL\n",
    "\n",
    "The `ClientConfig.default_url` attribute contains server's default URL (i.e. the one used when `SwarmClient` class is invoked without URL)."
   ]
  },
  {
   "cell_type": "markdown",
   "metadata": {},
   "source": [
    "With reference to [Example 4](#example4):"
   ]
  },
  {
   "cell_type": "code",
   "execution_count": 5,
   "metadata": {},
   "outputs": [
    {
     "data": {
      "text/plain": [
       "'https://vires.services/ows'"
      ]
     },
     "execution_count": 5,
     "metadata": {},
     "output_type": "execute_result"
    }
   ],
   "source": [
    "default.default_url"
   ]
  },
  {
   "cell_type": "markdown",
   "metadata": {},
   "source": [
    "If the default URL is not set, the attribute returns `None`."
   ]
  },
  {
   "cell_type": "markdown",
   "metadata": {},
   "source": [
    "<a id=\"example5\"/>\n",
    "\n",
    "**Example 5**: create a new configuration:"
   ]
  },
  {
   "cell_type": "code",
   "execution_count": 3,
   "metadata": {},
   "outputs": [
    {
     "name": "stdout",
     "output_type": "stream",
     "text": [
      "None\n"
     ]
    }
   ],
   "source": [
    "# Create new configuration\n",
    "newcfg = ClientConfig('newfile.ini')\n",
    "\n",
    "# Print default URL \n",
    "print(newcfg.default_url)"
   ]
  },
  {
   "cell_type": "markdown",
   "metadata": {},
   "source": [
    "The attribute can be used also to set the default URL, e.g.:"
   ]
  },
  {
   "cell_type": "code",
   "execution_count": 4,
   "metadata": {},
   "outputs": [],
   "source": [
    "newcfg.default_url = 'https://vires.services/ows'"
   ]
  },
  {
   "cell_type": "markdown",
   "metadata": {},
   "source": [
    "[TOP](#top)\n",
    "\n",
    "<a id=\"ClientConfig.set_site_config\"/>\n",
    "\n",
    "### Set site configuration\n",
    "\n",
    "It is possible to set the configuration for a server identified by an URL with the `set_site_config()` method:\n",
    "\n",
    "```python\n",
    "viresclient.ClientConfig.set_site_config(url, **options)\n",
    "```"
   ]
  },
  {
   "cell_type": "markdown",
   "metadata": {},
   "source": [
    "**Arguments**:\n",
    "\n",
    "- **url** (*str*): server URL\n",
    "- ****options** (*str*): configuration options in the form: *key*=*value* (e.g.: token='...')"
   ]
  },
  {
   "cell_type": "markdown",
   "metadata": {},
   "source": [
    "In [Example 5](#example5) we have created a new configuration with a default URL. Let's add a token for the server identified by the default URL."
   ]
  },
  {
   "cell_type": "code",
   "execution_count": 5,
   "metadata": {},
   "outputs": [],
   "source": [
    "newcfg.set_site_config(newcfg.default_url, token='mytokenstring')"
   ]
  },
  {
   "cell_type": "markdown",
   "metadata": {},
   "source": [
    "[TOP](#top)\n",
    "\n",
    "<a id=\"ClientConfig.get_site_config\"/>\n",
    "\n",
    "### Get site configuration\n",
    "\n",
    "It is possible to get the configuration for a server identified by an URL with the `get_site_config()` method:\n",
    "\n",
    "```python\n",
    "viresclient.ClientConfig.get_site_config(url)\n",
    "```"
   ]
  },
  {
   "cell_type": "markdown",
   "metadata": {},
   "source": [
    "**Arguments**:\n",
    "\n",
    "- **url** (*str*): server URL"
   ]
  },
  {
   "cell_type": "markdown",
   "metadata": {},
   "source": [
    "With reference to [Example 5](#example5), get the configuration for `https://vires.services/ows`:"
   ]
  },
  {
   "cell_type": "code",
   "execution_count": 7,
   "metadata": {},
   "outputs": [
    {
     "data": {
      "text/plain": [
       "{'token': 'mytokenstring'}"
      ]
     },
     "execution_count": 7,
     "metadata": {},
     "output_type": "execute_result"
    }
   ],
   "source": [
    "# Set configuration (this step can be avoided if it has already been executed)\n",
    "newcfg.set_site_config(newcfg.default_url, token='mytokenstring')\n",
    "\n",
    "# Get the configuration\n",
    "newcfg.get_site_config('https://vires.services/ows')"
   ]
  },
  {
   "cell_type": "markdown",
   "metadata": {},
   "source": [
    "[TOP](#top)\n",
    "\n",
    "<a id=\"ClientConfig.save\"/>\n",
    "\n",
    "### Save configuration\n",
    "\n",
    "The configuration stored in the `ClientConfig` object can be saved using the `save()` method:\n",
    "\n",
    "```python\n",
    "viresclient.ClientConfig.save()\n",
    "```"
   ]
  },
  {
   "cell_type": "markdown",
   "metadata": {},
   "source": [
    "This method saves the configuration to the path specified during the `ClientConfig` creation. You can check this value via the `ClientConfig.path` attribute."
   ]
  },
  {
   "cell_type": "markdown",
   "metadata": {},
   "source": [
    "With reference to [Example 5](#example5), get the configuration for `https://vires.services/ows`:"
   ]
  },
  {
   "cell_type": "code",
   "execution_count": 8,
   "metadata": {},
   "outputs": [],
   "source": [
    "# Set configuration (this step can be avoided if it has already been executed)\n",
    "newcfg.set_site_config(newcfg.default_url, token='mytokenstring')\n",
    "\n",
    "# Save the configuration\n",
    "newcfg.save()"
   ]
  },
  {
   "cell_type": "markdown",
   "metadata": {},
   "source": [
    "Let's have a look to the new configuration file:"
   ]
  },
  {
   "cell_type": "code",
   "execution_count": 9,
   "metadata": {},
   "outputs": [
    {
     "name": "stdout",
     "output_type": "stream",
     "text": [
      "[default]\n",
      "url = https://vires.services/ows\n",
      "\n",
      "[https://vires.services/ows]\n",
      "token = mytokenstring\n",
      "\n"
     ]
    }
   ],
   "source": [
    "!cat newfile.ini"
   ]
  },
  {
   "cell_type": "code",
   "execution_count": 10,
   "metadata": {},
   "outputs": [],
   "source": [
    "# delete newfile.ini\n",
    "!rm newfile.ini"
   ]
  },
  {
   "cell_type": "markdown",
   "metadata": {},
   "source": [
    "[TOP](#top)\n",
    "\n",
    "<a id=\"DataUpload\"/>\n",
    "\n",
    "## Upload data to the server - DataUpload\n",
    "\n",
    "You can upload your data to the server to view it in the VirES web interface. File format can be CDF or CSV. Variable names and types must be compliant to: https://github.com/ESA-VirES/VirES-Server/blob/master/vires/custom_data_format_description.md.\n",
    "\n",
    "Data can be uploaded using the `DataUpload` object:\n",
    "\n",
    "```python\n",
    "class viresclient.DataUpload(url, token, **kwargs)\n",
    "```"
   ]
  },
  {
   "cell_type": "markdown",
   "metadata": {},
   "source": [
    "**Arguments**:\n",
    "\n",
    "- **url** (*str*): server URL\n",
    "- **token** (*str*): access token\n",
    "- ****kwargs** (*str*): additional parameters (currently not used)"
   ]
  },
  {
   "cell_type": "markdown",
   "metadata": {},
   "source": [
    "`DataUpload` object has the following attributes:\n",
    "\n",
    "- `DataUpload.ids`\n",
    "\n",
    "and the following methods:\n",
    "\n",
    "- `DataUpload.post()`\n",
    "- `DataUpload.get()`\n",
    "- `DataUpload.set_constant_parameters()`\n",
    "- `DataUpload.get_constant_parameters()`"
   ]
  },
  {
   "cell_type": "markdown",
   "metadata": {},
   "source": [
    "<a id=\"example6\"/>\n",
    "\n",
    "**Example 6**: create a `DataUpload` object for data upload to the default server. We can retrieve the default URL and the access token from the configuration, using the `ClientConfig` object:"
   ]
  },
  {
   "cell_type": "code",
   "execution_count": 12,
   "metadata": {},
   "outputs": [],
   "source": [
    "# Import DataUpload object\n",
    "from viresclient import DataUpload\n",
    "\n",
    "# Import ClientConfig object (this step can be avoided if ClientConfig has been already imported)\n",
    "from viresclient import ClientConfig\n",
    "\n",
    "# Create ClientConfig object associated to the default configuration file: ~/.viresclient.ini\n",
    "default = ClientConfig()\n",
    "\n",
    "# Get default URL and access token from the configuration\n",
    "url = default.default_url\n",
    "token = default.get_site_config(url)['token']\n",
    "\n",
    "# Create the DataUpload object:\n",
    "du = DataUpload(url, token)"
   ]
  },
  {
   "cell_type": "markdown",
   "metadata": {},
   "source": [
    "[TOP](#top)\n",
    "\n",
    "<a id=\"DataUpload.post\"/>\n",
    "\n",
    "### Upload a file to the server\n",
    "\n",
    "You can upload a file to the server using the `DataUpload.post()` method:\n",
    "\n",
    "```python\n",
    "viresclient.DataUpload.post(file, filename=None)\n",
    "```"
   ]
  },
  {
   "cell_type": "markdown",
   "metadata": {},
   "source": [
    "**Arguments**:\n",
    "\n",
    "- **file** (*str*): file to be uploaded\n",
    "\n",
    "The method returns the info about the uploaded file as a dictionary."
   ]
  },
  {
   "cell_type": "markdown",
   "metadata": {},
   "source": [
    "After executing code in [Example 2](#example2) and in [Example 6](#example6):"
   ]
  },
  {
   "cell_type": "code",
   "execution_count": 9,
   "metadata": {},
   "outputs": [
    {
     "name": "stdout",
     "output_type": "stream",
     "text": [
      "Data written to out.cdf\n"
     ]
    }
   ],
   "source": [
    "# Save ReturnedData to a file\n",
    "data.to_file('out.cdf', overwrite=True)\n",
    "\n",
    "# Upload the file to the server to be visualized in the web client\n",
    "info = du.post('out.cdf')"
   ]
  },
  {
   "cell_type": "markdown",
   "metadata": {},
   "source": [
    "Let's see the info about the uploaded file:"
   ]
  },
  {
   "cell_type": "code",
   "execution_count": 10,
   "metadata": {},
   "outputs": [
    {
     "data": {
      "text/plain": [
       "{'missing_fields': {},\n",
       " 'source_fields': ['OrbitNumber',\n",
       "  'F',\n",
       "  'Timestamp',\n",
       "  'B_NEC_CHAOS',\n",
       "  'F_CHAOS',\n",
       "  'Ne',\n",
       "  'Longitude',\n",
       "  'B_NEC',\n",
       "  'Radius',\n",
       "  'Latitude'],\n",
       " 'content_type': 'application/x-cdf',\n",
       " 'owner': 'demo',\n",
       " 'size': 98031,\n",
       " 'end': '2019-10-01T00:59:50Z',\n",
       " 'constant_fields': {},\n",
       " 'data_file': 'out.cdf',\n",
       " 'fields': {'F': {'shape': [], 'cdf_type': 45, 'data_type': 'CDF_DOUBLE'},\n",
       "  'Timestamp': {'shape': [], 'cdf_type': 31, 'data_type': 'CDF_EPOCH'},\n",
       "  'Latitude': {'shape': [], 'cdf_type': 45, 'data_type': 'CDF_DOUBLE'},\n",
       "  'B_NEC_CHAOS': {'shape': [3], 'cdf_type': 45, 'data_type': 'CDF_DOUBLE'},\n",
       "  'F_CHAOS': {'shape': [], 'cdf_type': 45, 'data_type': 'CDF_DOUBLE'},\n",
       "  'Ne': {'shape': [], 'cdf_type': 45, 'data_type': 'CDF_DOUBLE'},\n",
       "  'Longitude': {'shape': [], 'cdf_type': 45, 'data_type': 'CDF_DOUBLE'},\n",
       "  'B_NEC': {'shape': [3], 'cdf_type': 45, 'data_type': 'CDF_DOUBLE'},\n",
       "  'Radius': {'shape': [], 'cdf_type': 45, 'data_type': 'CDF_DOUBLE'},\n",
       "  'OrbitNumber': {'shape': [], 'cdf_type': 4, 'data_type': 'CDF_INT4'}},\n",
       " 'created': '2020-02-10T22:08:12.502053Z',\n",
       " 'filename': 'out.cdf',\n",
       " 'start': '2019-10-01T00:00:00Z',\n",
       " 'is_valid': True,\n",
       " 'checksum': 'a4a68174e62107209e30fcbfabbaec02',\n",
       " 'identifier': 'e4112bd4-d647-4889-a063-1979e8efee81'}"
      ]
     },
     "execution_count": 10,
     "metadata": {},
     "output_type": "execute_result"
    }
   ],
   "source": [
    "info"
   ]
  },
  {
   "cell_type": "code",
   "execution_count": 6,
   "metadata": {},
   "outputs": [],
   "source": [
    "# Delete test file (if any)\n",
    "!rm out.cdf"
   ]
  },
  {
   "cell_type": "markdown",
   "metadata": {},
   "source": [
    "[TOP](#top)\n",
    "\n",
    "<a id=\"DataUpload.ids\"/>\n",
    "\n",
    "### Get the identifier(s) of the uploaded file(s)\n",
    "\n",
    "You can obtain the identifiers of the uploaded files via the `DataUpload.ids` attribute as a list. Please note that currently the server accepts only one file at a time."
   ]
  },
  {
   "cell_type": "markdown",
   "metadata": {},
   "source": [
    "After executing code in [Example 2](#example2) and in [Example 6](#example6):"
   ]
  },
  {
   "cell_type": "code",
   "execution_count": 6,
   "metadata": {},
   "outputs": [
    {
     "name": "stdout",
     "output_type": "stream",
     "text": [
      "Data written to out.cdf\n"
     ]
    }
   ],
   "source": [
    "# Save ReturnedData to a file\n",
    "data.to_file('out.cdf', overwrite=True)\n",
    "\n",
    "# Upload the file to the server to be visualized in the web client\n",
    "info = du.post('out.cdf')"
   ]
  },
  {
   "cell_type": "markdown",
   "metadata": {},
   "source": [
    "Get id(s) of the uploaded file(s):"
   ]
  },
  {
   "cell_type": "code",
   "execution_count": 5,
   "metadata": {},
   "outputs": [
    {
     "data": {
      "text/plain": [
       "['34a1a590-0ad4-4e8a-82cd-eaf4439be9b5']"
      ]
     },
     "execution_count": 5,
     "metadata": {},
     "output_type": "execute_result"
    }
   ],
   "source": [
    "du.ids"
   ]
  },
  {
   "cell_type": "code",
   "execution_count": 6,
   "metadata": {},
   "outputs": [],
   "source": [
    "# Delete test file (if any)\n",
    "!rm out.cdf"
   ]
  },
  {
   "cell_type": "markdown",
   "metadata": {},
   "source": [
    "[TOP](#top)\n",
    "\n",
    "<a id=\"DataUpload.get\"/>\n",
    "\n",
    "### Get info about the uploaded file\n",
    "\n",
    "You can get the info of the uploaded file using the `DataUpload.get()` method:\n",
    "\n",
    "```python\n",
    "viresclient.DataUpload.get(identifier=None)\n",
    "```\n",
    "\n",
    "**Attributes**\n",
    "\n",
    "- **identifier** (*str*, optional): identifier of the uploaded file. If not provided, returns the info af all the uploaded files as a list."
   ]
  },
  {
   "cell_type": "markdown",
   "metadata": {},
   "source": [
    "After executing code in [Example 2](#example2) and in [Example 6](#example6):"
   ]
  },
  {
   "cell_type": "code",
   "execution_count": 7,
   "metadata": {},
   "outputs": [
    {
     "name": "stdout",
     "output_type": "stream",
     "text": [
      "Data written to out.cdf\n"
     ]
    }
   ],
   "source": [
    "# Save ReturnedData to a file\n",
    "data.to_file('out.cdf', overwrite=True)\n",
    "\n",
    "# Upload the file to the server to be visualized in the web client\n",
    "info = du.post('out.cdf')"
   ]
  },
  {
   "cell_type": "markdown",
   "metadata": {},
   "source": [
    "Get info about the uploaded file:"
   ]
  },
  {
   "cell_type": "code",
   "execution_count": 9,
   "metadata": {},
   "outputs": [
    {
     "data": {
      "text/plain": [
       "{'missing_fields': {},\n",
       " 'source_fields': ['OrbitNumber',\n",
       "  'F',\n",
       "  'Timestamp',\n",
       "  'B_NEC_CHAOS',\n",
       "  'F_CHAOS',\n",
       "  'Ne',\n",
       "  'Longitude',\n",
       "  'B_NEC',\n",
       "  'Radius',\n",
       "  'Latitude'],\n",
       " 'content_type': 'application/x-cdf',\n",
       " 'owner': 'demo',\n",
       " 'size': 98031,\n",
       " 'end': '2019-10-01T00:59:50Z',\n",
       " 'constant_fields': {},\n",
       " 'data_file': 'out.cdf',\n",
       " 'fields': {'F': {'shape': [], 'cdf_type': 45, 'data_type': 'CDF_DOUBLE'},\n",
       "  'Timestamp': {'shape': [], 'cdf_type': 31, 'data_type': 'CDF_EPOCH'},\n",
       "  'Latitude': {'shape': [], 'cdf_type': 45, 'data_type': 'CDF_DOUBLE'},\n",
       "  'B_NEC_CHAOS': {'shape': [3], 'cdf_type': 45, 'data_type': 'CDF_DOUBLE'},\n",
       "  'F_CHAOS': {'shape': [], 'cdf_type': 45, 'data_type': 'CDF_DOUBLE'},\n",
       "  'Ne': {'shape': [], 'cdf_type': 45, 'data_type': 'CDF_DOUBLE'},\n",
       "  'Longitude': {'shape': [], 'cdf_type': 45, 'data_type': 'CDF_DOUBLE'},\n",
       "  'B_NEC': {'shape': [3], 'cdf_type': 45, 'data_type': 'CDF_DOUBLE'},\n",
       "  'Radius': {'shape': [], 'cdf_type': 45, 'data_type': 'CDF_DOUBLE'},\n",
       "  'OrbitNumber': {'shape': [], 'cdf_type': 4, 'data_type': 'CDF_INT4'}},\n",
       " 'created': '2020-02-10T22:31:46.073752Z',\n",
       " 'filename': 'out.cdf',\n",
       " 'start': '2019-10-01T00:00:00Z',\n",
       " 'is_valid': True,\n",
       " 'checksum': 'd1478344fff6fdfea197b7a5fd3c35ed',\n",
       " 'identifier': '1df9f148-77be-4e0c-b1e0-d6e68b4fd235'}"
      ]
     },
     "execution_count": 9,
     "metadata": {},
     "output_type": "execute_result"
    }
   ],
   "source": [
    "du.get(info['identifier'])"
   ]
  },
  {
   "cell_type": "markdown",
   "metadata": {},
   "source": [
    "If the identifier is not provided, get info about all the files as a list:"
   ]
  },
  {
   "cell_type": "code",
   "execution_count": 10,
   "metadata": {},
   "outputs": [
    {
     "data": {
      "text/plain": [
       "[{'missing_fields': {},\n",
       "  'source_fields': ['OrbitNumber',\n",
       "   'F',\n",
       "   'Timestamp',\n",
       "   'B_NEC_CHAOS',\n",
       "   'F_CHAOS',\n",
       "   'Ne',\n",
       "   'Longitude',\n",
       "   'B_NEC',\n",
       "   'Radius',\n",
       "   'Latitude'],\n",
       "  'content_type': 'application/x-cdf',\n",
       "  'owner': 'demo',\n",
       "  'size': 98031,\n",
       "  'end': '2019-10-01T00:59:50Z',\n",
       "  'constant_fields': {},\n",
       "  'data_file': 'out.cdf',\n",
       "  'fields': {'F': {'shape': [], 'cdf_type': 45, 'data_type': 'CDF_DOUBLE'},\n",
       "   'Timestamp': {'shape': [], 'cdf_type': 31, 'data_type': 'CDF_EPOCH'},\n",
       "   'Latitude': {'shape': [], 'cdf_type': 45, 'data_type': 'CDF_DOUBLE'},\n",
       "   'B_NEC_CHAOS': {'shape': [3], 'cdf_type': 45, 'data_type': 'CDF_DOUBLE'},\n",
       "   'F_CHAOS': {'shape': [], 'cdf_type': 45, 'data_type': 'CDF_DOUBLE'},\n",
       "   'Ne': {'shape': [], 'cdf_type': 45, 'data_type': 'CDF_DOUBLE'},\n",
       "   'Longitude': {'shape': [], 'cdf_type': 45, 'data_type': 'CDF_DOUBLE'},\n",
       "   'B_NEC': {'shape': [3], 'cdf_type': 45, 'data_type': 'CDF_DOUBLE'},\n",
       "   'Radius': {'shape': [], 'cdf_type': 45, 'data_type': 'CDF_DOUBLE'},\n",
       "   'OrbitNumber': {'shape': [], 'cdf_type': 4, 'data_type': 'CDF_INT4'}},\n",
       "  'created': '2020-02-10T22:31:46.073752Z',\n",
       "  'filename': 'out.cdf',\n",
       "  'start': '2019-10-01T00:00:00Z',\n",
       "  'is_valid': True,\n",
       "  'checksum': 'd1478344fff6fdfea197b7a5fd3c35ed',\n",
       "  'identifier': '1df9f148-77be-4e0c-b1e0-d6e68b4fd235'}]"
      ]
     },
     "execution_count": 10,
     "metadata": {},
     "output_type": "execute_result"
    }
   ],
   "source": [
    "du.get()"
   ]
  },
  {
   "cell_type": "code",
   "execution_count": 6,
   "metadata": {},
   "outputs": [],
   "source": [
    "# Delete test file (if any)\n",
    "!rm out.cdf"
   ]
  },
  {
   "cell_type": "markdown",
   "metadata": {},
   "source": [
    "[TOP](#top)\n",
    "\n",
    "<a id=\"DataUpload.set_constant_parameters\"/>\n",
    "\n",
    "### Set constant parameters to the uploaded file\n",
    "\n",
    "It is possible to set constant parameters to the uploaded file using the `DataUpload.set_constant_parameters()` method:\n",
    "\n",
    "```python\n",
    "viresclient.DataUpload.set_constant_parameters(identifier, parameters, replace=False)\n",
    "```"
   ]
  },
  {
   "cell_type": "markdown",
   "metadata": {},
   "source": [
    "**Arguments**:\n",
    "\n",
    "- **identifier** (*str*): file identifier.\n",
    "- **parameters** (*dict*): constant parameters provided as a dictionary\n",
    "- **replace** (*bool*, optional): if set to `True`, all the parameters will be replaced by the new parameters, otherwise the new parameters will update the existing ones (default behaviour).\n"
   ]
  },
  {
   "cell_type": "markdown",
   "metadata": {},
   "source": [
    "After executing code in [Example 2](#example2) and in [Example 6](#example6):"
   ]
  },
  {
   "cell_type": "code",
   "execution_count": 13,
   "metadata": {},
   "outputs": [
    {
     "name": "stdout",
     "output_type": "stream",
     "text": [
      "Data written to out.cdf\n"
     ]
    }
   ],
   "source": [
    "# Save ReturnedData to a file\n",
    "data.to_file('out.cdf', overwrite=True)\n",
    "\n",
    "# Upload the file to the server to be visualized in the web client\n",
    "info = du.post('out.cdf')"
   ]
  },
  {
   "cell_type": "markdown",
   "metadata": {},
   "source": [
    "Assign constant parameters: `param1 = 12345` and `param2 = 34567`:"
   ]
  },
  {
   "cell_type": "code",
   "execution_count": 14,
   "metadata": {},
   "outputs": [
    {
     "data": {
      "text/plain": [
       "{'param2': 34567, 'param1': 12345}"
      ]
     },
     "execution_count": 14,
     "metadata": {},
     "output_type": "execute_result"
    }
   ],
   "source": [
    "du.set_constant_parameters(du.ids[0], {'param1': 12345, 'param2': 34567})"
   ]
  },
  {
   "cell_type": "markdown",
   "metadata": {},
   "source": [
    "If we want to set `param1` to a new value we can update the existing parameters:"
   ]
  },
  {
   "cell_type": "code",
   "execution_count": 15,
   "metadata": {},
   "outputs": [
    {
     "data": {
      "text/plain": [
       "{'param2': 34567, 'param1': 1}"
      ]
     },
     "execution_count": 15,
     "metadata": {},
     "output_type": "execute_result"
    }
   ],
   "source": [
    "du.set_constant_parameters(du.ids[0], {'param1': 1})"
   ]
  },
  {
   "cell_type": "markdown",
   "metadata": {},
   "source": [
    "or replace all the parameters:"
   ]
  },
  {
   "cell_type": "code",
   "execution_count": 16,
   "metadata": {},
   "outputs": [
    {
     "data": {
      "text/plain": [
       "{'param1': 1}"
      ]
     },
     "execution_count": 16,
     "metadata": {},
     "output_type": "execute_result"
    }
   ],
   "source": [
    "du.set_constant_parameters(du.ids[0], {'param1': 1}, replace=True)"
   ]
  },
  {
   "cell_type": "markdown",
   "metadata": {},
   "source": [
    "Note that `param2` does not exist anymore."
   ]
  },
  {
   "cell_type": "code",
   "execution_count": 6,
   "metadata": {},
   "outputs": [],
   "source": [
    "# Delete test file (if any)\n",
    "!rm out.cdf"
   ]
  },
  {
   "cell_type": "markdown",
   "metadata": {},
   "source": [
    "[TOP](#top)\n",
    "\n",
    "<a id=\"DataUpload.get_constant_parameters\"/>\n",
    "\n",
    "### Get constant parameters applied to the uploaded file\n",
    "\n",
    "It is possible to get the list of constant parameters applied to the uploaded file using the `DataUpload.get_constant_parameters()` method:\n",
    "\n",
    "```python\n",
    "viresclient.DataUpload.get_constant_parameters(identifier)\n",
    "```"
   ]
  },
  {
   "cell_type": "markdown",
   "metadata": {},
   "source": [
    "**Arguments**:\n",
    "\n",
    "- **identifier** (*str*): file identifier.\n"
   ]
  },
  {
   "cell_type": "markdown",
   "metadata": {},
   "source": [
    "After executing code in [Example 2](#example2) and in [Example 6](#example6):"
   ]
  },
  {
   "cell_type": "code",
   "execution_count": 17,
   "metadata": {},
   "outputs": [
    {
     "name": "stdout",
     "output_type": "stream",
     "text": [
      "Data written to out.cdf\n"
     ]
    }
   ],
   "source": [
    "# Save ReturnedData to a file\n",
    "data.to_file('out.cdf', overwrite=True)\n",
    "\n",
    "# Upload the file to the server to be visualized in the web client\n",
    "info = du.post('out.cdf')"
   ]
  },
  {
   "cell_type": "markdown",
   "metadata": {},
   "source": [
    "Assign constant parameters: `param1 = 12345` and `param2 = 34567`:"
   ]
  },
  {
   "cell_type": "code",
   "execution_count": 18,
   "metadata": {},
   "outputs": [
    {
     "data": {
      "text/plain": [
       "{'param2': 34567, 'param1': 12345}"
      ]
     },
     "execution_count": 18,
     "metadata": {},
     "output_type": "execute_result"
    }
   ],
   "source": [
    "du.set_constant_parameters(du.ids[0], {'param1': 12345, 'param2': 34567})"
   ]
  },
  {
   "cell_type": "markdown",
   "metadata": {},
   "source": [
    "Get the list of constant parameters:"
   ]
  },
  {
   "cell_type": "code",
   "execution_count": 19,
   "metadata": {},
   "outputs": [
    {
     "data": {
      "text/plain": [
       "{'param2': 34567, 'param1': 12345}"
      ]
     },
     "execution_count": 19,
     "metadata": {},
     "output_type": "execute_result"
    }
   ],
   "source": [
    "du.get_constant_parameters(du.ids[0])"
   ]
  },
  {
   "cell_type": "code",
   "execution_count": 20,
   "metadata": {},
   "outputs": [],
   "source": [
    "# Delete test file (if any)\n",
    "!rm out.cdf"
   ]
  },
  {
   "cell_type": "markdown",
   "metadata": {},
   "source": [
    "[TOP](#top)\n",
    "\n",
    "<a id=\"DataUpload.delete\"/>\n",
    "\n",
    "### Delete a specific uploaded file\n",
    "\n",
    "You can delete a specific uploaded file using the `DataUpload.delete()` method:\n",
    "\n",
    "```python\n",
    "viresclient.DataUpload.delete(identifier)\n",
    "```"
   ]
  },
  {
   "cell_type": "markdown",
   "metadata": {},
   "source": [
    "**Arguments**:\n",
    "\n",
    "- **identifier** (*str*): file identifier.\n"
   ]
  },
  {
   "cell_type": "markdown",
   "metadata": {},
   "source": [
    "E.g. to delete the file previously uploaded:"
   ]
  },
  {
   "cell_type": "code",
   "execution_count": 115,
   "metadata": {},
   "outputs": [
    {
     "data": {
      "text/plain": [
       "[]"
      ]
     },
     "execution_count": 115,
     "metadata": {},
     "output_type": "execute_result"
    }
   ],
   "source": [
    "du.delete(du.ids[0])\n",
    "\n",
    "du.ids"
   ]
  },
  {
   "cell_type": "code",
   "execution_count": 6,
   "metadata": {},
   "outputs": [],
   "source": [
    "# Delete test file (if any)\n",
    "!rm out.cdf"
   ]
  },
  {
   "cell_type": "markdown",
   "metadata": {},
   "source": [
    "[TOP](#top)\n",
    "\n",
    "<a id=\"DataUpload.clear\"/>\n",
    "\n",
    "### Delete the uploaded files\n",
    "\n",
    "You can delete all the uploaded files using the `DataUpload.clear()` method:\n",
    "\n",
    "```python\n",
    "viresclient.DataUpload.clear()\n",
    "```"
   ]
  },
  {
   "cell_type": "markdown",
   "metadata": {},
   "source": [
    "After executing code in [Example 2](#example2) and in [Example 6](#example6):"
   ]
  },
  {
   "cell_type": "code",
   "execution_count": 21,
   "metadata": {},
   "outputs": [
    {
     "name": "stdout",
     "output_type": "stream",
     "text": [
      "Data written to out.cdf\n"
     ]
    }
   ],
   "source": [
    "# Save ReturnedData to a file\n",
    "data.to_file('out.cdf', overwrite=True)\n",
    "\n",
    "# Upload the file to the server to be visualized in the web client\n",
    "info = du.post('out.cdf')"
   ]
  },
  {
   "cell_type": "code",
   "execution_count": 22,
   "metadata": {},
   "outputs": [
    {
     "data": {
      "text/plain": [
       "[]"
      ]
     },
     "execution_count": 22,
     "metadata": {},
     "output_type": "execute_result"
    }
   ],
   "source": [
    "du.clear()\n",
    "\n",
    "du.ids"
   ]
  }
 ],
 "metadata": {
  "kernelspec": {
   "display_name": "Python 3 (swarm)",
   "language": "python",
   "name": "swarm"
  },
  "language_info": {
   "codemirror_mode": {
    "name": "ipython",
    "version": 3
   },
   "file_extension": ".py",
   "mimetype": "text/x-python",
   "name": "python",
   "nbconvert_exporter": "python",
   "pygments_lexer": "ipython3",
   "version": "3.7.6"
  }
 },
 "nbformat": 4,
 "nbformat_minor": 4
}
